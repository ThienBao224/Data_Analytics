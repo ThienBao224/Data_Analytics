{
  "nbformat": 4,
  "nbformat_minor": 0,
  "metadata": {
    "colab": {
      "provenance": [],
      "toc_visible": true,
      "mount_file_id": "1p2Kvyx4dHa3l4xXM7zWnQ7GRfaXbYHRD",
      "authorship_tag": "ABX9TyNy2+19MeVZb7MKyLIFnDd1",
      "include_colab_link": true
    },
    "kernelspec": {
      "name": "python3",
      "display_name": "Python 3"
    },
    "language_info": {
      "name": "python"
    }
  },
  "cells": [
    {
      "cell_type": "markdown",
      "metadata": {
        "id": "view-in-github",
        "colab_type": "text"
      },
      "source": [
        "<a href=\"https://colab.research.google.com/github/ThienBao224/Data_Analytics/blob/main/Python_Numpy_Matplotlib_Pandas.ipynb\" target=\"_parent\"><img src=\"https://colab.research.google.com/assets/colab-badge.svg\" alt=\"Open In Colab\"/></a>"
      ]
    },
    {
      "cell_type": "markdown",
      "source": [
        "# **Python Numpy Matplotlib Pandas**"
      ],
      "metadata": {
        "id": "r1URoUFFxWgT"
      }
    },
    {
      "cell_type": "markdown",
      "source": [
        "# Ngôn ngữ Python"
      ],
      "metadata": {
        "id": "OzN38678UKL4"
      }
    },
    {
      "cell_type": "markdown",
      "source": [
        "## 1. Mở đầu"
      ],
      "metadata": {
        "id": "VWQYdfSr4724"
      }
    },
    {
      "cell_type": "markdown",
      "source": [
        "### 1.1. Giới thiệu ngôn ngữ python"
      ],
      "metadata": {
        "id": "3E_ZfpjQ5S75"
      }
    },
    {
      "cell_type": "markdown",
      "source": [
        "### 1.2. Cách thực hiện câu lệnh, chương trình Python"
      ],
      "metadata": {
        "id": "5c3QmuHNzC13"
      }
    },
    {
      "cell_type": "markdown",
      "source": [
        "Khởi chạy"
      ],
      "metadata": {
        "id": "nT_m_-ii3L1Z"
      }
    },
    {
      "cell_type": "code",
      "source": [
        "a=20*10\n",
        "b=a+25\n",
        "b"
      ],
      "metadata": {
        "colab": {
          "base_uri": "https://localhost:8080/"
        },
        "id": "QWmxqjqAzF1m",
        "outputId": "b2f54207-3dbb-420c-b87f-9b6fa285deb1"
      },
      "execution_count": null,
      "outputs": [
        {
          "output_type": "execute_result",
          "data": {
            "text/plain": [
              "225"
            ]
          },
          "metadata": {},
          "execution_count": 32
        }
      ]
    },
    {
      "cell_type": "markdown",
      "source": [
        "### 1.3. Biến, Kiểu dữ liệu, Khối lệnh"
      ],
      "metadata": {
        "id": "FBK2MSYoxAsY"
      }
    },
    {
      "cell_type": "markdown",
      "source": [
        "Biến"
      ],
      "metadata": {
        "id": "N4jvGG8TylQH"
      }
    },
    {
      "cell_type": "code",
      "source": [
        "n = 12 # biến n là kiểu nguyên\n",
        "print(f'{n}, data type = {type(n)}')\n",
        "\n",
        "n = n + 0.1 # biến n chuyển sang kiểu thực\n",
        "print(f'{n}, data type = {type(n)}')"
      ],
      "metadata": {
        "colab": {
          "base_uri": "https://localhost:8080/"
        },
        "id": "TIAO3IDlxu-R",
        "outputId": "a63d11fd-44a0-4902-9add-1e9933c11897"
      },
      "execution_count": null,
      "outputs": [
        {
          "output_type": "stream",
          "name": "stdout",
          "text": [
            "12, data type = <class 'int'>\n",
            "12.1, data type = <class 'float'>\n"
          ]
        }
      ]
    },
    {
      "cell_type": "code",
      "source": [
        "a=100\n",
        "b=1.\n",
        "type(a), type(b)"
      ],
      "metadata": {
        "colab": {
          "base_uri": "https://localhost:8080/"
        },
        "id": "ZDxyatr-ziGH",
        "outputId": "cce9ccb5-ae41-43e6-a5f1-f24503d8b5a8"
      },
      "execution_count": null,
      "outputs": [
        {
          "output_type": "execute_result",
          "data": {
            "text/plain": [
              "(int, float)"
            ]
          },
          "metadata": {},
          "execution_count": 34
        }
      ]
    },
    {
      "cell_type": "code",
      "source": [
        "id(a), id(b)"
      ],
      "metadata": {
        "colab": {
          "base_uri": "https://localhost:8080/"
        },
        "id": "_s12LoxTz2W_",
        "outputId": "269cec24-90f1-4a68-9151-123dfd7b2500"
      },
      "execution_count": null,
      "outputs": [
        {
          "output_type": "execute_result",
          "data": {
            "text/plain": [
              "(11645256, 137136153064752)"
            ]
          },
          "metadata": {},
          "execution_count": 35
        }
      ]
    },
    {
      "cell_type": "markdown",
      "source": [
        "Dữ liệu kiểu chuỗi"
      ],
      "metadata": {
        "id": "pIuUTPk4z-5M"
      }
    },
    {
      "cell_type": "code",
      "source": [
        "# chuỗi trong nó có chứa dấu nháy đơn\n",
        "with_quote = \"I ain't gonna\"\n",
        "print(with_quote)\n",
        "# chuỗi có nôi dung nằm trên 2 dòng\n",
        "longer = \"\"\"This string has multiple lines in it\"\"\"\n",
        "print(longer)"
      ],
      "metadata": {
        "colab": {
          "base_uri": "https://localhost:8080/"
        },
        "id": "K8bREVL-0AHl",
        "outputId": "f41a48cb-ed76-411d-b3a6-8a2fb8d00391"
      },
      "execution_count": null,
      "outputs": [
        {
          "output_type": "stream",
          "name": "stdout",
          "text": [
            "I ain't gonna\n",
            "This string has multiple lines in it\n"
          ]
        }
      ]
    },
    {
      "cell_type": "markdown",
      "source": [
        "Chuỗi trần"
      ],
      "metadata": {
        "id": "nEImt_Sr1QZ7"
      }
    },
    {
      "cell_type": "code",
      "source": [
        "a = r'\\neu moi ngay' # chuoi tran, bo qua Escape Sequence \\n\n",
        "print (a)"
      ],
      "metadata": {
        "colab": {
          "base_uri": "https://localhost:8080/"
        },
        "id": "mwe1ayr70o4E",
        "outputId": "96576116-b50b-454d-d2f1-a3ef424ba124"
      },
      "execution_count": null,
      "outputs": [
        {
          "output_type": "stream",
          "name": "stdout",
          "text": [
            "\\neu moi ngay\n"
          ]
        }
      ]
    },
    {
      "cell_type": "markdown",
      "source": [
        "Chú thích"
      ],
      "metadata": {
        "id": "4rg2rZOd1YP7"
      }
    },
    {
      "cell_type": "code",
      "source": [
        "print(\"Chuong trinh python\") #Day la cau lenh in ra chuoi"
      ],
      "metadata": {
        "colab": {
          "base_uri": "https://localhost:8080/"
        },
        "id": "QldeWJjS1rna",
        "outputId": "ffc00743-c431-4ec4-cbb1-ddc3ad600a0b"
      },
      "execution_count": null,
      "outputs": [
        {
          "output_type": "stream",
          "name": "stdout",
          "text": [
            "Chuong trinh python\n"
          ]
        }
      ]
    },
    {
      "cell_type": "markdown",
      "source": [
        "### 1.4. Nhập và Xuất dữ liệu"
      ],
      "metadata": {
        "id": "eUrpI7xi1Sfl"
      }
    },
    {
      "cell_type": "markdown",
      "source": [
        "#### Xuất dữ liệu"
      ],
      "metadata": {
        "id": "QK7R3CR-2JT8"
      }
    },
    {
      "cell_type": "code",
      "source": [
        "a = 3.564\n",
        "\n",
        "print(42)\n",
        "\n",
        "print(\"a = \", a)\n",
        "\n",
        "print(\"a = \\n\", a)\n",
        "\n",
        "print(\"a\",\"b\")\n",
        "\n",
        "print(\"a\",\"b\",sep=\"\")\n",
        "\n",
        "print(192,168,178,42,sep=\".\")\n",
        "\n",
        "print(\"a\",\"b\",sep=\":-)\")\n"
      ],
      "metadata": {
        "colab": {
          "base_uri": "https://localhost:8080/"
        },
        "id": "rCGWmMTJ2Lja",
        "outputId": "a03b5cac-80cb-49e2-ab0a-a98a15c32883"
      },
      "execution_count": null,
      "outputs": [
        {
          "output_type": "stream",
          "name": "stdout",
          "text": [
            "42\n",
            "a =  3.564\n",
            "a = \n",
            " 3.564\n",
            "a b\n",
            "ab\n",
            "192.168.178.42\n",
            "a:-)b\n"
          ]
        }
      ]
    },
    {
      "cell_type": "markdown",
      "source": [
        "#### Nhập dữ liệu"
      ],
      "metadata": {
        "id": "g5Or25lJ2oiq"
      }
    },
    {
      "cell_type": "code",
      "source": [
        "name = input(\"What's your name? \")\n",
        "print(\"Nice to meet you \" + name + \"!\")\n",
        "age = input(\"Your age? \")\n",
        "print(\"You are already \" + age + \" years old, \" + name + \"!\")"
      ],
      "metadata": {
        "colab": {
          "base_uri": "https://localhost:8080/"
        },
        "id": "UdPCVyir2sAR",
        "outputId": "5d2fe17f-6c31-41a4-9c68-26ec35df5161"
      },
      "execution_count": null,
      "outputs": [
        {
          "output_type": "stream",
          "name": "stdout",
          "text": [
            "What's your name? Bao\n",
            "Nice to meet you Bao!\n",
            "Your age? 23\n",
            "You are already 23 years old, Bao!\n"
          ]
        }
      ]
    },
    {
      "cell_type": "markdown",
      "source": [
        "Có thể kết hợp chuyển kiểu nếu muốn tường minh"
      ],
      "metadata": {
        "id": "TGtEsHvo2zga"
      }
    },
    {
      "cell_type": "code",
      "source": [
        "age = int(input(\"Your age? \"))\n",
        "print(\"You are already %d years old!\", age)"
      ],
      "metadata": {
        "colab": {
          "base_uri": "https://localhost:8080/"
        },
        "id": "vDCbsS2o205c",
        "outputId": "63a9d3d7-8d24-40f9-951f-4a6923905e96"
      },
      "execution_count": null,
      "outputs": [
        {
          "output_type": "stream",
          "name": "stdout",
          "text": [
            "Your age? 22\n",
            "You are already %d years old! 22\n"
          ]
        }
      ]
    },
    {
      "cell_type": "markdown",
      "source": [
        "### 1.5. Ví dụ minh hoạ"
      ],
      "metadata": {
        "id": "5qUKv_Hl3uvh"
      }
    },
    {
      "cell_type": "markdown",
      "source": [
        "Giải phương trình bậc 2"
      ],
      "metadata": {
        "id": "vIiM_-sA3x9x"
      }
    },
    {
      "cell_type": "code",
      "source": [
        "#Nhập a,b,c kiểu số thực và tính delta\n",
        "a = float(input(\"A = \"))\n",
        "b = float(input(\"B = \"))\n",
        "c = float(input(\"C = \"))\n",
        "delta = b*b-4*a*c"
      ],
      "metadata": {
        "colab": {
          "base_uri": "https://localhost:8080/"
        },
        "id": "APw4zq0130sK",
        "outputId": "6ce7ccdb-f521-4dec-fef3-9d984692c33c"
      },
      "execution_count": null,
      "outputs": [
        {
          "name": "stdout",
          "output_type": "stream",
          "text": [
            "A = 2\n",
            "B = 3\n",
            "C = 5\n"
          ]
        }
      ]
    },
    {
      "cell_type": "code",
      "source": [
        "#Biện luận các trường hợp của delta\n",
        "if delta==0:\n",
        "  print(\"Nghiem kep: x = \", str(-b/2/a))"
      ],
      "metadata": {
        "id": "OVMtIUQd38pY"
      },
      "execution_count": null,
      "outputs": []
    },
    {
      "cell_type": "code",
      "source": [
        "#Các khối lệnh con được viết thụt vào so với khối cha\n",
        "if delta<0:\n",
        "  print(\"Phuong trinh vo nghiem\")"
      ],
      "metadata": {
        "colab": {
          "base_uri": "https://localhost:8080/"
        },
        "id": "LOglEXqd4BBw",
        "outputId": "0d0ea0c3-b3f2-4eba-9240-057a7051bd66"
      },
      "execution_count": null,
      "outputs": [
        {
          "output_type": "stream",
          "name": "stdout",
          "text": [
            "Phuong trinh vo nghiem\n"
          ]
        }
      ]
    },
    {
      "cell_type": "code",
      "source": [
        "#Tính căn bậc 2 bằng phép lũy thừa 0.5\n",
        "if delta>0:\n",
        "  print(\"X1 = \" + str((-b+delta**0.5)/2/a))\n",
        "  print(\"X2 = \" + str((-b-delta**0.5)/2/a))"
      ],
      "metadata": {
        "id": "tlxt-uKT4BdK"
      },
      "execution_count": null,
      "outputs": []
    },
    {
      "cell_type": "markdown",
      "source": [
        "## 2. Kiểu dữ liệu & phép toán"
      ],
      "metadata": {
        "id": "fQ1eVxv38T89"
      }
    },
    {
      "cell_type": "markdown",
      "source": [
        "### 2.1. Kiểu dữ liệu và phép toán liên quan"
      ],
      "metadata": {
        "id": "T5gkGok28Xnd"
      }
    },
    {
      "cell_type": "markdown",
      "source": [
        "#### Kiếu số"
      ],
      "metadata": {
        "id": "k8PjV8iIA574"
      }
    },
    {
      "cell_type": "markdown",
      "source": [
        "Python viết số nguyên theo nhiều hệ cơ số"
      ],
      "metadata": {
        "id": "zaR7ocWcA7ph"
      }
    },
    {
      "cell_type": "code",
      "source": [
        "A = 1234 # hệ cơ số 10\n",
        "B = 0xAF1 # hệ cơ số 16\n",
        "C = 0o772 # hệ cơ số 8\n",
        "D = 0b1001 # hệ cơ số 2\n",
        "\n",
        "sources = {\n",
        "    \"A\": \"1234\",\n",
        "    \"B\": \"0xAF1\",\n",
        "    \"C\": \"0o772\",\n",
        "    \"D\": \"0b1001\"\n",
        "}\n",
        "\n",
        "def detect_base(num_str):\n",
        "    if num_str.startswith((\"0x\", \"0X\")):\n",
        "        return 16\n",
        "    elif num_str.startswith((\"0o\", \"0O\")):\n",
        "        return 8\n",
        "    elif num_str.startswith((\"0b\", \"0B\")):\n",
        "        return 2\n",
        "    else:\n",
        "        return 10\n",
        "\n",
        "# Duyệt qua các biến\n",
        "for name, literal in sources.items():\n",
        "    base = detect_base(literal)\n",
        "    value = eval(name)   # lấy giá trị thực tế từ biến A, B, C, D\n",
        "    print(f\"{name} = {literal} , hệ cơ số {base}\")\n"
      ],
      "metadata": {
        "colab": {
          "base_uri": "https://localhost:8080/"
        },
        "id": "O-pbX2uo8qUl",
        "outputId": "cefb9fb5-6ca3-4245-f063-5d13d115f7fe"
      },
      "execution_count": 50,
      "outputs": [
        {
          "output_type": "stream",
          "name": "stdout",
          "text": [
            "A = 1234 , hệ cơ số 10\n",
            "B = 0xAF1 , hệ cơ số 16\n",
            "C = 0o772 , hệ cơ số 8\n",
            "D = 0b1001 , hệ cơ số 2\n"
          ]
        }
      ]
    },
    {
      "cell_type": "markdown",
      "source": [
        "Chuyển đổi từ số nguyên thành string ở các hệ cơ\n",
        "số khác nhau"
      ],
      "metadata": {
        "id": "0IDjBYNlA9X4"
      }
    },
    {
      "cell_type": "code",
      "source": [
        "K = str(1234) # chuyển thành str ở hệ cơ số 10\n",
        "L = hex(1234) # chuyển thành str ở hệ cơ số 16\n",
        "M = oct(1234) # chuyển thành str ở hệ cơ số 8\n",
        "N = bin(1234) # chuyển thành str ở hệ cơ số 2\n",
        "print(\"K (thập phân):\", K)\n",
        "print(\"L (hex):\", L)\n",
        "print(\"M (oct):\", M)\n",
        "print(\"N (bin):\", N)"
      ],
      "metadata": {
        "colab": {
          "base_uri": "https://localhost:8080/"
        },
        "id": "xcmRI2Vs97zM",
        "outputId": "037d10a4-05ef-4970-e411-ec7b69625f3e"
      },
      "execution_count": 47,
      "outputs": [
        {
          "output_type": "stream",
          "name": "stdout",
          "text": [
            "K (thập phân): 1234\n",
            "L (hex): 0x4d2\n",
            "M (oct): 0o2322\n",
            "N (bin): 0b10011010010\n"
          ]
        }
      ]
    },
    {
      "cell_type": "markdown",
      "source": [
        "Số thực (float) trong python có thể viết kiểu thông thường hoặc dạng khoa học"
      ],
      "metadata": {
        "id": "X7crHLMC-WuD"
      }
    },
    {
      "cell_type": "code",
      "source": [
        "X = 12.34\n",
        "print(f'{X}, data type = {type(X)}')\n",
        "Y = 314.15279e-2 # dạng số nguyên và phần mũ 10\n",
        "print(f'{Y}, data type = {type(Y)}')"
      ],
      "metadata": {
        "colab": {
          "base_uri": "https://localhost:8080/"
        },
        "id": "vOAyAu6RBji3",
        "outputId": "042dfd9a-e248-4f01-d7df-ffb7d6f346e9"
      },
      "execution_count": 51,
      "outputs": [
        {
          "output_type": "stream",
          "name": "stdout",
          "text": [
            "12.34, data type = <class 'float'>\n",
            "3.1415279, data type = <class 'float'>\n"
          ]
        }
      ]
    },
    {
      "cell_type": "code",
      "source": [
        "Python hỗ trợ kiểu số phức, với chữ j đại diện cho phần ảo"
      ],
      "metadata": {
        "id": "IOl6OF0RCURf"
      },
      "execution_count": null,
      "outputs": []
    },
    {
      "cell_type": "code",
      "source": [
        "A = 3+4j\n",
        "print(f'{A}, data type = {type(A)}')\n",
        "B = 2-2j\n",
        "print(f'{B}, data type = {type(B)}')\n",
        "print(A+B) # sẽ in ra (5+2j)"
      ],
      "metadata": {
        "colab": {
          "base_uri": "https://localhost:8080/"
        },
        "id": "SCCeQHhIB2g4",
        "outputId": "fda86965-8224-4d8c-a216-2dec0e04915d"
      },
      "execution_count": 54,
      "outputs": [
        {
          "output_type": "stream",
          "name": "stdout",
          "text": [
            "(3+4j), data type = <class 'complex'>\n",
            "(2-2j), data type = <class 'complex'>\n",
            "(5+2j)\n"
          ]
        }
      ]
    },
    {
      "cell_type": "markdown",
      "source": [
        "#### Phép toán"
      ],
      "metadata": {
        "id": "TxUkUFdjVDu9"
      }
    },
    {
      "cell_type": "markdown",
      "source": [
        "Chia đúng (/)"
      ],
      "metadata": {
        "id": "hphNNIMKC0ov"
      }
    },
    {
      "cell_type": "code",
      "source": [
        "10/3 # 3.3333333333333335"
      ],
      "metadata": {
        "colab": {
          "base_uri": "https://localhost:8080/"
        },
        "id": "q_cVO_1iCmO4",
        "outputId": "c4f02161-a3a3-441e-98d3-aaf56f5832e4"
      },
      "execution_count": 57,
      "outputs": [
        {
          "output_type": "execute_result",
          "data": {
            "text/plain": [
              "3.3333333333333335"
            ]
          },
          "metadata": {},
          "execution_count": 57
        }
      ]
    },
    {
      "cell_type": "markdown",
      "source": [
        "Chia nguyên (//)"
      ],
      "metadata": {
        "id": "EoI48VZpCu2-"
      }
    },
    {
      "cell_type": "code",
      "source": [
        "10//3 # 3 (nhanh hơn phép /)"
      ],
      "metadata": {
        "colab": {
          "base_uri": "https://localhost:8080/"
        },
        "id": "1Df9lWNACxSX",
        "outputId": "efaa72cc-aaf3-4dc1-c7af-b059ab2c0ff5"
      },
      "execution_count": 56,
      "outputs": [
        {
          "output_type": "execute_result",
          "data": {
            "text/plain": [
              "3"
            ]
          },
          "metadata": {},
          "execution_count": 56
        }
      ]
    },
    {
      "cell_type": "markdown",
      "source": [
        "Phép kiểm tra tập"
      ],
      "metadata": {
        "id": "8E0K69BXDAK3"
      }
    },
    {
      "cell_type": "code",
      "source": [
        "1 in [1, 2, 3]"
      ],
      "metadata": {
        "colab": {
          "base_uri": "https://localhost:8080/"
        },
        "id": "EKqr1mzMC9X3",
        "outputId": "41922b89-467c-4488-f224-9df33f4554a2"
      },
      "execution_count": 58,
      "outputs": [
        {
          "output_type": "execute_result",
          "data": {
            "text/plain": [
              "True"
            ]
          },
          "metadata": {},
          "execution_count": 58
        }
      ]
    },
    {
      "cell_type": "markdown",
      "source": [
        "### 2.2. Cấu trúc rẽ nhánh"
      ],
      "metadata": {
        "id": "kOrNvXBP8clk"
      }
    },
    {
      "cell_type": "markdown",
      "source": [
        "Cấu trúc rẽ nhánh if-else"
      ],
      "metadata": {
        "id": "nSXqrt94DWe1"
      }
    },
    {
      "cell_type": "code",
      "source": [
        "name = input(\"What's your name? \")\n",
        "print(\"Nice to meet you \" + name + \"!\")\n",
        "age = int(input(\"Your age? \"))\n",
        "print(\"You are already\", age, \"years old,\", name, \"!\")\n",
        "if age>=18:\n",
        "  print(\"Đủ tuổi đi bầu cử\")\n",
        "  if age>100:\n",
        "    print(\"Có vẻ sai sai!\")\n",
        "else:\n",
        "  print(\"Nhỏ quá\")"
      ],
      "metadata": {
        "colab": {
          "base_uri": "https://localhost:8080/"
        },
        "id": "MaXxJrLyDFx-",
        "outputId": "0d240868-f0be-4ff2-bf0d-baf0504d43ea"
      },
      "execution_count": 62,
      "outputs": [
        {
          "output_type": "stream",
          "name": "stdout",
          "text": [
            "What's your name? Bao\n",
            "Nice to meet you Bao!\n",
            "Your age? 22\n",
            "You are already 22 years old, Bao !\n",
            "Đủ tuổi đi bầu cử\n"
          ]
        }
      ]
    },
    {
      "cell_type": "markdown",
      "source": [
        "“phép toán” if"
      ],
      "metadata": {
        "id": "UTtxZ-1QDs-G"
      }
    },
    {
      "cell_type": "code",
      "source": [
        "A = (2, 3)   # tương ứng 2+3j\n",
        "B = (5, 1)   # tương ứng 5+1j\n",
        "X = A if A > B else B\n",
        "print(X)"
      ],
      "metadata": {
        "colab": {
          "base_uri": "https://localhost:8080/"
        },
        "id": "w4dEs3xmDtS1",
        "outputId": "d6e7b355-345b-4460-e5c8-3134a2f872da"
      },
      "execution_count": 67,
      "outputs": [
        {
          "output_type": "stream",
          "name": "stdout",
          "text": [
            "(5, 1)\n"
          ]
        }
      ]
    },
    {
      "cell_type": "markdown",
      "source": [
        "### 2.3. Vòng lặp"
      ],
      "metadata": {
        "id": "rebd47w98erV"
      }
    },
    {
      "cell_type": "markdown",
      "source": [
        "Vòng lặp for"
      ],
      "metadata": {
        "id": "CYdLj4tXEkTE"
      }
    },
    {
      "cell_type": "code",
      "source": [
        "for d in range(10,20): # in các số từ 10 đến 19\n",
        "  print(d)\n",
        "print(\"-\"*20)\n",
        "for d in range(20,10,-1): # in các số từ 20 đến 11\n",
        "  print(d)"
      ],
      "metadata": {
        "colab": {
          "base_uri": "https://localhost:8080/"
        },
        "id": "UUCYSKkeEk3E",
        "outputId": "23d8785b-462b-406c-ab98-aff3720bc40b"
      },
      "execution_count": 74,
      "outputs": [
        {
          "output_type": "stream",
          "name": "stdout",
          "text": [
            "10\n",
            "11\n",
            "12\n",
            "13\n",
            "14\n",
            "15\n",
            "16\n",
            "17\n",
            "18\n",
            "19\n",
            "--------------------\n",
            "20\n",
            "19\n",
            "18\n",
            "17\n",
            "16\n",
            "15\n",
            "14\n",
            "13\n",
            "12\n",
            "11\n"
          ]
        }
      ]
    },
    {
      "cell_type": "markdown",
      "source": [
        "### 2.4. Hàm"
      ],
      "metadata": {
        "id": "ZT7oraBz8gTk"
      }
    },
    {
      "cell_type": "markdown",
      "source": [
        "Hàm tính tích 2 số"
      ],
      "metadata": {
        "id": "iE8HatFuFOVV"
      }
    },
    {
      "cell_type": "code",
      "source": [
        "def tich(a, b):\n",
        "    return a * b"
      ],
      "metadata": {
        "id": "1F-YVyXgFCcl"
      },
      "execution_count": 103,
      "outputs": []
    },
    {
      "cell_type": "markdown",
      "source": [
        "Hàm có thể chỉ ra giá trị mặc định của tham số"
      ],
      "metadata": {
        "id": "rskcTzqCF6bz"
      }
    },
    {
      "cell_type": "code",
      "source": [
        "def tich(a, b = 1):\n",
        "  return a*b"
      ],
      "metadata": {
        "id": "OyFUjwjhFoWE"
      },
      "execution_count": 104,
      "outputs": []
    },
    {
      "cell_type": "code",
      "source": [
        "print(tich(10, 20)) # 200\n",
        "print(tich(10)) # 10\n",
        "print(tich(a=5)) # 5\n",
        "print(tich(b=6, a=5)) # 30"
      ],
      "metadata": {
        "colab": {
          "base_uri": "https://localhost:8080/"
        },
        "id": "pLiY3nSqF9O0",
        "outputId": "fbc5a304-b398-497f-fa4c-e9689d7a5792"
      },
      "execution_count": 105,
      "outputs": [
        {
          "output_type": "stream",
          "name": "stdout",
          "text": [
            "200\n",
            "10\n",
            "5\n",
            "30\n"
          ]
        }
      ]
    },
    {
      "cell_type": "markdown",
      "source": [
        "## 3. Chuỗi và danh sách"
      ],
      "metadata": {
        "id": "P2bINJ3kGGgc"
      }
    },
    {
      "cell_type": "markdown",
      "source": [
        "### 3.1. Kiểu dữ liệu tuần tự (sequential data type)"
      ],
      "metadata": {
        "id": "zde0FbkjGJ1M"
      }
    },
    {
      "cell_type": "markdown",
      "source": [
        "▪ Có 3 kiểu tuần tự thông dụng là list, tuple và range\n",
        "\n",
        "▪ Có nhiều kiểu khác như string, bytes, bytearray,...hoặc các\n",
        "lập trình viên có thể tự tạo kiểu riêng theo nhu cầu ."
      ],
      "metadata": {
        "id": "_blSiW_cGdsS"
      }
    },
    {
      "cell_type": "markdown",
      "source": [
        "### 3.2. String (chuỗi)"
      ],
      "metadata": {
        "id": "HgouRK6_GNAk"
      }
    },
    {
      "cell_type": "markdown",
      "source": [
        "#### Kiểu chuỗi"
      ],
      "metadata": {
        "id": "gdBYIwcFG8tb"
      }
    },
    {
      "cell_type": "markdown",
      "source": [
        "Phép nối chuỗi (+)"
      ],
      "metadata": {
        "id": "UbnSo2RZGo0T"
      }
    },
    {
      "cell_type": "code",
      "source": [
        "s = \"Good\" + \" \" + \"Morning!\"\n",
        "print(s)"
      ],
      "metadata": {
        "colab": {
          "base_uri": "https://localhost:8080/"
        },
        "id": "UV1tdsKiGioj",
        "outputId": "8600547c-8cac-4bdb-de92-edba44e498ab"
      },
      "execution_count": 107,
      "outputs": [
        {
          "output_type": "stream",
          "name": "stdout",
          "text": [
            "Good Morning!\n"
          ]
        }
      ]
    },
    {
      "cell_type": "markdown",
      "source": [
        "Phép nhân bản (*)"
      ],
      "metadata": {
        "id": "QtbP6JoSGpnL"
      }
    },
    {
      "cell_type": "code",
      "source": [
        "s = \"AB\" * 3 # số nguyên\n",
        "print(s)"
      ],
      "metadata": {
        "colab": {
          "base_uri": "https://localhost:8080/"
        },
        "id": "1br3n5U9Gtgk",
        "outputId": "e3b069fd-4201-4416-bc7e-ba4fa1286438"
      },
      "execution_count": 109,
      "outputs": [
        {
          "output_type": "stream",
          "name": "stdout",
          "text": [
            "ABABAB\n"
          ]
        }
      ]
    },
    {
      "cell_type": "markdown",
      "source": [
        "Kiểm tra nội dung"
      ],
      "metadata": {
        "id": "rpI_AhdoGqsz"
      }
    },
    {
      "cell_type": "code",
      "source": [
        "s in '1ABABABCD' # True"
      ],
      "metadata": {
        "colab": {
          "base_uri": "https://localhost:8080/"
        },
        "id": "kVmG8voxGzEE",
        "outputId": "f5f2b85b-6824-4db4-8339-92b20121270e"
      },
      "execution_count": 110,
      "outputs": [
        {
          "output_type": "execute_result",
          "data": {
            "text/plain": [
              "True"
            ]
          },
          "metadata": {},
          "execution_count": 110
        }
      ]
    },
    {
      "cell_type": "markdown",
      "source": [
        "#### Cắt chuỗi"
      ],
      "metadata": {
        "id": "cIa8k4tSG-iE"
      }
    },
    {
      "cell_type": "code",
      "source": [
        "s = '0123456789'\n",
        "print(s[3:6])   # 345\n",
        "print(s[3:])    # 3456789\n",
        "print(s[:6])    # 012345\n",
        "print(s[-7:-4]) # 345\n",
        "print(s[-4:-7]) #\n",
        "print(s[-4:-7:-1]) # 654\n",
        "print(s[:len(s)])# 0123456789\n",
        "print(s[:len(s)-1])# 012345678\n",
        "print(s[:])# 0123456789\n",
        "print(s[len(s)::-1]) # 9876543210\n",
        "print(s[len(s)-1::-1])# 9876543210\n",
        "print(s[len(s)-2::-1])# 876543210"
      ],
      "metadata": {
        "colab": {
          "base_uri": "https://localhost:8080/"
        },
        "id": "_2XaOwvdHB_K",
        "outputId": "a64156ce-d842-4b2d-8132-45c179caa9ef"
      },
      "execution_count": 113,
      "outputs": [
        {
          "output_type": "stream",
          "name": "stdout",
          "text": [
            "345\n",
            "3456789\n",
            "012345\n",
            "345\n",
            "\n",
            "654\n",
            "0123456789\n",
            "012345678\n",
            "0123456789\n",
            "9876543210\n",
            "9876543210\n",
            "876543210\n"
          ]
        }
      ]
    },
    {
      "cell_type": "markdown",
      "source": [
        "#### Định dạng chuỗi"
      ],
      "metadata": {
        "id": "uqFKZg-QHouC"
      }
    },
    {
      "cell_type": "markdown",
      "source": [
        "- Nếu đánh dấu %s: thay thế bằng tham số dạng chuỗi\n",
        "- Nếu đánh dấu %d: thay thế bằng tham số dạng nguyên\n",
        "- Nếu đánh dấu %f: thay thế bằng tham số dạng thực"
      ],
      "metadata": {
        "id": "q5un2xUhH7C5"
      }
    },
    {
      "cell_type": "code",
      "source": [
        "\"Chao %s, gio la %d gio\" % ('txnam', 10)\n",
        "print(\"Chao %s, gio la %d gio\" % ('txnam', 10))\n",
        "\"Can bac 2 cua 2 = %f\" % (2**0.5)\n",
        "print(\"Can bac 2 cua 2 = %f\" % (2**0.5))\n",
        "\"Can bac 2 cua 2 = %10.3f\" % (2**0.5)\n",
        "print(\"Can bac 2 cua 2 = %10.3f\" % (2**0.5))\n",
        "\"Can bac 2 cua 2 = %10f\" % (2**0.5)\n",
        "print(\"Can bac 2 cua 2 = %10f\" % (2**0.5))\n",
        "\"Can bac 2 cua 2 = %.7f\" % (2**0.5)\n",
        "print(\"Can bac 2 cua 2 = %.7f\" % (2**0.5))\n"
      ],
      "metadata": {
        "colab": {
          "base_uri": "https://localhost:8080/"
        },
        "id": "pLFMWEDAHqCD",
        "outputId": "aa4a297e-43b3-43dc-af09-5c4fd3a2a0b8"
      },
      "execution_count": 118,
      "outputs": [
        {
          "output_type": "stream",
          "name": "stdout",
          "text": [
            "Chao txnam, gio la 10 gio\n",
            "Can bac 2 cua 2 = 1.414214\n",
            "Can bac 2 cua 2 =      1.414\n",
            "Can bac 2 cua 2 =   1.414214\n",
            "Can bac 2 cua 2 = 1.4142136\n"
          ]
        }
      ]
    },
    {
      "cell_type": "markdown",
      "source": [
        "Python cho phép định dạng chuỗi ở dạng f-string"
      ],
      "metadata": {
        "id": "J3yCjSruH-8l"
      }
    },
    {
      "cell_type": "code",
      "source": [
        "myname = 'DHNTT'\n",
        "s = f'This is {myname}.' # 'This is DHNTT.'\n",
        "w = f'{s} {myname}' # 'This is DHNTT. DHNTT '\n",
        "z = f'{{s}} {s}' # '{s} This is DHNTT.‘\n",
        "print(s)\n",
        "print(w)\n",
        "print(z)"
      ],
      "metadata": {
        "colab": {
          "base_uri": "https://localhost:8080/"
        },
        "id": "8Tg0wkd9H-hx",
        "outputId": "5ece6288-a9b6-48fd-e4e5-e6cc00233453"
      },
      "execution_count": 123,
      "outputs": [
        {
          "output_type": "stream",
          "name": "stdout",
          "text": [
            "This is DHNTT.\n",
            "This is DHNTT. DHNTT\n",
            "{s} This is DHNTT.\n"
          ]
        }
      ]
    },
    {
      "cell_type": "markdown",
      "source": [
        "Mạnh mẽ nhất là định dạng bằng format"
      ],
      "metadata": {
        "id": "w-Q7iCp6JLm5"
      }
    },
    {
      "cell_type": "code",
      "source": [
        "# điền lần lượt từng giá trị vào giữa cặp ngoặc nhọn\n",
        "'a: {}, b: {}, c: {}'.format(1, 2, 3)\n",
        "# điền nhưng không lần lượt\n",
        "'a: {1}, b: {2}, c: {0}'.format('one', 'two', 'three')\n",
        "'two same values: {0}, {0}'.format(1, 2)\n",
        "# điền và chỉ định từng giá trị\n",
        "'1: {one}, 2: {two}'.format(one=111, two=222)"
      ],
      "metadata": {
        "colab": {
          "base_uri": "https://localhost:8080/",
          "height": 36
        },
        "id": "ROr_Z7IzJMsx",
        "outputId": "f302168a-622b-4477-bbf2-96dec86beda9"
      },
      "execution_count": 124,
      "outputs": [
        {
          "output_type": "execute_result",
          "data": {
            "text/plain": [
              "'1: 111, 2: 222'"
            ],
            "application/vnd.google.colaboratory.intrinsic+json": {
              "type": "string"
            }
          },
          "metadata": {},
          "execution_count": 124
        }
      ]
    },
    {
      "cell_type": "markdown",
      "source": [
        "Định dạng bằng format cho phép căn lề phong phú"
      ],
      "metadata": {
        "id": "QkScnbcYJYQB"
      }
    },
    {
      "cell_type": "code",
      "source": [
        "# căn giữa: '   aaaa   '\n",
        "print('{:^10}'.format('aaaa'))\n",
        "# căn lề trái: 'aaaa      '\n",
        "print('{:<10}'.format('aaaa'))\n",
        "# căn lề phải: '      aaaa'\n",
        "print('{:>10}'.format('aaaa'))\n",
        "# căn lề phải, thay khoảng trắng bằng -: '------aaaa'\n",
        "print('{:->10}'.format('aaaa'))\n",
        "# căn lề trái, thay khoảng trắng bằng *: 'aaaa******'\n",
        "print('{:*<10}'.format('aaaa'))\n",
        "# căn giữa, thay khoảng trắng bằng +: '+++aaaa+++'\n",
        "print('{:+^10}'.format('aaaa'))"
      ],
      "metadata": {
        "colab": {
          "base_uri": "https://localhost:8080/"
        },
        "id": "p8V8CeHPJZVC",
        "outputId": "11e0441e-5de7-4466-e0b9-b0451d479bdf"
      },
      "execution_count": 128,
      "outputs": [
        {
          "output_type": "stream",
          "name": "stdout",
          "text": [
            "   aaaa   \n",
            "aaaa      \n",
            "      aaaa\n",
            "------aaaa\n",
            "aaaa******\n",
            "+++aaaa+++\n"
          ]
        }
      ]
    },
    {
      "cell_type": "markdown",
      "source": [
        "#### Các phương thức của chuỗi"
      ],
      "metadata": {
        "id": "JnsORbK8JxJa"
      }
    },
    {
      "cell_type": "markdown",
      "source": [
        "Tách chuỗi"
      ],
      "metadata": {
        "id": "Lr9MYGAzJ1AH"
      }
    },
    {
      "cell_type": "code",
      "source": [
        "input(\"Test: \").split(',')"
      ],
      "metadata": {
        "colab": {
          "base_uri": "https://localhost:8080/"
        },
        "id": "NmC_Jik3JyQZ",
        "outputId": "6f93e901-9ac1-4aac-cdcc-9726ee43c0ea"
      },
      "execution_count": 135,
      "outputs": [
        {
          "name": "stdout",
          "output_type": "stream",
          "text": [
            "Test: ăn, cơm , chưa\n"
          ]
        },
        {
          "output_type": "execute_result",
          "data": {
            "text/plain": [
              "['ăn', ' cơm ', ' chưa']"
            ]
          },
          "metadata": {},
          "execution_count": 135
        }
      ]
    },
    {
      "cell_type": "markdown",
      "source": [
        "Các phương thức khác"
      ],
      "metadata": {
        "id": "T3Kw4CeqKblX"
      }
    },
    {
      "cell_type": "code",
      "source": [
        "'-'.join(('1', '2', '3'))"
      ],
      "metadata": {
        "colab": {
          "base_uri": "https://localhost:8080/",
          "height": 36
        },
        "id": "w_KehkizKP1g",
        "outputId": "e446078e-c16f-48f7-e79d-16cb43c76061"
      },
      "execution_count": 136,
      "outputs": [
        {
          "output_type": "execute_result",
          "data": {
            "text/plain": [
              "'1-2-3'"
            ],
            "application/vnd.google.colaboratory.intrinsic+json": {
              "type": "string"
            }
          },
          "metadata": {},
          "execution_count": 136
        }
      ]
    },
    {
      "cell_type": "markdown",
      "source": [
        "### 3.3. List (danh sách)"
      ],
      "metadata": {
        "id": "CMkKOZovGOpD"
      }
    },
    {
      "cell_type": "markdown",
      "source": [
        "#### Giới thiệu và khai báo"
      ],
      "metadata": {
        "id": "bbWcB3CPKig3"
      }
    },
    {
      "cell_type": "code",
      "source": [
        "print([1, 2, 3, 4, 5])  # list 5 số nguyên\n",
        "print(['a', 'b', 'c', 'd'])  # list 4 chuỗi\n",
        "print([[1, 2], [3, 4]]) # list 2 list con\n",
        "print([1, 'one', [2, 'two']])  # list hỗn hợp\n",
        "print([]) # list rỗng\n"
      ],
      "metadata": {
        "colab": {
          "base_uri": "https://localhost:8080/"
        },
        "id": "NgPR7hObKecY",
        "outputId": "4aac4b9d-8875-40c0-b7ec-cda53b13dbf6"
      },
      "execution_count": 138,
      "outputs": [
        {
          "output_type": "stream",
          "name": "stdout",
          "text": [
            "[1, 2, 3, 4, 5]\n",
            "['a', 'b', 'c', 'd']\n",
            "[[1, 2], [3, 4]]\n",
            "[1, 'one', [2, 'two']]\n",
            "[]\n"
          ]
        }
      ]
    },
    {
      "cell_type": "markdown",
      "source": [
        "#### Khởi tạo list"
      ],
      "metadata": {
        "id": "6VO9-Y8zLIPY"
      }
    },
    {
      "cell_type": "markdown",
      "source": [
        "Tạo list bằng constructor"
      ],
      "metadata": {
        "id": "rBzE-4fTK84X"
      }
    },
    {
      "cell_type": "code",
      "source": [
        "l1 = list([1, 2, 3, 4]) # list 4 số nguyên\n",
        "l2 = list('abc') # list 3 chuỗi con\n",
        "l3 = list() # list rỗng\n",
        "print(l1)\n",
        "print(l2)\n",
        "print(l3)"
      ],
      "metadata": {
        "colab": {
          "base_uri": "https://localhost:8080/"
        },
        "id": "AYqhCPyiK3F2",
        "outputId": "0999ee19-51a2-40ab-bd63-52157075092d"
      },
      "execution_count": 140,
      "outputs": [
        {
          "output_type": "stream",
          "name": "stdout",
          "text": [
            "[1, 2, 3, 4]\n",
            "['a', 'b', 'c']\n",
            "[]\n"
          ]
        }
      ]
    },
    {
      "cell_type": "markdown",
      "source": [
        "Tạo list bằng list comprehension"
      ],
      "metadata": {
        "id": "JEpiGdmyK-Cx"
      }
    },
    {
      "cell_type": "code",
      "source": [
        "# list 1000 số nguyên từ 0 đến 999\n",
        "X = [n for n in range(1000)]\n",
        "# list gồm 10 list con là các cặp [x, x2]\n",
        "# với x chạy từ 0 đến 9\n",
        "Y = [[x, x*x] for x in range(10)]\n",
        "print(X)\n",
        "print(Y)"
      ],
      "metadata": {
        "colab": {
          "base_uri": "https://localhost:8080/"
        },
        "id": "T0rDJOJlK-Xg",
        "outputId": "cf9251da-e2db-4532-bb8e-1753cab4f6f7"
      },
      "execution_count": 141,
      "outputs": [
        {
          "output_type": "stream",
          "name": "stdout",
          "text": [
            "[0, 1, 2, 3, 4, 5, 6, 7, 8, 9, 10, 11, 12, 13, 14, 15, 16, 17, 18, 19, 20, 21, 22, 23, 24, 25, 26, 27, 28, 29, 30, 31, 32, 33, 34, 35, 36, 37, 38, 39, 40, 41, 42, 43, 44, 45, 46, 47, 48, 49, 50, 51, 52, 53, 54, 55, 56, 57, 58, 59, 60, 61, 62, 63, 64, 65, 66, 67, 68, 69, 70, 71, 72, 73, 74, 75, 76, 77, 78, 79, 80, 81, 82, 83, 84, 85, 86, 87, 88, 89, 90, 91, 92, 93, 94, 95, 96, 97, 98, 99, 100, 101, 102, 103, 104, 105, 106, 107, 108, 109, 110, 111, 112, 113, 114, 115, 116, 117, 118, 119, 120, 121, 122, 123, 124, 125, 126, 127, 128, 129, 130, 131, 132, 133, 134, 135, 136, 137, 138, 139, 140, 141, 142, 143, 144, 145, 146, 147, 148, 149, 150, 151, 152, 153, 154, 155, 156, 157, 158, 159, 160, 161, 162, 163, 164, 165, 166, 167, 168, 169, 170, 171, 172, 173, 174, 175, 176, 177, 178, 179, 180, 181, 182, 183, 184, 185, 186, 187, 188, 189, 190, 191, 192, 193, 194, 195, 196, 197, 198, 199, 200, 201, 202, 203, 204, 205, 206, 207, 208, 209, 210, 211, 212, 213, 214, 215, 216, 217, 218, 219, 220, 221, 222, 223, 224, 225, 226, 227, 228, 229, 230, 231, 232, 233, 234, 235, 236, 237, 238, 239, 240, 241, 242, 243, 244, 245, 246, 247, 248, 249, 250, 251, 252, 253, 254, 255, 256, 257, 258, 259, 260, 261, 262, 263, 264, 265, 266, 267, 268, 269, 270, 271, 272, 273, 274, 275, 276, 277, 278, 279, 280, 281, 282, 283, 284, 285, 286, 287, 288, 289, 290, 291, 292, 293, 294, 295, 296, 297, 298, 299, 300, 301, 302, 303, 304, 305, 306, 307, 308, 309, 310, 311, 312, 313, 314, 315, 316, 317, 318, 319, 320, 321, 322, 323, 324, 325, 326, 327, 328, 329, 330, 331, 332, 333, 334, 335, 336, 337, 338, 339, 340, 341, 342, 343, 344, 345, 346, 347, 348, 349, 350, 351, 352, 353, 354, 355, 356, 357, 358, 359, 360, 361, 362, 363, 364, 365, 366, 367, 368, 369, 370, 371, 372, 373, 374, 375, 376, 377, 378, 379, 380, 381, 382, 383, 384, 385, 386, 387, 388, 389, 390, 391, 392, 393, 394, 395, 396, 397, 398, 399, 400, 401, 402, 403, 404, 405, 406, 407, 408, 409, 410, 411, 412, 413, 414, 415, 416, 417, 418, 419, 420, 421, 422, 423, 424, 425, 426, 427, 428, 429, 430, 431, 432, 433, 434, 435, 436, 437, 438, 439, 440, 441, 442, 443, 444, 445, 446, 447, 448, 449, 450, 451, 452, 453, 454, 455, 456, 457, 458, 459, 460, 461, 462, 463, 464, 465, 466, 467, 468, 469, 470, 471, 472, 473, 474, 475, 476, 477, 478, 479, 480, 481, 482, 483, 484, 485, 486, 487, 488, 489, 490, 491, 492, 493, 494, 495, 496, 497, 498, 499, 500, 501, 502, 503, 504, 505, 506, 507, 508, 509, 510, 511, 512, 513, 514, 515, 516, 517, 518, 519, 520, 521, 522, 523, 524, 525, 526, 527, 528, 529, 530, 531, 532, 533, 534, 535, 536, 537, 538, 539, 540, 541, 542, 543, 544, 545, 546, 547, 548, 549, 550, 551, 552, 553, 554, 555, 556, 557, 558, 559, 560, 561, 562, 563, 564, 565, 566, 567, 568, 569, 570, 571, 572, 573, 574, 575, 576, 577, 578, 579, 580, 581, 582, 583, 584, 585, 586, 587, 588, 589, 590, 591, 592, 593, 594, 595, 596, 597, 598, 599, 600, 601, 602, 603, 604, 605, 606, 607, 608, 609, 610, 611, 612, 613, 614, 615, 616, 617, 618, 619, 620, 621, 622, 623, 624, 625, 626, 627, 628, 629, 630, 631, 632, 633, 634, 635, 636, 637, 638, 639, 640, 641, 642, 643, 644, 645, 646, 647, 648, 649, 650, 651, 652, 653, 654, 655, 656, 657, 658, 659, 660, 661, 662, 663, 664, 665, 666, 667, 668, 669, 670, 671, 672, 673, 674, 675, 676, 677, 678, 679, 680, 681, 682, 683, 684, 685, 686, 687, 688, 689, 690, 691, 692, 693, 694, 695, 696, 697, 698, 699, 700, 701, 702, 703, 704, 705, 706, 707, 708, 709, 710, 711, 712, 713, 714, 715, 716, 717, 718, 719, 720, 721, 722, 723, 724, 725, 726, 727, 728, 729, 730, 731, 732, 733, 734, 735, 736, 737, 738, 739, 740, 741, 742, 743, 744, 745, 746, 747, 748, 749, 750, 751, 752, 753, 754, 755, 756, 757, 758, 759, 760, 761, 762, 763, 764, 765, 766, 767, 768, 769, 770, 771, 772, 773, 774, 775, 776, 777, 778, 779, 780, 781, 782, 783, 784, 785, 786, 787, 788, 789, 790, 791, 792, 793, 794, 795, 796, 797, 798, 799, 800, 801, 802, 803, 804, 805, 806, 807, 808, 809, 810, 811, 812, 813, 814, 815, 816, 817, 818, 819, 820, 821, 822, 823, 824, 825, 826, 827, 828, 829, 830, 831, 832, 833, 834, 835, 836, 837, 838, 839, 840, 841, 842, 843, 844, 845, 846, 847, 848, 849, 850, 851, 852, 853, 854, 855, 856, 857, 858, 859, 860, 861, 862, 863, 864, 865, 866, 867, 868, 869, 870, 871, 872, 873, 874, 875, 876, 877, 878, 879, 880, 881, 882, 883, 884, 885, 886, 887, 888, 889, 890, 891, 892, 893, 894, 895, 896, 897, 898, 899, 900, 901, 902, 903, 904, 905, 906, 907, 908, 909, 910, 911, 912, 913, 914, 915, 916, 917, 918, 919, 920, 921, 922, 923, 924, 925, 926, 927, 928, 929, 930, 931, 932, 933, 934, 935, 936, 937, 938, 939, 940, 941, 942, 943, 944, 945, 946, 947, 948, 949, 950, 951, 952, 953, 954, 955, 956, 957, 958, 959, 960, 961, 962, 963, 964, 965, 966, 967, 968, 969, 970, 971, 972, 973, 974, 975, 976, 977, 978, 979, 980, 981, 982, 983, 984, 985, 986, 987, 988, 989, 990, 991, 992, 993, 994, 995, 996, 997, 998, 999]\n",
            "[[0, 0], [1, 1], [2, 4], [3, 9], [4, 16], [5, 25], [6, 36], [7, 49], [8, 64], [9, 81]]\n"
          ]
        }
      ]
    },
    {
      "cell_type": "markdown",
      "source": [
        "#### Phép toán, chỉ mục và cắt"
      ],
      "metadata": {
        "id": "s8K03nCfLKB-"
      }
    },
    {
      "cell_type": "markdown",
      "source": [
        "Điểm khác biệt là nội dung của list có thể thay đổi"
      ],
      "metadata": {
        "id": "FHpmRbC5LLlf"
      }
    },
    {
      "cell_type": "code",
      "source": [
        "l1 = list([1, 2, 3, 4])\n",
        "l1[-1] = list('abc')\n",
        "print(l1)\n",
        "# [1, 2, 3, ['a', 'b', 'c']]"
      ],
      "metadata": {
        "colab": {
          "base_uri": "https://localhost:8080/"
        },
        "id": "cXAnm81PLMWg",
        "outputId": "a6e0580f-ff1b-4aea-9606-d06fb71b8e70"
      },
      "execution_count": 142,
      "outputs": [
        {
          "output_type": "stream",
          "name": "stdout",
          "text": [
            "[1, 2, 3, ['a', 'b', 'c']]\n"
          ]
        }
      ]
    },
    {
      "cell_type": "markdown",
      "source": [
        "#### Các phương thức của list"
      ],
      "metadata": {
        "id": "LmhKSW-DLRNv"
      }
    },
    {
      "cell_type": "code",
      "source": [
        "x = \"Nguyen Van An\".split()\n",
        "x.sort(key=str.lower)\n",
        "print(x)"
      ],
      "metadata": {
        "colab": {
          "base_uri": "https://localhost:8080/"
        },
        "id": "zLJHtFspLSCO",
        "outputId": "3ba93d6b-c223-4693-afca-1464a042d08b"
      },
      "execution_count": 144,
      "outputs": [
        {
          "output_type": "stream",
          "name": "stdout",
          "text": [
            "['An', 'Nguyen', 'Van']\n"
          ]
        }
      ]
    },
    {
      "cell_type": "markdown",
      "source": [
        "### 3.4. Tuple (hàng)"
      ],
      "metadata": {
        "id": "R2ol0wImGQBl"
      }
    },
    {
      "cell_type": "markdown",
      "source": [
        "#### Tuple là một dạng readonly list"
      ],
      "metadata": {
        "id": "YkqeDle7LcoO"
      }
    },
    {
      "cell_type": "code",
      "source": [
        "print(1, 2, 3, 4, 5) # tuple 5 số nguyên\n",
        "print('a', 'b', 'c', 'd') # tuple 4 chuỗi\n",
        "print(1, 'one', [2, 'two']) # tuple hỗ hợp\n",
        "print(1,) # tuple 1 phần tử\n",
        "print() # tuple rỗng"
      ],
      "metadata": {
        "colab": {
          "base_uri": "https://localhost:8080/"
        },
        "id": "IDduV_zcLc4n",
        "outputId": "67c2e66b-b018-4a2d-83a0-75c895d19d8e"
      },
      "execution_count": 146,
      "outputs": [
        {
          "output_type": "stream",
          "name": "stdout",
          "text": [
            "1 2 3 4 5\n",
            "a b c d\n",
            "1 one [2, 'two']\n",
            "1\n",
            "\n"
          ]
        }
      ]
    },
    {
      "cell_type": "markdown",
      "source": [
        "## 4. Tập hợp"
      ],
      "metadata": {
        "id": "0xtO2Y8dMDgQ"
      }
    },
    {
      "cell_type": "markdown",
      "source": [
        "### 4.1. Set (tập hợp) và Frozenset (tập hợp tĩnh)"
      ],
      "metadata": {
        "id": "EQlL9SW8MkAl"
      }
    },
    {
      "cell_type": "markdown",
      "source": [
        "#### Giới thiệu và khởi tạo"
      ],
      "metadata": {
        "id": "H_1JJLhLMHEv"
      }
    },
    {
      "cell_type": "markdown",
      "source": [
        "Khai báo trực tiếp bằng cách liệt kê các phần tử con đặt\n",
        "trong cặp ngoặc nhọn { }, ngăn cách bởi phẩy."
      ],
      "metadata": {
        "id": "xEwU1hgSMPHW"
      }
    },
    {
      "cell_type": "code",
      "source": [
        "basket = {'apple','orange','apple','pear'}\n",
        "print(basket)\n",
        "#{'orange','pear','apple'} : xóa trùng nhau"
      ],
      "metadata": {
        "colab": {
          "base_uri": "https://localhost:8080/"
        },
        "id": "S9oTX_JfMIOd",
        "outputId": "8aa4ff8a-b311-4375-9498-78143cfa560d"
      },
      "execution_count": 147,
      "outputs": [
        {
          "output_type": "stream",
          "name": "stdout",
          "text": [
            "{'apple', 'pear', 'orange'}\n"
          ]
        }
      ]
    },
    {
      "cell_type": "code",
      "source": [
        "a = {5,2,3,1,4}\n",
        "print(\"a=\", a) #a = {1, 2, 3, 4, 5}"
      ],
      "metadata": {
        "colab": {
          "base_uri": "https://localhost:8080/"
        },
        "id": "MqDi5SQhMNhN",
        "outputId": "ea8350ec-ef28-4b89-e892-15fb2b3b05e7"
      },
      "execution_count": 148,
      "outputs": [
        {
          "output_type": "stream",
          "name": "stdout",
          "text": [
            "a= {1, 2, 3, 4, 5}\n"
          ]
        }
      ]
    },
    {
      "cell_type": "markdown",
      "source": [
        "Tạo set bằng constructor"
      ],
      "metadata": {
        "id": "nIP1Nd7FMQlV"
      }
    },
    {
      "cell_type": "code",
      "source": [
        "s1 = set([1, 2, 3, 4]) # {1, 2, 3, 4}\n",
        "s2 = set((1, 1, 1)) # {1}\n",
        "s3 = s1 - s2 # {2, 3, 4}\n",
        "s4 = set(range(1,100)) # {1, 2, 3,..., 98, 99}\n",
        "print(s1)\n",
        "print(s2)\n",
        "print(s3)\n",
        "print(s4)"
      ],
      "metadata": {
        "colab": {
          "base_uri": "https://localhost:8080/"
        },
        "id": "6YGAtEPtMRrl",
        "outputId": "ed9d77df-5d51-40cd-b299-f065b6eab9fd"
      },
      "execution_count": 153,
      "outputs": [
        {
          "output_type": "stream",
          "name": "stdout",
          "text": [
            "{1, 2, 3, 4}\n",
            "{1}\n",
            "{2, 3, 4}\n",
            "{1, 2, 3, 4, 5, 6, 7, 8, 9, 10, 11, 12, 13, 14, 15, 16, 17, 18, 19, 20, 21, 22, 23, 24, 25, 26, 27, 28, 29, 30, 31, 32, 33, 34, 35, 36, 37, 38, 39, 40, 41, 42, 43, 44, 45, 46, 47, 48, 49, 50, 51, 52, 53, 54, 55, 56, 57, 58, 59, 60, 61, 62, 63, 64, 65, 66, 67, 68, 69, 70, 71, 72, 73, 74, 75, 76, 77, 78, 79, 80, 81, 82, 83, 84, 85, 86, 87, 88, 89, 90, 91, 92, 93, 94, 95, 96, 97, 98, 99}\n"
          ]
        }
      ]
    },
    {
      "cell_type": "markdown",
      "source": [
        "#### Khởi tạo Set"
      ],
      "metadata": {
        "id": "X29kqG7VMytd"
      }
    },
    {
      "cell_type": "markdown",
      "source": [
        "Tạo set bằng set comprehension"
      ],
      "metadata": {
        "id": "VGlboMuWM1_M"
      }
    },
    {
      "cell_type": "code",
      "source": [
        "# a = {'r', 'd'}\n",
        "a = {x for x in 'abracadabra' if x not in 'abc'}\n",
        "print(a)"
      ],
      "metadata": {
        "colab": {
          "base_uri": "https://localhost:8080/"
        },
        "id": "MIjcoeSWM1QF",
        "outputId": "0857dd65-c02d-47a5-9980-17d3e7ba4f5a"
      },
      "execution_count": 155,
      "outputs": [
        {
          "output_type": "stream",
          "name": "stdout",
          "text": [
            "{'r', 'd'}\n"
          ]
        }
      ]
    },
    {
      "cell_type": "markdown",
      "source": [
        "Set không thể chứa những đối tượng mutable (có thể bị\n",
        "thay đổi), mặc dù chính set lại có thể thay đổi"
      ],
      "metadata": {
        "id": "40HxSi5ZM5W1"
      }
    },
    {
      "cell_type": "code",
      "source": [
        "#a = set(([1,2],[2,3])) # lỗi list\n",
        "a = set(((1,2),(2,3))) # {(1, 2), (2, 3)}\n",
        "print(a)\n",
        "a.add(\"abc\") # {(1, 2), \"abc\", (2, 3)}\n",
        "print(a)\n"
      ],
      "metadata": {
        "colab": {
          "base_uri": "https://localhost:8080/"
        },
        "id": "YqD-DzhvM6QM",
        "outputId": "f3f27291-0574-4453-8ba0-4d8586b82e0f"
      },
      "execution_count": 160,
      "outputs": [
        {
          "output_type": "stream",
          "name": "stdout",
          "text": [
            "{(2, 3), (1, 2)}\n",
            "{(2, 3), 'abc', (1, 2)}\n"
          ]
        }
      ]
    },
    {
      "cell_type": "markdown",
      "source": [
        "Frozenset giống set, nhưng không thể bị thay đổi"
      ],
      "metadata": {
        "id": "wSNkUrIZNWt9"
      }
    },
    {
      "cell_type": "code",
      "source": [
        "b = frozenset(((1,2),(2,3))) # {(1,2), (2,3)}\n",
        "print(b)\n",
        "#b.add(\"abc\") # lỗi\n"
      ],
      "metadata": {
        "colab": {
          "base_uri": "https://localhost:8080/"
        },
        "id": "mpHICGnhNXJm",
        "outputId": "b00d10f4-a0fc-435d-840b-db5ab7cd299a"
      },
      "execution_count": 164,
      "outputs": [
        {
          "output_type": "stream",
          "name": "stdout",
          "text": [
            "frozenset({(2, 3), (1, 2)})\n"
          ]
        }
      ]
    },
    {
      "cell_type": "markdown",
      "source": [
        "#### Set"
      ],
      "metadata": {
        "id": "deQVfSH2Nfbu"
      }
    },
    {
      "cell_type": "markdown",
      "source": [
        "Set Hỗn hợp"
      ],
      "metadata": {
        "id": "7dzbtwaKNo08"
      }
    },
    {
      "cell_type": "code",
      "source": [
        "my_set = {8.0, \"Sinh viên\", (1, 2, 3)}\n",
        "print(\"ketqua_Set=\",my_set)\n",
        "#Output: ketqua_Set= {'Sinh viên', 8.0, (1, 2, 3)}"
      ],
      "metadata": {
        "colab": {
          "base_uri": "https://localhost:8080/"
        },
        "id": "SsXBS_1uNgJV",
        "outputId": "7e0585f3-5d2b-4491-e51d-73d1c78e2eac"
      },
      "execution_count": 166,
      "outputs": [
        {
          "output_type": "stream",
          "name": "stdout",
          "text": [
            "ketqua_Set= {8.0, (1, 2, 3), 'Sinh viên'}\n"
          ]
        }
      ]
    },
    {
      "cell_type": "code",
      "source": [
        "# Khởi tạo my_set\n",
        "my_set = {1,3}\n",
        "my_set.add(2) #thêm\n",
        "my_set.update([2,3,4]) # Cập nhật\n",
        "my_set.update([4,5], {1,6,8}) # Cập nhật set\n",
        "print(my_set)\n",
        "# Output: {1, 2, 3, 4, 5, 6, 8}"
      ],
      "metadata": {
        "colab": {
          "base_uri": "https://localhost:8080/"
        },
        "id": "aji5rS5yNvcm",
        "outputId": "82d3421f-e81d-4499-8985-be0e6980559d"
      },
      "execution_count": 168,
      "outputs": [
        {
          "output_type": "stream",
          "name": "stdout",
          "text": [
            "{1, 2, 3, 4, 5, 6, 8}\n"
          ]
        }
      ]
    },
    {
      "cell_type": "markdown",
      "source": [
        "#### Các phép toán trên set"
      ],
      "metadata": {
        "id": "FlDqZqg_NySc"
      }
    },
    {
      "cell_type": "code",
      "source": [
        "a = set('abracadabra') # {'d', 'r', 'c', 'b', 'a'}\n",
        "b = set('alacazam') # {'z', 'c', 'm', 'l', 'a'}\n",
        "# Phép Hiệu: thuộc a nhưng không thuộc b\n",
        "\n",
        "print(a - b) # {'r', 'd', 'b'}\n",
        "\n",
        "# Phép Hợp: thuộc a hoặc b\n",
        "# {'a', 'c', 'r', 'd', 'b', 'm', 'z', 'l'}\n",
        "\n",
        "print(a | b)\n",
        "\n",
        "# Phép Giao: thuộc cả a và b\n",
        "\n",
        "print(a & b) # {'a', 'c'}\n",
        "\n",
        "# Phép Xor: thuộc hoặc a, hoặc b nhưng không phải cả 2\n",
        "# {'r', 'd', 'b', 'm', 'z', 'l'}\n",
        "print(a ^ b)"
      ],
      "metadata": {
        "colab": {
          "base_uri": "https://localhost:8080/"
        },
        "id": "b22VRlLvNzIm",
        "outputId": "07e76a4a-c834-48df-f49c-f70c574c3799"
      },
      "execution_count": 171,
      "outputs": [
        {
          "output_type": "stream",
          "name": "stdout",
          "text": [
            "{'b', 'r', 'd'}\n",
            "{'d', 'z', 'm', 'b', 'a', 'l', 'c', 'r'}\n",
            "{'c', 'a'}\n",
            "{'l', 'r', 'z', 'm', 'd', 'b'}\n"
          ]
        }
      ]
    },
    {
      "cell_type": "markdown",
      "source": [
        "#### Các phương thức của set"
      ],
      "metadata": {
        "id": "6gH34-P3N9XV"
      }
    },
    {
      "cell_type": "code",
      "source": [
        "num = {1,3,5,6,8,20,7,8,29,33}\n",
        "print(\"Số lớn nhất là :\", max(num))\n",
        "#Số lớn nhất là : 33"
      ],
      "metadata": {
        "colab": {
          "base_uri": "https://localhost:8080/"
        },
        "id": "PUibz8b4N-Om",
        "outputId": "720ec2eb-5d2f-4299-9b4e-1afc0eed6d9f"
      },
      "execution_count": 172,
      "outputs": [
        {
          "output_type": "stream",
          "name": "stdout",
          "text": [
            "Số lớn nhất là : 33\n"
          ]
        }
      ]
    },
    {
      "cell_type": "markdown",
      "source": [
        "Vòng lặp for của set()"
      ],
      "metadata": {
        "id": "Ne3AKo_COAlO"
      }
    },
    {
      "cell_type": "code",
      "source": [
        "setFruits = {'lemon','orange','apple','pear'}\n",
        "for x in setFruits:\n",
        "  print(x)"
      ],
      "metadata": {
        "colab": {
          "base_uri": "https://localhost:8080/"
        },
        "id": "YSjhzt6rOA-t",
        "outputId": "a01e7d54-c0c8-4473-8653-281d7c5ea4dc"
      },
      "execution_count": 174,
      "outputs": [
        {
          "output_type": "stream",
          "name": "stdout",
          "text": [
            "apple\n",
            "lemon\n",
            "pear\n",
            "orange\n"
          ]
        }
      ]
    },
    {
      "cell_type": "code",
      "source": [
        "for letter in set(\"chivuong\"):\n",
        "  print(letter)"
      ],
      "metadata": {
        "colab": {
          "base_uri": "https://localhost:8080/"
        },
        "id": "7bphvvMBOII8",
        "outputId": "e32c81fc-deca-41c3-d361-c7bff48c9cf2"
      },
      "execution_count": 176,
      "outputs": [
        {
          "output_type": "stream",
          "name": "stdout",
          "text": [
            "n\n",
            "i\n",
            "g\n",
            "v\n",
            "u\n",
            "h\n",
            "o\n",
            "c\n"
          ]
        }
      ]
    },
    {
      "cell_type": "markdown",
      "source": [
        "### 4.2. Dictionary (từ điển)"
      ],
      "metadata": {
        "id": "aSHQeOoFMmht"
      }
    },
    {
      "cell_type": "markdown",
      "source": [
        "Từ điển có thể khai báo theo cú pháp của set"
      ],
      "metadata": {
        "id": "l7jGbMR-OOs8"
      }
    },
    {
      "cell_type": "code",
      "source": [
        "dict = {1:'one',2:'two',3:'three'}\n",
        "print(dict[1]) #'one'\n",
        "dict[4]='four'\n",
        "print(dict)\n",
        "#{1: 'one',2:'two',3:'three',4:'four'}"
      ],
      "metadata": {
        "colab": {
          "base_uri": "https://localhost:8080/"
        },
        "id": "OBpcZ4S0OPhT",
        "outputId": "3531ff01-cc0d-4057-c372-8ded9d4d563f"
      },
      "execution_count": 184,
      "outputs": [
        {
          "output_type": "stream",
          "name": "stdout",
          "text": [
            "one\n",
            "{1: 'one', 2: 'two', 3: 'three', 4: 'four'}\n"
          ]
        }
      ]
    },
    {
      "cell_type": "markdown",
      "source": [
        "Chú ý: chỉ những loại dữ liệu immutable (không thể\n",
        "thay đổi) mới có thể dùng làm key của từ điển"
      ],
      "metadata": {
        "id": "SNVgcKihOfYz"
      }
    },
    {
      "cell_type": "code",
      "source": [
        "dict = {(1,2,3):\"abc\", 3.1415:\"abc\"}\n",
        "print(dict)\n",
        "#dict = {[1,2,3]:\"abc\"} # lỗi"
      ],
      "metadata": {
        "colab": {
          "base_uri": "https://localhost:8080/"
        },
        "id": "MlVX6QkuOf6k",
        "outputId": "d257325d-5c18-4800-ef19-8e864729ce67"
      },
      "execution_count": 179,
      "outputs": [
        {
          "output_type": "stream",
          "name": "stdout",
          "text": [
            "{(1, 2, 3): 'abc', 3.1415: 'abc'}\n"
          ]
        }
      ]
    },
    {
      "cell_type": "markdown",
      "source": [
        "Dùng zip để ghép 2 list thành từ điển"
      ],
      "metadata": {
        "id": "r52_4k6mOm1r"
      }
    },
    {
      "cell_type": "code",
      "source": [
        "l1 = [\"a\",\"b\",\"c\"]\n",
        "l2 = [1,2,3]\n",
        "c = zip(l1, l2)\n",
        "for i in c:\n",
        "  print(i)\n",
        "\n",
        "#('a', 1)\n",
        "#('b', 2)\n",
        "#('c', 3)"
      ],
      "metadata": {
        "colab": {
          "base_uri": "https://localhost:8080/"
        },
        "id": "kkRXi0jIOnT0",
        "outputId": "342a03de-1e35-4535-d45d-3af60db8dfef"
      },
      "execution_count": 183,
      "outputs": [
        {
          "output_type": "stream",
          "name": "stdout",
          "text": [
            "('a', 1)\n",
            "('b', 2)\n",
            "('c', 3)\n"
          ]
        }
      ]
    },
    {
      "cell_type": "markdown",
      "source": [
        "Tạo mới từ điển"
      ],
      "metadata": {
        "id": "OJaSKUZvOz0d"
      }
    },
    {
      "cell_type": "code",
      "source": [
        "# tạo một dict với key là các số nguyên\n",
        "Dict = {1: 'Nguyen', 2: 'Van', 3: 'An'}\n",
        "print(Dict)\n",
        "# {1: ‘Nguyen’, 2: ‘Van’, 3: ‘an’}"
      ],
      "metadata": {
        "colab": {
          "base_uri": "https://localhost:8080/"
        },
        "id": "eBpCafD7O0ir",
        "outputId": "0a80f8a9-f825-49e6-f650-65de4da231eb"
      },
      "execution_count": 186,
      "outputs": [
        {
          "output_type": "stream",
          "name": "stdout",
          "text": [
            "{1: 'Nguyen', 2: 'Van', 3: 'An'}\n"
          ]
        }
      ]
    },
    {
      "cell_type": "code",
      "source": [
        "# tạo một dict với key hỗn hợp\n",
        "Dict = {'Name': 'dict', 1: [1, 2, 3, 4]}\n",
        "print(Dict)\n",
        "# {'Name': 'dict', 1: [1, 2, 3, 4]}"
      ],
      "metadata": {
        "colab": {
          "base_uri": "https://localhost:8080/"
        },
        "id": "V03kkTYFO85b",
        "outputId": "756b4562-5627-4c58-ea69-78e6798ed5ff"
      },
      "execution_count": 187,
      "outputs": [
        {
          "output_type": "stream",
          "name": "stdout",
          "text": [
            "{'Name': 'dict', 1: [1, 2, 3, 4]}\n"
          ]
        }
      ]
    },
    {
      "cell_type": "markdown",
      "source": [
        "Thêm các giá trị vào từ điển"
      ],
      "metadata": {
        "id": "0QW-bvYAO_re"
      }
    },
    {
      "cell_type": "code",
      "source": [
        "# tạo một từ điển\n",
        "Dict = {}\n",
        "# thêm các giá trị\n",
        "Dict[0] = 'Xin chao'\n",
        "Dict[1] = 'lop hoc Khoa học du lieu'\n",
        "print(Dict)\n",
        "# {0: ' Xin chao ', 1: ' Khoa học du lieu'}"
      ],
      "metadata": {
        "colab": {
          "base_uri": "https://localhost:8080/"
        },
        "id": "an0ysmdqPAFz",
        "outputId": "b9bff71a-5cf2-48c3-a1c7-301ba0ea87ef"
      },
      "execution_count": 190,
      "outputs": [
        {
          "output_type": "stream",
          "name": "stdout",
          "text": [
            "{0: 'Xin chao', 1: 'lop hoc Khoa học du lieu'}\n"
          ]
        }
      ]
    },
    {
      "cell_type": "markdown",
      "source": [
        "Truy cập giá trị của từ điển"
      ],
      "metadata": {
        "id": "3KKLGH9zPHRs"
      }
    },
    {
      "cell_type": "code",
      "source": [
        "# tạo một dict mới\n",
        "Dict = {1: 'Lớp', 2: 'Khoa học', 3: 'Dữ liệu'}"
      ],
      "metadata": {
        "id": "n5ige9btPHiz"
      },
      "execution_count": 192,
      "outputs": []
    },
    {
      "cell_type": "code",
      "source": [
        "# truy cập theo cách thông thường\n",
        "print(Dict[1])\n",
        "# Lớp"
      ],
      "metadata": {
        "colab": {
          "base_uri": "https://localhost:8080/"
        },
        "id": "masSpOsjPOeK",
        "outputId": "edfab411-ebc4-44b4-f1c3-1ad07e45e297"
      },
      "execution_count": 193,
      "outputs": [
        {
          "output_type": "stream",
          "name": "stdout",
          "text": [
            "Lớp\n"
          ]
        }
      ]
    },
    {
      "cell_type": "code",
      "source": [
        "# truy cập bằng phương thức get()\n",
        "print(Dict.get(3))\n",
        "# Dữ liệu"
      ],
      "metadata": {
        "colab": {
          "base_uri": "https://localhost:8080/"
        },
        "id": "e4kW2v0CPPz0",
        "outputId": "89b0d69c-a2fa-4531-9cd5-fd9400003175"
      },
      "execution_count": 194,
      "outputs": [
        {
          "output_type": "stream",
          "name": "stdout",
          "text": [
            "Dữ liệu\n"
          ]
        }
      ]
    },
    {
      "cell_type": "markdown",
      "source": [
        "Chuyển từ điển thành chuỗi: str()"
      ],
      "metadata": {
        "id": "_dTSIcyuPUz7"
      }
    },
    {
      "cell_type": "code",
      "source": [
        "Dict = {'Ten':'An','Tuoi':20};\n",
        "print(\"Chuỗi tương đương là : %s\" % Dict)\n",
        "#Chuỗi tương đương là : {'Ten': ‘An', 'Tuoi': 20}"
      ],
      "metadata": {
        "colab": {
          "base_uri": "https://localhost:8080/"
        },
        "id": "IDf9DFWzPVUy",
        "outputId": "19e29582-bb99-460c-d239-a34a2ed1475b"
      },
      "execution_count": 201,
      "outputs": [
        {
          "output_type": "stream",
          "name": "stdout",
          "text": [
            "Chuỗi tương đương là : {'Ten': 'An', 'Tuoi': 20}\n"
          ]
        }
      ]
    },
    {
      "cell_type": "markdown",
      "source": [
        "Cập nhật 1 giá trị của từ điển: update()"
      ],
      "metadata": {
        "id": "1sMsJ1GtP4P6"
      }
    },
    {
      "cell_type": "code",
      "source": [
        "Dict = {'Cúc':18, 'Lan':19, 'Hồng':20, 'Mai':27}\n",
        "Dict.update({'Lan':21}) #cập nhật tuổi cho Lan\n",
        "Dict.update({'Đào':25}) #thêm một phần tử mới là Đào\n",
        "print(Dict)\n",
        "#{'Cúc':18,'Lan':21,'Hồng':20,'Mai':27,'Đào':25}"
      ],
      "metadata": {
        "colab": {
          "base_uri": "https://localhost:8080/"
        },
        "id": "h_LBMcgUP4mD",
        "outputId": "c3e37815-812b-4492-da22-72e8c1173eb5"
      },
      "execution_count": 203,
      "outputs": [
        {
          "output_type": "stream",
          "name": "stdout",
          "text": [
            "{'Cúc': 18, 'Lan': 21, 'Hồng': 20, 'Mai': 27, 'Đào': 25}\n"
          ]
        }
      ]
    },
    {
      "cell_type": "markdown",
      "source": [
        "### 4.3. Module và Package"
      ],
      "metadata": {
        "id": "lGZfgpLbMoFN"
      }
    },
    {
      "cell_type": "markdown",
      "source": [
        "Package"
      ],
      "metadata": {
        "id": "dsTE5zrSQgrp"
      }
    },
    {
      "cell_type": "code",
      "source": [
        "import numpy\n",
        "#A = array([1, 2, 3]) # lỗi\n",
        "A = numpy.array([1, 2, 3]) # ok\n",
        "print(A)\n",
        "import numpy as np\n",
        "B = np.array([1, 2, 3]) # ok\n",
        "print(B)\n",
        "from numpy import array\n",
        "C = array([1, 2, 3]) # ok\n",
        "print(C)"
      ],
      "metadata": {
        "colab": {
          "base_uri": "https://localhost:8080/"
        },
        "id": "eG2YD4QIQL3R",
        "outputId": "5a1eb3f8-28d7-46cc-de04-ebf27a1e9643"
      },
      "execution_count": 206,
      "outputs": [
        {
          "output_type": "stream",
          "name": "stdout",
          "text": [
            "[1 2 3]\n",
            "[1 2 3]\n",
            "[1 2 3]\n"
          ]
        }
      ]
    },
    {
      "cell_type": "markdown",
      "source": [
        "# Thư viện NumPy"
      ],
      "metadata": {
        "id": "TqnNPGXXQodz"
      }
    },
    {
      "cell_type": "markdown",
      "source": [
        "## 1. Một số gói python cho Data Science"
      ],
      "metadata": {
        "id": "B0YSfNghSrQB"
      }
    },
    {
      "cell_type": "markdown",
      "source": [
        "## 2. Giới thiệu về NumPy"
      ],
      "metadata": {
        "id": "nxPJKgHoSuSH"
      }
    },
    {
      "cell_type": "markdown",
      "source": [
        "## 3. Khởi tạo mảng và chỉ số"
      ],
      "metadata": {
        "id": "F5euNUBfSw_f"
      }
    },
    {
      "cell_type": "markdown",
      "source": [
        "Tạo mảng và truy cập"
      ],
      "metadata": {
        "id": "GUKwAsvyWyN7"
      }
    },
    {
      "cell_type": "code",
      "source": [
        "a = np.array([1, 2, 3]) # tạo mảng 1 chiều\n",
        "print(type(a)) # in \"<class 'numpy.ndarray'>\"\n",
        "print(a.shape) # in \"(3,)\"\n",
        "print(a[0], a[1], a[2]) # in \"1 2 3\"\n",
        "a[0] = 5\n",
        "print(a) # in \"[5, 2, 3]\"\n",
        "b = np.array([[1, 2, 3],[4, 5, 6]]) # tạo mảng 2 chiều\n",
        "print(b.shape) # in \"(2, 3)\"\n",
        "print(b[0, 0], b[0, 1], b[1, 0]) # in \"1 2 4\"\n",
        "print(np.diag([1, 3, 4])) # in ra cái gì?"
      ],
      "metadata": {
        "colab": {
          "base_uri": "https://localhost:8080/"
        },
        "id": "QUowew07WZ-V",
        "outputId": "6f85def7-1e8c-454f-f18b-7d6513cea0c6"
      },
      "execution_count": 208,
      "outputs": [
        {
          "output_type": "stream",
          "name": "stdout",
          "text": [
            "<class 'numpy.ndarray'>\n",
            "(3,)\n",
            "1 2 3\n",
            "[5 2 3]\n",
            "(2, 3)\n",
            "1 2 4\n",
            "[[1 0 0]\n",
            " [0 3 0]\n",
            " [0 0 4]]\n"
          ]
        }
      ]
    },
    {
      "cell_type": "markdown",
      "source": [
        "Nhiều cách khởi tạo phong phú"
      ],
      "metadata": {
        "id": "H3VfQvYoWz6i"
      }
    },
    {
      "cell_type": "code",
      "source": [
        "import numpy as np\n",
        "\n",
        "x = np.arange(3.0) # mảng [0. 1. 2.]\n",
        "a = np.zeros((2, 2)) # mảng 2x2 toàn số 0\n",
        "b = np.ones((1, 2)) # mảng 1x2 toàn số 1\n",
        "c = np.full((3, 2, 2), 9) # mảng 3x2x2 toàn số 9\n",
        "d = np.eye(2) # ma trận đơn vị 2x2\n",
        "e = np.random.random((3, 2)) # mảng 3x2 ngẫu nhiên [0,1)\n",
        "# mảng 2x3 điền các số từ 1 đến 6, kiểu số nguyên 32 bit\n",
        "x = np.array([[1, 2, 3], [4, 5, 6]], np.int32)\n",
        "print(a)\n",
        "print(b)\n",
        "print(c)\n",
        "print(d)\n",
        "print(e)\n",
        "print(x.ndim, x.size)\n",
        "print(x.shape) # in \"(2, 3)\"\n",
        "print(x.dtype) # in \"dtype('int32')\""
      ],
      "metadata": {
        "colab": {
          "base_uri": "https://localhost:8080/"
        },
        "id": "BuoYNxSnW2Az",
        "outputId": "138bbbf3-767a-41a1-d788-aae84d8057dc"
      },
      "execution_count": 217,
      "outputs": [
        {
          "output_type": "stream",
          "name": "stdout",
          "text": [
            "[[0. 0.]\n",
            " [0. 0.]]\n",
            "[[1. 1.]]\n",
            "[[[9 9]\n",
            "  [9 9]]\n",
            "\n",
            " [[9 9]\n",
            "  [9 9]]\n",
            "\n",
            " [[9 9]\n",
            "  [9 9]]]\n",
            "[[1. 0.]\n",
            " [0. 1.]]\n",
            "[[0.10656085 0.55845567]\n",
            " [0.95948134 0.13270462]\n",
            " [0.39847505 0.86869739]]\n",
            "2 6\n",
            "(2, 3)\n",
            "int32\n"
          ]
        }
      ]
    },
    {
      "cell_type": "markdown",
      "source": [
        "Truy cập theo chỉ số (slicing)"
      ],
      "metadata": {
        "id": "z_ShtOCNXrIT"
      }
    },
    {
      "cell_type": "code",
      "source": [
        "import numpy as np\n",
        "# mảng 3x4\n",
        "a = np.array([[1, 2, 3, 4], [5, 6, 7, 8], [9, 10, 11, 12]])\n",
        "# mảng 2x2 trích xuất từ a, dòng 0+1, cột 1+2\n",
        "b = a[:2, 1:3]\n",
        "# chú ý: mảng của numpy tham chiếu chứ không copy dữ liệu\n",
        "print(a[0, 1]) # in \"2\"\n",
        "b[0, 0] = 77 # b[0, 0] cũng là a[0, 1]\n",
        "print(a[0, 1]) # in \"77\"\n",
        "print(a)\n",
        "print(b)"
      ],
      "metadata": {
        "colab": {
          "base_uri": "https://localhost:8080/"
        },
        "id": "J2r4e5K5XttT",
        "outputId": "12d94064-b932-4ec4-83db-972f2a23625c"
      },
      "execution_count": 219,
      "outputs": [
        {
          "output_type": "stream",
          "name": "stdout",
          "text": [
            "2\n",
            "77\n",
            "[[ 1 77  3  4]\n",
            " [ 5  6  7  8]\n",
            " [ 9 10 11 12]]\n",
            "[[77  3]\n",
            " [ 6  7]]\n"
          ]
        }
      ]
    },
    {
      "cell_type": "markdown",
      "source": [
        "Cẩn thận với slicing"
      ],
      "metadata": {
        "id": "Q-6sWOUrX5Oy"
      }
    },
    {
      "cell_type": "code",
      "source": [
        "row_r1 = a[1, :] # mảng 1 chiều độ dài 4\n",
        "row_r2 = a[1:2, :] # mảng 2 chiều 1x4\n",
        "print(row_r1, row_r1.shape) # in ra \"[5 6 7 8] (4,)\"\n",
        "print(row_r2, row_r2.shape) # in ra \"[[5 6 7 8]] (1, 4)\"\n",
        "col_r1 = a[:, 1] # mảng 1 chiều độ dài 3\n",
        "col_r2 = a[:, 1:2] # mảng 2 chiều 3x1\n",
        "print(col_r1, col_r1.shape) # in ra \"[ 2 6 10] (3,)\"\n",
        "print(col_r2, col_r2.shape) # in ra \"[[ 2]\n",
        "\n",
        "# [ 6]\n",
        "# [10]] (3, 1)\""
      ],
      "metadata": {
        "colab": {
          "base_uri": "https://localhost:8080/"
        },
        "id": "7kKfiW2xX5sD",
        "outputId": "8ec62734-8bc5-41d0-a0d1-33f9ab4d3614"
      },
      "execution_count": 220,
      "outputs": [
        {
          "output_type": "stream",
          "name": "stdout",
          "text": [
            "[5 6 7 8] (4,)\n",
            "[[5 6 7 8]] (1, 4)\n",
            "[77  6 10] (3,)\n",
            "[[77]\n",
            " [ 6]\n",
            " [10]] (3, 1)\n"
          ]
        }
      ]
    },
    {
      "cell_type": "markdown",
      "source": [
        "## 4. Các phép toán trên mảng"
      ],
      "metadata": {
        "id": "7Q7Ej1T2Sy9X"
      }
    },
    {
      "cell_type": "markdown",
      "source": [
        "NumPy có nhiều phép toán về mảng"
      ],
      "metadata": {
        "id": "YN4eb4K8X_ha"
      }
    },
    {
      "cell_type": "code",
      "source": [
        "import numpy as np\n",
        "\n",
        "x = np.array([[1, 2], [3, 4]], dtype=np.float64)\n",
        "y = np.array([[5, 6], [7, 8]], dtype=np.float64)\n",
        "print(x + y) # print(np.add(x, y)), xử lý khác list\n",
        "print(x - y) # print(np.subtract(x, y))\n",
        "print(x * y) # print(np.multiply(x, y))\n",
        "print(x / y) # print(np.divide(x, y))\n",
        "print(np.sqrt(x)) # khai căn tất cả các phần tử\n",
        "print(2**x) # tính 2 mũ các phần tử trong x\n",
        "# chú ý: phép nhân/chia thực hiện theo cặp phần tử của x và y"
      ],
      "metadata": {
        "colab": {
          "base_uri": "https://localhost:8080/"
        },
        "id": "pyI0keY_X_2b",
        "outputId": "c75fc8c1-7c82-4492-9c5b-426c24fc1170"
      },
      "execution_count": 222,
      "outputs": [
        {
          "output_type": "stream",
          "name": "stdout",
          "text": [
            "[[ 6.  8.]\n",
            " [10. 12.]]\n",
            "[[-4. -4.]\n",
            " [-4. -4.]]\n",
            "[[ 5. 12.]\n",
            " [21. 32.]]\n",
            "[[0.2        0.33333333]\n",
            " [0.42857143 0.5       ]]\n",
            "[[1.         1.41421356]\n",
            " [1.73205081 2.        ]]\n",
            "[[ 2.  4.]\n",
            " [ 8. 16.]]\n"
          ]
        }
      ]
    },
    {
      "cell_type": "markdown",
      "source": [
        "Nhân ma trận (dot) và nghịch đảo"
      ],
      "metadata": {
        "id": "c3Y1a6fSYHhK"
      }
    },
    {
      "cell_type": "code",
      "source": [
        "import numpy as np\n",
        "\n",
        "x = np.array([[1, 2],[3, 4]])\n",
        "y = np.array([[5, 6],[7, 8]])\n",
        "v = np.array([9, 10])\n",
        "w = np.array([11, 12])\n",
        "print(v.dot(w)) # tương tự print(np.dot(v, w))\n",
        "print(x.dot(v)) # tương tự print(np.dot(x, v))\n",
        "print(x.dot(y)) # tương tự print(np.dot(x, y))\n",
        "print(np.linalg.inv(x)) # tính và in nghịch đảo của x"
      ],
      "metadata": {
        "colab": {
          "base_uri": "https://localhost:8080/"
        },
        "id": "RV1RwKkCYJGa",
        "outputId": "38b6e632-0074-4554-9882-227a384b5e11"
      },
      "execution_count": 223,
      "outputs": [
        {
          "output_type": "stream",
          "name": "stdout",
          "text": [
            "219\n",
            "[29 67]\n",
            "[[19 22]\n",
            " [43 50]]\n",
            "[[-2.   1. ]\n",
            " [ 1.5 -0.5]]\n"
          ]
        }
      ]
    },
    {
      "cell_type": "markdown",
      "source": [
        "Ma trận chuyển vị"
      ],
      "metadata": {
        "id": "Q6XWCo1kYKPM"
      }
    },
    {
      "cell_type": "code",
      "source": [
        "import numpy as np\n",
        "x = np.array([[1, 2], [3, 4]])\n",
        "print(x) # in ra \"[[1 2]\n",
        "# [3 4]]\"\n",
        "print(x.T) # in ra \"[[1 3]\n",
        "# [2 4]]\"\n",
        "# chú ý: mảng 1 chiều không có chuyển vị\n",
        "y = np.array([1, 2, 3])\n",
        "print(y) # in ra \"[1 2 3]\"\n",
        "print(y.T) # in ra \"[1 2 3]\"\n",
        "z = np.array([[1, 2, 3]])\n",
        "print(z.T) # đoán xem in ra cái gì?"
      ],
      "metadata": {
        "colab": {
          "base_uri": "https://localhost:8080/"
        },
        "id": "qGI4iKNvYNKC",
        "outputId": "56bdea4d-1bae-4ba8-d085-a7e896295fe3"
      },
      "execution_count": 224,
      "outputs": [
        {
          "output_type": "stream",
          "name": "stdout",
          "text": [
            "[[1 2]\n",
            " [3 4]]\n",
            "[[1 3]\n",
            " [2 4]]\n",
            "[1 2 3]\n",
            "[1 2 3]\n",
            "[[1]\n",
            " [2]\n",
            " [3]]\n"
          ]
        }
      ]
    },
    {
      "cell_type": "markdown",
      "source": [
        "## 5. Một số thao tác thông dụng"
      ],
      "metadata": {
        "id": "dls9YUmxS0CQ"
      }
    },
    {
      "cell_type": "markdown",
      "source": [
        "Đọc dữ liệu từ file"
      ],
      "metadata": {
        "id": "w2X_451CYPSK"
      }
    },
    {
      "cell_type": "code",
      "source": [
        "from io import StringIO\n",
        "import numpy as np\n",
        "c = StringIO(\"0 1\\n2 3\")\n",
        "x = np.loadtxt(c) # array([[ 0., 1.],\n",
        "# [ 2., 3.]])\n",
        "d = StringIO(\"M 21 72\\nF 35 58\")\n",
        "y = np.loadtxt(\n",
        "    d,\n",
        "    dtype={'names': ('gender','age','weight'),\n",
        "           'formats': ('S1', 'i4', 'f4')}\n",
        ")\n",
        "print(y) # [('M', 21, 72.0), ('F', 35, 58.0)]"
      ],
      "metadata": {
        "colab": {
          "base_uri": "https://localhost:8080/"
        },
        "id": "kVx9quDPYPta",
        "outputId": "e03da322-ad73-4c53-ee7d-7f37e11cddd5"
      },
      "execution_count": 227,
      "outputs": [
        {
          "output_type": "stream",
          "name": "stdout",
          "text": [
            "[(b'M', 21, 72.) (b'F', 35, 58.)]\n"
          ]
        }
      ]
    },
    {
      "cell_type": "markdown",
      "source": [
        "Cơ chế broadcasting"
      ],
      "metadata": {
        "id": "M9X0k_l2ZW6r"
      }
    },
    {
      "cell_type": "code",
      "source": [
        "import numpy as np\n",
        "\n",
        "x = np.array([[1, 2, 3], [4, 5, 6], [7, 8, 9], [10, 11,\n",
        "12]])\n",
        "v = np.array([1, 0, 1])\n",
        "y = x + v\n",
        "print(y) # in ra \"[[ 2 2 4]\n",
        "          # [ 5 5 7]\n",
        "          # [ 8 8 10]\n",
        "          # [11 11 13]]\""
      ],
      "metadata": {
        "colab": {
          "base_uri": "https://localhost:8080/"
        },
        "id": "JEiKzjhvZOdi",
        "outputId": "395e3eda-92f6-4a95-c9d6-8518f5c84b37"
      },
      "execution_count": 230,
      "outputs": [
        {
          "output_type": "stream",
          "name": "stdout",
          "text": [
            "[[ 2  2  4]\n",
            " [ 5  5  7]\n",
            " [ 8  8 10]\n",
            " [11 11 13]]\n"
          ]
        }
      ]
    },
    {
      "cell_type": "markdown",
      "source": [
        "Tính tổng theo các trục"
      ],
      "metadata": {
        "id": "BFcziwGDZYkR"
      }
    },
    {
      "cell_type": "code",
      "source": [
        "import numpy as np\n",
        "\n",
        "x = np.array([[1, 2], [3, 4]])\n",
        "\n",
        "print(np.sum(x)) # tính tổng toàn bộ x, in \"10“\n",
        "print(np.sum(x, axis=0)) # tính tổng mỗi cột, in \"[4 6]“\n",
        "print(np.sum(x, axis=1)) # tính tổng mỗi hàng, in \"[3 7]\""
      ],
      "metadata": {
        "colab": {
          "base_uri": "https://localhost:8080/"
        },
        "id": "-hf9XkCgZcva",
        "outputId": "ed6fd1e0-c652-4c17-c057-de19fac72303"
      },
      "execution_count": 231,
      "outputs": [
        {
          "output_type": "stream",
          "name": "stdout",
          "text": [
            "10\n",
            "[4 6]\n",
            "[3 7]\n"
          ]
        }
      ]
    },
    {
      "cell_type": "markdown",
      "source": [
        "Trích xuất dữ liệu theo dãy"
      ],
      "metadata": {
        "id": "mUZZ9WVWZ2PI"
      }
    },
    {
      "cell_type": "code",
      "source": [
        "import numpy as np\n",
        "a = np.array([[1,2], [3, 4], [5, 6]])\n",
        "# Prints \"[1 4 5]\"\n",
        "print(a[[0, 1, 2], [0, 1, 0]])\n",
        "# Prints \"[1 4 5]\"\n",
        "print(np.array([a[0, 0], a[1, 1], a[2, 0]]))\n",
        "# Prints \"[2 2]\"\n",
        "print(a[[0, 0], [1, 1]])\n",
        "# Prints \"[2 2]\"\n",
        "print(np.array([a[0, 1], a[0, 1]]))"
      ],
      "metadata": {
        "colab": {
          "base_uri": "https://localhost:8080/"
        },
        "id": "fTk0zSw_Z2ho",
        "outputId": "0bf3c0fd-f210-43b3-8c19-88b88539e615"
      },
      "execution_count": 232,
      "outputs": [
        {
          "output_type": "stream",
          "name": "stdout",
          "text": [
            "[1 4 5]\n",
            "[1 4 5]\n",
            "[2 2]\n",
            "[2 2]\n"
          ]
        }
      ]
    },
    {
      "cell_type": "markdown",
      "source": [
        "Lọc phần tử theo chỉ số"
      ],
      "metadata": {
        "id": "T-cC30GqZ33K"
      }
    },
    {
      "cell_type": "code",
      "source": [
        "import numpy as np\n",
        "\n",
        "a = np.array([[1, 2, 3], [4, 5, 6], [7, 8, 9], [10, 11, 12]])\n",
        "b = np.array([0, 2, 0, 1]) # b là mảng các chỉ số\n",
        "print(a[np.arange(4), b]) # in ra \"[1 6 7 11]\"\n",
        "# cộng tất cả các phần tử được lọc thêm 10\n",
        "a[np.arange(4), b] += 10\n",
        "print(a) # in ra \"array([[11, 2, 3],\n",
        "\n",
        "# [ 4, 5, 16],\n",
        "# [17, 8, 9],\n",
        "# [10, 21, 12]])"
      ],
      "metadata": {
        "colab": {
          "base_uri": "https://localhost:8080/"
        },
        "id": "CqBjy2q1Z4px",
        "outputId": "11ed5d3d-b97f-439b-e78b-f80d91517bc7"
      },
      "execution_count": 233,
      "outputs": [
        {
          "output_type": "stream",
          "name": "stdout",
          "text": [
            "[ 1  6  7 11]\n",
            "[[11  2  3]\n",
            " [ 4  5 16]\n",
            " [17  8  9]\n",
            " [10 21 12]]\n"
          ]
        }
      ]
    },
    {
      "cell_type": "markdown",
      "source": [
        "## Khởi tạo mảng và chỉ số"
      ],
      "metadata": {
        "id": "7LcQ0xd8QvP6"
      }
    },
    {
      "cell_type": "markdown",
      "source": [
        "# Thư viện matplotlib"
      ],
      "metadata": {
        "id": "xY7JuDIWS7zH"
      }
    },
    {
      "cell_type": "markdown",
      "source": [
        "## 1. Giới thiệu và cài đặt matplotlib"
      ],
      "metadata": {
        "id": "BFf_GOGDS9tY"
      }
    },
    {
      "cell_type": "markdown",
      "source": [
        "## 2. Vẽ biểu đồ đơn giản"
      ],
      "metadata": {
        "id": "szkPk7WgTBTH"
      }
    },
    {
      "cell_type": "markdown",
      "source": [
        "## 3. Một số loại biểu đồ thông dụng trong matplotlib"
      ],
      "metadata": {
        "id": "bJTwwr1RTD5O"
      }
    },
    {
      "cell_type": "markdown",
      "source": [
        "### 1. Biểu đồ dạBiểu đồ dạng cột (bar plot)"
      ],
      "metadata": {
        "id": "74edErFwTFro"
      }
    },
    {
      "cell_type": "markdown",
      "source": [
        "### 2. Biểu đồ bánh (pie chart)"
      ],
      "metadata": {
        "id": "gpWwHC2qTHQY"
      }
    },
    {
      "cell_type": "markdown",
      "source": [
        "### 3. Biểu đồ bánh (pie chart)"
      ],
      "metadata": {
        "id": "Zm-4t7XLTIwg"
      }
    },
    {
      "cell_type": "markdown",
      "source": [
        "## 4. Một số chức năng hữu ích"
      ],
      "metadata": {
        "id": "oQMWgmkITKKG"
      }
    },
    {
      "cell_type": "markdown",
      "source": [
        "# Thư viện Panda"
      ],
      "metadata": {
        "id": "8y0Kz-40R4cQ"
      }
    },
    {
      "cell_type": "markdown",
      "source": [
        "## 1. Giới thiệu và cài đặt pandas"
      ],
      "metadata": {
        "id": "paaWyKTzSBai"
      }
    },
    {
      "cell_type": "markdown",
      "source": [
        "## 2. Cấu trúc dữ liệu trong pandas"
      ],
      "metadata": {
        "id": "Q55OaPGpSDgo"
      }
    },
    {
      "cell_type": "markdown",
      "source": [
        "## 3. Làm việc với series"
      ],
      "metadata": {
        "id": "svKnZ1p1SF-a"
      }
    },
    {
      "cell_type": "markdown",
      "source": [
        "## 4. Làm việc với dataframe"
      ],
      "metadata": {
        "id": "hQDTuqnESGtn"
      }
    },
    {
      "cell_type": "markdown",
      "source": [
        "## 5. Bài tập"
      ],
      "metadata": {
        "id": "cvuyQHhNSKb5"
      }
    },
    {
      "cell_type": "markdown",
      "source": [
        "## 6. Hướng dẫn bài tập buổi trước"
      ],
      "metadata": {
        "id": "OKQ3kQ8ySOFv"
      }
    },
    {
      "cell_type": "markdown",
      "source": [
        "## 7. Làm việc với panel"
      ],
      "metadata": {
        "id": "R_KrJd1WSQsP"
      }
    },
    {
      "cell_type": "markdown",
      "source": [
        "## 8. Chọn và nhóm phần tử"
      ],
      "metadata": {
        "id": "hlqws7bHSRbA"
      }
    },
    {
      "cell_type": "markdown",
      "source": [
        "## 9. Sử dụng pandas trong bài toán thực tế"
      ],
      "metadata": {
        "id": "IQgemdbxSSth"
      }
    },
    {
      "cell_type": "markdown",
      "source": [
        "# Thư viện scikit-learn"
      ],
      "metadata": {
        "id": "v5SWjF3jSYrJ"
      }
    },
    {
      "cell_type": "markdown",
      "source": [
        "## 1. Mối quan hệ giữa Khoa học Dữ liệu và Học máy"
      ],
      "metadata": {
        "id": "HMDHmNdoSbUY"
      }
    },
    {
      "cell_type": "markdown",
      "source": [
        "## 2. Một số loại bài toán học máy"
      ],
      "metadata": {
        "id": "wZ2PpBalSdT_"
      }
    },
    {
      "cell_type": "markdown",
      "source": [
        "## 3. Thư viện học máy scikit-learn"
      ],
      "metadata": {
        "id": "vZNqyM0LSfFo"
      }
    },
    {
      "cell_type": "markdown",
      "source": [
        "# **Kết thúc**"
      ],
      "metadata": {
        "id": "ogZ4KGyBAWLZ"
      }
    }
  ]
}