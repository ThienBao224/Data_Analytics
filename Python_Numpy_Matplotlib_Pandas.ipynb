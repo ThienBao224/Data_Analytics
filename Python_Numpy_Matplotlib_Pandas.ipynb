{
  "nbformat": 4,
  "nbformat_minor": 0,
  "metadata": {
    "colab": {
      "provenance": [],
      "mount_file_id": "1p2Kvyx4dHa3l4xXM7zWnQ7GRfaXbYHRD",
      "authorship_tag": "ABX9TyOqY9xD2ICaifsTaNVauIwP",
      "include_colab_link": true
    },
    "kernelspec": {
      "name": "python3",
      "display_name": "Python 3"
    },
    "language_info": {
      "name": "python"
    }
  },
  "cells": [
    {
      "cell_type": "markdown",
      "metadata": {
        "id": "view-in-github",
        "colab_type": "text"
      },
      "source": [
        "<a href=\"https://colab.research.google.com/github/ThienBao224/Data_Analytics/blob/main/Python_Numpy_Matplotlib_Pandas.ipynb\" target=\"_parent\"><img src=\"https://colab.research.google.com/assets/colab-badge.svg\" alt=\"Open In Colab\"/></a>"
      ]
    },
    {
      "cell_type": "markdown",
      "source": [
        "# **Python Numpy Matplotlib Pandas**"
      ],
      "metadata": {
        "id": "r1URoUFFxWgT"
      }
    },
    {
      "cell_type": "markdown",
      "source": [
        "## Bài 1: Mở đầu"
      ],
      "metadata": {
        "id": "VWQYdfSr4724"
      }
    },
    {
      "cell_type": "markdown",
      "source": [
        "### 1. Giới thiệu ngôn ngữ python"
      ],
      "metadata": {
        "id": "3E_ZfpjQ5S75"
      }
    },
    {
      "cell_type": "markdown",
      "source": [
        "### 2. Cách thực hiện câu lệnh, chương trình Python"
      ],
      "metadata": {
        "id": "5c3QmuHNzC13"
      }
    },
    {
      "cell_type": "markdown",
      "source": [
        "Khởi chạy"
      ],
      "metadata": {
        "id": "nT_m_-ii3L1Z"
      }
    },
    {
      "cell_type": "code",
      "source": [
        "a=20*10\n",
        "b=a+25\n",
        "b"
      ],
      "metadata": {
        "colab": {
          "base_uri": "https://localhost:8080/"
        },
        "id": "QWmxqjqAzF1m",
        "outputId": "b2f54207-3dbb-420c-b87f-9b6fa285deb1"
      },
      "execution_count": null,
      "outputs": [
        {
          "output_type": "execute_result",
          "data": {
            "text/plain": [
              "225"
            ]
          },
          "metadata": {},
          "execution_count": 32
        }
      ]
    },
    {
      "cell_type": "markdown",
      "source": [
        "### 3. Biến, Kiểu dữ liệu, Khối lệnh"
      ],
      "metadata": {
        "id": "FBK2MSYoxAsY"
      }
    },
    {
      "cell_type": "markdown",
      "source": [
        "#### Biến"
      ],
      "metadata": {
        "id": "N4jvGG8TylQH"
      }
    },
    {
      "cell_type": "code",
      "source": [
        "n = 12 # biến n là kiểu nguyên\n",
        "print(f'{n}, data type = {type(n)}')\n",
        "\n",
        "n = n + 0.1 # biến n chuyển sang kiểu thực\n",
        "print(f'{n}, data type = {type(n)}')"
      ],
      "metadata": {
        "colab": {
          "base_uri": "https://localhost:8080/"
        },
        "id": "TIAO3IDlxu-R",
        "outputId": "a63d11fd-44a0-4902-9add-1e9933c11897"
      },
      "execution_count": null,
      "outputs": [
        {
          "output_type": "stream",
          "name": "stdout",
          "text": [
            "12, data type = <class 'int'>\n",
            "12.1, data type = <class 'float'>\n"
          ]
        }
      ]
    },
    {
      "cell_type": "code",
      "source": [
        "a=100\n",
        "b=1.\n",
        "type(a), type(b)"
      ],
      "metadata": {
        "colab": {
          "base_uri": "https://localhost:8080/"
        },
        "id": "ZDxyatr-ziGH",
        "outputId": "cce9ccb5-ae41-43e6-a5f1-f24503d8b5a8"
      },
      "execution_count": null,
      "outputs": [
        {
          "output_type": "execute_result",
          "data": {
            "text/plain": [
              "(int, float)"
            ]
          },
          "metadata": {},
          "execution_count": 34
        }
      ]
    },
    {
      "cell_type": "code",
      "source": [
        "id(a), id(b)"
      ],
      "metadata": {
        "colab": {
          "base_uri": "https://localhost:8080/"
        },
        "id": "_s12LoxTz2W_",
        "outputId": "269cec24-90f1-4a68-9151-123dfd7b2500"
      },
      "execution_count": null,
      "outputs": [
        {
          "output_type": "execute_result",
          "data": {
            "text/plain": [
              "(11645256, 137136153064752)"
            ]
          },
          "metadata": {},
          "execution_count": 35
        }
      ]
    },
    {
      "cell_type": "markdown",
      "source": [
        "#### Dữ liệu kiểu chuỗi"
      ],
      "metadata": {
        "id": "pIuUTPk4z-5M"
      }
    },
    {
      "cell_type": "code",
      "source": [
        "# chuỗi trong nó có chứa dấu nháy đơn\n",
        "with_quote = \"I ain't gonna\"\n",
        "print(with_quote)\n",
        "# chuỗi có nôi dung nằm trên 2 dòng\n",
        "longer = \"\"\"This string has multiple lines in it\"\"\"\n",
        "print(longer)"
      ],
      "metadata": {
        "colab": {
          "base_uri": "https://localhost:8080/"
        },
        "id": "K8bREVL-0AHl",
        "outputId": "f41a48cb-ed76-411d-b3a6-8a2fb8d00391"
      },
      "execution_count": null,
      "outputs": [
        {
          "output_type": "stream",
          "name": "stdout",
          "text": [
            "I ain't gonna\n",
            "This string has multiple lines in it\n"
          ]
        }
      ]
    },
    {
      "cell_type": "markdown",
      "source": [
        "#### Chuỗi trần"
      ],
      "metadata": {
        "id": "nEImt_Sr1QZ7"
      }
    },
    {
      "cell_type": "code",
      "source": [
        "a = r'\\neu moi ngay' # chuoi tran, bo qua Escape Sequence \\n\n",
        "print (a)"
      ],
      "metadata": {
        "colab": {
          "base_uri": "https://localhost:8080/"
        },
        "id": "mwe1ayr70o4E",
        "outputId": "96576116-b50b-454d-d2f1-a3ef424ba124"
      },
      "execution_count": null,
      "outputs": [
        {
          "output_type": "stream",
          "name": "stdout",
          "text": [
            "\\neu moi ngay\n"
          ]
        }
      ]
    },
    {
      "cell_type": "markdown",
      "source": [
        "#### Chú thích"
      ],
      "metadata": {
        "id": "4rg2rZOd1YP7"
      }
    },
    {
      "cell_type": "code",
      "source": [
        "print(\"Chuong trinh python\") #Day la cau lenh in ra chuoi"
      ],
      "metadata": {
        "colab": {
          "base_uri": "https://localhost:8080/"
        },
        "id": "QldeWJjS1rna",
        "outputId": "ffc00743-c431-4ec4-cbb1-ddc3ad600a0b"
      },
      "execution_count": null,
      "outputs": [
        {
          "output_type": "stream",
          "name": "stdout",
          "text": [
            "Chuong trinh python\n"
          ]
        }
      ]
    },
    {
      "cell_type": "markdown",
      "source": [
        "### 4. Nhập và Xuất dữ liệu"
      ],
      "metadata": {
        "id": "eUrpI7xi1Sfl"
      }
    },
    {
      "cell_type": "markdown",
      "source": [
        "#### Xuất dữ liệu"
      ],
      "metadata": {
        "id": "QK7R3CR-2JT8"
      }
    },
    {
      "cell_type": "code",
      "source": [
        "a = 3.564\n",
        "\n",
        "print(42)\n",
        "\n",
        "print(\"a = \", a)\n",
        "\n",
        "print(\"a = \\n\", a)\n",
        "\n",
        "print(\"a\",\"b\")\n",
        "\n",
        "print(\"a\",\"b\",sep=\"\")\n",
        "\n",
        "print(192,168,178,42,sep=\".\")\n",
        "\n",
        "print(\"a\",\"b\",sep=\":-)\")\n"
      ],
      "metadata": {
        "colab": {
          "base_uri": "https://localhost:8080/"
        },
        "id": "rCGWmMTJ2Lja",
        "outputId": "a03b5cac-80cb-49e2-ab0a-a98a15c32883"
      },
      "execution_count": null,
      "outputs": [
        {
          "output_type": "stream",
          "name": "stdout",
          "text": [
            "42\n",
            "a =  3.564\n",
            "a = \n",
            " 3.564\n",
            "a b\n",
            "ab\n",
            "192.168.178.42\n",
            "a:-)b\n"
          ]
        }
      ]
    },
    {
      "cell_type": "markdown",
      "source": [
        "#### Nhập dữ liệu"
      ],
      "metadata": {
        "id": "g5Or25lJ2oiq"
      }
    },
    {
      "cell_type": "code",
      "source": [
        "name = input(\"What's your name? \")\n",
        "print(\"Nice to meet you \" + name + \"!\")\n",
        "age = input(\"Your age? \")\n",
        "print(\"You are already \" + age + \" years old, \" + name + \"!\")"
      ],
      "metadata": {
        "colab": {
          "base_uri": "https://localhost:8080/"
        },
        "id": "UdPCVyir2sAR",
        "outputId": "5d2fe17f-6c31-41a4-9c68-26ec35df5161"
      },
      "execution_count": null,
      "outputs": [
        {
          "output_type": "stream",
          "name": "stdout",
          "text": [
            "What's your name? Bao\n",
            "Nice to meet you Bao!\n",
            "Your age? 23\n",
            "You are already 23 years old, Bao!\n"
          ]
        }
      ]
    },
    {
      "cell_type": "markdown",
      "source": [
        "Có thể kết hợp chuyển kiểu nếu muốn tường minh"
      ],
      "metadata": {
        "id": "TGtEsHvo2zga"
      }
    },
    {
      "cell_type": "code",
      "source": [
        "age = int(input(\"Your age? \"))\n",
        "print(\"You are already %d years old!\", age)"
      ],
      "metadata": {
        "colab": {
          "base_uri": "https://localhost:8080/"
        },
        "id": "vDCbsS2o205c",
        "outputId": "63a9d3d7-8d24-40f9-951f-4a6923905e96"
      },
      "execution_count": null,
      "outputs": [
        {
          "output_type": "stream",
          "name": "stdout",
          "text": [
            "Your age? 22\n",
            "You are already %d years old! 22\n"
          ]
        }
      ]
    },
    {
      "cell_type": "markdown",
      "source": [
        "### 5. Ví dụ minh hoạ"
      ],
      "metadata": {
        "id": "5qUKv_Hl3uvh"
      }
    },
    {
      "cell_type": "markdown",
      "source": [
        "Giải phương trình bậc 2"
      ],
      "metadata": {
        "id": "vIiM_-sA3x9x"
      }
    },
    {
      "cell_type": "code",
      "source": [
        "#Nhập a,b,c kiểu số thực và tính delta\n",
        "a = float(input(\"A = \"))\n",
        "b = float(input(\"B = \"))\n",
        "c = float(input(\"C = \"))\n",
        "delta = b*b-4*a*c"
      ],
      "metadata": {
        "colab": {
          "base_uri": "https://localhost:8080/"
        },
        "id": "APw4zq0130sK",
        "outputId": "6ce7ccdb-f521-4dec-fef3-9d984692c33c"
      },
      "execution_count": null,
      "outputs": [
        {
          "name": "stdout",
          "output_type": "stream",
          "text": [
            "A = 2\n",
            "B = 3\n",
            "C = 5\n"
          ]
        }
      ]
    },
    {
      "cell_type": "code",
      "source": [
        "#Biện luận các trường hợp của delta\n",
        "if delta==0:\n",
        "  print(\"Nghiem kep: x = \", str(-b/2/a))"
      ],
      "metadata": {
        "id": "OVMtIUQd38pY"
      },
      "execution_count": null,
      "outputs": []
    },
    {
      "cell_type": "code",
      "source": [
        "#Các khối lệnh con được viết thụt vào so với khối cha\n",
        "if delta<0:\n",
        "  print(\"Phuong trinh vo nghiem\")"
      ],
      "metadata": {
        "colab": {
          "base_uri": "https://localhost:8080/"
        },
        "id": "LOglEXqd4BBw",
        "outputId": "0d0ea0c3-b3f2-4eba-9240-057a7051bd66"
      },
      "execution_count": null,
      "outputs": [
        {
          "output_type": "stream",
          "name": "stdout",
          "text": [
            "Phuong trinh vo nghiem\n"
          ]
        }
      ]
    },
    {
      "cell_type": "code",
      "source": [
        "#Tính căn bậc 2 bằng phép lũy thừa 0.5\n",
        "if delta>0:\n",
        "  print(\"X1 = \" + str((-b+delta**0.5)/2/a))\n",
        "  print(\"X2 = \" + str((-b-delta**0.5)/2/a))"
      ],
      "metadata": {
        "id": "tlxt-uKT4BdK"
      },
      "execution_count": null,
      "outputs": []
    },
    {
      "cell_type": "markdown",
      "source": [
        "## Bài 2: Kiểu dữ liệu & phép toán"
      ],
      "metadata": {
        "id": "fQ1eVxv38T89"
      }
    },
    {
      "cell_type": "markdown",
      "source": [
        "### 1. Kiểu dữ liệu và phép toán liên quan"
      ],
      "metadata": {
        "id": "T5gkGok28Xnd"
      }
    },
    {
      "cell_type": "markdown",
      "source": [
        "#### Kiếu số"
      ],
      "metadata": {
        "id": "k8PjV8iIA574"
      }
    },
    {
      "cell_type": "markdown",
      "source": [
        "Python viết số nguyên theo nhiều hệ cơ số"
      ],
      "metadata": {
        "id": "zaR7ocWcA7ph"
      }
    },
    {
      "cell_type": "code",
      "source": [
        "A = 1234 # hệ cơ số 10\n",
        "B = 0xAF1 # hệ cơ số 16\n",
        "C = 0o772 # hệ cơ số 8\n",
        "D = 0b1001 # hệ cơ số 2\n",
        "\n",
        "sources = {\n",
        "    \"A\": \"1234\",\n",
        "    \"B\": \"0xAF1\",\n",
        "    \"C\": \"0o772\",\n",
        "    \"D\": \"0b1001\"\n",
        "}\n",
        "\n",
        "def detect_base(num_str):\n",
        "    if num_str.startswith((\"0x\", \"0X\")):\n",
        "        return 16\n",
        "    elif num_str.startswith((\"0o\", \"0O\")):\n",
        "        return 8\n",
        "    elif num_str.startswith((\"0b\", \"0B\")):\n",
        "        return 2\n",
        "    else:\n",
        "        return 10\n",
        "\n",
        "# Duyệt qua các biến\n",
        "for name, literal in sources.items():\n",
        "    base = detect_base(literal)\n",
        "    value = eval(name)   # lấy giá trị thực tế từ biến A, B, C, D\n",
        "    print(f\"{name} = {literal} , hệ cơ số {base}\")\n"
      ],
      "metadata": {
        "colab": {
          "base_uri": "https://localhost:8080/"
        },
        "id": "O-pbX2uo8qUl",
        "outputId": "cefb9fb5-6ca3-4245-f063-5d13d115f7fe"
      },
      "execution_count": 50,
      "outputs": [
        {
          "output_type": "stream",
          "name": "stdout",
          "text": [
            "A = 1234 , hệ cơ số 10\n",
            "B = 0xAF1 , hệ cơ số 16\n",
            "C = 0o772 , hệ cơ số 8\n",
            "D = 0b1001 , hệ cơ số 2\n"
          ]
        }
      ]
    },
    {
      "cell_type": "markdown",
      "source": [
        "Chuyển đổi từ số nguyên thành string ở các hệ cơ\n",
        "số khác nhau"
      ],
      "metadata": {
        "id": "0IDjBYNlA9X4"
      }
    },
    {
      "cell_type": "code",
      "source": [
        "K = str(1234) # chuyển thành str ở hệ cơ số 10\n",
        "L = hex(1234) # chuyển thành str ở hệ cơ số 16\n",
        "M = oct(1234) # chuyển thành str ở hệ cơ số 8\n",
        "N = bin(1234) # chuyển thành str ở hệ cơ số 2\n",
        "print(\"K (thập phân):\", K)\n",
        "print(\"L (hex):\", L)\n",
        "print(\"M (oct):\", M)\n",
        "print(\"N (bin):\", N)"
      ],
      "metadata": {
        "colab": {
          "base_uri": "https://localhost:8080/"
        },
        "id": "xcmRI2Vs97zM",
        "outputId": "037d10a4-05ef-4970-e411-ec7b69625f3e"
      },
      "execution_count": 47,
      "outputs": [
        {
          "output_type": "stream",
          "name": "stdout",
          "text": [
            "K (thập phân): 1234\n",
            "L (hex): 0x4d2\n",
            "M (oct): 0o2322\n",
            "N (bin): 0b10011010010\n"
          ]
        }
      ]
    },
    {
      "cell_type": "markdown",
      "source": [
        "Số thực (float) trong python có thể viết kiểu thông thường hoặc dạng khoa học"
      ],
      "metadata": {
        "id": "X7crHLMC-WuD"
      }
    },
    {
      "cell_type": "code",
      "source": [
        "X = 12.34\n",
        "print(f'{X}, data type = {type(X)}')\n",
        "Y = 314.15279e-2 # dạng số nguyên và phần mũ 10\n",
        "print(f'{Y}, data type = {type(Y)}')"
      ],
      "metadata": {
        "colab": {
          "base_uri": "https://localhost:8080/"
        },
        "id": "vOAyAu6RBji3",
        "outputId": "042dfd9a-e248-4f01-d7df-ffb7d6f346e9"
      },
      "execution_count": 51,
      "outputs": [
        {
          "output_type": "stream",
          "name": "stdout",
          "text": [
            "12.34, data type = <class 'float'>\n",
            "3.1415279, data type = <class 'float'>\n"
          ]
        }
      ]
    },
    {
      "cell_type": "code",
      "source": [
        "Python hỗ trợ kiểu số phức, với chữ j đại diện cho phần ảo"
      ],
      "metadata": {
        "id": "IOl6OF0RCURf"
      },
      "execution_count": null,
      "outputs": []
    },
    {
      "cell_type": "code",
      "source": [
        "A = 3+4j\n",
        "print(f'{A}, data type = {type(A)}')\n",
        "B = 2-2j\n",
        "print(f'{B}, data type = {type(B)}')\n",
        "print(A+B) # sẽ in ra (5+2j)"
      ],
      "metadata": {
        "colab": {
          "base_uri": "https://localhost:8080/"
        },
        "id": "SCCeQHhIB2g4",
        "outputId": "fda86965-8224-4d8c-a216-2dec0e04915d"
      },
      "execution_count": 54,
      "outputs": [
        {
          "output_type": "stream",
          "name": "stdout",
          "text": [
            "(3+4j), data type = <class 'complex'>\n",
            "(2-2j), data type = <class 'complex'>\n",
            "(5+2j)\n"
          ]
        }
      ]
    },
    {
      "cell_type": "markdown",
      "source": [
        "Chia đúng (/)"
      ],
      "metadata": {
        "id": "hphNNIMKC0ov"
      }
    },
    {
      "cell_type": "code",
      "source": [
        "10/3 # 3.3333333333333335"
      ],
      "metadata": {
        "colab": {
          "base_uri": "https://localhost:8080/"
        },
        "id": "q_cVO_1iCmO4",
        "outputId": "c4f02161-a3a3-441e-98d3-aaf56f5832e4"
      },
      "execution_count": 57,
      "outputs": [
        {
          "output_type": "execute_result",
          "data": {
            "text/plain": [
              "3.3333333333333335"
            ]
          },
          "metadata": {},
          "execution_count": 57
        }
      ]
    },
    {
      "cell_type": "markdown",
      "source": [
        "Chia nguyên (//)"
      ],
      "metadata": {
        "id": "EoI48VZpCu2-"
      }
    },
    {
      "cell_type": "code",
      "source": [
        "10//3 # 3 (nhanh hơn phép /)"
      ],
      "metadata": {
        "colab": {
          "base_uri": "https://localhost:8080/"
        },
        "id": "1Df9lWNACxSX",
        "outputId": "efaa72cc-aaf3-4dc1-c7af-b059ab2c0ff5"
      },
      "execution_count": 56,
      "outputs": [
        {
          "output_type": "execute_result",
          "data": {
            "text/plain": [
              "3"
            ]
          },
          "metadata": {},
          "execution_count": 56
        }
      ]
    },
    {
      "cell_type": "markdown",
      "source": [
        "Phép kiểm tra tập"
      ],
      "metadata": {
        "id": "8E0K69BXDAK3"
      }
    },
    {
      "cell_type": "code",
      "source": [
        "1 in [1, 2, 3]"
      ],
      "metadata": {
        "colab": {
          "base_uri": "https://localhost:8080/"
        },
        "id": "EKqr1mzMC9X3",
        "outputId": "41922b89-467c-4488-f224-9df33f4554a2"
      },
      "execution_count": 58,
      "outputs": [
        {
          "output_type": "execute_result",
          "data": {
            "text/plain": [
              "True"
            ]
          },
          "metadata": {},
          "execution_count": 58
        }
      ]
    },
    {
      "cell_type": "markdown",
      "source": [
        "### 2. Cấu trúc rẽ nhánh"
      ],
      "metadata": {
        "id": "kOrNvXBP8clk"
      }
    },
    {
      "cell_type": "code",
      "source": [
        "name = input(\"What's your name? \")\n",
        "print(\"Nice to meet you \" + name + \"!\")\n",
        "age = int(input(\"Your age? \"))\n",
        "print(\"You are already\", age, \"years old,\",\n",
        "name, \"!\")\n",
        "if age>=18:\n",
        "\n",
        "print(\"Đủ tuổi đi bầu cử\")\n",
        "if age>100:\n",
        "\n",
        "print(\"Có vẻ sai sai!\")\n",
        "\n",
        "else:\n",
        "\n",
        "print(\"Nhỏ quá\")"
      ],
      "metadata": {
        "id": "MaXxJrLyDFx-"
      },
      "execution_count": null,
      "outputs": []
    },
    {
      "cell_type": "markdown",
      "source": [
        "### 3. Vòng lặp"
      ],
      "metadata": {
        "id": "rebd47w98erV"
      }
    },
    {
      "cell_type": "markdown",
      "source": [
        "### 4. Hàm"
      ],
      "metadata": {
        "id": "ZT7oraBz8gTk"
      }
    },
    {
      "cell_type": "markdown",
      "source": [
        "### 5. Bài tập"
      ],
      "metadata": {
        "id": "cAY1NVn98iys"
      }
    },
    {
      "cell_type": "markdown",
      "source": [
        "# Kết thúc"
      ],
      "metadata": {
        "id": "ogZ4KGyBAWLZ"
      }
    }
  ]
}