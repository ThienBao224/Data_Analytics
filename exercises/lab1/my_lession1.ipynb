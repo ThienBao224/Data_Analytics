{
 "cells": [
  {
   "cell_type": "markdown",
   "id": "91b1fecc",
   "metadata": {},
   "source": [
    "# “Thuc hanh tri tue nhan tao Buoi 1”\n",
    "## “Noi dung thuc hanh”"
   ]
  },
  {
   "cell_type": "markdown",
   "id": "ad88e53b",
   "metadata": {},
   "source": [
    "### In chu ra man hinh"
   ]
  },
  {
   "cell_type": "code",
   "execution_count": 1,
   "id": "3e7e3f98",
   "metadata": {},
   "outputs": [
    {
     "name": "stdout",
     "output_type": "stream",
     "text": [
      "Hello, Python World!\n",
      "Hello, Python World!\n"
     ]
    }
   ],
   "source": [
    "# lenh 1 - xuat chu\n",
    "print(\"Hello, Python World!\")\n",
    "%run ex0_hello_world.py"
   ]
  },
  {
   "cell_type": "markdown",
   "id": "fc9623a0",
   "metadata": {},
   "source": [
    "### Bài 4. Tính toán đơn giản"
   ]
  },
  {
   "cell_type": "code",
   "execution_count": 1,
   "id": "34bf0c40",
   "metadata": {},
   "outputs": [
    {
     "name": "stdout",
     "output_type": "stream",
     "text": [
      "Calculator Basic\n",
      "c = 5 + 8 = 13\n"
     ]
    }
   ],
   "source": [
    "%run ex1_calc.py"
   ]
  },
  {
   "cell_type": "markdown",
   "id": "cadd7e7d",
   "metadata": {},
   "source": [
    "### Bài 7. Tính chu vi và diện tích hình tròn:"
   ]
  },
  {
   "cell_type": "code",
   "execution_count": 5,
   "id": "6c0ef05a",
   "metadata": {},
   "outputs": [
    {
     "name": "stdout",
     "output_type": "stream",
     "text": [
      "Ban kinh r = 5.0\n",
      "Chu vi = 31.41592653589793\n",
      "Dien tich = 78.53981633974483\n"
     ]
    }
   ],
   "source": [
    "%run ex3_circle.py 5"
   ]
  },
  {
   "cell_type": "markdown",
   "id": "a01fade4",
   "metadata": {},
   "source": [
    "# Ket Thuc"
   ]
  },
  {
   "cell_type": "code",
   "execution_count": 1,
   "id": "4125e442",
   "metadata": {},
   "outputs": [
    {
     "name": "stderr",
     "output_type": "stream",
     "text": [
      "[NbConvertApp] Converting notebook my_lession1.ipynb to html\n",
      "[NbConvertApp] Writing 275246 bytes to my_lession1.html\n"
     ]
    }
   ],
   "source": [
    "!jupyter nbconvert --to html my_lession1.ipynb\n"
   ]
  }
 ],
 "metadata": {
  "kernelspec": {
   "display_name": "Python 3",
   "language": "python",
   "name": "python3"
  },
  "language_info": {
   "codemirror_mode": {
    "name": "ipython",
    "version": 3
   },
   "file_extension": ".py",
   "mimetype": "text/x-python",
   "name": "python",
   "nbconvert_exporter": "python",
   "pygments_lexer": "ipython3",
   "version": "3.11.9"
  }
 },
 "nbformat": 4,
 "nbformat_minor": 5
}
