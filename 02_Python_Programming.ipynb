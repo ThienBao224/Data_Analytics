{
  "cells": [
    {
      "cell_type": "markdown",
      "metadata": {
        "id": "view-in-github",
        "colab_type": "text"
      },
      "source": [
        "<a href=\"https://colab.research.google.com/github/ThienBao224/Data_Analytics/blob/main/02_Python_Programming.ipynb\" target=\"_parent\"><img src=\"https://colab.research.google.com/assets/colab-badge.svg\" alt=\"Open In Colab\"/></a>"
      ]
    },
    {
      "cell_type": "markdown",
      "id": "935871f0",
      "metadata": {
        "id": "935871f0"
      },
      "source": [
        "# Python Programming"
      ]
    },
    {
      "cell_type": "markdown",
      "id": "704cebdc",
      "metadata": {
        "id": "704cebdc"
      },
      "source": [
        "## Python Hello World"
      ]
    },
    {
      "cell_type": "code",
      "execution_count": null,
      "id": "04f88a11",
      "metadata": {
        "id": "04f88a11",
        "outputId": "3578c81a-c425-4b4c-a87b-2073ddbee5f5"
      },
      "outputs": [
        {
          "name": "stdout",
          "output_type": "stream",
          "text": [
            "Hello World\n"
          ]
        }
      ],
      "source": [
        "print(\"Hello World\")"
      ]
    },
    {
      "cell_type": "markdown",
      "id": "decced2d",
      "metadata": {
        "id": "decced2d"
      },
      "source": [
        "## Python Syntax"
      ]
    },
    {
      "cell_type": "markdown",
      "id": "310a936c",
      "metadata": {
        "id": "310a936c"
      },
      "source": [
        "Comment"
      ]
    },
    {
      "cell_type": "code",
      "execution_count": null,
      "id": "6d9f851c",
      "metadata": {
        "id": "6d9f851c"
      },
      "outputs": [],
      "source": [
        " # comment"
      ]
    },
    {
      "cell_type": "markdown",
      "id": "f77b8d02",
      "metadata": {
        "id": "f77b8d02"
      },
      "source": [
        "Indentation the spaces at the beginning of a code line 4 space"
      ]
    },
    {
      "cell_type": "code",
      "execution_count": null,
      "id": "64d7ecc7",
      "metadata": {
        "id": "64d7ecc7",
        "outputId": "0b5b678c-4f20-43a8-a9b5-ca8bf6fdcc44"
      },
      "outputs": [
        {
          "name": "stdout",
          "output_type": "stream",
          "text": [
            "Pass\n"
          ]
        }
      ],
      "source": [
        "score = 80\n",
        "if score >=60 :\n",
        "    print(\"Pass\")\n"
      ]
    },
    {
      "cell_type": "markdown",
      "id": "d9ea908c",
      "metadata": {
        "id": "d9ea908c"
      },
      "source": [
        "## Python Variables"
      ]
    },
    {
      "cell_type": "code",
      "execution_count": null,
      "id": "dc9b7383",
      "metadata": {
        "id": "dc9b7383",
        "outputId": "542c50fe-02f0-44a7-ac8a-4960cd5814ef"
      },
      "outputs": [
        {
          "name": "stdout",
          "output_type": "stream",
          "text": [
            "2\n",
            "2.5\n",
            "Hello\n",
            "Hello\n",
            "Hello\n",
            "Hello\n"
          ]
        }
      ],
      "source": [
        "# Python Variables\n",
        "x = 2\n",
        "print(x)\n",
        "price = 2.5\n",
        "print(price)\n",
        "word = 'Hello'\n",
        "print(word)\n",
        "word = 'Hello'\n",
        "print(word)\n",
        "word = \"Hello\"\n",
        "print(word)\n",
        "word = '''Hello'''\n",
        "print(word)"
      ]
    },
    {
      "cell_type": "code",
      "execution_count": 5,
      "id": "00ddd6b3",
      "metadata": {
        "colab": {
          "base_uri": "https://localhost:8080/"
        },
        "id": "00ddd6b3",
        "outputId": "7abe62f4-c82d-4890-e4b5-8ce2bef69ebb"
      },
      "outputs": [
        {
          "output_type": "stream",
          "name": "stdout",
          "text": [
            "2, data type = <class 'int'>\n",
            "3, data type = <class 'int'>\n"
          ]
        }
      ],
      "source": [
        "x = 2\n",
        "print(f'{x}, data type = {type(x)}')\n",
        "y = x + 1\n",
        "print(f'{y}, data type = {type(y)}')"
      ]
    },
    {
      "cell_type": "markdown",
      "id": "9bd59949",
      "metadata": {
        "id": "9bd59949"
      },
      "source": [
        "## python_version()"
      ]
    },
    {
      "cell_type": "code",
      "execution_count": 6,
      "id": "55fbf2d5",
      "metadata": {
        "colab": {
          "base_uri": "https://localhost:8080/"
        },
        "id": "55fbf2d5",
        "outputId": "ee774990-55e5-4009-ebd3-0d3798e1fdc5"
      },
      "outputs": [
        {
          "output_type": "stream",
          "name": "stdout",
          "text": [
            "Python Version: 3.12.11\n"
          ]
        }
      ],
      "source": [
        "# comment\n",
        "from platform import python_version\n",
        "print(\"Python Version:\", python_version())"
      ]
    },
    {
      "cell_type": "markdown",
      "id": "9254074b",
      "metadata": {
        "id": "9254074b"
      },
      "source": [
        "## Python Data Types"
      ]
    },
    {
      "cell_type": "code",
      "execution_count": null,
      "id": "f25f51b8",
      "metadata": {
        "id": "f25f51b8",
        "outputId": "b6ab3ab3-d305-40b8-bca0-c90522b78ede"
      },
      "outputs": [
        {
          "name": "stdout",
          "output_type": "stream",
          "text": [
            "Hello World, data type = <class 'str'>\n",
            "2, data type = <class 'int'>\n",
            "2.5, data type = <class 'float'>\n",
            "7j, data type = <class 'complex'>\n"
          ]
        }
      ],
      "source": [
        "x = \"Hello World\" #str\n",
        "print(f'{x}, data type = {type(x)}')\n",
        "x = 2             #int\n",
        "print(f'{x}, data type = {type(x)}')\n",
        "x = 2.5         #float\n",
        "print(f'{x}, data type = {type(x)}')\n",
        "x = 7j          #complex\n",
        "print(f'{x}, data type = {type(x)}')"
      ]
    },
    {
      "cell_type": "code",
      "execution_count": null,
      "id": "bfedaeab",
      "metadata": {
        "id": "bfedaeab",
        "outputId": "5a4722ad-9eb8-46cf-a0e3-72f85736ad7c"
      },
      "outputs": [
        {
          "name": "stdout",
          "output_type": "stream",
          "text": [
            "['apple', 'banana', 'cherry'], data type = <class 'list'>\n",
            "('apple', 'banana', 'cherry'), data type = <class 'tuple'>\n",
            "range(0, 6), data type = <class 'range'>\n",
            "{'name': 'Tom', 'age': 20}, data type = <class 'dict'>\n",
            "{'apple', 'banana', 'cherry'}, data type = <class 'set'>\n",
            "frozenset({'banana', 'cherry', 'apple'}), data type = <class 'frozenset'>\n"
          ]
        }
      ],
      "source": [
        "x = [\"apple\", \"banana\", \"cherry\"]           #list\n",
        "print(f'{x}, data type = {type(x)}')\n",
        "x = (\"apple\", \"banana\", \"cherry\")           #tuple\n",
        "print(f'{x}, data type = {type(x)}')\n",
        "x = range(6)                                #range\n",
        "print(f'{x}, data type = {type(x)}')\n",
        "x = {\"name\": \"Tom\", \"age\": 20}               #dict\n",
        "print(f'{x}, data type = {type(x)}')\n",
        "x = {\"apple\", \"banana\", \"cherry\"}            #set\n",
        "print(f'{x}, data type = {type(x)}')\n",
        "x = frozenset({\"apple\", \"banana\", \"cherry\"})#frozenset\n",
        "print(f'{x}, data type = {type(x)}')"
      ]
    },
    {
      "cell_type": "code",
      "execution_count": null,
      "id": "d54b762c",
      "metadata": {
        "id": "d54b762c",
        "outputId": "2baa7fe4-1b51-4d09-f76f-ade35f858c8d"
      },
      "outputs": [
        {
          "name": "stdout",
          "output_type": "stream",
          "text": [
            "True, data type = <class 'bool'>\n",
            "b'Hello', data type = <class 'bytes'>\n",
            "bytearray(b'\\x00\\x00\\x00\\x00\\x00'), data type = <class 'bytearray'>\n",
            "<memory at 0x0000026B7BC3B280>, data type = <class 'memoryview'>\n",
            "None, data type = <class 'NoneType'>\n"
          ]
        }
      ],
      "source": [
        "x = True                #bool\n",
        "print(f'{x}, data type = {type(x)}')\n",
        "x = b\"Hello\"            #bytes\n",
        "print(f'{x}, data type = {type(x)}')\n",
        "x = bytearray(5)        #bytearray\n",
        "print(f'{x}, data type = {type(x)}')\n",
        "x = memoryview(bytes(5)) #memoryview\n",
        "print(f'{x}, data type = {type(x)}')\n",
        "x = None                 #NoneType\n",
        "print(f'{x}, data type = {type(x)}')\n"
      ]
    },
    {
      "cell_type": "markdown",
      "id": "a88d938d",
      "metadata": {
        "id": "a88d938d"
      },
      "source": [
        "## Python Casting"
      ]
    },
    {
      "cell_type": "code",
      "execution_count": null,
      "id": "591376ae",
      "metadata": {
        "id": "591376ae",
        "outputId": "7fb00395-585e-4852-f72a-7ec411c6c054"
      },
      "outputs": [
        {
          "name": "stdout",
          "output_type": "stream",
          "text": [
            "3 <class 'str'>\n",
            "3 <class 'int'>\n",
            "3.0 <class 'float'>\n"
          ]
        }
      ],
      "source": [
        "x = str(3) # x will be '3'\n",
        "y = int(3) # y will be 3\n",
        "z = float(3) # z will be 3.0\n",
        "print(x, type(x))\n",
        "print(y, type(y))\n",
        "print(z, type(z))"
      ]
    },
    {
      "cell_type": "markdown",
      "id": "ba69f7eb",
      "metadata": {
        "id": "ba69f7eb"
      },
      "source": [
        "## Python Numbers"
      ]
    },
    {
      "cell_type": "code",
      "execution_count": null,
      "id": "5416af04",
      "metadata": {
        "id": "5416af04",
        "outputId": "f345b83a-c72e-47b8-b0ac-b0712f8d27a1"
      },
      "outputs": [
        {
          "name": "stdout",
          "output_type": "stream",
          "text": [
            "2 <class 'int'>\n",
            "3.4 <class 'float'>\n",
            "7j <class 'complex'>\n"
          ]
        }
      ],
      "source": [
        "x = 2# int\n",
        "y = 3.4# float\n",
        "z = 7j #complex\n",
        "print(x, type(x))\n",
        "print(y, type(y))\n",
        "print(z, type(z))"
      ]
    },
    {
      "cell_type": "markdown",
      "id": "1e09edc5",
      "metadata": {
        "id": "1e09edc5"
      },
      "source": [
        "## Python Basic Operators"
      ]
    },
    {
      "cell_type": "code",
      "execution_count": null,
      "id": "4337bbd8",
      "metadata": {
        "id": "4337bbd8",
        "outputId": "009e2397-7ec6-445b-cfc0-f85d5bead043"
      },
      "outputs": [
        {
          "name": "stdout",
          "output_type": "stream",
          "text": [
            "7 + 2 = 9\n",
            "7 -2 = 5\n",
            "7 * 2 = 14\n",
            "7 / 2 = 3.5\n",
            "7 // 2 = 3\n",
            "7 % 2 = 1\n",
            "7 ** 2 = 49\n"
          ]
        }
      ],
      "source": [
        "print('7 + 2 =', 7+ 2)\n",
        "print('7 -2 =', 7-2)\n",
        "print('7 * 2 =', 7* 2)\n",
        "print('7 / 2 =', 7/ 2)\n",
        "print('7 // 2 =', 7// 2)\n",
        "print('7 % 2 =', 7% 2)\n",
        "print('7 ** 2 =', 7** 2)"
      ]
    },
    {
      "cell_type": "markdown",
      "id": "2ee9ccb5",
      "metadata": {
        "id": "2ee9ccb5"
      },
      "source": [
        "## Python Booleans:  True or False"
      ]
    },
    {
      "cell_type": "code",
      "execution_count": null,
      "id": "303c6e6d",
      "metadata": {
        "id": "303c6e6d",
        "outputId": "839666c4-4e97-4071-9a7e-b0c2565d10c7"
      },
      "outputs": [
        {
          "name": "stdout",
          "output_type": "stream",
          "text": [
            "True\n",
            "False\n",
            "False\n"
          ]
        }
      ],
      "source": [
        "# Python Booleans: True or False\n",
        "print(3 > 2)\n",
        "print(3 == 2)\n",
        "print(3 < 2)"
      ]
    },
    {
      "cell_type": "markdown",
      "id": "730e8786",
      "metadata": {
        "id": "730e8786"
      },
      "source": [
        "## Python BMI Calculator"
      ]
    },
    {
      "cell_type": "code",
      "execution_count": null,
      "id": "f9a34113",
      "metadata": {
        "id": "f9a34113",
        "outputId": "34bc56ea-8502-4d93-86f9-5dc707c440e9"
      },
      "outputs": [
        {
          "name": "stdout",
          "output_type": "stream",
          "text": [
            "Your BMI is: 20.8\n"
          ]
        }
      ],
      "source": [
        "# BMI Calculator in Python\n",
        "height_cm= 170\n",
        "weight_kg= 60\n",
        "height_m= height_cm/100\n",
        "BMI = (weight_kg/(height_m**2))\n",
        "print(\"Your BMI is: \" + str(round(BMI,1)))"
      ]
    },
    {
      "cell_type": "markdown",
      "id": "d2b43edd",
      "metadata": {
        "id": "d2b43edd"
      },
      "source": [
        "##  Future value of a specified principal amount, rate of interest, and a number of years"
      ]
    },
    {
      "cell_type": "markdown",
      "id": "e6f145d9",
      "metadata": {
        "id": "e6f145d9"
      },
      "source": [
        "How much is your $100 worth after 7 years?"
      ]
    },
    {
      "cell_type": "code",
      "execution_count": null,
      "id": "bcbd7610",
      "metadata": {
        "id": "bcbd7610",
        "outputId": "18c29b91-c47a-4e01-bce1-f27eade3d138"
      },
      "outputs": [
        {
          "name": "stdout",
          "output_type": "stream",
          "text": [
            "fv =  194.87\n"
          ]
        }
      ],
      "source": [
        "# How much is your $100 worth after 7 years?\n",
        "fv = 100 * 1.1 ** 7\n",
        "print('fv = ', round(fv, 2))\n",
        "# output = 194.87"
      ]
    },
    {
      "cell_type": "markdown",
      "id": "d1d3e1eb",
      "metadata": {
        "id": "d1d3e1eb"
      },
      "source": [
        "## Future Value"
      ]
    },
    {
      "cell_type": "code",
      "execution_count": null,
      "id": "06e05f2c",
      "metadata": {
        "id": "06e05f2c",
        "outputId": "ed5a1a0c-98cb-49c9-e1f3-e0a17511cc53"
      },
      "outputs": [
        {
          "name": "stdout",
          "output_type": "stream",
          "text": [
            "194.87\n"
          ]
        }
      ],
      "source": [
        "# Future Value\n",
        "pv= 100\n",
        "r = 0.1\n",
        "n = 7\n",
        "fv= pv * ((1+ (r)) ** n)\n",
        "print(round(fv, 2))"
      ]
    },
    {
      "cell_type": "code",
      "execution_count": null,
      "id": "f7b45896",
      "metadata": {
        "id": "f7b45896",
        "outputId": "77bb81a7-0c8a-4e7c-c0b0-cd903c5213ff"
      },
      "outputs": [
        {
          "name": "stdout",
          "output_type": "stream",
          "text": [
            "194.87\n"
          ]
        }
      ],
      "source": [
        "# Future Value\n",
        "amount = 100\n",
        "interest = 10 #10% = 0.01 * 10\n",
        "years = 7\n",
        "future_value = amount * ((1 + (0.01 * interest)) ** years)\n",
        "print(round(future_value, 2))"
      ]
    },
    {
      "cell_type": "markdown",
      "id": "1bd81b35",
      "metadata": {
        "id": "1bd81b35"
      },
      "source": [
        "# Python Data Structures\n"
      ]
    },
    {
      "cell_type": "markdown",
      "id": "df6acfeb",
      "metadata": {
        "id": "df6acfeb"
      },
      "source": [
        "## Python Data Types"
      ]
    },
    {
      "cell_type": "code",
      "execution_count": null,
      "id": "caa82395",
      "metadata": {
        "id": "caa82395",
        "outputId": "f743be86-57ca-49bf-bd7c-203d9da911d6"
      },
      "outputs": [
        {
          "name": "stdout",
          "output_type": "stream",
          "text": [
            "['apple', 'banana', 'cherry'], data type = <class 'list'>\n",
            "('apple', 'banana', 'cherry'), data type = <class 'tuple'>\n",
            "{'name': 'Tom', 'age': 20}, data type = <class 'dict'>\n",
            "{'apple', 'banana', 'cherry'}, data type = <class 'set'>\n"
          ]
        }
      ],
      "source": [
        "x = [\"apple\", \"banana\", \"cherry\"]   #list\n",
        "print(f'{x}, data type = {type(x)}')\n",
        "x = (\"apple\", \"banana\", \"cherry\")   #tuple\n",
        "print(f'{x}, data type = {type(x)}')\n",
        "x = {\"name\" : \"Tom\", \"age\" : 20}    #dict\n",
        "print(f'{x}, data type = {type(x)}')\n",
        "x = {\"apple\", \"banana\", \"cherry\"}   #set\n",
        "print(f'{x}, data type = {type(x)}')"
      ]
    },
    {
      "cell_type": "markdown",
      "id": "094ce8e8",
      "metadata": {
        "id": "094ce8e8"
      },
      "source": [
        "## Lists []"
      ]
    },
    {
      "cell_type": "code",
      "execution_count": null,
      "id": "3dc013b2",
      "metadata": {
        "id": "3dc013b2",
        "outputId": "ff709248-6cbb-4af4-d8df-53f14aae63d6"
      },
      "outputs": [
        {
          "name": "stdout",
          "output_type": "stream",
          "text": [
            "4\n",
            "60\n",
            "70\n",
            "90\n"
          ]
        }
      ],
      "source": [
        "x = [60, 70, 80, 90]\n",
        "print(len(x))\n",
        "print(x[0])\n",
        "print(x[1])\n",
        "print(x[-1])"
      ]
    },
    {
      "cell_type": "markdown",
      "id": "487ff27a",
      "metadata": {
        "id": "487ff27a"
      },
      "source": [
        "## Tuples ()"
      ]
    },
    {
      "cell_type": "markdown",
      "id": "9169a191",
      "metadata": {
        "id": "9169a191"
      },
      "source": [
        "A tuplein Python is a collection that cannot be modified.\n",
        "A tuple is defined using parenthesis."
      ]
    },
    {
      "cell_type": "code",
      "execution_count": null,
      "id": "26eebec2",
      "metadata": {
        "id": "26eebec2",
        "outputId": "1dc53745-5aa4-455e-c52f-6b0c8ed8f82e"
      },
      "outputs": [
        {
          "name": "stdout",
          "output_type": "stream",
          "text": [
            "10\n",
            "20\n",
            "30\n",
            "50\n"
          ]
        }
      ],
      "source": [
        "x = (10, 20, 30, 40, 50)\n",
        "print(x[0])\n",
        "print(x[1])\n",
        "print(x[2])\n",
        "print(x[-1])"
      ]
    },
    {
      "cell_type": "markdown",
      "id": "66453e29",
      "metadata": {
        "id": "66453e29"
      },
      "source": [
        "## Sets {}"
      ]
    },
    {
      "cell_type": "code",
      "execution_count": null,
      "id": "217a0146",
      "metadata": {
        "id": "217a0146",
        "outputId": "31e9a6a8-4cbe-4ff6-f28f-716f5d37a81b"
      },
      "outputs": [
        {
          "name": "stdout",
          "output_type": "stream",
          "text": [
            "True\n",
            "False\n",
            "True\n",
            "3\n",
            "3\n",
            "2\n"
          ]
        }
      ],
      "source": [
        "animals = {'cat', 'dog'}\n",
        "print('cat'in animals)\n",
        "print('fish'in animals)\n",
        "animals.add('fish')\n",
        "print('fish'in animals)\n",
        "print(len(animals))\n",
        "animals.add('cat')\n",
        "print(len(animals))\n",
        "animals.remove('cat')\n",
        "print(len(animals))"
      ]
    },
    {
      "cell_type": "markdown",
      "id": "81cae3b1",
      "metadata": {
        "id": "81cae3b1"
      },
      "source": [
        "## Dictionary {key : value}"
      ]
    },
    {
      "cell_type": "code",
      "execution_count": null,
      "id": "3e034b74",
      "metadata": {
        "id": "3e034b74",
        "outputId": "97a9c6f4-c12e-44a1-ca0f-95e8413b5c27"
      },
      "outputs": [
        {
          "name": "stdout",
          "output_type": "stream",
          "text": [
            "English\n"
          ]
        }
      ],
      "source": [
        "k = { 'EN':'English', 'FR':'French'}\n",
        "print(k['EN'])"
      ]
    },
    {
      "cell_type": "markdown",
      "id": "35449cce",
      "metadata": {
        "id": "35449cce"
      },
      "source": [
        "## Python Data Structures"
      ]
    },
    {
      "cell_type": "code",
      "execution_count": null,
      "id": "b2c112a1",
      "metadata": {
        "id": "b2c112a1",
        "outputId": "11720942-d363-40e5-ee67-70bef85608fe"
      },
      "outputs": [
        {
          "name": "stdout",
          "output_type": "stream",
          "text": [
            "['apple', 'banana', 'cherry'], data type = <class 'list'>\n",
            "('red', 'green', 'blue'), data type = <class 'tuple'>\n",
            "{'dog', 'cat'}, data type = <class 'set'>\n",
            "{'name': 'Tom', 'age': 20}, data type = <class 'dict'>\n"
          ]
        }
      ],
      "source": [
        "fruits = [\"apple\", \"banana\", \"cherry\"] #lists []\n",
        "print(f'{fruits}, data type = {type(fruits)}')\n",
        "colors = (\"red\", \"green\", \"blue\")      #tuples ()\n",
        "print(f'{colors}, data type = {type(colors)}')\n",
        "animals = {'cat', 'dog'}               #sets {}\n",
        "print(f'{animals}, data type = {type(animals)}')\n",
        "person = {\"name\" : \"Tom\", \"age\" : 20}  #dictionaries {}\n",
        "print(f'{person}, data type = {type(person)}')"
      ]
    },
    {
      "cell_type": "markdown",
      "id": "5454bfb2",
      "metadata": {
        "id": "5454bfb2"
      },
      "source": [
        "## Python for Finance Applications\n"
      ]
    },
    {
      "cell_type": "markdown",
      "id": "22753b8f",
      "metadata": {
        "id": "22753b8f"
      },
      "source": [
        "**Lists**"
      ]
    },
    {
      "cell_type": "code",
      "execution_count": null,
      "id": "733ab143",
      "metadata": {
        "id": "733ab143",
        "outputId": "dc9c8547-116a-48eb-94bf-9d3b83ddf5cd"
      },
      "outputs": [
        {
          "name": "stdout",
          "output_type": "stream",
          "text": [
            "Total expenses: 293.5\n"
          ]
        }
      ],
      "source": [
        "# Python Lists\n",
        "expenses = [72.50, 80.75, 50.00, 90.25]\n",
        "total_expenses = sum(expenses)\n",
        "print(\"Total expenses:\", total_expenses)"
      ]
    },
    {
      "cell_type": "markdown",
      "id": "626305fd",
      "metadata": {
        "id": "626305fd"
      },
      "source": [
        "**Tuples**"
      ]
    },
    {
      "cell_type": "code",
      "execution_count": null,
      "id": "d23c2346",
      "metadata": {
        "id": "d23c2346",
        "outputId": "7c8de663-6207-4b88-b148-86b5f5e76116"
      },
      "outputs": [
        {
          "name": "stdout",
          "output_type": "stream",
          "text": [
            "Account name: Cash Account number: 1001\n",
            "Account name: Accounts Receivable Account number: 1002\n",
            "Account name: Inventory Account number: 1003\n"
          ]
        }
      ],
      "source": [
        "# Python Tuples\n",
        "accounts = ((\"Cash\", 1001), (\"Accounts Receivable\", 1002),\n",
        "(\"Inventory\", 1003))\n",
        "for account in accounts:\n",
        "    print(\"Account name:\", account[0], \"Account number:\", account[1])"
      ]
    },
    {
      "cell_type": "markdown",
      "id": "e864596d",
      "metadata": {
        "id": "e864596d"
      },
      "source": [
        "**Sets**"
      ]
    },
    {
      "cell_type": "code",
      "execution_count": null,
      "id": "c084d105",
      "metadata": {
        "id": "c084d105",
        "outputId": "bc90d6b4-9d13-45dc-9b27-acc04ff1dc89"
      },
      "outputs": [
        {
          "name": "stdout",
          "output_type": "stream",
          "text": [
            "Account number 1004 is not in use.\n"
          ]
        }
      ],
      "source": [
        "# Python Sets\n",
        "account_numbers = {1001, 1002, 1003}\n",
        "new_account_number = 1004\n",
        "if new_account_number not in account_numbers:\n",
        "    print(\"Account number\", new_account_number, \"is not in use.\")"
      ]
    },
    {
      "cell_type": "markdown",
      "id": "af4e5f9f",
      "metadata": {
        "id": "af4e5f9f"
      },
      "source": [
        "**Dictionaries**"
      ]
    },
    {
      "cell_type": "code",
      "execution_count": null,
      "id": "7947f1bf",
      "metadata": {
        "id": "7947f1bf",
        "outputId": "6c7b6511-d1fa-47a7-c9c8-ae6702d7f532"
      },
      "outputs": [
        {
          "name": "stdout",
          "output_type": "stream",
          "text": [
            "Account number: 1001\n",
            "Account name: Cash\n",
            "Account balance: 500.0\n",
            "Account type: Asset\n",
            "Account number: 1002\n",
            "Account name: Accounts Receivable\n",
            "Account balance: 1000.0\n",
            "Account type: Asset\n",
            "Account number: 2001\n",
            "Account name: Accounts Payable\n",
            "Account balance: 750.0\n",
            "Account type: Liability\n"
          ]
        }
      ],
      "source": [
        "# Python Dictionaries\n",
        "accounts = {\"1001\": {\"name\": \"Cash\", \"balance\": 500.00, \"type\": \"Asset\"},\n",
        "\"1002\": {\"name\": \"Accounts Receivable\", \"balance\": 1000.00, \"type\": \"Asset\"},\n",
        "\"2001\": {\"name\": \"Accounts Payable\", \"balance\": 750.00, \"type\": \"Liability\"}}\n",
        "for account_number, account_info in accounts.items():\n",
        "    print(\"Account number:\", account_number)\n",
        "    print(\"Account name:\", account_info[\"name\"])\n",
        "    print(\"Account balance:\", account_info[\"balance\"])\n",
        "    print(\"Account type:\", account_info[\"type\"])"
      ]
    },
    {
      "cell_type": "markdown",
      "id": "a58458fc",
      "metadata": {
        "id": "a58458fc"
      },
      "source": [
        "# Python Control Logic and Loops\n"
      ]
    },
    {
      "cell_type": "markdown",
      "id": "db38c600",
      "metadata": {
        "id": "db38c600"
      },
      "source": [
        "## Python if"
      ]
    },
    {
      "cell_type": "code",
      "execution_count": null,
      "id": "da2a5c13",
      "metadata": {
        "id": "da2a5c13",
        "outputId": "04a4499d-3b69-44e4-c170-9c821054a826"
      },
      "outputs": [
        {
          "name": "stdout",
          "output_type": "stream",
          "text": [
            "Pass\n"
          ]
        }
      ],
      "source": [
        "# Python if\n",
        "score = 80\n",
        "if score >=60:\n",
        "    print(\"Pass\")"
      ]
    },
    {
      "cell_type": "markdown",
      "id": "c7ea7a07",
      "metadata": {
        "id": "c7ea7a07"
      },
      "source": [
        "## Python if else"
      ]
    },
    {
      "cell_type": "code",
      "execution_count": null,
      "id": "fd029280",
      "metadata": {
        "id": "fd029280",
        "outputId": "14666895-b692-4a42-d0ec-12328eee0955"
      },
      "outputs": [
        {
          "name": "stdout",
          "output_type": "stream",
          "text": [
            "Pass\n"
          ]
        }
      ],
      "source": [
        "# Python if else\n",
        "score = 80\n",
        "if score >=60:\n",
        "    print(\"Pass\")\n",
        "else:\n",
        "    print(\"Fail\")"
      ]
    },
    {
      "cell_type": "markdown",
      "id": "1bc35f01",
      "metadata": {
        "id": "1bc35f01"
      },
      "source": [
        "## Python if elif else"
      ]
    },
    {
      "cell_type": "code",
      "execution_count": null,
      "id": "63c148a7",
      "metadata": {
        "id": "63c148a7",
        "outputId": "0c6656bf-ff9a-497d-a17e-d56da9cfec7f"
      },
      "outputs": [
        {
          "name": "stdout",
          "output_type": "stream",
          "text": [
            "A\n"
          ]
        }
      ],
      "source": [
        "score = 95\n",
        "if score >= 90:\n",
        "    print(\"A\")\n",
        "elif score >=60:\n",
        "    print(\"Pass\")\n",
        "else:\n",
        "    print(\"Fail\")"
      ]
    },
    {
      "cell_type": "code",
      "execution_count": null,
      "id": "e994707c",
      "metadata": {
        "id": "e994707c",
        "outputId": "b43a42ae-c38b-4d87-f3cb-e328e8e12157"
      },
      "outputs": [
        {
          "name": "stdout",
          "output_type": "stream",
          "text": [
            "A\n"
          ]
        }
      ],
      "source": [
        "# Python if elif else\n",
        "score = 90\n",
        "grade = \"\"\n",
        "if score >=90:\n",
        "    grade = \"A\"\n",
        "elif score >= 80:\n",
        "    grade = \"B\"\n",
        "elif score >= 70:\n",
        "    grade = \"C\"\n",
        "elif score >= 60:\n",
        "    grade = \"D\"\n",
        "else:\n",
        "    grade = \"E\"\n",
        "print(grade)"
      ]
    },
    {
      "cell_type": "markdown",
      "id": "884c2cda",
      "metadata": {
        "id": "884c2cda"
      },
      "source": [
        "## Python for Loops"
      ]
    },
    {
      "cell_type": "code",
      "execution_count": null,
      "id": "460e1389",
      "metadata": {
        "id": "460e1389",
        "outputId": "3a00d51f-4527-49c1-e2b8-800402f65586"
      },
      "outputs": [
        {
          "name": "stdout",
          "output_type": "stream",
          "text": [
            "1\n",
            "2\n",
            "3\n",
            "4\n",
            "5\n"
          ]
        }
      ],
      "source": [
        "for i in range(1,6):\n",
        "    print(i)"
      ]
    },
    {
      "cell_type": "code",
      "execution_count": null,
      "id": "93356d9b",
      "metadata": {
        "id": "93356d9b",
        "outputId": "ec92240c-9eb5-497f-8b0d-6bcfa2e4e413"
      },
      "outputs": [
        {
          "name": "stdout",
          "output_type": "stream",
          "text": [
            "1  *  1  =  1\n",
            "1  *  2  =  2\n",
            "1  *  3  =  3\n",
            "1  *  4  =  4\n",
            "1  *  5  =  5\n",
            "1  *  6  =  6\n",
            "1  *  7  =  7\n",
            "1  *  8  =  8\n",
            "1  *  9  =  9\n",
            "2  *  1  =  2\n",
            "2  *  2  =  4\n",
            "2  *  3  =  6\n",
            "2  *  4  =  8\n",
            "2  *  5  =  10\n",
            "2  *  6  =  12\n",
            "2  *  7  =  14\n",
            "2  *  8  =  16\n",
            "2  *  9  =  18\n",
            "3  *  1  =  3\n",
            "3  *  2  =  6\n",
            "3  *  3  =  9\n",
            "3  *  4  =  12\n",
            "3  *  5  =  15\n",
            "3  *  6  =  18\n",
            "3  *  7  =  21\n",
            "3  *  8  =  24\n",
            "3  *  9  =  27\n",
            "4  *  1  =  4\n",
            "4  *  2  =  8\n",
            "4  *  3  =  12\n",
            "4  *  4  =  16\n",
            "4  *  5  =  20\n",
            "4  *  6  =  24\n",
            "4  *  7  =  28\n",
            "4  *  8  =  32\n",
            "4  *  9  =  36\n",
            "5  *  1  =  5\n",
            "5  *  2  =  10\n",
            "5  *  3  =  15\n",
            "5  *  4  =  20\n",
            "5  *  5  =  25\n",
            "5  *  6  =  30\n",
            "5  *  7  =  35\n",
            "5  *  8  =  40\n",
            "5  *  9  =  45\n",
            "6  *  1  =  6\n",
            "6  *  2  =  12\n",
            "6  *  3  =  18\n",
            "6  *  4  =  24\n",
            "6  *  5  =  30\n",
            "6  *  6  =  36\n",
            "6  *  7  =  42\n",
            "6  *  8  =  48\n",
            "6  *  9  =  54\n",
            "7  *  1  =  7\n",
            "7  *  2  =  14\n",
            "7  *  3  =  21\n",
            "7  *  4  =  28\n",
            "7  *  5  =  35\n",
            "7  *  6  =  42\n",
            "7  *  7  =  49\n",
            "7  *  8  =  56\n",
            "7  *  9  =  63\n",
            "8  *  1  =  8\n",
            "8  *  2  =  16\n",
            "8  *  3  =  24\n",
            "8  *  4  =  32\n",
            "8  *  5  =  40\n",
            "8  *  6  =  48\n",
            "8  *  7  =  56\n",
            "8  *  8  =  64\n",
            "8  *  9  =  72\n",
            "9  *  1  =  9\n",
            "9  *  2  =  18\n",
            "9  *  3  =  27\n",
            "9  *  4  =  36\n",
            "9  *  5  =  45\n",
            "9  *  6  =  54\n",
            "9  *  7  =  63\n",
            "9  *  8  =  72\n",
            "9  *  9  =  81\n"
          ]
        }
      ],
      "source": [
        "# for loops\n",
        "for i in range(1,10):\n",
        "    for j in range(1,10):\n",
        "     print(i, ' * ' , j , ' = ', i*j)"
      ]
    },
    {
      "cell_type": "markdown",
      "id": "91120b65",
      "metadata": {
        "id": "91120b65"
      },
      "source": [
        "## Python while loops"
      ]
    },
    {
      "cell_type": "code",
      "execution_count": null,
      "id": "a46f8249",
      "metadata": {
        "id": "a46f8249",
        "outputId": "7ab7c22a-a5e5-44bc-dd2f-7164441ab68a"
      },
      "outputs": [
        {
          "name": "stdout",
          "output_type": "stream",
          "text": [
            "10\n",
            "11\n",
            "12\n",
            "13\n",
            "14\n",
            "15\n",
            "16\n",
            "17\n",
            "18\n",
            "19\n"
          ]
        }
      ],
      "source": [
        "# while loops\n",
        "age = 10\n",
        "while age < 20:\n",
        "    print(age)\n",
        "    age = age + 1"
      ]
    },
    {
      "cell_type": "markdown",
      "id": "a112edd3",
      "metadata": {
        "id": "a112edd3"
      },
      "source": [
        "# Python Functions"
      ]
    },
    {
      "cell_type": "markdown",
      "id": "e21fa422",
      "metadata": {
        "id": "e21fa422"
      },
      "source": [
        "## Python Function def"
      ]
    },
    {
      "cell_type": "code",
      "execution_count": null,
      "id": "f3210291",
      "metadata": {
        "id": "f3210291",
        "outputId": "dfcc99a7-e606-4da4-fc83-a843a68d229d"
      },
      "outputs": [
        {
          "name": "stdout",
          "output_type": "stream",
          "text": [
            "194.87\n"
          ]
        }
      ],
      "source": [
        "# Python Function def\n",
        "# indentation for blocks. four spaces\n",
        "def getfv(pv, r, n):\n",
        "    fv = pv * ((1+ (r)) ** n)\n",
        "    return fv\n",
        "fv= getfv(100, 0.1, 7)\n",
        "print(round(fv, 2))"
      ]
    },
    {
      "cell_type": "markdown",
      "id": "e2709445",
      "metadata": {
        "id": "e2709445"
      },
      "source": [
        "## Future value of a specified principal amount, rate of interest, and a number of years"
      ]
    },
    {
      "cell_type": "markdown",
      "id": "0083b1ad",
      "metadata": {
        "id": "0083b1ad"
      },
      "source": [
        "How much is your $100 worth  after 7 years?"
      ]
    },
    {
      "cell_type": "code",
      "execution_count": null,
      "id": "01d75a74",
      "metadata": {
        "id": "01d75a74",
        "outputId": "48b50666-a024-48d6-bf71-7133dce04418"
      },
      "outputs": [
        {
          "name": "stdout",
          "output_type": "stream",
          "text": [
            "fv =  194.87\n"
          ]
        }
      ],
      "source": [
        "# How much is your $100 worth after 7 years?\n",
        "fv = 100 * 1.1 ** 7\n",
        "print('fv = ', round(fv, 2))\n",
        "# output = 194.87"
      ]
    },
    {
      "cell_type": "markdown",
      "id": "9c4f10db",
      "metadata": {
        "id": "9c4f10db"
      },
      "source": [
        "## Future Value"
      ]
    },
    {
      "cell_type": "code",
      "execution_count": null,
      "id": "427ea8e5",
      "metadata": {
        "id": "427ea8e5",
        "outputId": "a9690a05-5238-4598-c821-0813262f5a93"
      },
      "outputs": [
        {
          "name": "stdout",
          "output_type": "stream",
          "text": [
            "194.87\n"
          ]
        }
      ],
      "source": [
        "# Future Value\n",
        "pv= 100\n",
        "r = 0.1\n",
        "n = 7\n",
        "fv= pv * ((1+ (r)) ** n)\n",
        "print(round(fv, 2))"
      ]
    },
    {
      "cell_type": "code",
      "execution_count": null,
      "id": "a0a82bd5",
      "metadata": {
        "id": "a0a82bd5",
        "outputId": "53af55a3-6129-47e1-d96e-ca28f8993937"
      },
      "outputs": [
        {
          "name": "stdout",
          "output_type": "stream",
          "text": [
            "194.87\n"
          ]
        }
      ],
      "source": [
        "# Future Value\n",
        "amount = 100\n",
        "interest = 10#10% = 0.01 * 10\n",
        "years = 7\n",
        "future_value = amount * ((1 + (0.01 * interest)) ** years)\n",
        "print(round(future_value, 2))"
      ]
    },
    {
      "cell_type": "markdown",
      "id": "c55e23a8",
      "metadata": {
        "id": "c55e23a8"
      },
      "source": [
        "## Python Function"
      ]
    },
    {
      "cell_type": "markdown",
      "id": "86eb6e4f",
      "metadata": {
        "id": "86eb6e4f"
      },
      "source": [
        "def getfv() define get future value function"
      ]
    },
    {
      "cell_type": "code",
      "execution_count": null,
      "id": "17fc7169",
      "metadata": {
        "id": "17fc7169",
        "outputId": "2f4f22b3-d61f-4cd4-e20d-a592f87a1238"
      },
      "outputs": [
        {
          "name": "stdout",
          "output_type": "stream",
          "text": [
            "194.87\n"
          ]
        }
      ],
      "source": [
        "# Python Function def\n",
        "# indentation for blocks. four spaces\n",
        "def getfv(pv, r, n):\n",
        "    fv = pv * ((1+ (r)) ** n)\n",
        "    return fv\n",
        "fv= getfv(100, 0.1, 7)\n",
        "print(round(fv, 2))"
      ]
    },
    {
      "cell_type": "markdown",
      "id": "8a7797b6",
      "metadata": {
        "id": "8a7797b6"
      },
      "source": [
        "# Python Classes/Objects\n",
        "class MyClass:\n"
      ]
    },
    {
      "cell_type": "code",
      "execution_count": null,
      "id": "9f4de2af",
      "metadata": {
        "id": "9f4de2af",
        "outputId": "467b1d78-1fd6-4bb9-f446-b8c6ca79ed9e"
      },
      "outputs": [
        {
          "name": "stdout",
          "output_type": "stream",
          "text": [
            "5\n"
          ]
        }
      ],
      "source": [
        "# Python class\n",
        "class MyClass:\n",
        "    x = 5\n",
        "\n",
        "c1 = MyClass()\n",
        "print(c1.x)"
      ]
    },
    {
      "cell_type": "code",
      "execution_count": null,
      "id": "9999a401",
      "metadata": {
        "id": "9999a401",
        "outputId": "071a9b0c-45ec-4e9e-d00f-ce92f26ccbe7"
      },
      "outputs": [
        {
          "name": "stdout",
          "output_type": "stream",
          "text": [
            "Alan\n",
            "20\n"
          ]
        }
      ],
      "source": [
        "class Person:\n",
        "    def __init__(self, name, age) :\n",
        "        self.name= name\n",
        "        self.age= age\n",
        "\n",
        "p1 = Person(\"Alan\", 20)\n",
        "print(p1.name)\n",
        "print(p1.age)"
      ]
    },
    {
      "cell_type": "code",
      "execution_count": null,
      "id": "31d4950d",
      "metadata": {
        "id": "31d4950d",
        "outputId": "d37d80b9-2edb-4fcf-8b8c-cfee3c5ab93d"
      },
      "outputs": [
        {
          "name": "stdout",
          "output_type": "stream",
          "text": [
            "Hello my name is Alan\n"
          ]
        }
      ],
      "source": [
        "class Person:\n",
        "    def __init__(self, name, age) :\n",
        "        self.name = name\n",
        "        self.age = age\n",
        "\n",
        "    def myfunc(self) :\n",
        "        print(\"Hello my name is \" + self.name)\n",
        "\n",
        "p1 = Person(\"Alan\", 20)\n",
        "p1.myfunc()"
      ]
    },
    {
      "cell_type": "code",
      "execution_count": null,
      "id": "0915472f",
      "metadata": {
        "id": "0915472f",
        "outputId": "07ce59dd-685b-4ebe-ffc6-74a98aa08ec4"
      },
      "outputs": [
        {
          "name": "stdout",
          "output_type": "stream",
          "text": [
            "Hello my name is Alan\n",
            "Alan\n",
            "20\n"
          ]
        }
      ],
      "source": [
        "class Person:\n",
        "    def __init__(self, name, age):\n",
        "        self.name = name\n",
        "        self.age = age\n",
        "\n",
        "    def myfunc(self):\n",
        "        print(\"Hello my name is \" + self.name)\n",
        "\n",
        "p1 = Person(\"Alan\", 20)\n",
        "p1.myfunc()\n",
        "print(p1.name)\n",
        "print(p1.age)"
      ]
    },
    {
      "cell_type": "code",
      "execution_count": null,
      "id": "632151e3",
      "metadata": {
        "id": "632151e3"
      },
      "outputs": [],
      "source": [
        "class Vehicle:\n",
        "    name = \"\"\n",
        "    kind = \"car\"\n",
        "    color = \"\"\n",
        "    value = 100.00\n",
        "    def description(self):\n",
        "        desc_str = \"%s is a %s %s worth $%.2f.\" % (self.name, self.color, self.kind, self.value)\n",
        "        return desc_str"
      ]
    },
    {
      "cell_type": "code",
      "execution_count": null,
      "id": "9c9f92d0",
      "metadata": {
        "id": "9c9f92d0",
        "outputId": "42fe9a96-9050-4bc4-d2d2-00e9cc5b0721"
      },
      "outputs": [
        {
          "name": "stdout",
          "output_type": "stream",
          "text": [
            "Fer is a red convertible worth $60000.00.\n",
            "Fer\n",
            "Jump is a blue van worth $10000.00.\n",
            "Jump\n"
          ]
        }
      ],
      "source": [
        "car1 = Vehicle()\n",
        "car1.name = \"Fer\"\n",
        "car1.color = \"red\"\n",
        "car1.kind = \"convertible\"\n",
        "car1.value = 60000.00\n",
        "\n",
        "car2 = Vehicle()\n",
        "car2.name = \"Jump\"\n",
        "car2.color = \"blue\"\n",
        "car2.kind = \"van\"\n",
        "car2.value = 10000.00\n",
        "\n",
        "print(car1.description())\n",
        "print(car1.name)\n",
        "print(car2.description())\n",
        "print(car2.name)"
      ]
    },
    {
      "cell_type": "code",
      "execution_count": null,
      "id": "ac006cb7",
      "metadata": {
        "id": "ac006cb7"
      },
      "outputs": [],
      "source": [
        "class Vehicle:\n",
        "    name = \"\"\n",
        "    kind = \"car\"\n",
        "    color = \"\"\n",
        "    value = 100.00\n",
        "    def description(self):\n",
        "        desc_str= \"%s is a %s %s worth $%.2f.\"% (self.name, self.color, self.kind, self.value)\n",
        "        return desc_str"
      ]
    },
    {
      "cell_type": "markdown",
      "id": "b282b0f5",
      "metadata": {
        "id": "b282b0f5"
      },
      "source": [
        "# Python Modules"
      ]
    },
    {
      "cell_type": "markdown",
      "id": "ee21d513",
      "metadata": {
        "id": "ee21d513"
      },
      "source": [
        "## Python Modules"
      ]
    },
    {
      "cell_type": "code",
      "execution_count": null,
      "id": "9e58654f",
      "metadata": {
        "id": "9e58654f"
      },
      "outputs": [],
      "source": [
        "# mymodule.py\n",
        "def greeting(name):\n",
        "    print(\"Hello, \"+ name)"
      ]
    },
    {
      "cell_type": "code",
      "execution_count": null,
      "id": "49c297ea",
      "metadata": {
        "id": "49c297ea",
        "outputId": "f38e4ace-9a96-48e7-e5e6-8097fdca3bfe"
      },
      "outputs": [
        {
          "name": "stdout",
          "output_type": "stream",
          "text": [
            "Hello, Alan\n"
          ]
        }
      ],
      "source": [
        "import mymodule\n",
        "mymodule.greeting(\"Alan\")"
      ]
    },
    {
      "cell_type": "markdown",
      "id": "a3d8d334",
      "metadata": {
        "id": "a3d8d334"
      },
      "source": [
        "## Python File Input / Output"
      ]
    },
    {
      "cell_type": "code",
      "execution_count": null,
      "id": "8ee68bc6",
      "metadata": {
        "id": "8ee68bc6",
        "outputId": "5c4a603d-f7fe-4cd8-e694-d5e97db7b419"
      },
      "outputs": [
        {
          "name": "stdout",
          "output_type": "stream",
          "text": [
            "Hello World\n",
            "This is Python File Input Output\n"
          ]
        }
      ],
      "source": [
        "# Python File Input / Output\n",
        "with open('myfile.txt', 'w') as file:\n",
        "    file.write('Hello World\\nThis is Python File Input Output')\n",
        "with open('myfile.txt', 'r') as file:\n",
        "    text = file.read()\n",
        "    print(text)"
      ]
    },
    {
      "cell_type": "code",
      "execution_count": null,
      "id": "5a6d41ac",
      "metadata": {
        "id": "5a6d41ac",
        "outputId": "f7d5e76e-beef-476a-a64f-9f49769af343"
      },
      "outputs": [
        {
          "name": "stdout",
          "output_type": "stream",
          "text": [
            "mymodule.py\n",
            "def greeting(name):\n",
            "    print(\"Hello, \" + name)\n",
            "    \n"
          ]
        }
      ],
      "source": [
        "# Python File Input / Output\n",
        "filename = 'mymodule.py'\n",
        "with open(filename, 'w') as file:\n",
        "    text = '''def greeting(name):\n",
        "    print(\"Hello, \" + name)\n",
        "    '''\n",
        "    file.write(text)\n",
        "\n",
        "with open(filename, 'r') as file:\n",
        "    text = file.read()\n",
        "print(filename)\n",
        "print(text)"
      ]
    },
    {
      "cell_type": "markdown",
      "id": "24fe888d",
      "metadata": {
        "id": "24fe888d"
      },
      "source": [
        "## Python Modules"
      ]
    },
    {
      "cell_type": "markdown",
      "id": "950dcdc8",
      "metadata": {
        "id": "950dcdc8"
      },
      "source": [
        "***import mymodule***"
      ]
    },
    {
      "cell_type": "code",
      "execution_count": null,
      "id": "813a564d",
      "metadata": {
        "id": "813a564d"
      },
      "outputs": [],
      "source": [
        "# mymodule.py\n",
        "def greeting(name):\n",
        "    print(\"Hello, \"+ name)"
      ]
    },
    {
      "cell_type": "code",
      "execution_count": null,
      "id": "5f5d4f8f",
      "metadata": {
        "id": "5f5d4f8f",
        "outputId": "b23c4d9c-c11f-4a1c-e04a-fe844d011b8e"
      },
      "outputs": [
        {
          "name": "stdout",
          "output_type": "stream",
          "text": [
            "Hello, Alan\n"
          ]
        }
      ],
      "source": [
        "import mymodule\n",
        "mymodule.greeting(\"Alan\")"
      ]
    },
    {
      "cell_type": "markdown",
      "id": "86a3f772",
      "metadata": {
        "id": "86a3f772"
      },
      "source": [
        "## Python main() function"
      ]
    },
    {
      "cell_type": "code",
      "execution_count": null,
      "id": "8f2c0785",
      "metadata": {
        "id": "8f2c0785",
        "outputId": "3e8e46df-0981-4ed6-a7ed-12b027b7e80a"
      },
      "outputs": [
        {
          "name": "stdout",
          "output_type": "stream",
          "text": [
            "Hello World!\n"
          ]
        }
      ],
      "source": [
        "#Python main() function\n",
        "def main():\n",
        "    print(\"Hello World!\")\n",
        "\n",
        "if __name__ == \"__main__\":\n",
        "    main()\n"
      ]
    },
    {
      "cell_type": "markdown",
      "id": "7dcd7f07",
      "metadata": {
        "id": "7dcd7f07"
      },
      "source": [
        "# Files and Exception Handling\n"
      ]
    },
    {
      "cell_type": "markdown",
      "id": "9e99db63",
      "metadata": {
        "id": "9e99db63"
      },
      "source": [
        "## Python Files (File Handling)"
      ]
    },
    {
      "cell_type": "code",
      "execution_count": null,
      "id": "49bdd257",
      "metadata": {
        "id": "49bdd257",
        "outputId": "88d7683c-3263-438c-8fbd-59125170f5dc"
      },
      "outputs": [
        {
          "name": "stdout",
          "output_type": "stream",
          "text": [
            "Hello World\n"
          ]
        }
      ],
      "source": [
        "f = open(\"myfile.txt\", \"w\")\n",
        "f.write(\"Hello World\")\n",
        "f.close()\n",
        "\n",
        "f = open(\"myfile.txt\", \"r\")\n",
        "text = f.read()\n",
        "print(text)\n",
        "f.close()"
      ]
    },
    {
      "cell_type": "markdown",
      "id": "1c9de595",
      "metadata": {
        "id": "1c9de595"
      },
      "source": [
        "**Đọc file và ghi file**"
      ]
    },
    {
      "cell_type": "code",
      "execution_count": null,
      "id": "0dc0c9a2",
      "metadata": {
        "id": "0dc0c9a2",
        "outputId": "4d694dbb-d4e8-4c42-80d8-a31eda984dee"
      },
      "outputs": [
        {
          "name": "stdout",
          "output_type": "stream",
          "text": [
            "Hello World\n"
          ]
        }
      ],
      "source": [
        "# Python File Input / Output\n",
        "with open('myfile.txt', 'w') as file:\n",
        "    file.write('Hello World')\n",
        "\n",
        "with open('myfile.txt', 'r') as file:\n",
        "    text = file.read()\n",
        "print(text)"
      ]
    },
    {
      "cell_type": "markdown",
      "id": "7737c1f3",
      "metadata": {
        "id": "7737c1f3"
      },
      "source": [
        "**Cách ghi thêm dòng trong file**"
      ]
    },
    {
      "cell_type": "code",
      "execution_count": null,
      "id": "7aa753ab",
      "metadata": {
        "id": "7aa753ab",
        "outputId": "0a088092-c4ad-4bc8-b104-d2370049eeef"
      },
      "outputs": [
        {
          "name": "stdout",
          "output_type": "stream",
          "text": [
            "Hello World\n",
            "Python File IO\n"
          ]
        }
      ],
      "source": [
        "# Python File Input / Output\n",
        "with open('myfile.txt', 'w') as file:\n",
        "    file.write('Hello World\\nPython File IO')\n",
        "with open('myfile.txt', 'r') as file:\n",
        "    text = file.read()\n",
        "print(text)"
      ]
    },
    {
      "cell_type": "markdown",
      "id": "5a15f827",
      "metadata": {
        "id": "5a15f827"
      },
      "source": [
        "**Ghi thêm dòng mới vào file đã có sẳn**"
      ]
    },
    {
      "cell_type": "code",
      "execution_count": null,
      "id": "5d664620",
      "metadata": {
        "id": "5d664620",
        "outputId": "94d60a42-933c-4876-d3ce-10e8ac179c7f"
      },
      "outputs": [
        {
          "name": "stdout",
          "output_type": "stream",
          "text": [
            "Hello World\n",
            "Python File IO\n",
            "New line\n"
          ]
        }
      ],
      "source": [
        "# Python File Input / Output\n",
        "with open('myfile.txt', 'a+') as file:\n",
        "    file.write('\\n'+ 'New line')\n",
        "\n",
        "with open('myfile.txt', 'r') as file:\n",
        "    text = file.read()\n",
        "print(text)"
      ]
    },
    {
      "cell_type": "markdown",
      "id": "a7f71b5c",
      "metadata": {
        "id": "a7f71b5c"
      },
      "source": [
        "**Tìm kiếm vị trí file nguồn**"
      ]
    },
    {
      "cell_type": "code",
      "execution_count": 11,
      "id": "8641365b",
      "metadata": {
        "colab": {
          "base_uri": "https://localhost:8080/"
        },
        "id": "8641365b",
        "outputId": "3fab5f8a-4818-41ae-fc24-ad89e9c18a9d"
      },
      "outputs": [
        {
          "output_type": "stream",
          "name": "stdout",
          "text": [
            "drive  myfile.txt  sample_data\n"
          ]
        }
      ],
      "source": [
        "# !ls list files\n",
        "!ls"
      ]
    },
    {
      "cell_type": "markdown",
      "id": "96b9331a",
      "metadata": {
        "id": "96b9331a"
      },
      "source": [
        "## Python OS, IO, files, and Google Drive"
      ]
    },
    {
      "cell_type": "markdown",
      "id": "b2feee4d",
      "metadata": {
        "id": "b2feee4d"
      },
      "source": [
        " **os.getcwd()**"
      ]
    },
    {
      "cell_type": "code",
      "execution_count": 12,
      "id": "b3dfb99e",
      "metadata": {
        "colab": {
          "base_uri": "https://localhost:8080/"
        },
        "id": "b3dfb99e",
        "outputId": "4dc8dde8-30a8-4d20-a82b-cdf2b81f5dbc"
      },
      "outputs": [
        {
          "output_type": "stream",
          "name": "stdout",
          "text": [
            "/content\n"
          ]
        }
      ],
      "source": [
        "import os\n",
        "cwd = os.getcwd()\n",
        "print(cwd)"
      ]
    },
    {
      "cell_type": "markdown",
      "id": "6118108c",
      "metadata": {
        "id": "6118108c"
      },
      "source": [
        "**os.listdir()**"
      ]
    },
    {
      "cell_type": "code",
      "execution_count": 13,
      "id": "aa1339dd",
      "metadata": {
        "colab": {
          "base_uri": "https://localhost:8080/"
        },
        "id": "aa1339dd",
        "outputId": "a405715f-ebae-469c-8c26-784147bc1dd7"
      },
      "outputs": [
        {
          "output_type": "execute_result",
          "data": {
            "text/plain": [
              "['.config', 'myfile.txt', 'drive', 'sample_data']"
            ]
          },
          "metadata": {},
          "execution_count": 13
        }
      ],
      "source": [
        "os.listdir(cwd)"
      ]
    },
    {
      "cell_type": "markdown",
      "id": "7f360582",
      "metadata": {
        "id": "7f360582"
      },
      "source": [
        "**os.path.join()**"
      ]
    },
    {
      "cell_type": "code",
      "execution_count": 14,
      "id": "0a177beb",
      "metadata": {
        "colab": {
          "base_uri": "https://localhost:8080/"
        },
        "id": "0a177beb",
        "outputId": "226368c1-d542-467b-c946-443308b7c9fb"
      },
      "outputs": [
        {
          "output_type": "stream",
          "name": "stdout",
          "text": [
            "/content/sample_data\n"
          ]
        },
        {
          "output_type": "execute_result",
          "data": {
            "text/plain": [
              "['anscombe.json',\n",
              " 'README.md',\n",
              " 'mnist_test.csv',\n",
              " 'mnist_train_small.csv',\n",
              " 'california_housing_train.csv',\n",
              " 'california_housing_test.csv']"
            ]
          },
          "metadata": {},
          "execution_count": 14
        }
      ],
      "source": [
        "path = os.path.join(cwd, 'sample_data')\n",
        "print(path)\n",
        "os.listdir(path)"
      ]
    },
    {
      "cell_type": "markdown",
      "id": "5858c97d",
      "metadata": {
        "id": "5858c97d"
      },
      "source": [
        "**from google.colab import files**"
      ]
    },
    {
      "cell_type": "markdown",
      "source": [
        "***Download file về máy***"
      ],
      "metadata": {
        "id": "Jwj2qqOPYZX7"
      },
      "id": "Jwj2qqOPYZX7"
    },
    {
      "cell_type": "code",
      "execution_count": 15,
      "id": "c9bfd7a1",
      "metadata": {
        "colab": {
          "base_uri": "https://localhost:8080/",
          "height": 35
        },
        "id": "c9bfd7a1",
        "outputId": "3a9d42e8-03e3-496a-9d91-ef6134892bbc"
      },
      "outputs": [
        {
          "output_type": "display_data",
          "data": {
            "text/plain": [
              "<IPython.core.display.Javascript object>"
            ],
            "application/javascript": [
              "\n",
              "    async function download(id, filename, size) {\n",
              "      if (!google.colab.kernel.accessAllowed) {\n",
              "        return;\n",
              "      }\n",
              "      const div = document.createElement('div');\n",
              "      const label = document.createElement('label');\n",
              "      label.textContent = `Downloading \"${filename}\": `;\n",
              "      div.appendChild(label);\n",
              "      const progress = document.createElement('progress');\n",
              "      progress.max = size;\n",
              "      div.appendChild(progress);\n",
              "      document.body.appendChild(div);\n",
              "\n",
              "      const buffers = [];\n",
              "      let downloaded = 0;\n",
              "\n",
              "      const channel = await google.colab.kernel.comms.open(id);\n",
              "      // Send a message to notify the kernel that we're ready.\n",
              "      channel.send({})\n",
              "\n",
              "      for await (const message of channel.messages) {\n",
              "        // Send a message to notify the kernel that we're ready.\n",
              "        channel.send({})\n",
              "        if (message.buffers) {\n",
              "          for (const buffer of message.buffers) {\n",
              "            buffers.push(buffer);\n",
              "            downloaded += buffer.byteLength;\n",
              "            progress.value = downloaded;\n",
              "          }\n",
              "        }\n",
              "      }\n",
              "      const blob = new Blob(buffers, {type: 'application/binary'});\n",
              "      const a = document.createElement('a');\n",
              "      a.href = window.URL.createObjectURL(blob);\n",
              "      a.download = filename;\n",
              "      div.appendChild(a);\n",
              "      a.click();\n",
              "      div.remove();\n",
              "    }\n",
              "  "
            ]
          },
          "metadata": {}
        },
        {
          "output_type": "display_data",
          "data": {
            "text/plain": [
              "<IPython.core.display.Javascript object>"
            ],
            "application/javascript": [
              "download(\"download_ba08aa01-f19b-4208-b512-211e9b47b03d\", \"io_file_myday.txt\", 46)"
            ]
          },
          "metadata": {}
        },
        {
          "output_type": "stream",
          "name": "stdout",
          "text": [
            "downloaded\n"
          ]
        }
      ],
      "source": [
        "from google.colab import files\n",
        "\n",
        "with open('io_file_myday.txt', 'w') as f:\n",
        "    f.write('Google ColabFile Write Text some content Myday')\n",
        "\n",
        "import time\n",
        "time.sleep(1) # time sleep 1 second\n",
        "\n",
        "files.download('io_file_myday.txt')\n",
        "print('downloaded')"
      ]
    },
    {
      "cell_type": "markdown",
      "source": [
        "***Tải file từ máy có sẳn lên gg colab***"
      ],
      "metadata": {
        "id": "zD6I4xoHYear"
      },
      "id": "zD6I4xoHYear"
    },
    {
      "cell_type": "code",
      "execution_count": 16,
      "id": "ffa61d17",
      "metadata": {
        "colab": {
          "base_uri": "https://localhost:8080/",
          "height": 91
        },
        "id": "ffa61d17",
        "outputId": "aa21da29-51c7-4483-9aed-ed350b9dd294"
      },
      "outputs": [
        {
          "output_type": "display_data",
          "data": {
            "text/plain": [
              "<IPython.core.display.HTML object>"
            ],
            "text/html": [
              "\n",
              "     <input type=\"file\" id=\"files-5e6a706d-58f9-4703-9eee-ae5d748a6e1f\" name=\"files[]\" multiple disabled\n",
              "        style=\"border:none\" />\n",
              "     <output id=\"result-5e6a706d-58f9-4703-9eee-ae5d748a6e1f\">\n",
              "      Upload widget is only available when the cell has been executed in the\n",
              "      current browser session. Please rerun this cell to enable.\n",
              "      </output>\n",
              "      <script>// Copyright 2017 Google LLC\n",
              "//\n",
              "// Licensed under the Apache License, Version 2.0 (the \"License\");\n",
              "// you may not use this file except in compliance with the License.\n",
              "// You may obtain a copy of the License at\n",
              "//\n",
              "//      http://www.apache.org/licenses/LICENSE-2.0\n",
              "//\n",
              "// Unless required by applicable law or agreed to in writing, software\n",
              "// distributed under the License is distributed on an \"AS IS\" BASIS,\n",
              "// WITHOUT WARRANTIES OR CONDITIONS OF ANY KIND, either express or implied.\n",
              "// See the License for the specific language governing permissions and\n",
              "// limitations under the License.\n",
              "\n",
              "/**\n",
              " * @fileoverview Helpers for google.colab Python module.\n",
              " */\n",
              "(function(scope) {\n",
              "function span(text, styleAttributes = {}) {\n",
              "  const element = document.createElement('span');\n",
              "  element.textContent = text;\n",
              "  for (const key of Object.keys(styleAttributes)) {\n",
              "    element.style[key] = styleAttributes[key];\n",
              "  }\n",
              "  return element;\n",
              "}\n",
              "\n",
              "// Max number of bytes which will be uploaded at a time.\n",
              "const MAX_PAYLOAD_SIZE = 100 * 1024;\n",
              "\n",
              "function _uploadFiles(inputId, outputId) {\n",
              "  const steps = uploadFilesStep(inputId, outputId);\n",
              "  const outputElement = document.getElementById(outputId);\n",
              "  // Cache steps on the outputElement to make it available for the next call\n",
              "  // to uploadFilesContinue from Python.\n",
              "  outputElement.steps = steps;\n",
              "\n",
              "  return _uploadFilesContinue(outputId);\n",
              "}\n",
              "\n",
              "// This is roughly an async generator (not supported in the browser yet),\n",
              "// where there are multiple asynchronous steps and the Python side is going\n",
              "// to poll for completion of each step.\n",
              "// This uses a Promise to block the python side on completion of each step,\n",
              "// then passes the result of the previous step as the input to the next step.\n",
              "function _uploadFilesContinue(outputId) {\n",
              "  const outputElement = document.getElementById(outputId);\n",
              "  const steps = outputElement.steps;\n",
              "\n",
              "  const next = steps.next(outputElement.lastPromiseValue);\n",
              "  return Promise.resolve(next.value.promise).then((value) => {\n",
              "    // Cache the last promise value to make it available to the next\n",
              "    // step of the generator.\n",
              "    outputElement.lastPromiseValue = value;\n",
              "    return next.value.response;\n",
              "  });\n",
              "}\n",
              "\n",
              "/**\n",
              " * Generator function which is called between each async step of the upload\n",
              " * process.\n",
              " * @param {string} inputId Element ID of the input file picker element.\n",
              " * @param {string} outputId Element ID of the output display.\n",
              " * @return {!Iterable<!Object>} Iterable of next steps.\n",
              " */\n",
              "function* uploadFilesStep(inputId, outputId) {\n",
              "  const inputElement = document.getElementById(inputId);\n",
              "  inputElement.disabled = false;\n",
              "\n",
              "  const outputElement = document.getElementById(outputId);\n",
              "  outputElement.innerHTML = '';\n",
              "\n",
              "  const pickedPromise = new Promise((resolve) => {\n",
              "    inputElement.addEventListener('change', (e) => {\n",
              "      resolve(e.target.files);\n",
              "    });\n",
              "  });\n",
              "\n",
              "  const cancel = document.createElement('button');\n",
              "  inputElement.parentElement.appendChild(cancel);\n",
              "  cancel.textContent = 'Cancel upload';\n",
              "  const cancelPromise = new Promise((resolve) => {\n",
              "    cancel.onclick = () => {\n",
              "      resolve(null);\n",
              "    };\n",
              "  });\n",
              "\n",
              "  // Wait for the user to pick the files.\n",
              "  const files = yield {\n",
              "    promise: Promise.race([pickedPromise, cancelPromise]),\n",
              "    response: {\n",
              "      action: 'starting',\n",
              "    }\n",
              "  };\n",
              "\n",
              "  cancel.remove();\n",
              "\n",
              "  // Disable the input element since further picks are not allowed.\n",
              "  inputElement.disabled = true;\n",
              "\n",
              "  if (!files) {\n",
              "    return {\n",
              "      response: {\n",
              "        action: 'complete',\n",
              "      }\n",
              "    };\n",
              "  }\n",
              "\n",
              "  for (const file of files) {\n",
              "    const li = document.createElement('li');\n",
              "    li.append(span(file.name, {fontWeight: 'bold'}));\n",
              "    li.append(span(\n",
              "        `(${file.type || 'n/a'}) - ${file.size} bytes, ` +\n",
              "        `last modified: ${\n",
              "            file.lastModifiedDate ? file.lastModifiedDate.toLocaleDateString() :\n",
              "                                    'n/a'} - `));\n",
              "    const percent = span('0% done');\n",
              "    li.appendChild(percent);\n",
              "\n",
              "    outputElement.appendChild(li);\n",
              "\n",
              "    const fileDataPromise = new Promise((resolve) => {\n",
              "      const reader = new FileReader();\n",
              "      reader.onload = (e) => {\n",
              "        resolve(e.target.result);\n",
              "      };\n",
              "      reader.readAsArrayBuffer(file);\n",
              "    });\n",
              "    // Wait for the data to be ready.\n",
              "    let fileData = yield {\n",
              "      promise: fileDataPromise,\n",
              "      response: {\n",
              "        action: 'continue',\n",
              "      }\n",
              "    };\n",
              "\n",
              "    // Use a chunked sending to avoid message size limits. See b/62115660.\n",
              "    let position = 0;\n",
              "    do {\n",
              "      const length = Math.min(fileData.byteLength - position, MAX_PAYLOAD_SIZE);\n",
              "      const chunk = new Uint8Array(fileData, position, length);\n",
              "      position += length;\n",
              "\n",
              "      const base64 = btoa(String.fromCharCode.apply(null, chunk));\n",
              "      yield {\n",
              "        response: {\n",
              "          action: 'append',\n",
              "          file: file.name,\n",
              "          data: base64,\n",
              "        },\n",
              "      };\n",
              "\n",
              "      let percentDone = fileData.byteLength === 0 ?\n",
              "          100 :\n",
              "          Math.round((position / fileData.byteLength) * 100);\n",
              "      percent.textContent = `${percentDone}% done`;\n",
              "\n",
              "    } while (position < fileData.byteLength);\n",
              "  }\n",
              "\n",
              "  // All done.\n",
              "  yield {\n",
              "    response: {\n",
              "      action: 'complete',\n",
              "    }\n",
              "  };\n",
              "}\n",
              "\n",
              "scope.google = scope.google || {};\n",
              "scope.google.colab = scope.google.colab || {};\n",
              "scope.google.colab._files = {\n",
              "  _uploadFiles,\n",
              "  _uploadFilesContinue,\n",
              "};\n",
              "})(self);\n",
              "</script> "
            ]
          },
          "metadata": {}
        },
        {
          "output_type": "stream",
          "name": "stdout",
          "text": [
            "Saving io_file_myday2.txt to io_file_myday2.txt\n",
            "User uploaded file \"io_file_myday2.txt\" with length 0 bytes\n"
          ]
        }
      ],
      "source": [
        "from google.colab import files\n",
        "uploaded = files.upload()\n",
        "\n",
        "for fn in uploaded.keys():\n",
        "    print('User uploaded file \"{name}\" with length {length} bytes'.format(name=fn, length=len(uploaded[fn])))"
      ]
    },
    {
      "cell_type": "markdown",
      "id": "3a8c2f5a",
      "metadata": {
        "id": "3a8c2f5a"
      },
      "source": [
        "**os.remove()**"
      ]
    },
    {
      "cell_type": "code",
      "execution_count": 17,
      "id": "9cf18ba8",
      "metadata": {
        "colab": {
          "base_uri": "https://localhost:8080/"
        },
        "id": "9cf18ba8",
        "outputId": "a35a4fd1-0991-45b9-8906-153f5cab997f"
      },
      "outputs": [
        {
          "output_type": "stream",
          "name": "stdout",
          "text": [
            "myfile.txt removed\n"
          ]
        }
      ],
      "source": [
        "import os\n",
        "if os.path.exists(\"myfile.txt\"):\n",
        "    os.remove(\"myfile.txt\")\n",
        "    print(\"myfile.txt removed\")\n",
        "else:\n",
        "    print(\"The file does not exist\")"
      ]
    },
    {
      "cell_type": "markdown",
      "id": "e1786495",
      "metadata": {
        "id": "e1786495"
      },
      "source": [
        "**os.mkdir()**"
      ]
    },
    {
      "cell_type": "code",
      "execution_count": 18,
      "id": "dd844bcc",
      "metadata": {
        "colab": {
          "base_uri": "https://localhost:8080/"
        },
        "id": "dd844bcc",
        "outputId": "6c8b1f6f-e159-4819-e5ab-e646312d7a97"
      },
      "outputs": [
        {
          "output_type": "execute_result",
          "data": {
            "text/plain": [
              "['.config', 'io_file_myday2.txt', 'io_file_myday.txt', 'drive', 'sample_data']"
            ]
          },
          "metadata": {},
          "execution_count": 18
        }
      ],
      "source": [
        "import os\n",
        "os.listdir()\n",
        "os.mkdir(\"myfolder1\")\n",
        "os.listdir()\n",
        "os.rmdir(\"myfolder1\")\n",
        "os.listdir()"
      ]
    },
    {
      "cell_type": "markdown",
      "id": "99e63e86",
      "metadata": {
        "id": "99e63e86"
      },
      "source": [
        "## Python Try Except (Exception Handling)`"
      ]
    },
    {
      "cell_type": "markdown",
      "id": "97004e07",
      "metadata": {
        "id": "97004e07"
      },
      "source": [
        "**try: except:**"
      ]
    },
    {
      "cell_type": "code",
      "execution_count": 21,
      "id": "acdc8921",
      "metadata": {
        "colab": {
          "base_uri": "https://localhost:8080/"
        },
        "id": "acdc8921",
        "outputId": "ec60a434-b3e7-4c97-c9c0-af7aa95293a2"
      },
      "outputs": [
        {
          "output_type": "stream",
          "name": "stdout",
          "text": [
            "2\n"
          ]
        }
      ],
      "source": [
        "#Python try except\n",
        "try:\n",
        "    print(x)\n",
        "except:\n",
        "    print(\"Exception Error\")"
      ]
    },
    {
      "cell_type": "markdown",
      "id": "ad0a452c",
      "metadata": {
        "id": "ad0a452c"
      },
      "source": [
        "**try: except: finally:**"
      ]
    },
    {
      "cell_type": "code",
      "execution_count": 22,
      "id": "0e5d9ee8",
      "metadata": {
        "colab": {
          "base_uri": "https://localhost:8080/"
        },
        "id": "0e5d9ee8",
        "outputId": "f0b83a41-dcb2-4c62-9383-c04e3530089e"
      },
      "outputs": [
        {
          "output_type": "stream",
          "name": "stdout",
          "text": [
            "Hello\n",
            "Finally process\n"
          ]
        }
      ],
      "source": [
        "#Python try except finally\n",
        "try:\n",
        "    print(\"Hello\")\n",
        "except:\n",
        "    print(\"Exception Error\")\n",
        "finally:\n",
        "    print(\"Finally process\")"
      ]
    },
    {
      "cell_type": "markdown",
      "id": "7df5ea48",
      "metadata": {
        "id": "7df5ea48"
      },
      "source": [
        "**try: except: else:**"
      ]
    },
    {
      "cell_type": "code",
      "execution_count": 23,
      "id": "2adcee00",
      "metadata": {
        "colab": {
          "base_uri": "https://localhost:8080/"
        },
        "id": "2adcee00",
        "outputId": "8261b2a4-fe6c-425e-f732-7c8c8cbfbecb"
      },
      "outputs": [
        {
          "output_type": "stream",
          "name": "stdout",
          "text": [
            "Hello\n",
            "No exception\n"
          ]
        }
      ],
      "source": [
        "#Python try except else\n",
        "try:\n",
        "    print(\"Hello\")\n",
        "except:\n",
        "    print(\"Exception Error\")\n",
        "else:\n",
        "    print(\"No exception\")"
      ]
    },
    {
      "cell_type": "markdown",
      "id": "4e9a4ba7",
      "metadata": {
        "id": "4e9a4ba7"
      },
      "source": [
        "**try: except: else: finally:**"
      ]
    },
    {
      "cell_type": "code",
      "execution_count": null,
      "id": "ebb308e0",
      "metadata": {
        "id": "ebb308e0",
        "outputId": "82b12d47-fcb3-4149-8937-ea8e3d25fafb"
      },
      "outputs": [
        {
          "name": "stdout",
          "output_type": "stream",
          "text": [
            "Hello\n",
            "No exception\n",
            "Finally process\n"
          ]
        }
      ],
      "source": [
        "try:\n",
        "    print(\"Hello\")\n",
        "except:\n",
        "    print(\"Exception Error\")\n",
        "else:\n",
        "    print(\"No exception\")\n",
        "finally:\n",
        "    print(\"Finally process\")"
      ]
    },
    {
      "cell_type": "code",
      "execution_count": null,
      "id": "91d6b03e",
      "metadata": {
        "id": "91d6b03e",
        "outputId": "d8d5d454-1c06-4e3c-fd72-c60e757fc0df"
      },
      "outputs": [
        {
          "name": "stdout",
          "output_type": "stream",
          "text": [
            "The total value of the shares is: 20.0\n",
            "Thank you.\n"
          ]
        }
      ],
      "source": [
        "try:\n",
        "    price = float(input(\"Enter the price of the stock (e.g. 10):\"))\n",
        "    shares = int(input(\"Enter the number of shares (e.g. 2):\"))\n",
        "    total = price * shares\n",
        "except Exception as e:\n",
        "    print(\"Exception error:\", str(e))\n",
        "else:\n",
        "    print(\"The total value of the shares is:\", total)\n",
        "finally:\n",
        "    print(\"Thank you.\")"
      ]
    },
    {
      "cell_type": "code",
      "execution_count": 25,
      "id": "fe386efe",
      "metadata": {
        "colab": {
          "base_uri": "https://localhost:8080/"
        },
        "id": "fe386efe",
        "outputId": "1064d769-0a3a-489a-b7ce-196893a48ae1"
      },
      "outputs": [
        {
          "output_type": "stream",
          "name": "stdout",
          "text": [
            "Exception file Error\n"
          ]
        }
      ],
      "source": [
        "try:\n",
        "    file= open(\"myfile.txt\")\n",
        "    file.write(\"Python write file\")\n",
        "    print(\"file saved\")\n",
        "except:\n",
        "    print(\"Exception file Error\")"
      ]
    },
    {
      "cell_type": "code",
      "execution_count": 24,
      "id": "76788206",
      "metadata": {
        "colab": {
          "base_uri": "https://localhost:8080/"
        },
        "id": "76788206",
        "outputId": "7a6578dd-f913-4836-8711-9ca057e55a21"
      },
      "outputs": [
        {
          "output_type": "stream",
          "name": "stdout",
          "text": [
            "Exception file Error\n",
            "Finally process\n"
          ]
        }
      ],
      "source": [
        "try:\n",
        "    file = open(\"myfile.txt\")\n",
        "    file.write(\"Python write file\")\n",
        "    print(\"file saved\")\n",
        "except:\n",
        "    print(\"Exception file Error\")\n",
        "finally:\n",
        "    file.close()\n",
        "    print(\"Finally process\")"
      ]
    },
    {
      "cell_type": "code",
      "execution_count": null,
      "id": "5f835493",
      "metadata": {
        "id": "5f835493",
        "outputId": "cee2118b-68c9-4c45-de2c-68b22082f154"
      },
      "outputs": [
        {
          "name": "stdout",
          "output_type": "stream",
          "text": [
            "file saved\n",
            "Finally process\n"
          ]
        }
      ],
      "source": [
        "try:\n",
        "    file = open(\"myfile.txt\", 'w')\n",
        "    file.write(\"Python write file\")\n",
        "    print(\"file saved\")\n",
        "except:\n",
        "    print(\"Exception file Error\")\n",
        "finally:\n",
        "    file.close()\n",
        "    print(\"Finally process\")"
      ]
    },
    {
      "cell_type": "markdown",
      "id": "218863ba",
      "metadata": {
        "id": "218863ba"
      },
      "source": [
        "# Kết thúc"
      ]
    }
  ],
  "metadata": {
    "kernelspec": {
      "display_name": "Python 3",
      "language": "python",
      "name": "python3"
    },
    "language_info": {
      "codemirror_mode": {
        "name": "ipython",
        "version": 3
      },
      "file_extension": ".py",
      "mimetype": "text/x-python",
      "name": "python",
      "nbconvert_exporter": "python",
      "pygments_lexer": "ipython3",
      "version": "3.11.9"
    },
    "colab": {
      "provenance": [],
      "toc_visible": true,
      "include_colab_link": true
    }
  },
  "nbformat": 4,
  "nbformat_minor": 5
}