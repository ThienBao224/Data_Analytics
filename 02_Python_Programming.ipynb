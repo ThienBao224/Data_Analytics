{
  "cells": [
    {
      "cell_type": "markdown",
      "metadata": {
        "id": "view-in-github",
        "colab_type": "text"
      },
      "source": [
        "<a href=\"https://colab.research.google.com/github/ThienBao224/Data_Analytics/blob/main/02_Python_Programming.ipynb\" target=\"_parent\"><img src=\"https://colab.research.google.com/assets/colab-badge.svg\" alt=\"Open In Colab\"/></a>"
      ]
    },
    {
      "cell_type": "markdown",
      "id": "935871f0",
      "metadata": {
        "id": "935871f0"
      },
      "source": [
        "# Python Programming"
      ]
    },
    {
      "cell_type": "markdown",
      "id": "704cebdc",
      "metadata": {
        "id": "704cebdc"
      },
      "source": [
        "## Python Hello World"
      ]
    },
    {
      "cell_type": "code",
      "execution_count": 1,
      "id": "04f88a11",
      "metadata": {
        "id": "04f88a11",
        "outputId": "dfe59dd9-9f91-41d5-d4cb-a63e6e1fccd4",
        "colab": {
          "base_uri": "https://localhost:8080/"
        }
      },
      "outputs": [
        {
          "output_type": "stream",
          "name": "stdout",
          "text": [
            "Hello World\n"
          ]
        }
      ],
      "source": [
        "print(\"Hello World\")"
      ]
    },
    {
      "cell_type": "markdown",
      "id": "decced2d",
      "metadata": {
        "id": "decced2d"
      },
      "source": [
        "## Python Syntax"
      ]
    },
    {
      "cell_type": "markdown",
      "id": "310a936c",
      "metadata": {
        "id": "310a936c"
      },
      "source": [
        "Comment"
      ]
    },
    {
      "cell_type": "code",
      "execution_count": 2,
      "id": "6d9f851c",
      "metadata": {
        "id": "6d9f851c"
      },
      "outputs": [],
      "source": [
        " # comment"
      ]
    },
    {
      "cell_type": "markdown",
      "id": "f77b8d02",
      "metadata": {
        "id": "f77b8d02"
      },
      "source": [
        "Indentation the spaces at the beginning of a code line 4 space"
      ]
    },
    {
      "cell_type": "code",
      "execution_count": 3,
      "id": "64d7ecc7",
      "metadata": {
        "id": "64d7ecc7",
        "outputId": "c8d5a8ec-0564-488d-81fe-fad7a4706663",
        "colab": {
          "base_uri": "https://localhost:8080/"
        }
      },
      "outputs": [
        {
          "output_type": "stream",
          "name": "stdout",
          "text": [
            "Pass\n"
          ]
        }
      ],
      "source": [
        "score = 80\n",
        "if score >=60 :\n",
        "    print(\"Pass\")\n"
      ]
    },
    {
      "cell_type": "markdown",
      "id": "d9ea908c",
      "metadata": {
        "id": "d9ea908c"
      },
      "source": [
        "## Python Variables"
      ]
    },
    {
      "cell_type": "code",
      "execution_count": 4,
      "id": "dc9b7383",
      "metadata": {
        "id": "dc9b7383",
        "outputId": "4f7079dd-7f5a-48dc-ff9b-02e31219d181",
        "colab": {
          "base_uri": "https://localhost:8080/"
        }
      },
      "outputs": [
        {
          "output_type": "stream",
          "name": "stdout",
          "text": [
            "2\n",
            "2.5\n",
            "Hello\n",
            "Hello\n",
            "Hello\n",
            "Hello\n"
          ]
        }
      ],
      "source": [
        "# Python Variables\n",
        "x = 2\n",
        "print(x)\n",
        "price = 2.5\n",
        "print(price)\n",
        "word = 'Hello'\n",
        "print(word)\n",
        "word = 'Hello'\n",
        "print(word)\n",
        "word = \"Hello\"\n",
        "print(word)\n",
        "word = '''Hello'''\n",
        "print(word)"
      ]
    },
    {
      "cell_type": "code",
      "execution_count": 5,
      "id": "00ddd6b3",
      "metadata": {
        "colab": {
          "base_uri": "https://localhost:8080/"
        },
        "id": "00ddd6b3",
        "outputId": "68b7ce5d-588a-4611-b4a0-f5796819c737"
      },
      "outputs": [
        {
          "output_type": "stream",
          "name": "stdout",
          "text": [
            "2, data type = <class 'int'>\n",
            "3, data type = <class 'int'>\n"
          ]
        }
      ],
      "source": [
        "x = 2\n",
        "print(f'{x}, data type = {type(x)}')\n",
        "y = x + 1\n",
        "print(f'{y}, data type = {type(y)}')"
      ]
    },
    {
      "cell_type": "markdown",
      "id": "9bd59949",
      "metadata": {
        "id": "9bd59949"
      },
      "source": [
        "## python_version()"
      ]
    },
    {
      "cell_type": "code",
      "execution_count": 6,
      "id": "55fbf2d5",
      "metadata": {
        "colab": {
          "base_uri": "https://localhost:8080/"
        },
        "id": "55fbf2d5",
        "outputId": "8ea547e4-4fb1-485d-8144-256dc8467b40"
      },
      "outputs": [
        {
          "output_type": "stream",
          "name": "stdout",
          "text": [
            "Python Version: 3.12.11\n"
          ]
        }
      ],
      "source": [
        "# comment\n",
        "from platform import python_version\n",
        "print(\"Python Version:\", python_version())"
      ]
    },
    {
      "cell_type": "markdown",
      "id": "9254074b",
      "metadata": {
        "id": "9254074b"
      },
      "source": [
        "## Python Data Types"
      ]
    },
    {
      "cell_type": "code",
      "execution_count": 7,
      "id": "f25f51b8",
      "metadata": {
        "id": "f25f51b8",
        "outputId": "3ad244fe-bea0-4d06-ebd2-af5ceba0c05e",
        "colab": {
          "base_uri": "https://localhost:8080/"
        }
      },
      "outputs": [
        {
          "output_type": "stream",
          "name": "stdout",
          "text": [
            "Hello World, data type = <class 'str'>\n",
            "2, data type = <class 'int'>\n",
            "2.5, data type = <class 'float'>\n",
            "7j, data type = <class 'complex'>\n"
          ]
        }
      ],
      "source": [
        "x = \"Hello World\" #str\n",
        "print(f'{x}, data type = {type(x)}')\n",
        "x = 2             #int\n",
        "print(f'{x}, data type = {type(x)}')\n",
        "x = 2.5         #float\n",
        "print(f'{x}, data type = {type(x)}')\n",
        "x = 7j          #complex\n",
        "print(f'{x}, data type = {type(x)}')"
      ]
    },
    {
      "cell_type": "code",
      "execution_count": 8,
      "id": "bfedaeab",
      "metadata": {
        "id": "bfedaeab",
        "outputId": "4c7101c9-1318-4f28-d46d-fa7cf76da173",
        "colab": {
          "base_uri": "https://localhost:8080/"
        }
      },
      "outputs": [
        {
          "output_type": "stream",
          "name": "stdout",
          "text": [
            "['apple', 'banana', 'cherry'], data type = <class 'list'>\n",
            "('apple', 'banana', 'cherry'), data type = <class 'tuple'>\n",
            "range(0, 6), data type = <class 'range'>\n",
            "{'name': 'Tom', 'age': 20}, data type = <class 'dict'>\n",
            "{'banana', 'apple', 'cherry'}, data type = <class 'set'>\n",
            "frozenset({'banana', 'apple', 'cherry'}), data type = <class 'frozenset'>\n"
          ]
        }
      ],
      "source": [
        "x = [\"apple\", \"banana\", \"cherry\"]           #list\n",
        "print(f'{x}, data type = {type(x)}')\n",
        "x = (\"apple\", \"banana\", \"cherry\")           #tuple\n",
        "print(f'{x}, data type = {type(x)}')\n",
        "x = range(6)                                #range\n",
        "print(f'{x}, data type = {type(x)}')\n",
        "x = {\"name\": \"Tom\", \"age\": 20}               #dict\n",
        "print(f'{x}, data type = {type(x)}')\n",
        "x = {\"apple\", \"banana\", \"cherry\"}            #set\n",
        "print(f'{x}, data type = {type(x)}')\n",
        "x = frozenset({\"apple\", \"banana\", \"cherry\"})#frozenset\n",
        "print(f'{x}, data type = {type(x)}')"
      ]
    },
    {
      "cell_type": "code",
      "execution_count": 9,
      "id": "d54b762c",
      "metadata": {
        "id": "d54b762c",
        "outputId": "51f71007-32f9-4c2c-c6c1-7763d7c27d32",
        "colab": {
          "base_uri": "https://localhost:8080/"
        }
      },
      "outputs": [
        {
          "output_type": "stream",
          "name": "stdout",
          "text": [
            "True, data type = <class 'bool'>\n",
            "b'Hello', data type = <class 'bytes'>\n",
            "bytearray(b'\\x00\\x00\\x00\\x00\\x00'), data type = <class 'bytearray'>\n",
            "<memory at 0x7ac901164d00>, data type = <class 'memoryview'>\n",
            "None, data type = <class 'NoneType'>\n"
          ]
        }
      ],
      "source": [
        "x = True                #bool\n",
        "print(f'{x}, data type = {type(x)}')\n",
        "x = b\"Hello\"            #bytes\n",
        "print(f'{x}, data type = {type(x)}')\n",
        "x = bytearray(5)        #bytearray\n",
        "print(f'{x}, data type = {type(x)}')\n",
        "x = memoryview(bytes(5)) #memoryview\n",
        "print(f'{x}, data type = {type(x)}')\n",
        "x = None                 #NoneType\n",
        "print(f'{x}, data type = {type(x)}')\n"
      ]
    },
    {
      "cell_type": "markdown",
      "id": "a88d938d",
      "metadata": {
        "id": "a88d938d"
      },
      "source": [
        "## Python Casting"
      ]
    },
    {
      "cell_type": "code",
      "execution_count": 10,
      "id": "591376ae",
      "metadata": {
        "id": "591376ae",
        "outputId": "a6a2cede-67db-4f2a-a7e0-892ad1a6d5c8",
        "colab": {
          "base_uri": "https://localhost:8080/"
        }
      },
      "outputs": [
        {
          "output_type": "stream",
          "name": "stdout",
          "text": [
            "3 <class 'str'>\n",
            "3 <class 'int'>\n",
            "3.0 <class 'float'>\n"
          ]
        }
      ],
      "source": [
        "x = str(3) # x will be '3'\n",
        "y = int(3) # y will be 3\n",
        "z = float(3) # z will be 3.0\n",
        "print(x, type(x))\n",
        "print(y, type(y))\n",
        "print(z, type(z))"
      ]
    },
    {
      "cell_type": "markdown",
      "id": "ba69f7eb",
      "metadata": {
        "id": "ba69f7eb"
      },
      "source": [
        "## Python Numbers"
      ]
    },
    {
      "cell_type": "code",
      "execution_count": 11,
      "id": "5416af04",
      "metadata": {
        "id": "5416af04",
        "outputId": "b32e2e2d-d29c-4190-e1fc-280a35c427b3",
        "colab": {
          "base_uri": "https://localhost:8080/"
        }
      },
      "outputs": [
        {
          "output_type": "stream",
          "name": "stdout",
          "text": [
            "2 <class 'int'>\n",
            "3.4 <class 'float'>\n",
            "7j <class 'complex'>\n"
          ]
        }
      ],
      "source": [
        "x = 2# int\n",
        "y = 3.4# float\n",
        "z = 7j #complex\n",
        "print(x, type(x))\n",
        "print(y, type(y))\n",
        "print(z, type(z))"
      ]
    },
    {
      "cell_type": "markdown",
      "id": "1e09edc5",
      "metadata": {
        "id": "1e09edc5"
      },
      "source": [
        "## Python Basic Operators"
      ]
    },
    {
      "cell_type": "code",
      "execution_count": 12,
      "id": "4337bbd8",
      "metadata": {
        "id": "4337bbd8",
        "outputId": "e0e6a6c8-bd06-475a-8570-4cef8446a08a",
        "colab": {
          "base_uri": "https://localhost:8080/"
        }
      },
      "outputs": [
        {
          "output_type": "stream",
          "name": "stdout",
          "text": [
            "7 + 2 = 9\n",
            "7 -2 = 5\n",
            "7 * 2 = 14\n",
            "7 / 2 = 3.5\n",
            "7 // 2 = 3\n",
            "7 % 2 = 1\n",
            "7 ** 2 = 49\n"
          ]
        }
      ],
      "source": [
        "print('7 + 2 =', 7+ 2)\n",
        "print('7 -2 =', 7-2)\n",
        "print('7 * 2 =', 7* 2)\n",
        "print('7 / 2 =', 7/ 2)\n",
        "print('7 // 2 =', 7// 2)\n",
        "print('7 % 2 =', 7% 2)\n",
        "print('7 ** 2 =', 7** 2)"
      ]
    },
    {
      "cell_type": "markdown",
      "id": "2ee9ccb5",
      "metadata": {
        "id": "2ee9ccb5"
      },
      "source": [
        "## Python Booleans:  True or False"
      ]
    },
    {
      "cell_type": "code",
      "execution_count": 13,
      "id": "303c6e6d",
      "metadata": {
        "id": "303c6e6d",
        "outputId": "b952753a-728b-4b52-baf0-a07c83fe7405",
        "colab": {
          "base_uri": "https://localhost:8080/"
        }
      },
      "outputs": [
        {
          "output_type": "stream",
          "name": "stdout",
          "text": [
            "True\n",
            "False\n",
            "False\n"
          ]
        }
      ],
      "source": [
        "# Python Booleans: True or False\n",
        "print(3 > 2)\n",
        "print(3 == 2)\n",
        "print(3 < 2)"
      ]
    },
    {
      "cell_type": "markdown",
      "id": "730e8786",
      "metadata": {
        "id": "730e8786"
      },
      "source": [
        "## Python BMI Calculator"
      ]
    },
    {
      "cell_type": "code",
      "execution_count": 14,
      "id": "f9a34113",
      "metadata": {
        "id": "f9a34113",
        "outputId": "20eb2a22-ea84-4291-a13d-83094d430679",
        "colab": {
          "base_uri": "https://localhost:8080/"
        }
      },
      "outputs": [
        {
          "output_type": "stream",
          "name": "stdout",
          "text": [
            "Your BMI is: 20.8\n"
          ]
        }
      ],
      "source": [
        "# BMI Calculator in Python\n",
        "height_cm= 170\n",
        "weight_kg= 60\n",
        "height_m= height_cm/100\n",
        "BMI = (weight_kg/(height_m**2))\n",
        "print(\"Your BMI is: \" + str(round(BMI,1)))"
      ]
    },
    {
      "cell_type": "markdown",
      "id": "d2b43edd",
      "metadata": {
        "id": "d2b43edd"
      },
      "source": [
        "##  Future value of a specified principal amount, rate of interest, and a number of years"
      ]
    },
    {
      "cell_type": "markdown",
      "id": "e6f145d9",
      "metadata": {
        "id": "e6f145d9"
      },
      "source": [
        "How much is your $100 worth after 7 years?"
      ]
    },
    {
      "cell_type": "code",
      "execution_count": 15,
      "id": "bcbd7610",
      "metadata": {
        "id": "bcbd7610",
        "outputId": "f97847ef-1ba7-4ff4-bad8-314401790604",
        "colab": {
          "base_uri": "https://localhost:8080/"
        }
      },
      "outputs": [
        {
          "output_type": "stream",
          "name": "stdout",
          "text": [
            "fv =  194.87\n"
          ]
        }
      ],
      "source": [
        "# How much is your $100 worth after 7 years?\n",
        "fv = 100 * 1.1 ** 7\n",
        "print('fv = ', round(fv, 2))\n",
        "# output = 194.87"
      ]
    },
    {
      "cell_type": "markdown",
      "id": "d1d3e1eb",
      "metadata": {
        "id": "d1d3e1eb"
      },
      "source": [
        "## Future Value"
      ]
    },
    {
      "cell_type": "code",
      "execution_count": 16,
      "id": "06e05f2c",
      "metadata": {
        "id": "06e05f2c",
        "outputId": "532b0ea0-6f62-432c-fa30-c98b11b174d5",
        "colab": {
          "base_uri": "https://localhost:8080/"
        }
      },
      "outputs": [
        {
          "output_type": "stream",
          "name": "stdout",
          "text": [
            "194.87\n"
          ]
        }
      ],
      "source": [
        "# Future Value\n",
        "pv= 100\n",
        "r = 0.1\n",
        "n = 7\n",
        "fv= pv * ((1+ (r)) ** n)\n",
        "print(round(fv, 2))"
      ]
    },
    {
      "cell_type": "code",
      "execution_count": 17,
      "id": "f7b45896",
      "metadata": {
        "id": "f7b45896",
        "outputId": "d9c73c3d-1aa0-436d-87c7-26808945ed44",
        "colab": {
          "base_uri": "https://localhost:8080/"
        }
      },
      "outputs": [
        {
          "output_type": "stream",
          "name": "stdout",
          "text": [
            "194.87\n"
          ]
        }
      ],
      "source": [
        "# Future Value\n",
        "amount = 100\n",
        "interest = 10 #10% = 0.01 * 10\n",
        "years = 7\n",
        "future_value = amount * ((1 + (0.01 * interest)) ** years)\n",
        "print(round(future_value, 2))"
      ]
    },
    {
      "cell_type": "markdown",
      "id": "1bd81b35",
      "metadata": {
        "id": "1bd81b35"
      },
      "source": [
        "# Python Data Structures\n"
      ]
    },
    {
      "cell_type": "markdown",
      "id": "df6acfeb",
      "metadata": {
        "id": "df6acfeb"
      },
      "source": [
        "## Python Data Types"
      ]
    },
    {
      "cell_type": "code",
      "execution_count": 18,
      "id": "caa82395",
      "metadata": {
        "id": "caa82395",
        "outputId": "501b2ffc-81dd-4f3c-ab22-f1b9472a5d89",
        "colab": {
          "base_uri": "https://localhost:8080/"
        }
      },
      "outputs": [
        {
          "output_type": "stream",
          "name": "stdout",
          "text": [
            "['apple', 'banana', 'cherry'], data type = <class 'list'>\n",
            "('apple', 'banana', 'cherry'), data type = <class 'tuple'>\n",
            "{'name': 'Tom', 'age': 20}, data type = <class 'dict'>\n",
            "{'banana', 'apple', 'cherry'}, data type = <class 'set'>\n"
          ]
        }
      ],
      "source": [
        "x = [\"apple\", \"banana\", \"cherry\"]   #list\n",
        "print(f'{x}, data type = {type(x)}')\n",
        "x = (\"apple\", \"banana\", \"cherry\")   #tuple\n",
        "print(f'{x}, data type = {type(x)}')\n",
        "x = {\"name\" : \"Tom\", \"age\" : 20}    #dict\n",
        "print(f'{x}, data type = {type(x)}')\n",
        "x = {\"apple\", \"banana\", \"cherry\"}   #set\n",
        "print(f'{x}, data type = {type(x)}')"
      ]
    },
    {
      "cell_type": "markdown",
      "id": "094ce8e8",
      "metadata": {
        "id": "094ce8e8"
      },
      "source": [
        "## Lists []"
      ]
    },
    {
      "cell_type": "code",
      "execution_count": 19,
      "id": "3dc013b2",
      "metadata": {
        "id": "3dc013b2",
        "outputId": "e765b1d3-aaa7-4b4c-9422-9c8c8c64c535",
        "colab": {
          "base_uri": "https://localhost:8080/"
        }
      },
      "outputs": [
        {
          "output_type": "stream",
          "name": "stdout",
          "text": [
            "4\n",
            "60\n",
            "70\n",
            "90\n"
          ]
        }
      ],
      "source": [
        "x = [60, 70, 80, 90]\n",
        "print(len(x))\n",
        "print(x[0])\n",
        "print(x[1])\n",
        "print(x[-1])"
      ]
    },
    {
      "cell_type": "markdown",
      "id": "487ff27a",
      "metadata": {
        "id": "487ff27a"
      },
      "source": [
        "## Tuples ()"
      ]
    },
    {
      "cell_type": "markdown",
      "id": "9169a191",
      "metadata": {
        "id": "9169a191"
      },
      "source": [
        "A tuplein Python is a collection that cannot be modified.\n",
        "A tuple is defined using parenthesis."
      ]
    },
    {
      "cell_type": "code",
      "execution_count": 20,
      "id": "26eebec2",
      "metadata": {
        "id": "26eebec2",
        "outputId": "54dfab98-c5c3-4f0a-b079-e4723b5ac010",
        "colab": {
          "base_uri": "https://localhost:8080/"
        }
      },
      "outputs": [
        {
          "output_type": "stream",
          "name": "stdout",
          "text": [
            "10\n",
            "20\n",
            "30\n",
            "50\n"
          ]
        }
      ],
      "source": [
        "x = (10, 20, 30, 40, 50)\n",
        "print(x[0])\n",
        "print(x[1])\n",
        "print(x[2])\n",
        "print(x[-1])"
      ]
    },
    {
      "cell_type": "markdown",
      "id": "66453e29",
      "metadata": {
        "id": "66453e29"
      },
      "source": [
        "## Sets {}"
      ]
    },
    {
      "cell_type": "code",
      "execution_count": 21,
      "id": "217a0146",
      "metadata": {
        "id": "217a0146",
        "outputId": "b42f09f2-3542-414d-a450-c7cdaa97fb8f",
        "colab": {
          "base_uri": "https://localhost:8080/"
        }
      },
      "outputs": [
        {
          "output_type": "stream",
          "name": "stdout",
          "text": [
            "True\n",
            "False\n",
            "True\n",
            "3\n",
            "3\n",
            "2\n"
          ]
        }
      ],
      "source": [
        "animals = {'cat', 'dog'}\n",
        "print('cat'in animals)\n",
        "print('fish'in animals)\n",
        "animals.add('fish')\n",
        "print('fish'in animals)\n",
        "print(len(animals))\n",
        "animals.add('cat')\n",
        "print(len(animals))\n",
        "animals.remove('cat')\n",
        "print(len(animals))"
      ]
    },
    {
      "cell_type": "markdown",
      "id": "81cae3b1",
      "metadata": {
        "id": "81cae3b1"
      },
      "source": [
        "## Dictionary {key : value}"
      ]
    },
    {
      "cell_type": "code",
      "execution_count": 22,
      "id": "3e034b74",
      "metadata": {
        "id": "3e034b74",
        "outputId": "429e4dcb-9bd9-4fed-d661-d05b77c81859",
        "colab": {
          "base_uri": "https://localhost:8080/"
        }
      },
      "outputs": [
        {
          "output_type": "stream",
          "name": "stdout",
          "text": [
            "English\n"
          ]
        }
      ],
      "source": [
        "k = { 'EN':'English', 'FR':'French'}\n",
        "print(k['EN'])"
      ]
    },
    {
      "cell_type": "markdown",
      "id": "35449cce",
      "metadata": {
        "id": "35449cce"
      },
      "source": [
        "## Python Data Structures"
      ]
    },
    {
      "cell_type": "code",
      "execution_count": 23,
      "id": "b2c112a1",
      "metadata": {
        "id": "b2c112a1",
        "outputId": "3493763c-88f0-48a6-a94f-f1dbb0a1ef18",
        "colab": {
          "base_uri": "https://localhost:8080/"
        }
      },
      "outputs": [
        {
          "output_type": "stream",
          "name": "stdout",
          "text": [
            "['apple', 'banana', 'cherry'], data type = <class 'list'>\n",
            "('red', 'green', 'blue'), data type = <class 'tuple'>\n",
            "{'dog', 'cat'}, data type = <class 'set'>\n",
            "{'name': 'Tom', 'age': 20}, data type = <class 'dict'>\n"
          ]
        }
      ],
      "source": [
        "fruits = [\"apple\", \"banana\", \"cherry\"] #lists []\n",
        "print(f'{fruits}, data type = {type(fruits)}')\n",
        "colors = (\"red\", \"green\", \"blue\")      #tuples ()\n",
        "print(f'{colors}, data type = {type(colors)}')\n",
        "animals = {'cat', 'dog'}               #sets {}\n",
        "print(f'{animals}, data type = {type(animals)}')\n",
        "person = {\"name\" : \"Tom\", \"age\" : 20}  #dictionaries {}\n",
        "print(f'{person}, data type = {type(person)}')"
      ]
    },
    {
      "cell_type": "markdown",
      "id": "5454bfb2",
      "metadata": {
        "id": "5454bfb2"
      },
      "source": [
        "## Python for Finance Applications\n"
      ]
    },
    {
      "cell_type": "markdown",
      "id": "22753b8f",
      "metadata": {
        "id": "22753b8f"
      },
      "source": [
        "**Lists**"
      ]
    },
    {
      "cell_type": "code",
      "execution_count": 24,
      "id": "733ab143",
      "metadata": {
        "id": "733ab143",
        "outputId": "f70fea7e-e2a1-4e0b-ea8c-10e1eff73200",
        "colab": {
          "base_uri": "https://localhost:8080/"
        }
      },
      "outputs": [
        {
          "output_type": "stream",
          "name": "stdout",
          "text": [
            "Total expenses: 293.5\n"
          ]
        }
      ],
      "source": [
        "# Python Lists\n",
        "expenses = [72.50, 80.75, 50.00, 90.25]\n",
        "total_expenses = sum(expenses)\n",
        "print(\"Total expenses:\", total_expenses)"
      ]
    },
    {
      "cell_type": "markdown",
      "id": "626305fd",
      "metadata": {
        "id": "626305fd"
      },
      "source": [
        "**Tuples**"
      ]
    },
    {
      "cell_type": "code",
      "execution_count": 25,
      "id": "d23c2346",
      "metadata": {
        "id": "d23c2346",
        "outputId": "1aa3661f-d569-4c91-f5d4-ebe111d8025d",
        "colab": {
          "base_uri": "https://localhost:8080/"
        }
      },
      "outputs": [
        {
          "output_type": "stream",
          "name": "stdout",
          "text": [
            "Account name: Cash Account number: 1001\n",
            "Account name: Accounts Receivable Account number: 1002\n",
            "Account name: Inventory Account number: 1003\n"
          ]
        }
      ],
      "source": [
        "# Python Tuples\n",
        "accounts = ((\"Cash\", 1001), (\"Accounts Receivable\", 1002),\n",
        "(\"Inventory\", 1003))\n",
        "for account in accounts:\n",
        "    print(\"Account name:\", account[0], \"Account number:\", account[1])"
      ]
    },
    {
      "cell_type": "markdown",
      "id": "e864596d",
      "metadata": {
        "id": "e864596d"
      },
      "source": [
        "**Sets**"
      ]
    },
    {
      "cell_type": "code",
      "execution_count": 26,
      "id": "c084d105",
      "metadata": {
        "id": "c084d105",
        "outputId": "04f49cf7-8766-4c45-eb6e-f52fd34fa268",
        "colab": {
          "base_uri": "https://localhost:8080/"
        }
      },
      "outputs": [
        {
          "output_type": "stream",
          "name": "stdout",
          "text": [
            "Account number 1004 is not in use.\n"
          ]
        }
      ],
      "source": [
        "# Python Sets\n",
        "account_numbers = {1001, 1002, 1003}\n",
        "new_account_number = 1004\n",
        "if new_account_number not in account_numbers:\n",
        "    print(\"Account number\", new_account_number, \"is not in use.\")"
      ]
    },
    {
      "cell_type": "markdown",
      "id": "af4e5f9f",
      "metadata": {
        "id": "af4e5f9f"
      },
      "source": [
        "**Dictionaries**"
      ]
    },
    {
      "cell_type": "code",
      "execution_count": 27,
      "id": "7947f1bf",
      "metadata": {
        "id": "7947f1bf",
        "outputId": "0cc56084-7e10-4aad-c4f2-f0319422b1f2",
        "colab": {
          "base_uri": "https://localhost:8080/"
        }
      },
      "outputs": [
        {
          "output_type": "stream",
          "name": "stdout",
          "text": [
            "Account number: 1001\n",
            "Account name: Cash\n",
            "Account balance: 500.0\n",
            "Account type: Asset\n",
            "Account number: 1002\n",
            "Account name: Accounts Receivable\n",
            "Account balance: 1000.0\n",
            "Account type: Asset\n",
            "Account number: 2001\n",
            "Account name: Accounts Payable\n",
            "Account balance: 750.0\n",
            "Account type: Liability\n"
          ]
        }
      ],
      "source": [
        "# Python Dictionaries\n",
        "accounts = {\"1001\": {\"name\": \"Cash\", \"balance\": 500.00, \"type\": \"Asset\"},\n",
        "\"1002\": {\"name\": \"Accounts Receivable\", \"balance\": 1000.00, \"type\": \"Asset\"},\n",
        "\"2001\": {\"name\": \"Accounts Payable\", \"balance\": 750.00, \"type\": \"Liability\"}}\n",
        "for account_number, account_info in accounts.items():\n",
        "    print(\"Account number:\", account_number)\n",
        "    print(\"Account name:\", account_info[\"name\"])\n",
        "    print(\"Account balance:\", account_info[\"balance\"])\n",
        "    print(\"Account type:\", account_info[\"type\"])"
      ]
    },
    {
      "cell_type": "markdown",
      "id": "a58458fc",
      "metadata": {
        "id": "a58458fc"
      },
      "source": [
        "# Python Control Logic and Loops\n"
      ]
    },
    {
      "cell_type": "markdown",
      "id": "db38c600",
      "metadata": {
        "id": "db38c600"
      },
      "source": [
        "## Python if"
      ]
    },
    {
      "cell_type": "code",
      "execution_count": 28,
      "id": "da2a5c13",
      "metadata": {
        "id": "da2a5c13",
        "outputId": "a6467a54-2285-426f-e9a6-5b71c23ba87d",
        "colab": {
          "base_uri": "https://localhost:8080/"
        }
      },
      "outputs": [
        {
          "output_type": "stream",
          "name": "stdout",
          "text": [
            "Pass\n"
          ]
        }
      ],
      "source": [
        "# Python if\n",
        "score = 80\n",
        "if score >=60:\n",
        "    print(\"Pass\")"
      ]
    },
    {
      "cell_type": "markdown",
      "id": "c7ea7a07",
      "metadata": {
        "id": "c7ea7a07"
      },
      "source": [
        "## Python if else"
      ]
    },
    {
      "cell_type": "code",
      "execution_count": 29,
      "id": "fd029280",
      "metadata": {
        "id": "fd029280",
        "outputId": "566b5d38-7c6e-4127-e2a5-4c80e8a6278a",
        "colab": {
          "base_uri": "https://localhost:8080/"
        }
      },
      "outputs": [
        {
          "output_type": "stream",
          "name": "stdout",
          "text": [
            "Pass\n"
          ]
        }
      ],
      "source": [
        "# Python if else\n",
        "score = 80\n",
        "if score >=60:\n",
        "    print(\"Pass\")\n",
        "else:\n",
        "    print(\"Fail\")"
      ]
    },
    {
      "cell_type": "markdown",
      "id": "1bc35f01",
      "metadata": {
        "id": "1bc35f01"
      },
      "source": [
        "## Python if elif else"
      ]
    },
    {
      "cell_type": "code",
      "execution_count": 30,
      "id": "63c148a7",
      "metadata": {
        "id": "63c148a7",
        "outputId": "833f1e7d-5aa3-48e2-c60b-0e1559686b00",
        "colab": {
          "base_uri": "https://localhost:8080/"
        }
      },
      "outputs": [
        {
          "output_type": "stream",
          "name": "stdout",
          "text": [
            "A\n"
          ]
        }
      ],
      "source": [
        "score = 95\n",
        "if score >= 90:\n",
        "    print(\"A\")\n",
        "elif score >=60:\n",
        "    print(\"Pass\")\n",
        "else:\n",
        "    print(\"Fail\")"
      ]
    },
    {
      "cell_type": "code",
      "execution_count": 31,
      "id": "e994707c",
      "metadata": {
        "id": "e994707c",
        "outputId": "1c3ba376-ee24-4fb1-8de3-4ae326357ffe",
        "colab": {
          "base_uri": "https://localhost:8080/"
        }
      },
      "outputs": [
        {
          "output_type": "stream",
          "name": "stdout",
          "text": [
            "A\n"
          ]
        }
      ],
      "source": [
        "# Python if elif else\n",
        "score = 90\n",
        "grade = \"\"\n",
        "if score >=90:\n",
        "    grade = \"A\"\n",
        "elif score >= 80:\n",
        "    grade = \"B\"\n",
        "elif score >= 70:\n",
        "    grade = \"C\"\n",
        "elif score >= 60:\n",
        "    grade = \"D\"\n",
        "else:\n",
        "    grade = \"E\"\n",
        "print(grade)"
      ]
    },
    {
      "cell_type": "markdown",
      "id": "884c2cda",
      "metadata": {
        "id": "884c2cda"
      },
      "source": [
        "## Python for Loops"
      ]
    },
    {
      "cell_type": "code",
      "execution_count": 32,
      "id": "460e1389",
      "metadata": {
        "id": "460e1389",
        "outputId": "444e80d3-2085-4fd5-ec02-63f8d37a0e9d",
        "colab": {
          "base_uri": "https://localhost:8080/"
        }
      },
      "outputs": [
        {
          "output_type": "stream",
          "name": "stdout",
          "text": [
            "1\n",
            "2\n",
            "3\n",
            "4\n",
            "5\n"
          ]
        }
      ],
      "source": [
        "for i in range(1,6):\n",
        "    print(i)"
      ]
    },
    {
      "cell_type": "code",
      "execution_count": 33,
      "id": "93356d9b",
      "metadata": {
        "id": "93356d9b",
        "outputId": "b711a587-7892-4917-e0d2-f9544cf7022f",
        "colab": {
          "base_uri": "https://localhost:8080/"
        }
      },
      "outputs": [
        {
          "output_type": "stream",
          "name": "stdout",
          "text": [
            "1  *  1  =  1\n",
            "1  *  2  =  2\n",
            "1  *  3  =  3\n",
            "1  *  4  =  4\n",
            "1  *  5  =  5\n",
            "1  *  6  =  6\n",
            "1  *  7  =  7\n",
            "1  *  8  =  8\n",
            "1  *  9  =  9\n",
            "2  *  1  =  2\n",
            "2  *  2  =  4\n",
            "2  *  3  =  6\n",
            "2  *  4  =  8\n",
            "2  *  5  =  10\n",
            "2  *  6  =  12\n",
            "2  *  7  =  14\n",
            "2  *  8  =  16\n",
            "2  *  9  =  18\n",
            "3  *  1  =  3\n",
            "3  *  2  =  6\n",
            "3  *  3  =  9\n",
            "3  *  4  =  12\n",
            "3  *  5  =  15\n",
            "3  *  6  =  18\n",
            "3  *  7  =  21\n",
            "3  *  8  =  24\n",
            "3  *  9  =  27\n",
            "4  *  1  =  4\n",
            "4  *  2  =  8\n",
            "4  *  3  =  12\n",
            "4  *  4  =  16\n",
            "4  *  5  =  20\n",
            "4  *  6  =  24\n",
            "4  *  7  =  28\n",
            "4  *  8  =  32\n",
            "4  *  9  =  36\n",
            "5  *  1  =  5\n",
            "5  *  2  =  10\n",
            "5  *  3  =  15\n",
            "5  *  4  =  20\n",
            "5  *  5  =  25\n",
            "5  *  6  =  30\n",
            "5  *  7  =  35\n",
            "5  *  8  =  40\n",
            "5  *  9  =  45\n",
            "6  *  1  =  6\n",
            "6  *  2  =  12\n",
            "6  *  3  =  18\n",
            "6  *  4  =  24\n",
            "6  *  5  =  30\n",
            "6  *  6  =  36\n",
            "6  *  7  =  42\n",
            "6  *  8  =  48\n",
            "6  *  9  =  54\n",
            "7  *  1  =  7\n",
            "7  *  2  =  14\n",
            "7  *  3  =  21\n",
            "7  *  4  =  28\n",
            "7  *  5  =  35\n",
            "7  *  6  =  42\n",
            "7  *  7  =  49\n",
            "7  *  8  =  56\n",
            "7  *  9  =  63\n",
            "8  *  1  =  8\n",
            "8  *  2  =  16\n",
            "8  *  3  =  24\n",
            "8  *  4  =  32\n",
            "8  *  5  =  40\n",
            "8  *  6  =  48\n",
            "8  *  7  =  56\n",
            "8  *  8  =  64\n",
            "8  *  9  =  72\n",
            "9  *  1  =  9\n",
            "9  *  2  =  18\n",
            "9  *  3  =  27\n",
            "9  *  4  =  36\n",
            "9  *  5  =  45\n",
            "9  *  6  =  54\n",
            "9  *  7  =  63\n",
            "9  *  8  =  72\n",
            "9  *  9  =  81\n"
          ]
        }
      ],
      "source": [
        "# for loops\n",
        "for i in range(1,10):\n",
        "    for j in range(1,10):\n",
        "     print(i, ' * ' , j , ' = ', i*j)"
      ]
    },
    {
      "cell_type": "markdown",
      "id": "91120b65",
      "metadata": {
        "id": "91120b65"
      },
      "source": [
        "## Python while loops"
      ]
    },
    {
      "cell_type": "code",
      "execution_count": 34,
      "id": "a46f8249",
      "metadata": {
        "id": "a46f8249",
        "outputId": "ec975f83-ed56-4e88-9fc7-ed6d4f8fb1a4",
        "colab": {
          "base_uri": "https://localhost:8080/"
        }
      },
      "outputs": [
        {
          "output_type": "stream",
          "name": "stdout",
          "text": [
            "10\n",
            "11\n",
            "12\n",
            "13\n",
            "14\n",
            "15\n",
            "16\n",
            "17\n",
            "18\n",
            "19\n"
          ]
        }
      ],
      "source": [
        "# while loops\n",
        "age = 10\n",
        "while age < 20:\n",
        "    print(age)\n",
        "    age = age + 1"
      ]
    },
    {
      "cell_type": "markdown",
      "id": "a112edd3",
      "metadata": {
        "id": "a112edd3"
      },
      "source": [
        "# Python Functions"
      ]
    },
    {
      "cell_type": "markdown",
      "id": "e21fa422",
      "metadata": {
        "id": "e21fa422"
      },
      "source": [
        "## Python Function def"
      ]
    },
    {
      "cell_type": "code",
      "execution_count": 35,
      "id": "f3210291",
      "metadata": {
        "id": "f3210291",
        "outputId": "ff1d1cde-b5e0-4234-9512-526ee514f4d7",
        "colab": {
          "base_uri": "https://localhost:8080/"
        }
      },
      "outputs": [
        {
          "output_type": "stream",
          "name": "stdout",
          "text": [
            "194.87\n"
          ]
        }
      ],
      "source": [
        "# Python Function def\n",
        "# indentation for blocks. four spaces\n",
        "def getfv(pv, r, n):\n",
        "    fv = pv * ((1+ (r)) ** n)\n",
        "    return fv\n",
        "fv= getfv(100, 0.1, 7)\n",
        "print(round(fv, 2))"
      ]
    },
    {
      "cell_type": "markdown",
      "id": "e2709445",
      "metadata": {
        "id": "e2709445"
      },
      "source": [
        "## Future value of a specified principal amount, rate of interest, and a number of years"
      ]
    },
    {
      "cell_type": "markdown",
      "id": "0083b1ad",
      "metadata": {
        "id": "0083b1ad"
      },
      "source": [
        "How much is your $100 worth  after 7 years?"
      ]
    },
    {
      "cell_type": "code",
      "execution_count": 36,
      "id": "01d75a74",
      "metadata": {
        "id": "01d75a74",
        "outputId": "a4e7e2dd-47c8-4c22-9509-e689a1761a93",
        "colab": {
          "base_uri": "https://localhost:8080/"
        }
      },
      "outputs": [
        {
          "output_type": "stream",
          "name": "stdout",
          "text": [
            "fv =  194.87\n"
          ]
        }
      ],
      "source": [
        "# How much is your $100 worth after 7 years?\n",
        "fv = 100 * 1.1 ** 7\n",
        "print('fv = ', round(fv, 2))\n",
        "# output = 194.87"
      ]
    },
    {
      "cell_type": "markdown",
      "id": "9c4f10db",
      "metadata": {
        "id": "9c4f10db"
      },
      "source": [
        "## Future Value"
      ]
    },
    {
      "cell_type": "code",
      "execution_count": 37,
      "id": "427ea8e5",
      "metadata": {
        "id": "427ea8e5",
        "outputId": "e83193f3-fe82-4086-edc6-9339b2cee9a0",
        "colab": {
          "base_uri": "https://localhost:8080/"
        }
      },
      "outputs": [
        {
          "output_type": "stream",
          "name": "stdout",
          "text": [
            "194.87\n"
          ]
        }
      ],
      "source": [
        "# Future Value\n",
        "pv= 100\n",
        "r = 0.1\n",
        "n = 7\n",
        "fv= pv * ((1+ (r)) ** n)\n",
        "print(round(fv, 2))"
      ]
    },
    {
      "cell_type": "code",
      "execution_count": 38,
      "id": "a0a82bd5",
      "metadata": {
        "id": "a0a82bd5",
        "outputId": "07eb06a2-5027-420c-aed6-00b377b08e17",
        "colab": {
          "base_uri": "https://localhost:8080/"
        }
      },
      "outputs": [
        {
          "output_type": "stream",
          "name": "stdout",
          "text": [
            "194.87\n"
          ]
        }
      ],
      "source": [
        "# Future Value\n",
        "amount = 100\n",
        "interest = 10#10% = 0.01 * 10\n",
        "years = 7\n",
        "future_value = amount * ((1 + (0.01 * interest)) ** years)\n",
        "print(round(future_value, 2))"
      ]
    },
    {
      "cell_type": "markdown",
      "id": "c55e23a8",
      "metadata": {
        "id": "c55e23a8"
      },
      "source": [
        "## Python Function"
      ]
    },
    {
      "cell_type": "markdown",
      "id": "86eb6e4f",
      "metadata": {
        "id": "86eb6e4f"
      },
      "source": [
        "def getfv() define get future value function"
      ]
    },
    {
      "cell_type": "code",
      "execution_count": 39,
      "id": "17fc7169",
      "metadata": {
        "id": "17fc7169",
        "outputId": "62580c92-1508-4de4-f5b6-388ceb8bd091",
        "colab": {
          "base_uri": "https://localhost:8080/"
        }
      },
      "outputs": [
        {
          "output_type": "stream",
          "name": "stdout",
          "text": [
            "194.87\n"
          ]
        }
      ],
      "source": [
        "# Python Function def\n",
        "# indentation for blocks. four spaces\n",
        "def getfv(pv, r, n):\n",
        "    fv = pv * ((1+ (r)) ** n)\n",
        "    return fv\n",
        "fv= getfv(100, 0.1, 7)\n",
        "print(round(fv, 2))"
      ]
    },
    {
      "cell_type": "markdown",
      "id": "8a7797b6",
      "metadata": {
        "id": "8a7797b6"
      },
      "source": [
        "# Python Classes/Objects\n",
        "class MyClass:\n"
      ]
    },
    {
      "cell_type": "code",
      "execution_count": 40,
      "id": "9f4de2af",
      "metadata": {
        "id": "9f4de2af",
        "outputId": "61a7e9a6-d7ba-4efc-86f0-f1d5241a01c8",
        "colab": {
          "base_uri": "https://localhost:8080/"
        }
      },
      "outputs": [
        {
          "output_type": "stream",
          "name": "stdout",
          "text": [
            "5\n"
          ]
        }
      ],
      "source": [
        "# Python class\n",
        "class MyClass:\n",
        "    x = 5\n",
        "\n",
        "c1 = MyClass()\n",
        "print(c1.x)"
      ]
    },
    {
      "cell_type": "code",
      "execution_count": 41,
      "id": "9999a401",
      "metadata": {
        "id": "9999a401",
        "outputId": "964af070-3c97-4ba4-f322-4c1fb63068f7",
        "colab": {
          "base_uri": "https://localhost:8080/"
        }
      },
      "outputs": [
        {
          "output_type": "stream",
          "name": "stdout",
          "text": [
            "Alan\n",
            "20\n"
          ]
        }
      ],
      "source": [
        "class Person:\n",
        "    def __init__(self, name, age) :\n",
        "        self.name= name\n",
        "        self.age= age\n",
        "\n",
        "p1 = Person(\"Alan\", 20)\n",
        "print(p1.name)\n",
        "print(p1.age)"
      ]
    },
    {
      "cell_type": "code",
      "execution_count": 42,
      "id": "31d4950d",
      "metadata": {
        "id": "31d4950d",
        "outputId": "265652f2-f6fa-482a-bb45-826ffb3f8600",
        "colab": {
          "base_uri": "https://localhost:8080/"
        }
      },
      "outputs": [
        {
          "output_type": "stream",
          "name": "stdout",
          "text": [
            "Hello my name is Alan\n"
          ]
        }
      ],
      "source": [
        "class Person:\n",
        "    def __init__(self, name, age) :\n",
        "        self.name = name\n",
        "        self.age = age\n",
        "\n",
        "    def myfunc(self) :\n",
        "        print(\"Hello my name is \" + self.name)\n",
        "\n",
        "p1 = Person(\"Alan\", 20)\n",
        "p1.myfunc()"
      ]
    },
    {
      "cell_type": "code",
      "execution_count": 43,
      "id": "0915472f",
      "metadata": {
        "id": "0915472f",
        "outputId": "86161549-e6df-450e-c6c8-b6987e024e52",
        "colab": {
          "base_uri": "https://localhost:8080/"
        }
      },
      "outputs": [
        {
          "output_type": "stream",
          "name": "stdout",
          "text": [
            "Hello my name is Alan\n",
            "Alan\n",
            "20\n"
          ]
        }
      ],
      "source": [
        "class Person:\n",
        "    def __init__(self, name, age):\n",
        "        self.name = name\n",
        "        self.age = age\n",
        "\n",
        "    def myfunc(self):\n",
        "        print(\"Hello my name is \" + self.name)\n",
        "\n",
        "p1 = Person(\"Alan\", 20)\n",
        "p1.myfunc()\n",
        "print(p1.name)\n",
        "print(p1.age)"
      ]
    },
    {
      "cell_type": "code",
      "execution_count": 44,
      "id": "632151e3",
      "metadata": {
        "id": "632151e3"
      },
      "outputs": [],
      "source": [
        "class Vehicle:\n",
        "    name = \"\"\n",
        "    kind = \"car\"\n",
        "    color = \"\"\n",
        "    value = 100.00\n",
        "    def description(self):\n",
        "        desc_str = \"%s is a %s %s worth $%.2f.\" % (self.name, self.color, self.kind, self.value)\n",
        "        return desc_str"
      ]
    },
    {
      "cell_type": "code",
      "execution_count": 45,
      "id": "9c9f92d0",
      "metadata": {
        "id": "9c9f92d0",
        "outputId": "1876cff5-fa15-4340-c949-4416e78ba084",
        "colab": {
          "base_uri": "https://localhost:8080/"
        }
      },
      "outputs": [
        {
          "output_type": "stream",
          "name": "stdout",
          "text": [
            "Fer is a red convertible worth $60000.00.\n",
            "Fer\n",
            "Jump is a blue van worth $10000.00.\n",
            "Jump\n"
          ]
        }
      ],
      "source": [
        "car1 = Vehicle()\n",
        "car1.name = \"Fer\"\n",
        "car1.color = \"red\"\n",
        "car1.kind = \"convertible\"\n",
        "car1.value = 60000.00\n",
        "\n",
        "car2 = Vehicle()\n",
        "car2.name = \"Jump\"\n",
        "car2.color = \"blue\"\n",
        "car2.kind = \"van\"\n",
        "car2.value = 10000.00\n",
        "\n",
        "print(car1.description())\n",
        "print(car1.name)\n",
        "print(car2.description())\n",
        "print(car2.name)"
      ]
    },
    {
      "cell_type": "code",
      "execution_count": 46,
      "id": "ac006cb7",
      "metadata": {
        "id": "ac006cb7"
      },
      "outputs": [],
      "source": [
        "class Vehicle:\n",
        "    name = \"\"\n",
        "    kind = \"car\"\n",
        "    color = \"\"\n",
        "    value = 100.00\n",
        "    def description(self):\n",
        "        desc_str= \"%s is a %s %s worth $%.2f.\"% (self.name, self.color, self.kind, self.value)\n",
        "        return desc_str"
      ]
    },
    {
      "cell_type": "markdown",
      "id": "b282b0f5",
      "metadata": {
        "id": "b282b0f5"
      },
      "source": [
        "# Python Modules"
      ]
    },
    {
      "cell_type": "markdown",
      "id": "ee21d513",
      "metadata": {
        "id": "ee21d513"
      },
      "source": [
        "## Python Modules"
      ]
    },
    {
      "cell_type": "code",
      "execution_count": 47,
      "id": "9e58654f",
      "metadata": {
        "id": "9e58654f"
      },
      "outputs": [],
      "source": [
        "# mymodule.py\n",
        "def greeting(name):\n",
        "    print(\"Hello, \"+ name)"
      ]
    },
    {
      "cell_type": "code",
      "source": [
        "# 1. Tạo file mymodule.py trong thư mục hiện tại\n",
        "with open(\"mymodule.py\", \"w\") as f:\n",
        "    f.write(\"\"\"\n",
        "def greeting(name):\n",
        "    return f\"Hello, {name}\"\n",
        "\"\"\")\n",
        "\n",
        "# 2. Import lại module\n",
        "import mymodule\n",
        "\n",
        "# 3. Gọi hàm trong module\n",
        "print(mymodule.greeting(\"Alan\"))\n"
      ],
      "metadata": {
        "colab": {
          "base_uri": "https://localhost:8080/"
        },
        "id": "g-WVssk51YoB",
        "outputId": "fb6f7ff3-5065-40f7-e764-13c42e4b40c0"
      },
      "id": "g-WVssk51YoB",
      "execution_count": 50,
      "outputs": [
        {
          "output_type": "stream",
          "name": "stdout",
          "text": [
            "Hello, Alan\n"
          ]
        }
      ]
    },
    {
      "cell_type": "code",
      "execution_count": 51,
      "id": "49c297ea",
      "metadata": {
        "id": "49c297ea",
        "outputId": "d30150ca-e8f2-4e51-fda3-f16b7b501fe8",
        "colab": {
          "base_uri": "https://localhost:8080/",
          "height": 36
        }
      },
      "outputs": [
        {
          "output_type": "execute_result",
          "data": {
            "text/plain": [
              "'Hello, Alan'"
            ],
            "application/vnd.google.colaboratory.intrinsic+json": {
              "type": "string"
            }
          },
          "metadata": {},
          "execution_count": 51
        }
      ],
      "source": [
        "import mymodule\n",
        "mymodule.greeting(\"Alan\")"
      ]
    },
    {
      "cell_type": "code",
      "source": [
        "from google.colab import drive\n",
        "drive.mount('/content/drive')"
      ],
      "metadata": {
        "colab": {
          "base_uri": "https://localhost:8080/"
        },
        "id": "wN1bokbD032E",
        "outputId": "afe0e424-dc01-42b5-e3d7-334cad70ae98"
      },
      "id": "wN1bokbD032E",
      "execution_count": 49,
      "outputs": [
        {
          "output_type": "stream",
          "name": "stdout",
          "text": [
            "Mounted at /content/drive\n"
          ]
        }
      ]
    },
    {
      "cell_type": "markdown",
      "id": "a3d8d334",
      "metadata": {
        "id": "a3d8d334"
      },
      "source": [
        "## Python File Input / Output"
      ]
    },
    {
      "cell_type": "code",
      "execution_count": 52,
      "id": "8ee68bc6",
      "metadata": {
        "id": "8ee68bc6",
        "outputId": "8f78eba7-2ccf-4d91-a495-c65f9c109461",
        "colab": {
          "base_uri": "https://localhost:8080/"
        }
      },
      "outputs": [
        {
          "output_type": "stream",
          "name": "stdout",
          "text": [
            "Hello World\n",
            "This is Python File Input Output\n"
          ]
        }
      ],
      "source": [
        "# Python File Input / Output\n",
        "with open('myfile.txt', 'w') as file:\n",
        "    file.write('Hello World\\nThis is Python File Input Output')\n",
        "with open('myfile.txt', 'r') as file:\n",
        "    text = file.read()\n",
        "    print(text)"
      ]
    },
    {
      "cell_type": "code",
      "execution_count": 53,
      "id": "5a6d41ac",
      "metadata": {
        "id": "5a6d41ac",
        "outputId": "af8de292-a4c0-4ba9-c95b-157e56ffd229",
        "colab": {
          "base_uri": "https://localhost:8080/"
        }
      },
      "outputs": [
        {
          "output_type": "stream",
          "name": "stdout",
          "text": [
            "mymodule.py\n",
            "def greeting(name):\n",
            "    print(\"Hello, \" + name)\n",
            "    \n"
          ]
        }
      ],
      "source": [
        "# Python File Input / Output\n",
        "filename = 'mymodule.py'\n",
        "with open(filename, 'w') as file:\n",
        "    text = '''def greeting(name):\n",
        "    print(\"Hello, \" + name)\n",
        "    '''\n",
        "    file.write(text)\n",
        "\n",
        "with open(filename, 'r') as file:\n",
        "    text = file.read()\n",
        "print(filename)\n",
        "print(text)"
      ]
    },
    {
      "cell_type": "markdown",
      "id": "24fe888d",
      "metadata": {
        "id": "24fe888d"
      },
      "source": [
        "## Python Modules"
      ]
    },
    {
      "cell_type": "markdown",
      "id": "950dcdc8",
      "metadata": {
        "id": "950dcdc8"
      },
      "source": [
        "***import mymodule***"
      ]
    },
    {
      "cell_type": "code",
      "execution_count": 54,
      "id": "813a564d",
      "metadata": {
        "id": "813a564d"
      },
      "outputs": [],
      "source": [
        "# mymodule.py\n",
        "def greeting(name):\n",
        "    print(\"Hello, \"+ name)"
      ]
    },
    {
      "cell_type": "code",
      "execution_count": 55,
      "id": "5f5d4f8f",
      "metadata": {
        "id": "5f5d4f8f",
        "outputId": "68636182-67db-4dd7-a85b-e6df413634fb",
        "colab": {
          "base_uri": "https://localhost:8080/",
          "height": 36
        }
      },
      "outputs": [
        {
          "output_type": "execute_result",
          "data": {
            "text/plain": [
              "'Hello, Alan'"
            ],
            "application/vnd.google.colaboratory.intrinsic+json": {
              "type": "string"
            }
          },
          "metadata": {},
          "execution_count": 55
        }
      ],
      "source": [
        "import mymodule\n",
        "mymodule.greeting(\"Alan\")"
      ]
    },
    {
      "cell_type": "markdown",
      "id": "86a3f772",
      "metadata": {
        "id": "86a3f772"
      },
      "source": [
        "## Python main() function"
      ]
    },
    {
      "cell_type": "code",
      "execution_count": 56,
      "id": "8f2c0785",
      "metadata": {
        "id": "8f2c0785",
        "outputId": "003ff772-0e1e-485f-ee1d-50ecabd9d328",
        "colab": {
          "base_uri": "https://localhost:8080/"
        }
      },
      "outputs": [
        {
          "output_type": "stream",
          "name": "stdout",
          "text": [
            "Hello World!\n"
          ]
        }
      ],
      "source": [
        "#Python main() function\n",
        "def main():\n",
        "    print(\"Hello World!\")\n",
        "\n",
        "if __name__ == \"__main__\":\n",
        "    main()\n"
      ]
    },
    {
      "cell_type": "markdown",
      "id": "7dcd7f07",
      "metadata": {
        "id": "7dcd7f07"
      },
      "source": [
        "# Files and Exception Handling\n"
      ]
    },
    {
      "cell_type": "markdown",
      "id": "9e99db63",
      "metadata": {
        "id": "9e99db63"
      },
      "source": [
        "## Python Files (File Handling)"
      ]
    },
    {
      "cell_type": "code",
      "execution_count": 57,
      "id": "49bdd257",
      "metadata": {
        "id": "49bdd257",
        "outputId": "6cea848b-9c9c-4a5d-e590-2e2ef3cfca33",
        "colab": {
          "base_uri": "https://localhost:8080/"
        }
      },
      "outputs": [
        {
          "output_type": "stream",
          "name": "stdout",
          "text": [
            "Hello World\n"
          ]
        }
      ],
      "source": [
        "f = open(\"myfile.txt\", \"w\")\n",
        "f.write(\"Hello World\")\n",
        "f.close()\n",
        "\n",
        "f = open(\"myfile.txt\", \"r\")\n",
        "text = f.read()\n",
        "print(text)\n",
        "f.close()"
      ]
    },
    {
      "cell_type": "markdown",
      "id": "1c9de595",
      "metadata": {
        "id": "1c9de595"
      },
      "source": [
        "**Đọc file và ghi file**"
      ]
    },
    {
      "cell_type": "code",
      "execution_count": 58,
      "id": "0dc0c9a2",
      "metadata": {
        "id": "0dc0c9a2",
        "outputId": "6e80e2d5-0fd3-4c5e-f04a-19b4b0f3b9b2",
        "colab": {
          "base_uri": "https://localhost:8080/"
        }
      },
      "outputs": [
        {
          "output_type": "stream",
          "name": "stdout",
          "text": [
            "Hello World\n"
          ]
        }
      ],
      "source": [
        "# Python File Input / Output\n",
        "with open('myfile.txt', 'w') as file:\n",
        "    file.write('Hello World')\n",
        "\n",
        "with open('myfile.txt', 'r') as file:\n",
        "    text = file.read()\n",
        "print(text)"
      ]
    },
    {
      "cell_type": "markdown",
      "id": "7737c1f3",
      "metadata": {
        "id": "7737c1f3"
      },
      "source": [
        "**Cách ghi thêm dòng trong file**"
      ]
    },
    {
      "cell_type": "code",
      "execution_count": 59,
      "id": "7aa753ab",
      "metadata": {
        "id": "7aa753ab",
        "outputId": "c16f3f3d-1ba0-43fd-856f-cba61dc5d058",
        "colab": {
          "base_uri": "https://localhost:8080/"
        }
      },
      "outputs": [
        {
          "output_type": "stream",
          "name": "stdout",
          "text": [
            "Hello World\n",
            "Python File IO\n"
          ]
        }
      ],
      "source": [
        "# Python File Input / Output\n",
        "with open('myfile.txt', 'w') as file:\n",
        "    file.write('Hello World\\nPython File IO')\n",
        "with open('myfile.txt', 'r') as file:\n",
        "    text = file.read()\n",
        "print(text)"
      ]
    },
    {
      "cell_type": "markdown",
      "id": "5a15f827",
      "metadata": {
        "id": "5a15f827"
      },
      "source": [
        "**Ghi thêm dòng mới vào file đã có sẳn**"
      ]
    },
    {
      "cell_type": "code",
      "execution_count": 60,
      "id": "5d664620",
      "metadata": {
        "id": "5d664620",
        "outputId": "222512b9-64fc-44f2-e1aa-f235470c3b08",
        "colab": {
          "base_uri": "https://localhost:8080/"
        }
      },
      "outputs": [
        {
          "output_type": "stream",
          "name": "stdout",
          "text": [
            "Hello World\n",
            "Python File IO\n",
            "New line\n"
          ]
        }
      ],
      "source": [
        "# Python File Input / Output\n",
        "with open('myfile.txt', 'a+') as file:\n",
        "    file.write('\\n'+ 'New line')\n",
        "\n",
        "with open('myfile.txt', 'r') as file:\n",
        "    text = file.read()\n",
        "print(text)"
      ]
    },
    {
      "cell_type": "markdown",
      "id": "a7f71b5c",
      "metadata": {
        "id": "a7f71b5c"
      },
      "source": [
        "**Tìm kiếm vị trí file nguồn**"
      ]
    },
    {
      "cell_type": "code",
      "execution_count": 61,
      "id": "8641365b",
      "metadata": {
        "colab": {
          "base_uri": "https://localhost:8080/"
        },
        "id": "8641365b",
        "outputId": "460aaf15-56f0-450d-c4be-215a578f46ef"
      },
      "outputs": [
        {
          "output_type": "stream",
          "name": "stdout",
          "text": [
            "drive  myfile.txt  mymodule.py\t__pycache__  sample_data\n"
          ]
        }
      ],
      "source": [
        "# !ls list files\n",
        "!ls"
      ]
    },
    {
      "cell_type": "markdown",
      "id": "96b9331a",
      "metadata": {
        "id": "96b9331a"
      },
      "source": [
        "## Python OS, IO, files, and Google Drive"
      ]
    },
    {
      "cell_type": "markdown",
      "id": "b2feee4d",
      "metadata": {
        "id": "b2feee4d"
      },
      "source": [
        " **os.getcwd()**"
      ]
    },
    {
      "cell_type": "code",
      "execution_count": 62,
      "id": "b3dfb99e",
      "metadata": {
        "colab": {
          "base_uri": "https://localhost:8080/"
        },
        "id": "b3dfb99e",
        "outputId": "6d5e3eef-190b-4686-c1b4-62fef8e25a01"
      },
      "outputs": [
        {
          "output_type": "stream",
          "name": "stdout",
          "text": [
            "/content\n"
          ]
        }
      ],
      "source": [
        "import os\n",
        "cwd = os.getcwd()\n",
        "print(cwd)"
      ]
    },
    {
      "cell_type": "markdown",
      "id": "6118108c",
      "metadata": {
        "id": "6118108c"
      },
      "source": [
        "**os.listdir()**"
      ]
    },
    {
      "cell_type": "code",
      "execution_count": 63,
      "id": "aa1339dd",
      "metadata": {
        "colab": {
          "base_uri": "https://localhost:8080/"
        },
        "id": "aa1339dd",
        "outputId": "c0992571-0f1d-4e1e-d1e2-07eb1856c6a5"
      },
      "outputs": [
        {
          "output_type": "execute_result",
          "data": {
            "text/plain": [
              "['.config', 'mymodule.py', '__pycache__', 'drive', 'myfile.txt', 'sample_data']"
            ]
          },
          "metadata": {},
          "execution_count": 63
        }
      ],
      "source": [
        "os.listdir(cwd)"
      ]
    },
    {
      "cell_type": "markdown",
      "id": "7f360582",
      "metadata": {
        "id": "7f360582"
      },
      "source": [
        "**os.path.join()**"
      ]
    },
    {
      "cell_type": "code",
      "execution_count": 64,
      "id": "0a177beb",
      "metadata": {
        "colab": {
          "base_uri": "https://localhost:8080/"
        },
        "id": "0a177beb",
        "outputId": "f7b3defe-324f-4410-b306-134f33747790"
      },
      "outputs": [
        {
          "output_type": "stream",
          "name": "stdout",
          "text": [
            "/content/sample_data\n"
          ]
        },
        {
          "output_type": "execute_result",
          "data": {
            "text/plain": [
              "['README.md',\n",
              " 'anscombe.json',\n",
              " 'california_housing_test.csv',\n",
              " 'mnist_test.csv',\n",
              " 'california_housing_train.csv',\n",
              " 'mnist_train_small.csv']"
            ]
          },
          "metadata": {},
          "execution_count": 64
        }
      ],
      "source": [
        "path = os.path.join(cwd, 'sample_data')\n",
        "print(path)\n",
        "os.listdir(path)"
      ]
    },
    {
      "cell_type": "markdown",
      "id": "5858c97d",
      "metadata": {
        "id": "5858c97d"
      },
      "source": [
        "**from google.colab import files**"
      ]
    },
    {
      "cell_type": "markdown",
      "source": [
        "***Download file về máy***"
      ],
      "metadata": {
        "id": "Jwj2qqOPYZX7"
      },
      "id": "Jwj2qqOPYZX7"
    },
    {
      "cell_type": "code",
      "execution_count": 65,
      "id": "c9bfd7a1",
      "metadata": {
        "colab": {
          "base_uri": "https://localhost:8080/",
          "height": 35
        },
        "id": "c9bfd7a1",
        "outputId": "303b1699-892c-4e9e-c54f-92310e81acb2"
      },
      "outputs": [
        {
          "output_type": "display_data",
          "data": {
            "text/plain": [
              "<IPython.core.display.Javascript object>"
            ],
            "application/javascript": [
              "\n",
              "    async function download(id, filename, size) {\n",
              "      if (!google.colab.kernel.accessAllowed) {\n",
              "        return;\n",
              "      }\n",
              "      const div = document.createElement('div');\n",
              "      const label = document.createElement('label');\n",
              "      label.textContent = `Downloading \"${filename}\": `;\n",
              "      div.appendChild(label);\n",
              "      const progress = document.createElement('progress');\n",
              "      progress.max = size;\n",
              "      div.appendChild(progress);\n",
              "      document.body.appendChild(div);\n",
              "\n",
              "      const buffers = [];\n",
              "      let downloaded = 0;\n",
              "\n",
              "      const channel = await google.colab.kernel.comms.open(id);\n",
              "      // Send a message to notify the kernel that we're ready.\n",
              "      channel.send({})\n",
              "\n",
              "      for await (const message of channel.messages) {\n",
              "        // Send a message to notify the kernel that we're ready.\n",
              "        channel.send({})\n",
              "        if (message.buffers) {\n",
              "          for (const buffer of message.buffers) {\n",
              "            buffers.push(buffer);\n",
              "            downloaded += buffer.byteLength;\n",
              "            progress.value = downloaded;\n",
              "          }\n",
              "        }\n",
              "      }\n",
              "      const blob = new Blob(buffers, {type: 'application/binary'});\n",
              "      const a = document.createElement('a');\n",
              "      a.href = window.URL.createObjectURL(blob);\n",
              "      a.download = filename;\n",
              "      div.appendChild(a);\n",
              "      a.click();\n",
              "      div.remove();\n",
              "    }\n",
              "  "
            ]
          },
          "metadata": {}
        },
        {
          "output_type": "display_data",
          "data": {
            "text/plain": [
              "<IPython.core.display.Javascript object>"
            ],
            "application/javascript": [
              "download(\"download_002dca6d-fb50-4834-9e6f-c75270f4e506\", \"io_file_myday.txt\", 46)"
            ]
          },
          "metadata": {}
        },
        {
          "output_type": "stream",
          "name": "stdout",
          "text": [
            "downloaded\n"
          ]
        }
      ],
      "source": [
        "from google.colab import files\n",
        "\n",
        "with open('io_file_myday.txt', 'w') as f:\n",
        "    f.write('Google ColabFile Write Text some content Myday')\n",
        "\n",
        "import time\n",
        "time.sleep(1) # time sleep 1 second\n",
        "\n",
        "files.download('io_file_myday.txt')\n",
        "print('downloaded')"
      ]
    },
    {
      "cell_type": "markdown",
      "source": [
        "***Tải file từ máy có sẳn lên gg colab***"
      ],
      "metadata": {
        "id": "zD6I4xoHYear"
      },
      "id": "zD6I4xoHYear"
    },
    {
      "cell_type": "code",
      "execution_count": 66,
      "id": "ffa61d17",
      "metadata": {
        "colab": {
          "base_uri": "https://localhost:8080/",
          "height": 91
        },
        "id": "ffa61d17",
        "outputId": "f6a64bf2-b332-4867-dfb2-d675379852df"
      },
      "outputs": [
        {
          "output_type": "display_data",
          "data": {
            "text/plain": [
              "<IPython.core.display.HTML object>"
            ],
            "text/html": [
              "\n",
              "     <input type=\"file\" id=\"files-715a3236-ff61-4193-9929-00e81b2ed63c\" name=\"files[]\" multiple disabled\n",
              "        style=\"border:none\" />\n",
              "     <output id=\"result-715a3236-ff61-4193-9929-00e81b2ed63c\">\n",
              "      Upload widget is only available when the cell has been executed in the\n",
              "      current browser session. Please rerun this cell to enable.\n",
              "      </output>\n",
              "      <script>// Copyright 2017 Google LLC\n",
              "//\n",
              "// Licensed under the Apache License, Version 2.0 (the \"License\");\n",
              "// you may not use this file except in compliance with the License.\n",
              "// You may obtain a copy of the License at\n",
              "//\n",
              "//      http://www.apache.org/licenses/LICENSE-2.0\n",
              "//\n",
              "// Unless required by applicable law or agreed to in writing, software\n",
              "// distributed under the License is distributed on an \"AS IS\" BASIS,\n",
              "// WITHOUT WARRANTIES OR CONDITIONS OF ANY KIND, either express or implied.\n",
              "// See the License for the specific language governing permissions and\n",
              "// limitations under the License.\n",
              "\n",
              "/**\n",
              " * @fileoverview Helpers for google.colab Python module.\n",
              " */\n",
              "(function(scope) {\n",
              "function span(text, styleAttributes = {}) {\n",
              "  const element = document.createElement('span');\n",
              "  element.textContent = text;\n",
              "  for (const key of Object.keys(styleAttributes)) {\n",
              "    element.style[key] = styleAttributes[key];\n",
              "  }\n",
              "  return element;\n",
              "}\n",
              "\n",
              "// Max number of bytes which will be uploaded at a time.\n",
              "const MAX_PAYLOAD_SIZE = 100 * 1024;\n",
              "\n",
              "function _uploadFiles(inputId, outputId) {\n",
              "  const steps = uploadFilesStep(inputId, outputId);\n",
              "  const outputElement = document.getElementById(outputId);\n",
              "  // Cache steps on the outputElement to make it available for the next call\n",
              "  // to uploadFilesContinue from Python.\n",
              "  outputElement.steps = steps;\n",
              "\n",
              "  return _uploadFilesContinue(outputId);\n",
              "}\n",
              "\n",
              "// This is roughly an async generator (not supported in the browser yet),\n",
              "// where there are multiple asynchronous steps and the Python side is going\n",
              "// to poll for completion of each step.\n",
              "// This uses a Promise to block the python side on completion of each step,\n",
              "// then passes the result of the previous step as the input to the next step.\n",
              "function _uploadFilesContinue(outputId) {\n",
              "  const outputElement = document.getElementById(outputId);\n",
              "  const steps = outputElement.steps;\n",
              "\n",
              "  const next = steps.next(outputElement.lastPromiseValue);\n",
              "  return Promise.resolve(next.value.promise).then((value) => {\n",
              "    // Cache the last promise value to make it available to the next\n",
              "    // step of the generator.\n",
              "    outputElement.lastPromiseValue = value;\n",
              "    return next.value.response;\n",
              "  });\n",
              "}\n",
              "\n",
              "/**\n",
              " * Generator function which is called between each async step of the upload\n",
              " * process.\n",
              " * @param {string} inputId Element ID of the input file picker element.\n",
              " * @param {string} outputId Element ID of the output display.\n",
              " * @return {!Iterable<!Object>} Iterable of next steps.\n",
              " */\n",
              "function* uploadFilesStep(inputId, outputId) {\n",
              "  const inputElement = document.getElementById(inputId);\n",
              "  inputElement.disabled = false;\n",
              "\n",
              "  const outputElement = document.getElementById(outputId);\n",
              "  outputElement.innerHTML = '';\n",
              "\n",
              "  const pickedPromise = new Promise((resolve) => {\n",
              "    inputElement.addEventListener('change', (e) => {\n",
              "      resolve(e.target.files);\n",
              "    });\n",
              "  });\n",
              "\n",
              "  const cancel = document.createElement('button');\n",
              "  inputElement.parentElement.appendChild(cancel);\n",
              "  cancel.textContent = 'Cancel upload';\n",
              "  const cancelPromise = new Promise((resolve) => {\n",
              "    cancel.onclick = () => {\n",
              "      resolve(null);\n",
              "    };\n",
              "  });\n",
              "\n",
              "  // Wait for the user to pick the files.\n",
              "  const files = yield {\n",
              "    promise: Promise.race([pickedPromise, cancelPromise]),\n",
              "    response: {\n",
              "      action: 'starting',\n",
              "    }\n",
              "  };\n",
              "\n",
              "  cancel.remove();\n",
              "\n",
              "  // Disable the input element since further picks are not allowed.\n",
              "  inputElement.disabled = true;\n",
              "\n",
              "  if (!files) {\n",
              "    return {\n",
              "      response: {\n",
              "        action: 'complete',\n",
              "      }\n",
              "    };\n",
              "  }\n",
              "\n",
              "  for (const file of files) {\n",
              "    const li = document.createElement('li');\n",
              "    li.append(span(file.name, {fontWeight: 'bold'}));\n",
              "    li.append(span(\n",
              "        `(${file.type || 'n/a'}) - ${file.size} bytes, ` +\n",
              "        `last modified: ${\n",
              "            file.lastModifiedDate ? file.lastModifiedDate.toLocaleDateString() :\n",
              "                                    'n/a'} - `));\n",
              "    const percent = span('0% done');\n",
              "    li.appendChild(percent);\n",
              "\n",
              "    outputElement.appendChild(li);\n",
              "\n",
              "    const fileDataPromise = new Promise((resolve) => {\n",
              "      const reader = new FileReader();\n",
              "      reader.onload = (e) => {\n",
              "        resolve(e.target.result);\n",
              "      };\n",
              "      reader.readAsArrayBuffer(file);\n",
              "    });\n",
              "    // Wait for the data to be ready.\n",
              "    let fileData = yield {\n",
              "      promise: fileDataPromise,\n",
              "      response: {\n",
              "        action: 'continue',\n",
              "      }\n",
              "    };\n",
              "\n",
              "    // Use a chunked sending to avoid message size limits. See b/62115660.\n",
              "    let position = 0;\n",
              "    do {\n",
              "      const length = Math.min(fileData.byteLength - position, MAX_PAYLOAD_SIZE);\n",
              "      const chunk = new Uint8Array(fileData, position, length);\n",
              "      position += length;\n",
              "\n",
              "      const base64 = btoa(String.fromCharCode.apply(null, chunk));\n",
              "      yield {\n",
              "        response: {\n",
              "          action: 'append',\n",
              "          file: file.name,\n",
              "          data: base64,\n",
              "        },\n",
              "      };\n",
              "\n",
              "      let percentDone = fileData.byteLength === 0 ?\n",
              "          100 :\n",
              "          Math.round((position / fileData.byteLength) * 100);\n",
              "      percent.textContent = `${percentDone}% done`;\n",
              "\n",
              "    } while (position < fileData.byteLength);\n",
              "  }\n",
              "\n",
              "  // All done.\n",
              "  yield {\n",
              "    response: {\n",
              "      action: 'complete',\n",
              "    }\n",
              "  };\n",
              "}\n",
              "\n",
              "scope.google = scope.google || {};\n",
              "scope.google.colab = scope.google.colab || {};\n",
              "scope.google.colab._files = {\n",
              "  _uploadFiles,\n",
              "  _uploadFilesContinue,\n",
              "};\n",
              "})(self);\n",
              "</script> "
            ]
          },
          "metadata": {}
        },
        {
          "output_type": "stream",
          "name": "stdout",
          "text": [
            "Saving io_file_myday.txt to io_file_myday (1).txt\n",
            "User uploaded file \"io_file_myday (1).txt\" with length 46 bytes\n"
          ]
        }
      ],
      "source": [
        "from google.colab import files\n",
        "uploaded = files.upload()\n",
        "\n",
        "for fn in uploaded.keys():\n",
        "    print('User uploaded file \"{name}\" with length {length} bytes'.format(name=fn, length=len(uploaded[fn])))"
      ]
    },
    {
      "cell_type": "markdown",
      "id": "3a8c2f5a",
      "metadata": {
        "id": "3a8c2f5a"
      },
      "source": [
        "**os.remove()**"
      ]
    },
    {
      "cell_type": "code",
      "execution_count": 67,
      "id": "9cf18ba8",
      "metadata": {
        "colab": {
          "base_uri": "https://localhost:8080/"
        },
        "id": "9cf18ba8",
        "outputId": "509e1b79-026b-45ca-e905-82d28d2b9b52"
      },
      "outputs": [
        {
          "output_type": "stream",
          "name": "stdout",
          "text": [
            "myfile.txt removed\n"
          ]
        }
      ],
      "source": [
        "import os\n",
        "if os.path.exists(\"myfile.txt\"):\n",
        "    os.remove(\"myfile.txt\")\n",
        "    print(\"myfile.txt removed\")\n",
        "else:\n",
        "    print(\"The file does not exist\")"
      ]
    },
    {
      "cell_type": "markdown",
      "id": "e1786495",
      "metadata": {
        "id": "e1786495"
      },
      "source": [
        "**os.mkdir()**"
      ]
    },
    {
      "cell_type": "code",
      "execution_count": 68,
      "id": "dd844bcc",
      "metadata": {
        "colab": {
          "base_uri": "https://localhost:8080/"
        },
        "id": "dd844bcc",
        "outputId": "1353764d-90b7-4ba7-9886-2543edeed7b7"
      },
      "outputs": [
        {
          "output_type": "execute_result",
          "data": {
            "text/plain": [
              "['.config',\n",
              " 'io_file_myday.txt',\n",
              " 'io_file_myday (1).txt',\n",
              " 'mymodule.py',\n",
              " '__pycache__',\n",
              " 'drive',\n",
              " 'sample_data']"
            ]
          },
          "metadata": {},
          "execution_count": 68
        }
      ],
      "source": [
        "import os\n",
        "os.listdir()\n",
        "os.mkdir(\"myfolder1\")\n",
        "os.listdir()\n",
        "os.rmdir(\"myfolder1\")\n",
        "os.listdir()"
      ]
    },
    {
      "cell_type": "markdown",
      "id": "99e63e86",
      "metadata": {
        "id": "99e63e86"
      },
      "source": [
        "## Python Try Except (Exception Handling)`"
      ]
    },
    {
      "cell_type": "markdown",
      "id": "97004e07",
      "metadata": {
        "id": "97004e07"
      },
      "source": [
        "**try: except:**"
      ]
    },
    {
      "cell_type": "code",
      "execution_count": 69,
      "id": "acdc8921",
      "metadata": {
        "colab": {
          "base_uri": "https://localhost:8080/"
        },
        "id": "acdc8921",
        "outputId": "13f8a60e-2e0a-4ac7-8cde-bed7e91d30a8"
      },
      "outputs": [
        {
          "output_type": "stream",
          "name": "stdout",
          "text": [
            "(10, 20, 30, 40, 50)\n"
          ]
        }
      ],
      "source": [
        "#Python try except\n",
        "try:\n",
        "    print(x)\n",
        "except:\n",
        "    print(\"Exception Error\")"
      ]
    },
    {
      "cell_type": "markdown",
      "id": "ad0a452c",
      "metadata": {
        "id": "ad0a452c"
      },
      "source": [
        "**try: except: finally:**"
      ]
    },
    {
      "cell_type": "code",
      "execution_count": 70,
      "id": "0e5d9ee8",
      "metadata": {
        "colab": {
          "base_uri": "https://localhost:8080/"
        },
        "id": "0e5d9ee8",
        "outputId": "3453330b-38ba-4210-f3d4-01a836a910de"
      },
      "outputs": [
        {
          "output_type": "stream",
          "name": "stdout",
          "text": [
            "Hello\n",
            "Finally process\n"
          ]
        }
      ],
      "source": [
        "#Python try except finally\n",
        "try:\n",
        "    print(\"Hello\")\n",
        "except:\n",
        "    print(\"Exception Error\")\n",
        "finally:\n",
        "    print(\"Finally process\")"
      ]
    },
    {
      "cell_type": "markdown",
      "id": "7df5ea48",
      "metadata": {
        "id": "7df5ea48"
      },
      "source": [
        "**try: except: else:**"
      ]
    },
    {
      "cell_type": "code",
      "execution_count": 71,
      "id": "2adcee00",
      "metadata": {
        "colab": {
          "base_uri": "https://localhost:8080/"
        },
        "id": "2adcee00",
        "outputId": "e1e8f6c0-f8db-4cad-8724-16f079a0d11d"
      },
      "outputs": [
        {
          "output_type": "stream",
          "name": "stdout",
          "text": [
            "Hello\n",
            "No exception\n"
          ]
        }
      ],
      "source": [
        "#Python try except else\n",
        "try:\n",
        "    print(\"Hello\")\n",
        "except:\n",
        "    print(\"Exception Error\")\n",
        "else:\n",
        "    print(\"No exception\")"
      ]
    },
    {
      "cell_type": "markdown",
      "id": "4e9a4ba7",
      "metadata": {
        "id": "4e9a4ba7"
      },
      "source": [
        "**try: except: else: finally:**"
      ]
    },
    {
      "cell_type": "code",
      "execution_count": 72,
      "id": "ebb308e0",
      "metadata": {
        "id": "ebb308e0",
        "outputId": "162aa977-c071-4f5e-c00d-b95be217858e",
        "colab": {
          "base_uri": "https://localhost:8080/"
        }
      },
      "outputs": [
        {
          "output_type": "stream",
          "name": "stdout",
          "text": [
            "Hello\n",
            "No exception\n",
            "Finally process\n"
          ]
        }
      ],
      "source": [
        "try:\n",
        "    print(\"Hello\")\n",
        "except:\n",
        "    print(\"Exception Error\")\n",
        "else:\n",
        "    print(\"No exception\")\n",
        "finally:\n",
        "    print(\"Finally process\")"
      ]
    },
    {
      "cell_type": "code",
      "execution_count": 73,
      "id": "91d6b03e",
      "metadata": {
        "id": "91d6b03e",
        "outputId": "8358b83e-b663-4200-9ec4-a33da7fff2c1",
        "colab": {
          "base_uri": "https://localhost:8080/"
        }
      },
      "outputs": [
        {
          "output_type": "stream",
          "name": "stdout",
          "text": [
            "Enter the price of the stock (e.g. 10):10\n",
            "Enter the number of shares (e.g. 2):2\n",
            "The total value of the shares is: 20.0\n",
            "Thank you.\n"
          ]
        }
      ],
      "source": [
        "try:\n",
        "    price = float(input(\"Enter the price of the stock (e.g. 10):\"))\n",
        "    shares = int(input(\"Enter the number of shares (e.g. 2):\"))\n",
        "    total = price * shares\n",
        "except Exception as e:\n",
        "    print(\"Exception error:\", str(e))\n",
        "else:\n",
        "    print(\"The total value of the shares is:\", total)\n",
        "finally:\n",
        "    print(\"Thank you.\")"
      ]
    },
    {
      "cell_type": "code",
      "execution_count": 74,
      "id": "fe386efe",
      "metadata": {
        "colab": {
          "base_uri": "https://localhost:8080/"
        },
        "id": "fe386efe",
        "outputId": "a250db62-2957-4499-fa77-a84fea938c43"
      },
      "outputs": [
        {
          "output_type": "stream",
          "name": "stdout",
          "text": [
            "Exception file Error\n"
          ]
        }
      ],
      "source": [
        "try:\n",
        "    file= open(\"myfile.txt\")\n",
        "    file.write(\"Python write file\")\n",
        "    print(\"file saved\")\n",
        "except:\n",
        "    print(\"Exception file Error\")"
      ]
    },
    {
      "cell_type": "code",
      "execution_count": 75,
      "id": "76788206",
      "metadata": {
        "colab": {
          "base_uri": "https://localhost:8080/"
        },
        "id": "76788206",
        "outputId": "a00df03d-a3cc-493c-b4af-5440c8c30b4d"
      },
      "outputs": [
        {
          "output_type": "stream",
          "name": "stdout",
          "text": [
            "Exception file Error\n",
            "Finally process\n"
          ]
        }
      ],
      "source": [
        "try:\n",
        "    file = open(\"myfile.txt\")\n",
        "    file.write(\"Python write file\")\n",
        "    print(\"file saved\")\n",
        "except:\n",
        "    print(\"Exception file Error\")\n",
        "finally:\n",
        "    file.close()\n",
        "    print(\"Finally process\")"
      ]
    },
    {
      "cell_type": "code",
      "execution_count": 76,
      "id": "5f835493",
      "metadata": {
        "id": "5f835493",
        "outputId": "7affadd3-7c0a-4e32-b937-3bc084cde56d",
        "colab": {
          "base_uri": "https://localhost:8080/"
        }
      },
      "outputs": [
        {
          "output_type": "stream",
          "name": "stdout",
          "text": [
            "file saved\n",
            "Finally process\n"
          ]
        }
      ],
      "source": [
        "try:\n",
        "    file = open(\"myfile.txt\", 'w')\n",
        "    file.write(\"Python write file\")\n",
        "    print(\"file saved\")\n",
        "except:\n",
        "    print(\"Exception file Error\")\n",
        "finally:\n",
        "    file.close()\n",
        "    print(\"Finally process\")"
      ]
    },
    {
      "cell_type": "markdown",
      "id": "218863ba",
      "metadata": {
        "id": "218863ba"
      },
      "source": [
        "# Kết thúc"
      ]
    }
  ],
  "metadata": {
    "kernelspec": {
      "display_name": "Python 3",
      "language": "python",
      "name": "python3"
    },
    "language_info": {
      "codemirror_mode": {
        "name": "ipython",
        "version": 3
      },
      "file_extension": ".py",
      "mimetype": "text/x-python",
      "name": "python",
      "nbconvert_exporter": "python",
      "pygments_lexer": "ipython3",
      "version": "3.11.9"
    },
    "colab": {
      "provenance": [],
      "include_colab_link": true
    }
  },
  "nbformat": 4,
  "nbformat_minor": 5
}