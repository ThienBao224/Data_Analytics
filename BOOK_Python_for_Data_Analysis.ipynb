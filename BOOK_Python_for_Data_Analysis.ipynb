{
  "nbformat": 4,
  "nbformat_minor": 0,
  "metadata": {
    "colab": {
      "provenance": [],
      "mount_file_id": "1Qo56fOvBU0kH1l4An-YCkzyfAA1PfzmV",
      "authorship_tag": "ABX9TyMijS78h89asi/LhY3CPB8A",
      "include_colab_link": true
    },
    "kernelspec": {
      "name": "python3",
      "display_name": "Python 3"
    },
    "language_info": {
      "name": "python"
    }
  },
  "cells": [
    {
      "cell_type": "markdown",
      "metadata": {
        "id": "view-in-github",
        "colab_type": "text"
      },
      "source": [
        "<a href=\"https://colab.research.google.com/github/ThienBao224/Data_Analytics/blob/main/BOOK_Python_for_Data_Analysis.ipynb\" target=\"_parent\"><img src=\"https://colab.research.google.com/assets/colab-badge.svg\" alt=\"Open In Colab\"/></a>"
      ]
    },
    {
      "cell_type": "markdown",
      "source": [
        "# [BOOK] Python for Data Analysis"
      ],
      "metadata": {
        "id": "qbhCQ_XUJVFs"
      }
    },
    {
      "cell_type": "markdown",
      "source": [
        "# CHAPTER 1: Preliminaries"
      ],
      "metadata": {
        "id": "1mTFAzguJtL6"
      }
    },
    {
      "cell_type": "markdown",
      "source": [
        "## 1.6 Navigating This Book"
      ],
      "metadata": {
        "id": "7EJ-VwOmXQoP"
      }
    },
    {
      "cell_type": "markdown",
      "source": [
        "### Code Examples"
      ],
      "metadata": {
        "id": "iTVw9OI5KNRP"
      }
    },
    {
      "cell_type": "code",
      "source": [
        "import numpy as np\n",
        "import pandas as pd\n",
        "pd.options.display.max_columns = 20\n",
        "pd.options.display.max_rows = 20\n",
        "pd.options.display.max_colwidth = 80\n",
        "np.set_printoptions(precision=4, suppress=True)"
      ],
      "metadata": {
        "id": "G6x8sHDPKNsc"
      },
      "execution_count": 213,
      "outputs": []
    },
    {
      "cell_type": "markdown",
      "source": [
        "### Data for Examples"
      ],
      "metadata": {
        "id": "C4U3XwytKCRW"
      }
    },
    {
      "cell_type": "code",
      "source": [
        "!ls"
      ],
      "metadata": {
        "colab": {
          "base_uri": "https://localhost:8080/"
        },
        "id": "-z2UgHcGJ47g",
        "outputId": "f2c5bf54-d334-479e-a2c5-db980ca57d63"
      },
      "execution_count": 190,
      "outputs": [
        {
          "output_type": "stream",
          "name": "stdout",
          "text": [
            "drive  examples  sample_data  sink.txt\n"
          ]
        }
      ]
    },
    {
      "cell_type": "code",
      "source": [
        "!pwd"
      ],
      "metadata": {
        "colab": {
          "base_uri": "https://localhost:8080/"
        },
        "id": "5p7vWFOnJ9Qi",
        "outputId": "2610c0ae-2f1f-41c9-9f67-5cadfc3b4c35"
      },
      "execution_count": null,
      "outputs": [
        {
          "output_type": "stream",
          "name": "stdout",
          "text": [
            "/content\n"
          ]
        }
      ]
    },
    {
      "cell_type": "markdown",
      "source": [
        "### Import Conventions"
      ],
      "metadata": {
        "id": "IiEIY-9OJnmP"
      }
    },
    {
      "cell_type": "code",
      "execution_count": null,
      "metadata": {
        "id": "rSY9J4M-IWC8"
      },
      "outputs": [],
      "source": [
        "import numpy as np\n",
        "import matplotlib.pyplot as plt\n",
        "import pandas as pd\n",
        "import seaborn as sns\n",
        "import statsmodels as sm"
      ]
    },
    {
      "cell_type": "markdown",
      "source": [
        "# CHAPTER 2: Python Language Basics, IPython, and Jupyter Notebooks"
      ],
      "metadata": {
        "id": "oXieipoyKftV"
      }
    },
    {
      "cell_type": "markdown",
      "source": [
        "## 2.1 The Python Interpreter"
      ],
      "metadata": {
        "id": "ao8oQiT0KzFL"
      }
    },
    {
      "cell_type": "code",
      "source": [
        "a = 5\n",
        "print(a)"
      ],
      "metadata": {
        "colab": {
          "base_uri": "https://localhost:8080/"
        },
        "id": "2xzDuQHNK67V",
        "outputId": "60c09bbc-2643-4279-c5aa-08dbcce3faad"
      },
      "execution_count": 191,
      "outputs": [
        {
          "output_type": "stream",
          "name": "stdout",
          "text": [
            "5\n"
          ]
        }
      ]
    },
    {
      "cell_type": "markdown",
      "source": [
        "Tạo file và chạy file vừa tạo"
      ],
      "metadata": {
        "id": "X34FH_m_L98v"
      }
    },
    {
      "cell_type": "code",
      "source": [
        "f = open(\" hello_world.py\", \"w\")\n",
        "f.write(\"Hello World\")\n",
        "f.close()\n",
        "\n",
        "f = open(\" hello_world.py\", \"r\")\n",
        "text = f.read()\n",
        "print(text)\n",
        "f.close()"
      ],
      "metadata": {
        "colab": {
          "base_uri": "https://localhost:8080/"
        },
        "id": "HNkF5CCKLBkj",
        "outputId": "bfa36d3d-6f69-4220-ef97-2671711898bf"
      },
      "execution_count": 192,
      "outputs": [
        {
          "output_type": "stream",
          "name": "stdout",
          "text": [
            "Hello World\n"
          ]
        }
      ]
    },
    {
      "cell_type": "markdown",
      "source": [
        "## 2.2 IPython Basics"
      ],
      "metadata": {
        "id": "hfrwwV3MMXiJ"
      }
    },
    {
      "cell_type": "markdown",
      "source": [
        "### Running the IPython Shell"
      ],
      "metadata": {
        "id": "ZDX9PoblMZBB"
      }
    },
    {
      "cell_type": "code",
      "source": [
        "a=5\n",
        "print(a)"
      ],
      "metadata": {
        "colab": {
          "base_uri": "https://localhost:8080/"
        },
        "id": "lYPK6EgHMeC_",
        "outputId": "c167dfd2-449b-4b6d-9046-eb816593c7b3"
      },
      "execution_count": 214,
      "outputs": [
        {
          "output_type": "stream",
          "name": "stdout",
          "text": [
            "5\n"
          ]
        }
      ]
    },
    {
      "cell_type": "markdown",
      "source": [
        "Tạo mảng 1 chiều"
      ],
      "metadata": {
        "id": "hPWn5DfmNA-l"
      }
    },
    {
      "cell_type": "code",
      "source": [
        "import numpy as np\n",
        "from IPython.display import display\n",
        "\n",
        "data = [np.random.standard_normal() for i in range(7)]\n",
        "display(data)"
      ],
      "metadata": {
        "colab": {
          "base_uri": "https://localhost:8080/",
          "height": 145
        },
        "id": "Aocqkg-HMjeQ",
        "outputId": "c048610f-7d0f-48f9-f5f7-683295d0e5f7"
      },
      "execution_count": 215,
      "outputs": [
        {
          "output_type": "display_data",
          "data": {
            "text/plain": [
              "[-0.20470765948471295,\n",
              " 0.47894333805754824,\n",
              " -0.5194387150567381,\n",
              " -0.55573030434749,\n",
              " 1.9657805725027142,\n",
              " 1.3934058329729904,\n",
              " 0.09290787674371767]"
            ]
          },
          "metadata": {}
        }
      ]
    },
    {
      "cell_type": "code",
      "source": [
        "import numpy as np\n",
        "data = [np.random.standard_normal() for i in range(7)]\n",
        "print(data)"
      ],
      "metadata": {
        "colab": {
          "base_uri": "https://localhost:8080/"
        },
        "id": "PaxdwTa2NFC6",
        "outputId": "5116568d-47eb-442e-ad37-ae83e12aa419"
      },
      "execution_count": 216,
      "outputs": [
        {
          "output_type": "stream",
          "name": "stdout",
          "text": [
            "[0.2817461528302025, 0.7690225676118387, 1.2464347363862822, 1.0071893575830049, -1.2962211091122635, 0.274991633432124, 0.22891287893531592]\n"
          ]
        }
      ]
    },
    {
      "cell_type": "markdown",
      "source": [
        "### Introspection"
      ],
      "metadata": {
        "id": "kF4N4DRINfh8"
      }
    },
    {
      "cell_type": "code",
      "source": [
        "b = [1, 2, 3]\n",
        "b?\n",
        "print?"
      ],
      "metadata": {
        "id": "uLcG6bYyN5C5"
      },
      "execution_count": 217,
      "outputs": []
    },
    {
      "cell_type": "code",
      "source": [
        "def add_numbers(a, b):\n",
        " \"\"\"\n",
        "    Add two numbers together\n",
        "    Returns\n",
        "    ------\n",
        "    the_sum : type of arguments\n",
        "    \"\"\"\n",
        " return a + b"
      ],
      "metadata": {
        "id": "YDyBy-qfOGeU"
      },
      "execution_count": 218,
      "outputs": []
    },
    {
      "cell_type": "code",
      "source": [
        "add_numbers?"
      ],
      "metadata": {
        "id": "x-i9my0bOJKO"
      },
      "execution_count": 219,
      "outputs": []
    },
    {
      "cell_type": "markdown",
      "source": [
        "## 2.3 Python Language Basics"
      ],
      "metadata": {
        "id": "E1kCjFgYOXNC"
      }
    },
    {
      "cell_type": "markdown",
      "source": [
        "### Language Semantics"
      ],
      "metadata": {
        "id": "K2trIGRNOYL_"
      }
    },
    {
      "cell_type": "markdown",
      "source": [
        "**Indentation, not braces**"
      ],
      "metadata": {
        "id": "Hk1XiHarObuq"
      }
    },
    {
      "cell_type": "code",
      "source": [
        "array = [5, 2, 9, 1, 7]\n",
        "pivot = 5\n",
        "less = []\n",
        "greater = []\n",
        "\n",
        "for x in array:\n",
        "    if x < pivot:\n",
        "        less.append(x)\n",
        "    else:\n",
        "        greater.append(x)\n",
        "\n",
        "print(\"less:\", less)\n",
        "print(\"greater:\", greater)"
      ],
      "metadata": {
        "colab": {
          "base_uri": "https://localhost:8080/"
        },
        "id": "hU4hTBbYOdjq",
        "outputId": "93d84881-a7c0-40ee-ab4c-df013286510f"
      },
      "execution_count": 220,
      "outputs": [
        {
          "output_type": "stream",
          "name": "stdout",
          "text": [
            "less: [2, 1]\n",
            "greater: [5, 9, 7]\n"
          ]
        }
      ]
    },
    {
      "cell_type": "markdown",
      "source": [
        "**Comments**"
      ],
      "metadata": {
        "id": "kBGldCYcPCSa"
      }
    },
    {
      "cell_type": "code",
      "source": [
        "results = []\n",
        "  for line in file_handle:\n",
        "  # keep the empty lines for now\n",
        "  # if len(line) == 0:\n",
        "  #   continue\n",
        "  results.append(line.replace(\"foo\", \"bar\"))"
      ],
      "metadata": {
        "id": "k6-7zE8oP21D",
        "colab": {
          "base_uri": "https://localhost:8080/",
          "height": 110
        },
        "outputId": "12ea9467-97bd-4b8c-8c12-fab5c6ad210f"
      },
      "execution_count": 221,
      "outputs": [
        {
          "output_type": "error",
          "ename": "IndentationError",
          "evalue": "unexpected indent (ipython-input-1994740505.py, line 2)",
          "traceback": [
            "\u001b[0;36m  File \u001b[0;32m\"/tmp/ipython-input-1994740505.py\"\u001b[0;36m, line \u001b[0;32m2\u001b[0m\n\u001b[0;31m    for line in file_handle:\u001b[0m\n\u001b[0m    ^\u001b[0m\n\u001b[0;31mIndentationError\u001b[0m\u001b[0;31m:\u001b[0m unexpected indent\n"
          ]
        }
      ]
    },
    {
      "cell_type": "code",
      "source": [
        "print(\"Reached this line\")  # Simple status report"
      ],
      "metadata": {
        "colab": {
          "base_uri": "https://localhost:8080/"
        },
        "id": "nOtNEhFJP7HX",
        "outputId": "695d1a36-9c10-476b-e9a4-848c2b1a40b0"
      },
      "execution_count": 222,
      "outputs": [
        {
          "output_type": "stream",
          "name": "stdout",
          "text": [
            "Reached this line\n"
          ]
        }
      ]
    },
    {
      "cell_type": "markdown",
      "source": [
        "**Variables and argument passing**"
      ],
      "metadata": {
        "id": "i30MOZ92P-aW"
      }
    },
    {
      "cell_type": "code",
      "source": [
        "a = [1, 2, 3]\n",
        "b = a\n",
        "display(b)"
      ],
      "metadata": {
        "colab": {
          "base_uri": "https://localhost:8080/",
          "height": 35
        },
        "id": "otjYp4FvQTVe",
        "outputId": "e04b8ef0-f469-41cc-e1cf-b1d7cadd8855"
      },
      "execution_count": 223,
      "outputs": [
        {
          "output_type": "display_data",
          "data": {
            "text/plain": [
              "[1, 2, 3]"
            ]
          },
          "metadata": {}
        }
      ]
    },
    {
      "cell_type": "code",
      "source": [
        "a.append(4)\n",
        "b"
      ],
      "metadata": {
        "colab": {
          "base_uri": "https://localhost:8080/"
        },
        "id": "mHllN1T_QafS",
        "outputId": "96a330c4-9420-4672-f0a1-71b6b28a8129"
      },
      "execution_count": 224,
      "outputs": [
        {
          "output_type": "execute_result",
          "data": {
            "text/plain": [
              "[1, 2, 3, 4]"
            ]
          },
          "metadata": {},
          "execution_count": 224
        }
      ]
    },
    {
      "cell_type": "code",
      "source": [
        "def append_element(some_list, element):\n",
        "    some_list.append(element)\n",
        "data = [1, 2, 3]\n",
        "append_element(data, 4)\n",
        "data"
      ],
      "metadata": {
        "colab": {
          "base_uri": "https://localhost:8080/"
        },
        "id": "tf8YfgqvQiO2",
        "outputId": "62ee1ee1-da5c-4aa4-fa5b-2abc3eb81889"
      },
      "execution_count": 225,
      "outputs": [
        {
          "output_type": "execute_result",
          "data": {
            "text/plain": [
              "[1, 2, 3, 4]"
            ]
          },
          "metadata": {},
          "execution_count": 225
        }
      ]
    },
    {
      "cell_type": "markdown",
      "source": [
        "**Dynamic references, strong typest**"
      ],
      "metadata": {
        "id": "aepfBG42Q7ar"
      }
    },
    {
      "cell_type": "code",
      "source": [
        "a = 5\n",
        "print(a)\n",
        "type(a)"
      ],
      "metadata": {
        "colab": {
          "base_uri": "https://localhost:8080/"
        },
        "id": "NfiJq50vRLSS",
        "outputId": "a485d0a0-cd3f-4414-cd4d-d4daccd3d85a"
      },
      "execution_count": 226,
      "outputs": [
        {
          "output_type": "stream",
          "name": "stdout",
          "text": [
            "5\n"
          ]
        },
        {
          "output_type": "execute_result",
          "data": {
            "text/plain": [
              "int"
            ]
          },
          "metadata": {},
          "execution_count": 226
        }
      ]
    },
    {
      "cell_type": "code",
      "source": [
        "a = \"foo\"\n",
        "print(a)\n",
        "type(a)"
      ],
      "metadata": {
        "colab": {
          "base_uri": "https://localhost:8080/"
        },
        "id": "Ddo9rSvYRD8d",
        "outputId": "285d3f04-1281-49ca-b744-2fa237ccf188"
      },
      "execution_count": 227,
      "outputs": [
        {
          "output_type": "stream",
          "name": "stdout",
          "text": [
            "foo\n"
          ]
        },
        {
          "output_type": "execute_result",
          "data": {
            "text/plain": [
              "str"
            ]
          },
          "metadata": {},
          "execution_count": 227
        }
      ]
    },
    {
      "cell_type": "code",
      "source": [
        "\"5\" + 5"
      ],
      "metadata": {
        "colab": {
          "base_uri": "https://localhost:8080/",
          "height": 146
        },
        "id": "NKdbTYfpRRoM",
        "outputId": "8ef147d1-d824-4a1f-8be9-907f99a6e60a"
      },
      "execution_count": 228,
      "outputs": [
        {
          "output_type": "error",
          "ename": "TypeError",
          "evalue": "can only concatenate str (not \"int\") to str",
          "traceback": [
            "\u001b[0;31m---------------------------------------------------------------------------\u001b[0m",
            "\u001b[0;31mTypeError\u001b[0m                                 Traceback (most recent call last)",
            "\u001b[0;32m/tmp/ipython-input-4107985378.py\u001b[0m in \u001b[0;36m<cell line: 0>\u001b[0;34m()\u001b[0m\n\u001b[0;32m----> 1\u001b[0;31m \u001b[0;34m\"5\"\u001b[0m \u001b[0;34m+\u001b[0m \u001b[0;36m5\u001b[0m\u001b[0;34m\u001b[0m\u001b[0;34m\u001b[0m\u001b[0m\n\u001b[0m",
            "\u001b[0;31mTypeError\u001b[0m: can only concatenate str (not \"int\") to str"
          ]
        }
      ]
    },
    {
      "cell_type": "code",
      "source": [
        "a = 4.5\n",
        "b = 2\n",
        "# String formatting, to be visited later\n",
        "print(f\"a is {type(a)}, b is {type(b)}\")\n",
        "a / b"
      ],
      "metadata": {
        "colab": {
          "base_uri": "https://localhost:8080/"
        },
        "id": "aE_-SXQtRXxC",
        "outputId": "34288e17-63cb-455a-de65-81428e971eb7"
      },
      "execution_count": 229,
      "outputs": [
        {
          "output_type": "stream",
          "name": "stdout",
          "text": [
            "a is <class 'float'>, b is <class 'int'>\n"
          ]
        },
        {
          "output_type": "execute_result",
          "data": {
            "text/plain": [
              "2.25"
            ]
          },
          "metadata": {},
          "execution_count": 229
        }
      ]
    },
    {
      "cell_type": "code",
      "source": [
        "a = 5\n",
        "isinstance(a, int)"
      ],
      "metadata": {
        "colab": {
          "base_uri": "https://localhost:8080/"
        },
        "id": "TK9Vc8aURb00",
        "outputId": "9b76a7fe-7358-4ec0-ed5e-f0a3dd1c5f30"
      },
      "execution_count": 230,
      "outputs": [
        {
          "output_type": "execute_result",
          "data": {
            "text/plain": [
              "True"
            ]
          },
          "metadata": {},
          "execution_count": 230
        }
      ]
    },
    {
      "cell_type": "code",
      "source": [
        "a = 5; b = 4.5\n",
        "isinstance(a, (int, float))\n",
        "isinstance(b, (int, float))"
      ],
      "metadata": {
        "colab": {
          "base_uri": "https://localhost:8080/"
        },
        "id": "I2j55l03Rdvg",
        "outputId": "3fdd6ec5-2e51-4569-851c-9843c572ec21"
      },
      "execution_count": 231,
      "outputs": [
        {
          "output_type": "execute_result",
          "data": {
            "text/plain": [
              "True"
            ]
          },
          "metadata": {},
          "execution_count": 231
        }
      ]
    },
    {
      "cell_type": "markdown",
      "source": [
        "**Attributes and methods**"
      ],
      "metadata": {
        "id": "gHmnafwTQS2T"
      }
    },
    {
      "cell_type": "code",
      "source": [
        "a = \"foo\"\n",
        "getattr(a, \"split\")"
      ],
      "metadata": {
        "colab": {
          "base_uri": "https://localhost:8080/"
        },
        "id": "fd_zqTu5RlAy",
        "outputId": "40495f05-2fcb-45af-933d-b00547fcde68"
      },
      "execution_count": 232,
      "outputs": [
        {
          "output_type": "execute_result",
          "data": {
            "text/plain": [
              "<function str.split(sep=None, maxsplit=-1)>"
            ]
          },
          "metadata": {},
          "execution_count": 232
        }
      ]
    },
    {
      "cell_type": "markdown",
      "source": [
        "**Duck typing**"
      ],
      "metadata": {
        "id": "exV95gqfRtjw"
      }
    },
    {
      "cell_type": "code",
      "source": [
        "def isiterable(obj):\n",
        "    try:\n",
        "        iter(obj)\n",
        "        return True\n",
        "    except TypeError: # not iterable\n",
        "        return False"
      ],
      "metadata": {
        "id": "2AHcWQrrRtzq"
      },
      "execution_count": 233,
      "outputs": []
    },
    {
      "cell_type": "code",
      "source": [
        "isiterable(\"a string\")"
      ],
      "metadata": {
        "colab": {
          "base_uri": "https://localhost:8080/"
        },
        "id": "UWsdLkRkR0cW",
        "outputId": "775caf49-bc6d-48ce-ac9f-ec0ffe4b8853"
      },
      "execution_count": 234,
      "outputs": [
        {
          "output_type": "execute_result",
          "data": {
            "text/plain": [
              "True"
            ]
          },
          "metadata": {},
          "execution_count": 234
        }
      ]
    },
    {
      "cell_type": "code",
      "source": [
        "isiterable([1, 2, 3])"
      ],
      "metadata": {
        "colab": {
          "base_uri": "https://localhost:8080/"
        },
        "id": "s_p7iOvOR3ru",
        "outputId": "73b23248-45eb-488e-c1fd-05d4ef3d2bd0"
      },
      "execution_count": 235,
      "outputs": [
        {
          "output_type": "execute_result",
          "data": {
            "text/plain": [
              "True"
            ]
          },
          "metadata": {},
          "execution_count": 235
        }
      ]
    },
    {
      "cell_type": "code",
      "source": [
        "isiterable(5)"
      ],
      "metadata": {
        "colab": {
          "base_uri": "https://localhost:8080/"
        },
        "id": "Ss5uG77pR4Kx",
        "outputId": "23977fb1-ce15-499a-8dfa-23e491a10ad7"
      },
      "execution_count": 236,
      "outputs": [
        {
          "output_type": "execute_result",
          "data": {
            "text/plain": [
              "False"
            ]
          },
          "metadata": {},
          "execution_count": 236
        }
      ]
    },
    {
      "cell_type": "markdown",
      "source": [
        "**Imports**"
      ],
      "metadata": {
        "id": "-iNvdFIsR9V3"
      }
    },
    {
      "cell_type": "code",
      "source": [
        "with open(\"some_module.py\", \"w\") as f:\n",
        "    f.write(\"\"\"\n",
        "PI = 3.14159\n",
        "\n",
        "def f(x):\n",
        "    return x + 2\n",
        "\n",
        "def g(a, b):\n",
        "    return a + b\n",
        "\"\"\")\n"
      ],
      "metadata": {
        "id": "f-alqmHpWCCR"
      },
      "execution_count": 237,
      "outputs": []
    },
    {
      "cell_type": "code",
      "source": [
        " import some_module\n",
        " result = some_module.f(5)\n",
        " pi = some_module.PI\n",
        "\n",
        " print(result)\n",
        " print(pi)"
      ],
      "metadata": {
        "colab": {
          "base_uri": "https://localhost:8080/"
        },
        "id": "85Z4gKQ7WGfj",
        "outputId": "26bbb0c2-e9f1-4860-eb8a-465c2037fcf9"
      },
      "execution_count": 238,
      "outputs": [
        {
          "output_type": "stream",
          "name": "stdout",
          "text": [
            "7\n",
            "3.14159\n"
          ]
        }
      ]
    },
    {
      "cell_type": "code",
      "source": [
        "from some_module import g, PI\n",
        "result = g(5, PI)\n",
        "\n",
        "print(result)"
      ],
      "metadata": {
        "colab": {
          "base_uri": "https://localhost:8080/"
        },
        "id": "kPPL6MFcWI29",
        "outputId": "4c0b97aa-d2ee-4088-95c6-9addb2dd6460"
      },
      "execution_count": 239,
      "outputs": [
        {
          "output_type": "stream",
          "name": "stdout",
          "text": [
            "8.14159\n"
          ]
        }
      ]
    },
    {
      "cell_type": "code",
      "source": [
        " import some_module as sm\n",
        " from some_module import PI as pi, g as gf\n",
        " r1 = sm.f(pi)\n",
        " r2 = gf(6, pi)\n",
        "\n",
        " print(r1)\n",
        " print(r2)"
      ],
      "metadata": {
        "colab": {
          "base_uri": "https://localhost:8080/"
        },
        "id": "Crt7kEcAWWMk",
        "outputId": "38957fd5-6448-4dea-f1ab-dd8e4047aeda"
      },
      "execution_count": 240,
      "outputs": [
        {
          "output_type": "stream",
          "name": "stdout",
          "text": [
            "5.14159\n",
            "9.14159\n"
          ]
        }
      ]
    },
    {
      "cell_type": "markdown",
      "source": [
        "**Binary operators and comparisons**"
      ],
      "metadata": {
        "id": "91NBlms4WZ3J"
      }
    },
    {
      "cell_type": "code",
      "source": [
        "5 - 7"
      ],
      "metadata": {
        "colab": {
          "base_uri": "https://localhost:8080/"
        },
        "id": "POayMtPbWc8A",
        "outputId": "31b02127-740d-4304-cd4b-2079fc6c45f3"
      },
      "execution_count": 241,
      "outputs": [
        {
          "output_type": "execute_result",
          "data": {
            "text/plain": [
              "-2"
            ]
          },
          "metadata": {},
          "execution_count": 241
        }
      ]
    },
    {
      "cell_type": "code",
      "source": [
        "12 + 21.5"
      ],
      "metadata": {
        "colab": {
          "base_uri": "https://localhost:8080/"
        },
        "id": "tmd9SoTrWe7A",
        "outputId": "5c6048cb-5eb9-4894-c102-a0feaa6c2be9"
      },
      "execution_count": 242,
      "outputs": [
        {
          "output_type": "execute_result",
          "data": {
            "text/plain": [
              "33.5"
            ]
          },
          "metadata": {},
          "execution_count": 242
        }
      ]
    },
    {
      "cell_type": "code",
      "source": [
        "5 <= 2"
      ],
      "metadata": {
        "colab": {
          "base_uri": "https://localhost:8080/"
        },
        "id": "WYuCaQ8NWgsW",
        "outputId": "2513f0a7-d6d7-49cf-a663-442cfba26a04"
      },
      "execution_count": 243,
      "outputs": [
        {
          "output_type": "execute_result",
          "data": {
            "text/plain": [
              "False"
            ]
          },
          "metadata": {},
          "execution_count": 243
        }
      ]
    },
    {
      "cell_type": "code",
      "source": [
        "a = [1, 2, 3]\n",
        "b = a\n",
        "c = list(a)\n",
        "a is b"
      ],
      "metadata": {
        "colab": {
          "base_uri": "https://localhost:8080/"
        },
        "id": "1bfO_NSjWlLW",
        "outputId": "da157129-5111-4fe5-f2fa-d9b82f58acb3"
      },
      "execution_count": 244,
      "outputs": [
        {
          "output_type": "execute_result",
          "data": {
            "text/plain": [
              "True"
            ]
          },
          "metadata": {},
          "execution_count": 244
        }
      ]
    },
    {
      "cell_type": "code",
      "source": [
        "a is not c"
      ],
      "metadata": {
        "colab": {
          "base_uri": "https://localhost:8080/"
        },
        "id": "Y-B9a7NMWqkS",
        "outputId": "c552fbdb-2500-4cc0-995e-d8299ee70453"
      },
      "execution_count": 245,
      "outputs": [
        {
          "output_type": "execute_result",
          "data": {
            "text/plain": [
              "True"
            ]
          },
          "metadata": {},
          "execution_count": 245
        }
      ]
    },
    {
      "cell_type": "code",
      "source": [
        "a == c"
      ],
      "metadata": {
        "colab": {
          "base_uri": "https://localhost:8080/"
        },
        "id": "aWTO_8R1WsPY",
        "outputId": "0ec6d743-1efd-466e-ad5a-728b305fa074"
      },
      "execution_count": 246,
      "outputs": [
        {
          "output_type": "execute_result",
          "data": {
            "text/plain": [
              "True"
            ]
          },
          "metadata": {},
          "execution_count": 246
        }
      ]
    },
    {
      "cell_type": "code",
      "source": [
        "a = None\n",
        "a is None"
      ],
      "metadata": {
        "colab": {
          "base_uri": "https://localhost:8080/"
        },
        "id": "bJbbq2W5WwUX",
        "outputId": "19166c59-9a5f-4f21-dd4e-773b3cf64d41"
      },
      "execution_count": 247,
      "outputs": [
        {
          "output_type": "execute_result",
          "data": {
            "text/plain": [
              "True"
            ]
          },
          "metadata": {},
          "execution_count": 247
        }
      ]
    },
    {
      "cell_type": "markdown",
      "source": [
        "**Mutable and immutable objects**"
      ],
      "metadata": {
        "id": "y448Ai3EWy1e"
      }
    },
    {
      "cell_type": "code",
      "source": [
        "a_list = [\"foo\", 2, [4, 5]]\n",
        "a_list[2] = (3, 4)\n",
        "a_list"
      ],
      "metadata": {
        "colab": {
          "base_uri": "https://localhost:8080/"
        },
        "id": "DT2Bzxk3W1D0",
        "outputId": "c8eebd94-d717-4610-8f20-af1f57cd2f00"
      },
      "execution_count": 248,
      "outputs": [
        {
          "output_type": "execute_result",
          "data": {
            "text/plain": [
              "['foo', 2, (3, 4)]"
            ]
          },
          "metadata": {},
          "execution_count": 248
        }
      ]
    },
    {
      "cell_type": "markdown",
      "source": [
        "Chạy thất bại"
      ],
      "metadata": {
        "id": "AAGT9aeqW5ys"
      }
    },
    {
      "cell_type": "code",
      "source": [
        "a_tuple = (3, 5, (4, 5))\n",
        "a_tuple[1] = \"four\""
      ],
      "metadata": {
        "colab": {
          "base_uri": "https://localhost:8080/",
          "height": 165
        },
        "id": "4R_OdqfUW4dj",
        "outputId": "172b5e9f-f5ec-41cd-bd19-a1ef491638df"
      },
      "execution_count": 249,
      "outputs": [
        {
          "output_type": "error",
          "ename": "TypeError",
          "evalue": "'tuple' object does not support item assignment",
          "traceback": [
            "\u001b[0;31m---------------------------------------------------------------------------\u001b[0m",
            "\u001b[0;31mTypeError\u001b[0m                                 Traceback (most recent call last)",
            "\u001b[0;32m/tmp/ipython-input-1554276931.py\u001b[0m in \u001b[0;36m<cell line: 0>\u001b[0;34m()\u001b[0m\n\u001b[1;32m      1\u001b[0m \u001b[0ma_tuple\u001b[0m \u001b[0;34m=\u001b[0m \u001b[0;34m(\u001b[0m\u001b[0;36m3\u001b[0m\u001b[0;34m,\u001b[0m \u001b[0;36m5\u001b[0m\u001b[0;34m,\u001b[0m \u001b[0;34m(\u001b[0m\u001b[0;36m4\u001b[0m\u001b[0;34m,\u001b[0m \u001b[0;36m5\u001b[0m\u001b[0;34m)\u001b[0m\u001b[0;34m)\u001b[0m\u001b[0;34m\u001b[0m\u001b[0;34m\u001b[0m\u001b[0m\n\u001b[0;32m----> 2\u001b[0;31m \u001b[0ma_tuple\u001b[0m\u001b[0;34m[\u001b[0m\u001b[0;36m1\u001b[0m\u001b[0;34m]\u001b[0m \u001b[0;34m=\u001b[0m \u001b[0;34m\"four\"\u001b[0m\u001b[0;34m\u001b[0m\u001b[0;34m\u001b[0m\u001b[0m\n\u001b[0m",
            "\u001b[0;31mTypeError\u001b[0m: 'tuple' object does not support item assignment"
          ]
        }
      ]
    },
    {
      "cell_type": "markdown",
      "source": [
        "### Scalar Types"
      ],
      "metadata": {
        "id": "9FklFpqeW-kF"
      }
    },
    {
      "cell_type": "markdown",
      "source": [
        "**Numeric types**"
      ],
      "metadata": {
        "id": "PeX_4dSzgOT6"
      }
    },
    {
      "cell_type": "code",
      "source": [
        "ival = 17239871\n",
        "ival ** 6"
      ],
      "metadata": {
        "colab": {
          "base_uri": "https://localhost:8080/"
        },
        "id": "27hXxRUGgQE_",
        "outputId": "97b44884-980f-4cb9-f7d1-69926b8be5eb"
      },
      "execution_count": 250,
      "outputs": [
        {
          "output_type": "execute_result",
          "data": {
            "text/plain": [
              "26254519291092456596965462913230729701102721"
            ]
          },
          "metadata": {},
          "execution_count": 250
        }
      ]
    },
    {
      "cell_type": "code",
      "source": [
        "fval = 7.243\n",
        "print(f'{fval}, data type = {type(fval)}')\n",
        "fval2 = 6.78e-5\n",
        "print(f'{fval2}, data type = {type(fval2)}')"
      ],
      "metadata": {
        "colab": {
          "base_uri": "https://localhost:8080/"
        },
        "id": "vNP511y0gV9H",
        "outputId": "f3ef522e-2305-4fce-aed7-684eb424c660"
      },
      "execution_count": 251,
      "outputs": [
        {
          "output_type": "stream",
          "name": "stdout",
          "text": [
            "7.243, data type = <class 'float'>\n",
            "6.78e-05, data type = <class 'float'>\n"
          ]
        }
      ]
    },
    {
      "cell_type": "markdown",
      "source": [
        "Chia bình thường"
      ],
      "metadata": {
        "id": "WCzInV3fhS_9"
      }
    },
    {
      "cell_type": "code",
      "source": [
        "3 / 2"
      ],
      "metadata": {
        "colab": {
          "base_uri": "https://localhost:8080/"
        },
        "id": "RNzY_g1Qg5bC",
        "outputId": "9ba9ee1d-44f9-476a-a7cb-1d8d5532dc0b"
      },
      "execution_count": 252,
      "outputs": [
        {
          "output_type": "execute_result",
          "data": {
            "text/plain": [
              "1.5"
            ]
          },
          "metadata": {},
          "execution_count": 252
        }
      ]
    },
    {
      "cell_type": "markdown",
      "source": [
        "Chia lấy phần nguyên"
      ],
      "metadata": {
        "id": "9fFYk0vXhQi8"
      }
    },
    {
      "cell_type": "code",
      "source": [
        "3 // 2"
      ],
      "metadata": {
        "colab": {
          "base_uri": "https://localhost:8080/"
        },
        "id": "GPYmPlNlg7TM",
        "outputId": "fb884789-8060-4ef4-e187-11315cf975cc"
      },
      "execution_count": 253,
      "outputs": [
        {
          "output_type": "execute_result",
          "data": {
            "text/plain": [
              "1"
            ]
          },
          "metadata": {},
          "execution_count": 253
        }
      ]
    },
    {
      "cell_type": "markdown",
      "source": [
        "**Strings**"
      ],
      "metadata": {
        "id": "001o-aeyhZM8"
      }
    },
    {
      "cell_type": "code",
      "source": [
        "a = 'one way of writing a string'\n",
        "print(f'{a}, data type = {type(a)}')\n",
        "b = \"another way\"\n",
        "print(f'{b}, data type = {type(b)}')"
      ],
      "metadata": {
        "colab": {
          "base_uri": "https://localhost:8080/"
        },
        "id": "DVRmiW3GhgIb",
        "outputId": "e084e858-76c5-469b-a1f9-ad4fdc6ffa7e"
      },
      "execution_count": 254,
      "outputs": [
        {
          "output_type": "stream",
          "name": "stdout",
          "text": [
            "one way of writing a string, data type = <class 'str'>\n",
            "another way, data type = <class 'str'>\n"
          ]
        }
      ]
    },
    {
      "cell_type": "markdown",
      "source": [
        "Viết 1 đoạn văn"
      ],
      "metadata": {
        "id": "17hsayafhsRi"
      }
    },
    {
      "cell_type": "code",
      "source": [
        "c = \"\"\"\n",
        "This is a longer string that\n",
        "spans multiple lines\n",
        "\"\"\"\n",
        "print(f'{c}, data type = {type(c)}')"
      ],
      "metadata": {
        "colab": {
          "base_uri": "https://localhost:8080/"
        },
        "id": "m96dezeWhoZr",
        "outputId": "0790e9eb-8460-428e-efa9-47bce957265c"
      },
      "execution_count": 255,
      "outputs": [
        {
          "output_type": "stream",
          "name": "stdout",
          "text": [
            "\n",
            "This is a longer string that\n",
            "spans multiple lines\n",
            ", data type = <class 'str'>\n"
          ]
        }
      ]
    },
    {
      "cell_type": "markdown",
      "source": [
        "Đếm số dòng"
      ],
      "metadata": {
        "id": "1teg3KnviBmh"
      }
    },
    {
      "cell_type": "code",
      "source": [
        "c.count(\"\\n\")"
      ],
      "metadata": {
        "colab": {
          "base_uri": "https://localhost:8080/"
        },
        "id": "CNOSZeqKh1Ay",
        "outputId": "e410bb9a-99f1-4bc4-a7b9-53d2aad7cc38"
      },
      "execution_count": 256,
      "outputs": [
        {
          "output_type": "execute_result",
          "data": {
            "text/plain": [
              "3"
            ]
          },
          "metadata": {},
          "execution_count": 256
        }
      ]
    },
    {
      "cell_type": "markdown",
      "source": [
        "Lỗi"
      ],
      "metadata": {
        "id": "vfXs-ml1iFbJ"
      }
    },
    {
      "cell_type": "code",
      "source": [
        "a = \"this is a string\"\n",
        "a[10] = \"f\""
      ],
      "metadata": {
        "colab": {
          "base_uri": "https://localhost:8080/",
          "height": 165
        },
        "id": "FcQnU8f1iDsP",
        "outputId": "6db9cb93-a25c-451c-b806-86c194378ca1"
      },
      "execution_count": 257,
      "outputs": [
        {
          "output_type": "error",
          "ename": "TypeError",
          "evalue": "'str' object does not support item assignment",
          "traceback": [
            "\u001b[0;31m---------------------------------------------------------------------------\u001b[0m",
            "\u001b[0;31mTypeError\u001b[0m                                 Traceback (most recent call last)",
            "\u001b[0;32m/tmp/ipython-input-2237151913.py\u001b[0m in \u001b[0;36m<cell line: 0>\u001b[0;34m()\u001b[0m\n\u001b[1;32m      1\u001b[0m \u001b[0ma\u001b[0m \u001b[0;34m=\u001b[0m \u001b[0;34m\"this is a string\"\u001b[0m\u001b[0;34m\u001b[0m\u001b[0;34m\u001b[0m\u001b[0m\n\u001b[0;32m----> 2\u001b[0;31m \u001b[0ma\u001b[0m\u001b[0;34m[\u001b[0m\u001b[0;36m10\u001b[0m\u001b[0;34m]\u001b[0m \u001b[0;34m=\u001b[0m \u001b[0;34m\"f\"\u001b[0m\u001b[0;34m\u001b[0m\u001b[0;34m\u001b[0m\u001b[0m\n\u001b[0m",
            "\u001b[0;31mTypeError\u001b[0m: 'str' object does not support item assignment"
          ]
        }
      ]
    },
    {
      "cell_type": "markdown",
      "source": [
        "Nối chuỗi"
      ],
      "metadata": {
        "id": "cYdAz2TViWNv"
      }
    },
    {
      "cell_type": "code",
      "source": [
        "b = a.replace(\"string\", \"longer string\")\n",
        "b"
      ],
      "metadata": {
        "colab": {
          "base_uri": "https://localhost:8080/",
          "height": 36
        },
        "id": "bPxCt55hiJU2",
        "outputId": "41907463-692f-4d43-9d19-a54e7c6940db"
      },
      "execution_count": 258,
      "outputs": [
        {
          "output_type": "execute_result",
          "data": {
            "text/plain": [
              "'this is a longer string'"
            ],
            "application/vnd.google.colaboratory.intrinsic+json": {
              "type": "string"
            }
          },
          "metadata": {},
          "execution_count": 258
        }
      ]
    },
    {
      "cell_type": "code",
      "source": [
        "a"
      ],
      "metadata": {
        "colab": {
          "base_uri": "https://localhost:8080/",
          "height": 36
        },
        "id": "MUDF_OTMiXsu",
        "outputId": "6b4d7a3f-e9a3-42a8-c3ff-c959c5044d68"
      },
      "execution_count": 259,
      "outputs": [
        {
          "output_type": "execute_result",
          "data": {
            "text/plain": [
              "'this is a string'"
            ],
            "application/vnd.google.colaboratory.intrinsic+json": {
              "type": "string"
            }
          },
          "metadata": {},
          "execution_count": 259
        }
      ]
    },
    {
      "cell_type": "markdown",
      "source": [
        "Đổi kiểu dữ liệu"
      ],
      "metadata": {
        "id": "7SC6huCpimfR"
      }
    },
    {
      "cell_type": "code",
      "source": [
        "a = 5.6\n",
        "print(f'{a}, data type = {type(a)}')\n",
        "s = str(a)\n",
        "print(f'{s}, data type = {type(s)}')"
      ],
      "metadata": {
        "colab": {
          "base_uri": "https://localhost:8080/"
        },
        "id": "ktCwsoKqia4_",
        "outputId": "c336f2ee-eec4-49b4-b34e-1f5b25309c30"
      },
      "execution_count": 260,
      "outputs": [
        {
          "output_type": "stream",
          "name": "stdout",
          "text": [
            "5.6, data type = <class 'float'>\n",
            "5.6, data type = <class 'str'>\n"
          ]
        }
      ]
    },
    {
      "cell_type": "markdown",
      "source": [
        "Lấy 3 ký tự đầu tiên trong chuỗi"
      ],
      "metadata": {
        "id": "RfU674AfiwwS"
      }
    },
    {
      "cell_type": "code",
      "source": [
        "s = \"python\"\n",
        "list(s)\n",
        "s[:3]"
      ],
      "metadata": {
        "colab": {
          "base_uri": "https://localhost:8080/",
          "height": 36
        },
        "id": "U8UBYXELirS_",
        "outputId": "b912c63c-7a4d-49dd-883e-11c64e392dc3"
      },
      "execution_count": 261,
      "outputs": [
        {
          "output_type": "execute_result",
          "data": {
            "text/plain": [
              "'pyt'"
            ],
            "application/vnd.google.colaboratory.intrinsic+json": {
              "type": "string"
            }
          },
          "metadata": {},
          "execution_count": 261
        }
      ]
    },
    {
      "cell_type": "code",
      "source": [
        "s = \"12\\\\34\"\n",
        "print(s)"
      ],
      "metadata": {
        "colab": {
          "base_uri": "https://localhost:8080/"
        },
        "id": "5hq3iFSBi0Qk",
        "outputId": "9a418f3b-a1e0-4c65-fec0-11687c2fa55f"
      },
      "execution_count": 262,
      "outputs": [
        {
          "output_type": "stream",
          "name": "stdout",
          "text": [
            "12\\34\n"
          ]
        }
      ]
    },
    {
      "cell_type": "code",
      "source": [
        "s = r\"this\\has\\no\\special\\characters\"\n",
        "s"
      ],
      "metadata": {
        "colab": {
          "base_uri": "https://localhost:8080/",
          "height": 36
        },
        "id": "qANw9Caxi-42",
        "outputId": "283ce8ab-9c5d-4ca4-8553-bf6de1a1a8f8"
      },
      "execution_count": 263,
      "outputs": [
        {
          "output_type": "execute_result",
          "data": {
            "text/plain": [
              "'this\\\\has\\\\no\\\\special\\\\characters'"
            ],
            "application/vnd.google.colaboratory.intrinsic+json": {
              "type": "string"
            }
          },
          "metadata": {},
          "execution_count": 263
        }
      ]
    },
    {
      "cell_type": "markdown",
      "source": [
        "Nối chuỗi"
      ],
      "metadata": {
        "id": "R63tzetWjDrA"
      }
    },
    {
      "cell_type": "code",
      "source": [
        "a = \"this is the first half \"\n",
        "b = \"and this is the second half\"\n",
        "a + b"
      ],
      "metadata": {
        "colab": {
          "base_uri": "https://localhost:8080/",
          "height": 36
        },
        "id": "UgxIZGH9jCLx",
        "outputId": "84dbc66f-4dda-458f-b1a7-6854833c775f"
      },
      "execution_count": 264,
      "outputs": [
        {
          "output_type": "execute_result",
          "data": {
            "text/plain": [
              "'this is the first half and this is the second half'"
            ],
            "application/vnd.google.colaboratory.intrinsic+json": {
              "type": "string"
            }
          },
          "metadata": {},
          "execution_count": 264
        }
      ]
    },
    {
      "cell_type": "markdown",
      "source": [
        "Ở đây:\n",
        "\n",
        "{0:.2f} → lấy đối số đầu tiên, định dạng float với 2 chữ số thập phân.\n",
        "\n",
        "{1:s} → lấy đối số thứ hai, định dạng string.\n",
        "\n",
        "{2:d} → lấy đối số thứ ba, định dạng integer (số nguyên)."
      ],
      "metadata": {
        "id": "FgbpOQiOjW-W"
      }
    },
    {
      "cell_type": "code",
      "source": [
        "template = \"{0:.2f} {1:s} are worth US${2:d}\"\n",
        "print(f'{template}, data type = {type(template)}')"
      ],
      "metadata": {
        "colab": {
          "base_uri": "https://localhost:8080/"
        },
        "id": "5bkVkd03jGwN",
        "outputId": "45aadc90-a7c4-4f91-b542-7bb2b0351a89"
      },
      "execution_count": 265,
      "outputs": [
        {
          "output_type": "stream",
          "name": "stdout",
          "text": [
            "{0:.2f} {1:s} are worth US${2:d}, data type = <class 'str'>\n"
          ]
        }
      ]
    },
    {
      "cell_type": "markdown",
      "source": [
        "Kết quả"
      ],
      "metadata": {
        "id": "FyhrP206kHdY"
      }
    },
    {
      "cell_type": "code",
      "source": [
        "template.format(88.46, \"Argentine Pesos\", 1)"
      ],
      "metadata": {
        "colab": {
          "base_uri": "https://localhost:8080/",
          "height": 36
        },
        "id": "s7_oregOjvki",
        "outputId": "20f3cdcd-c667-4575-c094-1cee8ef449a2"
      },
      "execution_count": 266,
      "outputs": [
        {
          "output_type": "execute_result",
          "data": {
            "text/plain": [
              "'88.46 Argentine Pesos are worth US$1'"
            ],
            "application/vnd.google.colaboratory.intrinsic+json": {
              "type": "string"
            }
          },
          "metadata": {},
          "execution_count": 266
        }
      ]
    },
    {
      "cell_type": "markdown",
      "source": [
        "Gán giá trị"
      ],
      "metadata": {
        "id": "k7rxThGlkQqH"
      }
    },
    {
      "cell_type": "code",
      "source": [
        "amount = 10\n",
        "rate = 88.46\n",
        "currency = \"Pesos\"\n",
        "result = f\"{amount} {currency} is worth US${amount / rate}\""
      ],
      "metadata": {
        "id": "aLefNh4Ij79r"
      },
      "execution_count": 267,
      "outputs": []
    },
    {
      "cell_type": "markdown",
      "source": [
        "Kết quả"
      ],
      "metadata": {
        "id": "6DKU2-rgkJEc"
      }
    },
    {
      "cell_type": "code",
      "source": [
        "f\"{amount} {currency} is worth US${amount / rate:.2f}\""
      ],
      "metadata": {
        "colab": {
          "base_uri": "https://localhost:8080/",
          "height": 36
        },
        "id": "eEZ83Oi3j_D4",
        "outputId": "98115074-4aba-4451-bd0f-290d1d6441f9"
      },
      "execution_count": 268,
      "outputs": [
        {
          "output_type": "execute_result",
          "data": {
            "text/plain": [
              "'10 Pesos is worth US$0.11'"
            ],
            "application/vnd.google.colaboratory.intrinsic+json": {
              "type": "string"
            }
          },
          "metadata": {},
          "execution_count": 268
        }
      ]
    },
    {
      "cell_type": "markdown",
      "source": [
        "**Bytes and Unicode**"
      ],
      "metadata": {
        "id": "D0CN0rt5kT8D"
      }
    },
    {
      "cell_type": "markdown",
      "source": [
        "Thêm dấu"
      ],
      "metadata": {
        "id": "NNaBZNZPkmqS"
      }
    },
    {
      "cell_type": "code",
      "source": [
        "val = \"español\"\n",
        "print(f'{val}, data type = {type(val)}')"
      ],
      "metadata": {
        "colab": {
          "base_uri": "https://localhost:8080/"
        },
        "id": "dyqo9hKakdvZ",
        "outputId": "469fa93a-d70a-41b8-b5fa-a5ce838dda1f"
      },
      "execution_count": 269,
      "outputs": [
        {
          "output_type": "stream",
          "name": "stdout",
          "text": [
            "español, data type = <class 'str'>\n"
          ]
        }
      ]
    },
    {
      "cell_type": "markdown",
      "source": [
        "Chuyển chuỗi val (str) thành bytes theo chuẩn UTF-8."
      ],
      "metadata": {
        "id": "gBZeI4WkktfJ"
      }
    },
    {
      "cell_type": "code",
      "source": [
        "val_utf8 = val.encode(\"utf-8\")\n",
        "val_utf8\n",
        "type(val_utf8)"
      ],
      "metadata": {
        "colab": {
          "base_uri": "https://localhost:8080/"
        },
        "id": "WUxO25cbkeoH",
        "outputId": "3acfbbad-d684-4316-a6cb-f333232cda90"
      },
      "execution_count": 270,
      "outputs": [
        {
          "output_type": "execute_result",
          "data": {
            "text/plain": [
              "bytes"
            ]
          },
          "metadata": {},
          "execution_count": 270
        }
      ]
    },
    {
      "cell_type": "code",
      "source": [
        "val_utf8.decode(\"utf-8\")"
      ],
      "metadata": {
        "colab": {
          "base_uri": "https://localhost:8080/",
          "height": 36
        },
        "id": "l-sI7BhDkyM3",
        "outputId": "d989a9fc-d5c1-4752-bdb2-b336c798522a"
      },
      "execution_count": 271,
      "outputs": [
        {
          "output_type": "execute_result",
          "data": {
            "text/plain": [
              "'español'"
            ],
            "application/vnd.google.colaboratory.intrinsic+json": {
              "type": "string"
            }
          },
          "metadata": {},
          "execution_count": 271
        }
      ]
    },
    {
      "cell_type": "code",
      "source": [
        "val.encode(\"latin1\")\n",
        "val.encode(\"utf-16\")\n",
        "val.encode(\"utf-16le\")"
      ],
      "metadata": {
        "colab": {
          "base_uri": "https://localhost:8080/"
        },
        "id": "CPrAGeeNk22g",
        "outputId": "b7a462d2-6b91-4e38-cb4c-18c038a1414c"
      },
      "execution_count": 272,
      "outputs": [
        {
          "output_type": "execute_result",
          "data": {
            "text/plain": [
              "b'e\\x00s\\x00p\\x00a\\x00\\xf1\\x00o\\x00l\\x00'"
            ]
          },
          "metadata": {},
          "execution_count": 272
        }
      ]
    },
    {
      "cell_type": "markdown",
      "source": [
        "**Booleans**"
      ],
      "metadata": {
        "id": "MrAcQm8ak-9j"
      }
    },
    {
      "cell_type": "code",
      "source": [
        "True and True"
      ],
      "metadata": {
        "colab": {
          "base_uri": "https://localhost:8080/"
        },
        "id": "f1nI8foVlGe-",
        "outputId": "24cba928-987a-41e9-aa56-c189818fcb94"
      },
      "execution_count": 273,
      "outputs": [
        {
          "output_type": "execute_result",
          "data": {
            "text/plain": [
              "True"
            ]
          },
          "metadata": {},
          "execution_count": 273
        }
      ]
    },
    {
      "cell_type": "code",
      "source": [
        "False or True"
      ],
      "metadata": {
        "colab": {
          "base_uri": "https://localhost:8080/"
        },
        "id": "rdPx_nP5lIkq",
        "outputId": "8db06f0c-0379-4984-e03e-d7120008b0f0"
      },
      "execution_count": 274,
      "outputs": [
        {
          "output_type": "execute_result",
          "data": {
            "text/plain": [
              "True"
            ]
          },
          "metadata": {},
          "execution_count": 274
        }
      ]
    },
    {
      "cell_type": "code",
      "source": [
        "int(False)"
      ],
      "metadata": {
        "colab": {
          "base_uri": "https://localhost:8080/"
        },
        "id": "_6A3ezXNlKmO",
        "outputId": "62e70477-4bf5-47e9-8681-69f243c32109"
      },
      "execution_count": 275,
      "outputs": [
        {
          "output_type": "execute_result",
          "data": {
            "text/plain": [
              "0"
            ]
          },
          "metadata": {},
          "execution_count": 275
        }
      ]
    },
    {
      "cell_type": "code",
      "source": [
        "int(True)"
      ],
      "metadata": {
        "colab": {
          "base_uri": "https://localhost:8080/"
        },
        "id": "Z4GYhpL_lM_o",
        "outputId": "3caa4d03-ff90-4d1d-900c-811c9b3ea71d"
      },
      "execution_count": 276,
      "outputs": [
        {
          "output_type": "execute_result",
          "data": {
            "text/plain": [
              "1"
            ]
          },
          "metadata": {},
          "execution_count": 276
        }
      ]
    },
    {
      "cell_type": "code",
      "source": [
        "a = True\n",
        "b = False\n",
        "not a"
      ],
      "metadata": {
        "colab": {
          "base_uri": "https://localhost:8080/"
        },
        "id": "r_3xK-7xlPzB",
        "outputId": "f865fd26-3e34-4dd5-ffab-8cdee9a6a3f1"
      },
      "execution_count": 277,
      "outputs": [
        {
          "output_type": "execute_result",
          "data": {
            "text/plain": [
              "False"
            ]
          },
          "metadata": {},
          "execution_count": 277
        }
      ]
    },
    {
      "cell_type": "code",
      "source": [
        "not b"
      ],
      "metadata": {
        "colab": {
          "base_uri": "https://localhost:8080/"
        },
        "id": "_db_0qtGlTlp",
        "outputId": "1caf9aee-8c28-46b1-e0cd-553414780cfc"
      },
      "execution_count": 278,
      "outputs": [
        {
          "output_type": "execute_result",
          "data": {
            "text/plain": [
              "True"
            ]
          },
          "metadata": {},
          "execution_count": 278
        }
      ]
    },
    {
      "cell_type": "markdown",
      "source": [
        "**Type casting**"
      ],
      "metadata": {
        "id": "xsBx9iI8lVQe"
      }
    },
    {
      "cell_type": "code",
      "source": [
        "s = \"3.14159\"\n",
        "fval = float(s)\n",
        "type(fval)"
      ],
      "metadata": {
        "colab": {
          "base_uri": "https://localhost:8080/"
        },
        "id": "pqXTzTqileAB",
        "outputId": "08db215f-a55e-41d7-ad5b-fa3c802b2daf"
      },
      "execution_count": 279,
      "outputs": [
        {
          "output_type": "execute_result",
          "data": {
            "text/plain": [
              "float"
            ]
          },
          "metadata": {},
          "execution_count": 279
        }
      ]
    },
    {
      "cell_type": "code",
      "source": [
        "int(fval)"
      ],
      "metadata": {
        "colab": {
          "base_uri": "https://localhost:8080/"
        },
        "id": "gWLPj5vLljlU",
        "outputId": "d3305a0e-1d1d-4267-e705-ad6af3c4bbb3"
      },
      "execution_count": 280,
      "outputs": [
        {
          "output_type": "execute_result",
          "data": {
            "text/plain": [
              "3"
            ]
          },
          "metadata": {},
          "execution_count": 280
        }
      ]
    },
    {
      "cell_type": "code",
      "source": [
        "bool(fval)"
      ],
      "metadata": {
        "colab": {
          "base_uri": "https://localhost:8080/"
        },
        "id": "aHWWoEwrlknU",
        "outputId": "6bc04727-8efc-4291-a92b-1c16984cf868"
      },
      "execution_count": 281,
      "outputs": [
        {
          "output_type": "execute_result",
          "data": {
            "text/plain": [
              "True"
            ]
          },
          "metadata": {},
          "execution_count": 281
        }
      ]
    },
    {
      "cell_type": "code",
      "source": [
        "bool(0)"
      ],
      "metadata": {
        "colab": {
          "base_uri": "https://localhost:8080/"
        },
        "id": "BUB1phe-lmft",
        "outputId": "a95de879-7324-4aa2-bac3-eaf93124f7d1"
      },
      "execution_count": 282,
      "outputs": [
        {
          "output_type": "execute_result",
          "data": {
            "text/plain": [
              "False"
            ]
          },
          "metadata": {},
          "execution_count": 282
        }
      ]
    },
    {
      "cell_type": "markdown",
      "source": [
        "**None**"
      ],
      "metadata": {
        "id": "Y7MDJ5LSlpEd"
      }
    },
    {
      "cell_type": "markdown",
      "source": [
        "None là kiểu giá trị null của Python"
      ],
      "metadata": {
        "id": "s-JKyHB5l1eG"
      }
    },
    {
      "cell_type": "code",
      "source": [
        "a = None\n",
        "a is None"
      ],
      "metadata": {
        "colab": {
          "base_uri": "https://localhost:8080/"
        },
        "id": "88MiSNJ9lrrD",
        "outputId": "df3fdef3-0286-4838-e9a5-a7c5a1bcb75e"
      },
      "execution_count": 283,
      "outputs": [
        {
          "output_type": "execute_result",
          "data": {
            "text/plain": [
              "True"
            ]
          },
          "metadata": {},
          "execution_count": 283
        }
      ]
    },
    {
      "cell_type": "code",
      "source": [
        "b = 5\n",
        "b is not None"
      ],
      "metadata": {
        "colab": {
          "base_uri": "https://localhost:8080/"
        },
        "id": "b7PQ08ADlxZg",
        "outputId": "735d78e5-6e02-47d7-8b7c-07aa5ca5a5f0"
      },
      "execution_count": 284,
      "outputs": [
        {
          "output_type": "execute_result",
          "data": {
            "text/plain": [
              "True"
            ]
          },
          "metadata": {},
          "execution_count": 284
        }
      ]
    },
    {
      "cell_type": "markdown",
      "source": [
        "None là giá trị mặc định chung cho các đối số hàm"
      ],
      "metadata": {
        "id": "uZbyIReSl9vf"
      }
    },
    {
      "cell_type": "code",
      "source": [
        "def add_and_maybe_multiply(a, b, c=None):\n",
        "  result = a + b\n",
        "  if c is not None:\n",
        "    result = result * c\n",
        "  return result\n",
        "\n",
        "\n",
        "print(add_and_maybe_multiply(2, 3))       # chỉ cộng a + b\n",
        "print(add_and_maybe_multiply(2, 3, 4))    # cộng rồi nhân với c"
      ],
      "metadata": {
        "colab": {
          "base_uri": "https://localhost:8080/"
        },
        "id": "9tHRMKYYmD7g",
        "outputId": "236b5ff8-0a83-4ad8-9a6e-85148fda466e"
      },
      "execution_count": 285,
      "outputs": [
        {
          "output_type": "stream",
          "name": "stdout",
          "text": [
            "5\n",
            "20\n"
          ]
        }
      ]
    },
    {
      "cell_type": "markdown",
      "source": [
        "**Dates and times**"
      ],
      "metadata": {
        "id": "38qCCqdumVEw"
      }
    },
    {
      "cell_type": "markdown",
      "source": [
        "Tạo 1 đối tượng datetime"
      ],
      "metadata": {
        "id": "QYGrxrJVmwNy"
      }
    },
    {
      "cell_type": "code",
      "source": [
        "from datetime import datetime, date, time\n",
        "dt = datetime(2011, 10, 29, 20, 30, 21)"
      ],
      "metadata": {
        "id": "U-gHyNt_mZWa"
      },
      "execution_count": 286,
      "outputs": []
    },
    {
      "cell_type": "markdown",
      "source": [
        "Lấy ra ngày"
      ],
      "metadata": {
        "id": "aN3IpauLm8_R"
      }
    },
    {
      "cell_type": "code",
      "source": [
        "dt.day"
      ],
      "metadata": {
        "colab": {
          "base_uri": "https://localhost:8080/"
        },
        "id": "cMD_O-CLm8cZ",
        "outputId": "02f534ba-6c28-42b8-fa9c-d15f75bad93e"
      },
      "execution_count": 287,
      "outputs": [
        {
          "output_type": "execute_result",
          "data": {
            "text/plain": [
              "29"
            ]
          },
          "metadata": {},
          "execution_count": 287
        }
      ]
    },
    {
      "cell_type": "markdown",
      "source": [
        "Lấy ra phút"
      ],
      "metadata": {
        "id": "h3R5KKyvmr2k"
      }
    },
    {
      "cell_type": "code",
      "source": [
        "dt.minute"
      ],
      "metadata": {
        "colab": {
          "base_uri": "https://localhost:8080/"
        },
        "id": "N040tdoimcPy",
        "outputId": "9f3caac4-854b-439f-b19a-bd2bf20e23fd"
      },
      "execution_count": 288,
      "outputs": [
        {
          "output_type": "execute_result",
          "data": {
            "text/plain": [
              "30"
            ]
          },
          "metadata": {},
          "execution_count": 288
        }
      ]
    },
    {
      "cell_type": "markdown",
      "source": [
        "Lấy ra ngày tháng"
      ],
      "metadata": {
        "id": "_D6vK7i4muj7"
      }
    },
    {
      "cell_type": "code",
      "source": [
        "dt.date()"
      ],
      "metadata": {
        "colab": {
          "base_uri": "https://localhost:8080/"
        },
        "id": "_cpBKc2hmdES",
        "outputId": "dabbb579-9732-4387-e9c7-17c2a5822832"
      },
      "execution_count": 289,
      "outputs": [
        {
          "output_type": "execute_result",
          "data": {
            "text/plain": [
              "datetime.date(2011, 10, 29)"
            ]
          },
          "metadata": {},
          "execution_count": 289
        }
      ]
    },
    {
      "cell_type": "markdown",
      "source": [
        "Lấy ra thời gian"
      ],
      "metadata": {
        "id": "VpasdVGQnRnm"
      }
    },
    {
      "cell_type": "code",
      "source": [
        "dt.time()"
      ],
      "metadata": {
        "colab": {
          "base_uri": "https://localhost:8080/"
        },
        "id": "IS0FA8UEmfhs",
        "outputId": "dcbe6002-b375-458b-8653-804eb67b5a76"
      },
      "execution_count": 290,
      "outputs": [
        {
          "output_type": "execute_result",
          "data": {
            "text/plain": [
              "datetime.time(20, 30, 21)"
            ]
          },
          "metadata": {},
          "execution_count": 290
        }
      ]
    },
    {
      "cell_type": "markdown",
      "source": [
        "chuyển đối tượng datetime thành chuỗi (str)"
      ],
      "metadata": {
        "id": "jUd58I12ndNE"
      }
    },
    {
      "cell_type": "code",
      "source": [
        "dt.strftime(\"%Y-%m-%d %H:%M\")"
      ],
      "metadata": {
        "colab": {
          "base_uri": "https://localhost:8080/",
          "height": 36
        },
        "id": "URa6ws6TmlBR",
        "outputId": "ee94052d-3025-42c3-bb8c-4b56cbfd7c26"
      },
      "execution_count": 291,
      "outputs": [
        {
          "output_type": "execute_result",
          "data": {
            "text/plain": [
              "'2011-10-29 20:30'"
            ],
            "application/vnd.google.colaboratory.intrinsic+json": {
              "type": "string"
            }
          },
          "metadata": {},
          "execution_count": 291
        }
      ]
    },
    {
      "cell_type": "markdown",
      "source": [
        "Tách ra theo dạng Year Month Days"
      ],
      "metadata": {
        "id": "TY4jvd6Gn8s_"
      }
    },
    {
      "cell_type": "code",
      "source": [
        "datetime.strptime(\"20091031\", \"%Y%m%d\")"
      ],
      "metadata": {
        "colab": {
          "base_uri": "https://localhost:8080/"
        },
        "id": "hVcP7I6_mm0p",
        "outputId": "8634d7f2-c6d9-4479-9364-c9a06a72fe7a"
      },
      "execution_count": 292,
      "outputs": [
        {
          "output_type": "execute_result",
          "data": {
            "text/plain": [
              "datetime.datetime(2009, 10, 31, 0, 0)"
            ]
          },
          "metadata": {},
          "execution_count": 292
        }
      ]
    },
    {
      "cell_type": "markdown",
      "source": [
        "Chỉ lấy giờ còn phút, giây = 0"
      ],
      "metadata": {
        "id": "19gBuwhuoEhP"
      }
    },
    {
      "cell_type": "code",
      "source": [
        "dt_hour = dt.replace(minute=0, second=0)\n",
        "dt_hour"
      ],
      "metadata": {
        "colab": {
          "base_uri": "https://localhost:8080/"
        },
        "id": "OuAhj7Tbmosz",
        "outputId": "14264a54-9d0c-433c-f88d-58e849fef04a"
      },
      "execution_count": 293,
      "outputs": [
        {
          "output_type": "execute_result",
          "data": {
            "text/plain": [
              "datetime.datetime(2011, 10, 29, 20, 0)"
            ]
          },
          "metadata": {},
          "execution_count": 293
        }
      ]
    },
    {
      "cell_type": "markdown",
      "source": [
        "Giá trị ban đầu"
      ],
      "metadata": {
        "id": "GORPMtMYoN8L"
      }
    },
    {
      "cell_type": "code",
      "source": [
        "dt"
      ],
      "metadata": {
        "colab": {
          "base_uri": "https://localhost:8080/"
        },
        "id": "Vyndo4WWn188",
        "outputId": "7f62a52a-fef7-44bd-cf55-17a0641cabd7"
      },
      "execution_count": 294,
      "outputs": [
        {
          "output_type": "execute_result",
          "data": {
            "text/plain": [
              "datetime.datetime(2011, 10, 29, 20, 30, 21)"
            ]
          },
          "metadata": {},
          "execution_count": 294
        }
      ]
    },
    {
      "cell_type": "code",
      "source": [
        "dt2 = datetime(2011, 11, 15, 22, 30)\n",
        "delta = dt2 - dt\n"
      ],
      "metadata": {
        "id": "zFMMi_-QoQ36"
      },
      "execution_count": 296,
      "outputs": []
    },
    {
      "cell_type": "code",
      "source": [
        "display(delta)"
      ],
      "metadata": {
        "colab": {
          "base_uri": "https://localhost:8080/",
          "height": 146
        },
        "id": "auCC9UsRo_R6",
        "outputId": "e58d95e7-07b7-4c2a-b41b-51493111166e"
      },
      "execution_count": 295,
      "outputs": [
        {
          "output_type": "error",
          "ename": "NameError",
          "evalue": "name 'delta' is not defined",
          "traceback": [
            "\u001b[0;31m---------------------------------------------------------------------------\u001b[0m",
            "\u001b[0;31mNameError\u001b[0m                                 Traceback (most recent call last)",
            "\u001b[0;32m/tmp/ipython-input-4178241366.py\u001b[0m in \u001b[0;36m<cell line: 0>\u001b[0;34m()\u001b[0m\n\u001b[0;32m----> 1\u001b[0;31m \u001b[0mdisplay\u001b[0m\u001b[0;34m(\u001b[0m\u001b[0mdelta\u001b[0m\u001b[0;34m)\u001b[0m\u001b[0;34m\u001b[0m\u001b[0;34m\u001b[0m\u001b[0m\n\u001b[0m",
            "\u001b[0;31mNameError\u001b[0m: name 'delta' is not defined"
          ]
        }
      ]
    },
    {
      "cell_type": "code",
      "source": [
        "type(delta)"
      ],
      "metadata": {
        "colab": {
          "base_uri": "https://localhost:8080/"
        },
        "id": "HzvbZNOxpAZe",
        "outputId": "a8c4b3ca-87e6-474a-afeb-be704175b313"
      },
      "execution_count": 297,
      "outputs": [
        {
          "output_type": "execute_result",
          "data": {
            "text/plain": [
              "datetime.timedelta"
            ]
          },
          "metadata": {},
          "execution_count": 297
        }
      ]
    },
    {
      "cell_type": "code",
      "source": [
        "dt"
      ],
      "metadata": {
        "colab": {
          "base_uri": "https://localhost:8080/"
        },
        "id": "0iWUDwpQo8S4",
        "outputId": "88b23391-1644-422d-afa8-b3246060c353"
      },
      "execution_count": 298,
      "outputs": [
        {
          "output_type": "execute_result",
          "data": {
            "text/plain": [
              "datetime.datetime(2011, 10, 29, 20, 30, 21)"
            ]
          },
          "metadata": {},
          "execution_count": 298
        }
      ]
    },
    {
      "cell_type": "code",
      "source": [
        "dt + delta"
      ],
      "metadata": {
        "colab": {
          "base_uri": "https://localhost:8080/"
        },
        "id": "WBh5K6WQpEJH",
        "outputId": "b394047b-c449-4d4f-b9d0-19cd5063e31c"
      },
      "execution_count": 299,
      "outputs": [
        {
          "output_type": "execute_result",
          "data": {
            "text/plain": [
              "datetime.datetime(2011, 11, 15, 22, 30)"
            ]
          },
          "metadata": {},
          "execution_count": 299
        }
      ]
    },
    {
      "cell_type": "markdown",
      "source": [
        "### Control Flow"
      ],
      "metadata": {
        "id": "057GrpAFpLha"
      }
    },
    {
      "cell_type": "markdown",
      "source": [
        "**if, elif, and else**"
      ],
      "metadata": {
        "id": "OaSwOziZpP1W"
      }
    },
    {
      "cell_type": "code",
      "source": [
        "x = -5\n",
        "if x < 0:\n",
        "  print(\"It's negative\")"
      ],
      "metadata": {
        "colab": {
          "base_uri": "https://localhost:8080/"
        },
        "id": "__Mz_AuopPPg",
        "outputId": "1185a423-1096-46c5-fe49-ff92cef43ba5"
      },
      "execution_count": 300,
      "outputs": [
        {
          "output_type": "stream",
          "name": "stdout",
          "text": [
            "It's negative\n"
          ]
        }
      ]
    },
    {
      "cell_type": "code",
      "source": [
        "if x < 0:\n",
        "  print(\"It's negative\")\n",
        "elif x == 0:\n",
        "  print(\"Equal to zero\")\n",
        "elif 0 < x < 5:\n",
        "  print(\"Positive but smaller than 5\")\n",
        "else:\n",
        "  print(\"Positive and larger than or equal to 5\")"
      ],
      "metadata": {
        "colab": {
          "base_uri": "https://localhost:8080/"
        },
        "id": "KcANaLY1piTN",
        "outputId": "6dbccb52-3508-43f6-9042-396900f6f8db"
      },
      "execution_count": 301,
      "outputs": [
        {
          "output_type": "stream",
          "name": "stdout",
          "text": [
            "It's negative\n"
          ]
        }
      ]
    },
    {
      "cell_type": "code",
      "source": [
        "a = 5; b = 7\n",
        "c = 8; d = 4\n",
        "if a < b or c > d:\n",
        "  print(\"Made it\")"
      ],
      "metadata": {
        "colab": {
          "base_uri": "https://localhost:8080/"
        },
        "id": "cqFgNud5pn7J",
        "outputId": "e5233743-a4d4-45db-d77d-745f016bc882"
      },
      "execution_count": 302,
      "outputs": [
        {
          "output_type": "stream",
          "name": "stdout",
          "text": [
            "Made it\n"
          ]
        }
      ]
    },
    {
      "cell_type": "code",
      "source": [
        "4 > 3 > 2 > 1"
      ],
      "metadata": {
        "colab": {
          "base_uri": "https://localhost:8080/"
        },
        "id": "GkvaePybpwWa",
        "outputId": "4e42c3a6-77e0-4f8e-f434-8d0a3433cf92"
      },
      "execution_count": 303,
      "outputs": [
        {
          "output_type": "execute_result",
          "data": {
            "text/plain": [
              "True"
            ]
          },
          "metadata": {},
          "execution_count": 303
        }
      ]
    },
    {
      "cell_type": "markdown",
      "source": [
        "**for loops**"
      ],
      "metadata": {
        "id": "4_Dy5ABKp2d6"
      }
    },
    {
      "cell_type": "code",
      "source": [
        "sequence = [1, 2, None, 4, None, 5]\n",
        "total = 0\n",
        "for value in sequence:\n",
        "  if value is None:\n",
        "    continue\n",
        "  total += value\n",
        "print(total)"
      ],
      "metadata": {
        "colab": {
          "base_uri": "https://localhost:8080/"
        },
        "id": "RORQbuq8p4kD",
        "outputId": "c87c95d8-cbab-4f8d-8b3c-18ad2c67cef4"
      },
      "execution_count": 304,
      "outputs": [
        {
          "output_type": "stream",
          "name": "stdout",
          "text": [
            "12\n"
          ]
        }
      ]
    },
    {
      "cell_type": "code",
      "source": [
        "sequence = [1, 2, 0, 4, 6, 5, 2, 1]\n",
        "total_until_5 = 0\n",
        "for value in sequence:\n",
        "    if value == 5:\n",
        "      break\n",
        "    total_until_5 += value\n",
        "    print(total_until_5)"
      ],
      "metadata": {
        "colab": {
          "base_uri": "https://localhost:8080/"
        },
        "id": "vVWHlnd9qInO",
        "outputId": "dc2c6822-fe2c-40a5-a0be-4560c07bf378"
      },
      "execution_count": 305,
      "outputs": [
        {
          "output_type": "stream",
          "name": "stdout",
          "text": [
            "1\n",
            "3\n",
            "3\n",
            "7\n",
            "13\n"
          ]
        }
      ]
    },
    {
      "cell_type": "code",
      "source": [
        "for i in range(4):\n",
        "    for j in range(4):\n",
        "        if j > i:\n",
        "            break\n",
        "        print((i, j))"
      ],
      "metadata": {
        "colab": {
          "base_uri": "https://localhost:8080/"
        },
        "id": "fFWo7dVnqVQv",
        "outputId": "f6eaee61-e6b5-4900-be71-0782b0e0eb61"
      },
      "execution_count": null,
      "outputs": [
        {
          "output_type": "stream",
          "name": "stdout",
          "text": [
            "(0, 0)\n",
            "(1, 0)\n",
            "(1, 1)\n",
            "(2, 0)\n",
            "(2, 1)\n",
            "(2, 2)\n",
            "(3, 0)\n",
            "(3, 1)\n",
            "(3, 2)\n",
            "(3, 3)\n"
          ]
        }
      ]
    },
    {
      "cell_type": "markdown",
      "source": [
        "**while loops**"
      ],
      "metadata": {
        "id": "F2SHgJHJqbUQ"
      }
    },
    {
      "cell_type": "code",
      "source": [
        "x = 256\n",
        "total = 0\n",
        "while x > 0:\n",
        "  if total > 500:\n",
        "    break\n",
        "  total += x\n",
        "  x = x // 2\n",
        "\n",
        "print(total)"
      ],
      "metadata": {
        "colab": {
          "base_uri": "https://localhost:8080/"
        },
        "id": "b5rKpg47qZGV",
        "outputId": "051ccf8a-73be-4915-f75f-b0b7e9e4e553"
      },
      "execution_count": null,
      "outputs": [
        {
          "output_type": "stream",
          "name": "stdout",
          "text": [
            "504\n"
          ]
        }
      ]
    },
    {
      "cell_type": "markdown",
      "source": [
        "**pass**"
      ],
      "metadata": {
        "id": "h9u0nIFWq4MI"
      }
    },
    {
      "cell_type": "code",
      "source": [
        "if x < 0:\n",
        "  print(\"negative!\")\n",
        "elif x == 0:\n",
        "  # TODO: put something smart here\n",
        "  pass\n",
        "else:\n",
        "  print(\"positive!\")"
      ],
      "metadata": {
        "colab": {
          "base_uri": "https://localhost:8080/"
        },
        "id": "gEwWOBXbq6yo",
        "outputId": "39f0bc94-57fc-4c8f-a0e9-4d7c08e93e53"
      },
      "execution_count": null,
      "outputs": [
        {
          "output_type": "stream",
          "name": "stdout",
          "text": [
            "positive!\n"
          ]
        }
      ]
    },
    {
      "cell_type": "markdown",
      "source": [
        "**range**"
      ],
      "metadata": {
        "id": "h83mWWm7rBf3"
      }
    },
    {
      "cell_type": "markdown",
      "source": [
        "Tạo một đối tượng range từ 0 đến 9"
      ],
      "metadata": {
        "id": "p0hUANj0rOr-"
      }
    },
    {
      "cell_type": "code",
      "source": [
        "range(10)"
      ],
      "metadata": {
        "colab": {
          "base_uri": "https://localhost:8080/"
        },
        "id": "K95Ulkk4rDlF",
        "outputId": "34354de4-4c03-461d-dcc8-eb15355be447"
      },
      "execution_count": null,
      "outputs": [
        {
          "output_type": "execute_result",
          "data": {
            "text/plain": [
              "range(0, 10)"
            ]
          },
          "metadata": {},
          "execution_count": 234
        }
      ]
    },
    {
      "cell_type": "markdown",
      "source": [
        "Tạo một danh sách các số nguyên từ 0 đến 9."
      ],
      "metadata": {
        "id": "mI_rjKuxrQRK"
      }
    },
    {
      "cell_type": "code",
      "source": [
        "list(range(10))"
      ],
      "metadata": {
        "colab": {
          "base_uri": "https://localhost:8080/"
        },
        "id": "I1Au2KO7rGNY",
        "outputId": "28444e2c-7782-41a0-8650-58b58ca545cb"
      },
      "execution_count": null,
      "outputs": [
        {
          "output_type": "execute_result",
          "data": {
            "text/plain": [
              "[0, 1, 2, 3, 4, 5, 6, 7, 8, 9]"
            ]
          },
          "metadata": {},
          "execution_count": 235
        }
      ]
    },
    {
      "cell_type": "markdown",
      "source": [
        "Tạo một danh sách các số nguyên từ 0 đến 20 và chỉ lấy số chẵn"
      ],
      "metadata": {
        "id": "PWWXyMRarZUV"
      }
    },
    {
      "cell_type": "code",
      "source": [
        "list(range(0, 20, 2))"
      ],
      "metadata": {
        "colab": {
          "base_uri": "https://localhost:8080/"
        },
        "id": "YTVl7FyorVrz",
        "outputId": "2f074d06-e2a7-4118-8348-7d83f8da1bc4"
      },
      "execution_count": null,
      "outputs": [
        {
          "output_type": "execute_result",
          "data": {
            "text/plain": [
              "[0, 2, 4, 6, 8, 10, 12, 14, 16, 18]"
            ]
          },
          "metadata": {},
          "execution_count": 237
        }
      ]
    },
    {
      "cell_type": "code",
      "source": [
        "list(range(5, 0, -1))"
      ],
      "metadata": {
        "colab": {
          "base_uri": "https://localhost:8080/"
        },
        "id": "2w47zXHLrYG4",
        "outputId": "0baeec06-80cf-4e5a-be47-4e7c7371b7d3"
      },
      "execution_count": null,
      "outputs": [
        {
          "output_type": "execute_result",
          "data": {
            "text/plain": [
              "[5, 4, 3, 2, 1]"
            ]
          },
          "metadata": {},
          "execution_count": 238
        }
      ]
    },
    {
      "cell_type": "code",
      "source": [
        "seq = [1, 2, 3, 4]\n",
        "for i in range(len(seq)):\n",
        "    print(f\"element {i}: {seq[i]}\")"
      ],
      "metadata": {
        "colab": {
          "base_uri": "https://localhost:8080/"
        },
        "id": "5-0m1GAkrkuX",
        "outputId": "e1da1c36-4cae-4c92-bf28-0f5e360045d9"
      },
      "execution_count": null,
      "outputs": [
        {
          "output_type": "stream",
          "name": "stdout",
          "text": [
            "element 0: 1\n",
            "element 1: 2\n",
            "element 2: 3\n",
            "element 3: 4\n"
          ]
        }
      ]
    },
    {
      "cell_type": "code",
      "source": [
        "total = 0\n",
        "for i in range(100_000):\n",
        "    # % is the modulo operator\n",
        "    if i % 3 == 0 or i % 5 == 0:\n",
        "        total += i\n",
        "print(total)"
      ],
      "metadata": {
        "colab": {
          "base_uri": "https://localhost:8080/"
        },
        "id": "0wg-9wtyrlWr",
        "outputId": "bcbfea9f-d3c1-48d2-e04e-3ec880edaa7a"
      },
      "execution_count": null,
      "outputs": [
        {
          "output_type": "stream",
          "name": "stdout",
          "text": [
            "2333316668\n"
          ]
        }
      ]
    },
    {
      "cell_type": "markdown",
      "source": [
        "# CHAPTER 3: Built-In Data Structures Functions, and Files"
      ],
      "metadata": {
        "id": "-Ki8IAvwrvCY"
      }
    },
    {
      "cell_type": "markdown",
      "source": [
        "## 3.1 Data Structures and Sequences"
      ],
      "metadata": {
        "id": "5Gdv_mXxry67"
      }
    },
    {
      "cell_type": "markdown",
      "source": [
        "### Tuple"
      ],
      "metadata": {
        "id": "lSAqHosWr1eI"
      }
    },
    {
      "cell_type": "markdown",
      "source": [
        "Cách khai báo"
      ],
      "metadata": {
        "id": "CdxFtJJosC5c"
      }
    },
    {
      "cell_type": "code",
      "source": [
        "tup = (4, 5, 6)\n",
        "tup"
      ],
      "metadata": {
        "colab": {
          "base_uri": "https://localhost:8080/"
        },
        "id": "yVcp59A1ryvH",
        "outputId": "1064a4f5-f102-4b62-a705-763014aca516"
      },
      "execution_count": null,
      "outputs": [
        {
          "output_type": "execute_result",
          "data": {
            "text/plain": [
              "(4, 5, 6)"
            ]
          },
          "metadata": {},
          "execution_count": 241
        }
      ]
    },
    {
      "cell_type": "code",
      "source": [
        "tup = 4, 5, 6\n",
        "tup"
      ],
      "metadata": {
        "colab": {
          "base_uri": "https://localhost:8080/"
        },
        "id": "NT7qM1QWsBDo",
        "outputId": "8f81a0b1-bd12-4a95-fb73-8763ff849614"
      },
      "execution_count": null,
      "outputs": [
        {
          "output_type": "execute_result",
          "data": {
            "text/plain": [
              "(4, 5, 6)"
            ]
          },
          "metadata": {},
          "execution_count": 243
        }
      ]
    },
    {
      "cell_type": "markdown",
      "source": [
        "Chuyển chuỗi thành ký tự"
      ],
      "metadata": {
        "id": "bCdn_aFGsNx0"
      }
    },
    {
      "cell_type": "code",
      "source": [
        "tuple([4, 0, 2])\n",
        "tup = tuple('string')\n",
        "tup"
      ],
      "metadata": {
        "colab": {
          "base_uri": "https://localhost:8080/"
        },
        "id": "0KZsCaBNsGsy",
        "outputId": "d0e6cb37-2df4-4f8d-fb80-d5b70718fafd"
      },
      "execution_count": null,
      "outputs": [
        {
          "output_type": "execute_result",
          "data": {
            "text/plain": [
              "('s', 't', 'r', 'i', 'n', 'g')"
            ]
          },
          "metadata": {},
          "execution_count": 244
        }
      ]
    },
    {
      "cell_type": "markdown",
      "source": [
        "Vị trí đầu"
      ],
      "metadata": {
        "id": "17t9BMfXsYUt"
      }
    },
    {
      "cell_type": "code",
      "source": [
        "tup[0]"
      ],
      "metadata": {
        "colab": {
          "base_uri": "https://localhost:8080/",
          "height": 36
        },
        "id": "Wc8yb6dFsWvE",
        "outputId": "6213b1c7-0a2e-46df-d198-846a3eff435d"
      },
      "execution_count": null,
      "outputs": [
        {
          "output_type": "execute_result",
          "data": {
            "text/plain": [
              "'s'"
            ],
            "application/vnd.google.colaboratory.intrinsic+json": {
              "type": "string"
            }
          },
          "metadata": {},
          "execution_count": 246
        }
      ]
    },
    {
      "cell_type": "markdown",
      "source": [
        "Tạo tuple lồng nhau"
      ],
      "metadata": {
        "id": "Vn5rizXAtcjC"
      }
    },
    {
      "cell_type": "code",
      "source": [
        "nested_tup = (4, 5, 6), (7, 8)\n",
        "nested_tup"
      ],
      "metadata": {
        "colab": {
          "base_uri": "https://localhost:8080/"
        },
        "id": "W9v55ocOsd97",
        "outputId": "30002928-011f-4178-cd5e-003ef10518fc"
      },
      "execution_count": null,
      "outputs": [
        {
          "output_type": "execute_result",
          "data": {
            "text/plain": [
              "((4, 5, 6), (7, 8))"
            ]
          },
          "metadata": {},
          "execution_count": 249
        }
      ]
    },
    {
      "cell_type": "markdown",
      "source": [
        "Lấy phần tử đầu tiên của nested_tup"
      ],
      "metadata": {
        "id": "nddtD3s4tkvv"
      }
    },
    {
      "cell_type": "code",
      "source": [
        "nested_tup[0]"
      ],
      "metadata": {
        "colab": {
          "base_uri": "https://localhost:8080/"
        },
        "id": "YOjxf8Pcs2PZ",
        "outputId": "530cbb40-8346-4707-fa70-7c35800b1f10"
      },
      "execution_count": null,
      "outputs": [
        {
          "output_type": "execute_result",
          "data": {
            "text/plain": [
              "(4, 5, 6)"
            ]
          },
          "metadata": {},
          "execution_count": 258
        }
      ]
    },
    {
      "cell_type": "markdown",
      "source": [
        "Lấy phần tử tiếp theo của nested_tup"
      ],
      "metadata": {
        "id": "24ZcMjyJtms7"
      }
    },
    {
      "cell_type": "code",
      "source": [
        "nested_tup[1]"
      ],
      "metadata": {
        "colab": {
          "base_uri": "https://localhost:8080/"
        },
        "id": "-hdgwj5Fs3u9",
        "outputId": "1a249474-2057-4624-aedc-a1598618eef1"
      },
      "execution_count": null,
      "outputs": [
        {
          "output_type": "execute_result",
          "data": {
            "text/plain": [
              "(7, 8)"
            ]
          },
          "metadata": {},
          "execution_count": 252
        }
      ]
    },
    {
      "cell_type": "markdown",
      "source": [
        "không thể gán lại phần tử trực tiếp phải thông qua append"
      ],
      "metadata": {
        "id": "bk_Y7tNmtVDg"
      }
    },
    {
      "cell_type": "code",
      "source": [
        "tup = tuple(['foo', [1, 2], True])\n",
        "tup[2] = False"
      ],
      "metadata": {
        "colab": {
          "base_uri": "https://localhost:8080/",
          "height": 165
        },
        "id": "_c6so6els7wh",
        "outputId": "9727e1c1-c12a-4075-f7c0-0e13e4e70995"
      },
      "execution_count": null,
      "outputs": [
        {
          "output_type": "error",
          "ename": "TypeError",
          "evalue": "'tuple' object does not support item assignment",
          "traceback": [
            "\u001b[0;31m---------------------------------------------------------------------------\u001b[0m",
            "\u001b[0;31mTypeError\u001b[0m                                 Traceback (most recent call last)",
            "\u001b[0;32m/tmp/ipython-input-211141333.py\u001b[0m in \u001b[0;36m<cell line: 0>\u001b[0;34m()\u001b[0m\n\u001b[1;32m      1\u001b[0m \u001b[0mtup\u001b[0m \u001b[0;34m=\u001b[0m \u001b[0mtuple\u001b[0m\u001b[0;34m(\u001b[0m\u001b[0;34m[\u001b[0m\u001b[0;34m'foo'\u001b[0m\u001b[0;34m,\u001b[0m \u001b[0;34m[\u001b[0m\u001b[0;36m1\u001b[0m\u001b[0;34m,\u001b[0m \u001b[0;36m2\u001b[0m\u001b[0;34m]\u001b[0m\u001b[0;34m,\u001b[0m \u001b[0;32mTrue\u001b[0m\u001b[0;34m]\u001b[0m\u001b[0;34m)\u001b[0m\u001b[0;34m\u001b[0m\u001b[0;34m\u001b[0m\u001b[0m\n\u001b[0;32m----> 2\u001b[0;31m \u001b[0mtup\u001b[0m\u001b[0;34m[\u001b[0m\u001b[0;36m2\u001b[0m\u001b[0;34m]\u001b[0m \u001b[0;34m=\u001b[0m \u001b[0;32mFalse\u001b[0m\u001b[0;34m\u001b[0m\u001b[0;34m\u001b[0m\u001b[0m\n\u001b[0m",
            "\u001b[0;31mTypeError\u001b[0m: 'tuple' object does not support item assignment"
          ]
        }
      ]
    },
    {
      "cell_type": "markdown",
      "source": [
        "Gán thành công 3 vào mảng"
      ],
      "metadata": {
        "id": "V1NCFWgYtyB6"
      }
    },
    {
      "cell_type": "code",
      "source": [
        "tup[1].append(3)\n",
        "tup"
      ],
      "metadata": {
        "colab": {
          "base_uri": "https://localhost:8080/"
        },
        "id": "HUer5xbztE0-",
        "outputId": "a494aa47-d73d-460f-c146-2d5aa2f5c33e"
      },
      "execution_count": null,
      "outputs": [
        {
          "output_type": "execute_result",
          "data": {
            "text/plain": [
              "('foo', [1, 2, 3], True)"
            ]
          },
          "metadata": {},
          "execution_count": 254
        }
      ]
    },
    {
      "cell_type": "markdown",
      "source": [
        "Tuple đc nối theo thứ tự từ trái sang phải."
      ],
      "metadata": {
        "id": "iko6f6PYt68z"
      }
    },
    {
      "cell_type": "code",
      "source": [
        "(4, None, 'foo') + (6, 0) + ('bar',)"
      ],
      "metadata": {
        "colab": {
          "base_uri": "https://localhost:8080/"
        },
        "id": "tSxExf7ctHc2",
        "outputId": "d346fe4a-cbf8-43d8-ebb1-3305c909c4f4"
      },
      "execution_count": null,
      "outputs": [
        {
          "output_type": "execute_result",
          "data": {
            "text/plain": [
              "(4, None, 'foo', 6, 0, 'bar')"
            ]
          },
          "metadata": {},
          "execution_count": 256
        }
      ]
    },
    {
      "cell_type": "markdown",
      "source": [
        "Lặp lại 4 lần"
      ],
      "metadata": {
        "id": "A7SoNUK7uFqW"
      }
    },
    {
      "cell_type": "code",
      "source": [
        "('foo', 'bar') * 4"
      ],
      "metadata": {
        "colab": {
          "base_uri": "https://localhost:8080/"
        },
        "id": "BJycp0g5uBG2",
        "outputId": "0fde84f0-0623-403c-859b-c3e50fd28642"
      },
      "execution_count": null,
      "outputs": [
        {
          "output_type": "execute_result",
          "data": {
            "text/plain": [
              "('foo', 'bar', 'foo', 'bar', 'foo', 'bar', 'foo', 'bar')"
            ]
          },
          "metadata": {},
          "execution_count": 259
        }
      ]
    },
    {
      "cell_type": "markdown",
      "source": [
        "**Unpacking tuples**"
      ],
      "metadata": {
        "id": "OVyV3S0cuKOY"
      }
    },
    {
      "cell_type": "markdown",
      "source": [
        "Gán lần lượt các phần tử của tuple"
      ],
      "metadata": {
        "id": "-mLBPLKhuXKR"
      }
    },
    {
      "cell_type": "code",
      "source": [
        "tup = (4, 5, 6)\n",
        "a, b, c = tup\n",
        "b"
      ],
      "metadata": {
        "colab": {
          "base_uri": "https://localhost:8080/"
        },
        "id": "ypVcAYgmuKgU",
        "outputId": "3aa896ae-9472-45af-8cf3-359527838a3d"
      },
      "execution_count": null,
      "outputs": [
        {
          "output_type": "execute_result",
          "data": {
            "text/plain": [
              "5"
            ]
          },
          "metadata": {},
          "execution_count": 268
        }
      ]
    },
    {
      "cell_type": "code",
      "source": [
        "tup = 4, 5, (6, 7)\n",
        "a, b, (c, d) = tup\n",
        "d"
      ],
      "metadata": {
        "colab": {
          "base_uri": "https://localhost:8080/"
        },
        "id": "134XHCLWuaIR",
        "outputId": "2d6f75c4-7f2d-4474-a3bd-dd8a5eefbab2"
      },
      "execution_count": null,
      "outputs": [
        {
          "output_type": "execute_result",
          "data": {
            "text/plain": [
              "7"
            ]
          },
          "metadata": {},
          "execution_count": 269
        }
      ]
    },
    {
      "cell_type": "code",
      "source": [
        "a, b = 1, 2\n",
        "a"
      ],
      "metadata": {
        "colab": {
          "base_uri": "https://localhost:8080/"
        },
        "id": "ZP7YMXQTufy0",
        "outputId": "68ec69b9-ae76-444c-b13c-0e34956b0240"
      },
      "execution_count": null,
      "outputs": [
        {
          "output_type": "execute_result",
          "data": {
            "text/plain": [
              "1"
            ]
          },
          "metadata": {},
          "execution_count": 270
        }
      ]
    },
    {
      "cell_type": "code",
      "source": [
        "b\n"
      ],
      "metadata": {
        "colab": {
          "base_uri": "https://localhost:8080/"
        },
        "id": "GOjBg7JgujMi",
        "outputId": "6d1e3e60-1cf4-4d6a-fbf1-b53381ef1994"
      },
      "execution_count": null,
      "outputs": [
        {
          "output_type": "execute_result",
          "data": {
            "text/plain": [
              "2"
            ]
          },
          "metadata": {},
          "execution_count": 271
        }
      ]
    },
    {
      "cell_type": "code",
      "source": [
        "b, a = a, b\n",
        "a"
      ],
      "metadata": {
        "colab": {
          "base_uri": "https://localhost:8080/"
        },
        "id": "NLzSmTbIukUg",
        "outputId": "fb771c55-c14f-4fc8-c3da-28f52543898d"
      },
      "execution_count": null,
      "outputs": [
        {
          "output_type": "execute_result",
          "data": {
            "text/plain": [
              "2"
            ]
          },
          "metadata": {},
          "execution_count": 272
        }
      ]
    },
    {
      "cell_type": "code",
      "source": [
        "b"
      ],
      "metadata": {
        "colab": {
          "base_uri": "https://localhost:8080/"
        },
        "id": "v9kUEV07um7l",
        "outputId": "5cc40004-1f40-46bc-e0b7-c690aae49a95"
      },
      "execution_count": null,
      "outputs": [
        {
          "output_type": "execute_result",
          "data": {
            "text/plain": [
              "2"
            ]
          },
          "metadata": {},
          "execution_count": 267
        }
      ]
    },
    {
      "cell_type": "markdown",
      "source": [
        "Vòng lặp for với tuple"
      ],
      "metadata": {
        "id": "7oF0B1oRu3lO"
      }
    },
    {
      "cell_type": "code",
      "source": [
        "seq = [(1, 2, 3), (4, 5, 6), (7, 8, 9)]\n",
        "for a, b, c in seq:\n",
        "    print(f'a={a}, b={b}, c={c}')"
      ],
      "metadata": {
        "colab": {
          "base_uri": "https://localhost:8080/"
        },
        "id": "ttFxdhH_uv6d",
        "outputId": "f7dde8bb-3af1-4e04-8c55-7c24d7b2180d"
      },
      "execution_count": null,
      "outputs": [
        {
          "output_type": "stream",
          "name": "stdout",
          "text": [
            "a=1, b=2, c=3\n",
            "a=4, b=5, c=6\n",
            "a=7, b=8, c=9\n"
          ]
        }
      ]
    },
    {
      "cell_type": "markdown",
      "source": [
        "a, b, *rest = values  \n",
        "Gán lần lượt:\n",
        "*   a = 1\n",
        "*   b = 2\n",
        "*   rest = [3, 4, 5] (rest luôn tạo một list chứa các phần tử còn lại.)"
      ],
      "metadata": {
        "id": "kfaz-FkKvOmc"
      }
    },
    {
      "cell_type": "code",
      "source": [
        "values = 1, 2, 3, 4, 5\n",
        "a, b, *rest = values"
      ],
      "metadata": {
        "id": "hozv0hpuu8Mt"
      },
      "execution_count": null,
      "outputs": []
    },
    {
      "cell_type": "code",
      "source": [
        "a"
      ],
      "metadata": {
        "colab": {
          "base_uri": "https://localhost:8080/"
        },
        "id": "Q6lzgCFzvGbo",
        "outputId": "f55cf062-407d-47c0-a5f8-1048d167d987"
      },
      "execution_count": null,
      "outputs": [
        {
          "output_type": "execute_result",
          "data": {
            "text/plain": [
              "1"
            ]
          },
          "metadata": {},
          "execution_count": 279
        }
      ]
    },
    {
      "cell_type": "code",
      "source": [
        "b"
      ],
      "metadata": {
        "colab": {
          "base_uri": "https://localhost:8080/"
        },
        "id": "HX3HeVclu-IR",
        "outputId": "48cc36eb-662b-4305-c4fc-1e4e8439a9f1"
      },
      "execution_count": null,
      "outputs": [
        {
          "output_type": "execute_result",
          "data": {
            "text/plain": [
              "2"
            ]
          },
          "metadata": {},
          "execution_count": 275
        }
      ]
    },
    {
      "cell_type": "code",
      "source": [
        "rest"
      ],
      "metadata": {
        "colab": {
          "base_uri": "https://localhost:8080/"
        },
        "id": "U2q5DD6uu_E3",
        "outputId": "34075f47-24be-492f-c4aa-58729c784cce"
      },
      "execution_count": null,
      "outputs": [
        {
          "output_type": "execute_result",
          "data": {
            "text/plain": [
              "[3, 4, 5]"
            ]
          },
          "metadata": {},
          "execution_count": 276
        }
      ]
    },
    {
      "cell_type": "markdown",
      "source": [
        "_ (thường dùng để bỏ qua giá trị không cần thiết)"
      ],
      "metadata": {
        "id": "maFYzWqJv77Z"
      }
    },
    {
      "cell_type": "code",
      "source": [
        "a, b, *_ = values\n",
        "print(a)\n",
        "print(b)\n",
        "print(_)"
      ],
      "metadata": {
        "colab": {
          "base_uri": "https://localhost:8080/"
        },
        "id": "kIgnmkA6vpsJ",
        "outputId": "c97e4666-5278-4335-8ee6-f42b0e331d82"
      },
      "execution_count": null,
      "outputs": [
        {
          "output_type": "stream",
          "name": "stdout",
          "text": [
            "1\n",
            "2\n",
            "[3, 4, 5]\n"
          ]
        }
      ]
    },
    {
      "cell_type": "markdown",
      "source": [
        "**Tuple methods**"
      ],
      "metadata": {
        "id": "Ho8gJ_irwETA"
      }
    },
    {
      "cell_type": "markdown",
      "source": [
        "Đếm số 2 trong tuple"
      ],
      "metadata": {
        "id": "7Tcu7O5XwJDJ"
      }
    },
    {
      "cell_type": "code",
      "source": [
        "a = (1, 2, 2, 2, 3, 4, 2)\n",
        "a.count(2)"
      ],
      "metadata": {
        "colab": {
          "base_uri": "https://localhost:8080/"
        },
        "id": "3Wsrie69wHQ-",
        "outputId": "06b71ee0-a720-43be-8022-843c7b88a5f2"
      },
      "execution_count": null,
      "outputs": [
        {
          "output_type": "execute_result",
          "data": {
            "text/plain": [
              "4"
            ]
          },
          "metadata": {},
          "execution_count": 285
        }
      ]
    },
    {
      "cell_type": "markdown",
      "source": [
        "### List"
      ],
      "metadata": {
        "id": "jb5bzXp8wRAQ"
      }
    },
    {
      "cell_type": "markdown",
      "source": [
        "Chuyển tuple thành list"
      ],
      "metadata": {
        "id": "OMXHvHoUwpBv"
      }
    },
    {
      "cell_type": "code",
      "source": [
        "a_list = [2, 3, 7, None]\n",
        "tup = (\"foo\", \"bar\", \"baz\")\n",
        "b_list = list(tup)\n",
        "b_list"
      ],
      "metadata": {
        "colab": {
          "base_uri": "https://localhost:8080/"
        },
        "id": "oMTf0J4MwWt_",
        "outputId": "adff11ed-2cb3-4550-bc98-66880e69c1d9"
      },
      "execution_count": null,
      "outputs": [
        {
          "output_type": "execute_result",
          "data": {
            "text/plain": [
              "['foo', 'bar', 'baz']"
            ]
          },
          "metadata": {},
          "execution_count": 304
        }
      ]
    },
    {
      "cell_type": "markdown",
      "source": [
        "Thay vị trí [1]"
      ],
      "metadata": {
        "id": "QVQ3Lcl4wdH2"
      }
    },
    {
      "cell_type": "code",
      "source": [
        "b_list[1] = \"peekaboo\"\n",
        "b_list"
      ],
      "metadata": {
        "colab": {
          "base_uri": "https://localhost:8080/"
        },
        "id": "UbTq75zdwcI5",
        "outputId": "9064cce1-311f-4730-e193-017a98f29604"
      },
      "execution_count": null,
      "outputs": [
        {
          "output_type": "execute_result",
          "data": {
            "text/plain": [
              "['foo', 'peekaboo', 'baz']"
            ]
          },
          "metadata": {},
          "execution_count": 305
        }
      ]
    },
    {
      "cell_type": "markdown",
      "source": [
        "Tạo một đối tượng range"
      ],
      "metadata": {
        "id": "oMkPdFXsw81K"
      }
    },
    {
      "cell_type": "code",
      "source": [
        "gen = range(10)\n",
        "gen"
      ],
      "metadata": {
        "colab": {
          "base_uri": "https://localhost:8080/"
        },
        "id": "EbBNuBNXwsDI",
        "outputId": "a012c735-fd02-4921-be0f-7b3811c46634"
      },
      "execution_count": null,
      "outputs": [
        {
          "output_type": "execute_result",
          "data": {
            "text/plain": [
              "range(0, 10)"
            ]
          },
          "metadata": {},
          "execution_count": 298
        }
      ]
    },
    {
      "cell_type": "markdown",
      "source": [
        "Chuyển range thành list"
      ],
      "metadata": {
        "id": "BuC4aXa_w70C"
      }
    },
    {
      "cell_type": "code",
      "source": [
        "list(gen)"
      ],
      "metadata": {
        "colab": {
          "base_uri": "https://localhost:8080/"
        },
        "id": "rbukO266wuyb",
        "outputId": "4765537f-7586-48e0-e5c3-470bccb01aed"
      },
      "execution_count": null,
      "outputs": [
        {
          "output_type": "execute_result",
          "data": {
            "text/plain": [
              "[0, 1, 2, 3, 4, 5, 6, 7, 8, 9]"
            ]
          },
          "metadata": {},
          "execution_count": 299
        }
      ]
    },
    {
      "cell_type": "markdown",
      "source": [
        "**Adding and removing elements**"
      ],
      "metadata": {
        "id": "KSU8lnF_xgNk"
      }
    },
    {
      "cell_type": "markdown",
      "source": [
        "Thêm phần tử vào cuối list"
      ],
      "metadata": {
        "id": "fKrDXIggxK2D"
      }
    },
    {
      "cell_type": "code",
      "source": [
        "b_list.append(\"dwarf\")\n",
        "b_list"
      ],
      "metadata": {
        "colab": {
          "base_uri": "https://localhost:8080/"
        },
        "id": "GdDfQGE-xCLg",
        "outputId": "57e6d3e7-3c19-4184-81e8-bfe234ce5052"
      },
      "execution_count": null,
      "outputs": [
        {
          "output_type": "execute_result",
          "data": {
            "text/plain": [
              "['foo', 'peekaboo', 'baz', 'dwarf']"
            ]
          },
          "metadata": {},
          "execution_count": 306
        }
      ]
    },
    {
      "cell_type": "markdown",
      "source": [
        "Thêm phần tử vào vị trí thứ 2 trong list"
      ],
      "metadata": {
        "id": "0_J5xaVsxU_B"
      }
    },
    {
      "cell_type": "code",
      "source": [
        "b_list.insert(1, \"red\")\n",
        "b_list"
      ],
      "metadata": {
        "colab": {
          "base_uri": "https://localhost:8080/"
        },
        "id": "9T8APystxRzX",
        "outputId": "1ce93880-42a1-4169-bf25-9f151828936e"
      },
      "execution_count": null,
      "outputs": [
        {
          "output_type": "execute_result",
          "data": {
            "text/plain": [
              "['foo', 'red', 'peekaboo', 'baz', 'dwarf']"
            ]
          },
          "metadata": {},
          "execution_count": 307
        }
      ]
    },
    {
      "cell_type": "markdown",
      "source": [
        "Xóa phần tử thứ 3"
      ],
      "metadata": {
        "id": "q-sLhNuSx4ZR"
      }
    },
    {
      "cell_type": "code",
      "source": [
        "b_list.pop(2)\n"
      ],
      "metadata": {
        "colab": {
          "base_uri": "https://localhost:8080/",
          "height": 36
        },
        "id": "jabBsRBIxuQp",
        "outputId": "11d60275-8c71-4b9e-ff52-3b365ef18e12"
      },
      "execution_count": null,
      "outputs": [
        {
          "output_type": "execute_result",
          "data": {
            "text/plain": [
              "'peekaboo'"
            ],
            "application/vnd.google.colaboratory.intrinsic+json": {
              "type": "string"
            }
          },
          "metadata": {},
          "execution_count": 308
        }
      ]
    },
    {
      "cell_type": "code",
      "source": [
        "b_list"
      ],
      "metadata": {
        "colab": {
          "base_uri": "https://localhost:8080/"
        },
        "id": "A7q80MC2xnhL",
        "outputId": "9daf3b0c-0f55-4037-ad7f-778ec98c164a"
      },
      "execution_count": null,
      "outputs": [
        {
          "output_type": "execute_result",
          "data": {
            "text/plain": [
              "['foo', 'red', 'baz', 'dwarf']"
            ]
          },
          "metadata": {},
          "execution_count": 309
        }
      ]
    },
    {
      "cell_type": "markdown",
      "source": [
        "Thêm phần tử foo vào cuối list"
      ],
      "metadata": {
        "id": "DGSsXfCJyOVt"
      }
    },
    {
      "cell_type": "code",
      "source": [
        "b_list.append(\"foo\")\n",
        "b_list"
      ],
      "metadata": {
        "colab": {
          "base_uri": "https://localhost:8080/"
        },
        "id": "kTX5sXvQyCzG",
        "outputId": "94ab5929-9177-44e0-e6b2-dd85cc3457f6"
      },
      "execution_count": null,
      "outputs": [
        {
          "output_type": "execute_result",
          "data": {
            "text/plain": [
              "['foo', 'red', 'baz', 'dwarf', 'foo']"
            ]
          },
          "metadata": {},
          "execution_count": 310
        }
      ]
    },
    {
      "cell_type": "markdown",
      "source": [
        "Xoá phần tử foo đầu tiên"
      ],
      "metadata": {
        "id": "A52cRj_bySeO"
      }
    },
    {
      "cell_type": "code",
      "source": [
        "b_list.remove(\"foo\")\n",
        "b_list"
      ],
      "metadata": {
        "colab": {
          "base_uri": "https://localhost:8080/"
        },
        "id": "6HGY-wo_yJ9T",
        "outputId": "213db639-31f6-4a0d-deee-92a9e8325144"
      },
      "execution_count": null,
      "outputs": [
        {
          "output_type": "execute_result",
          "data": {
            "text/plain": [
              "['red', 'baz', 'dwarf', 'foo']"
            ]
          },
          "metadata": {},
          "execution_count": 311
        }
      ]
    },
    {
      "cell_type": "markdown",
      "source": [
        "Kiểm tra xem phần tử có trong chuỗi k"
      ],
      "metadata": {
        "id": "drkLgKyayXjf"
      }
    },
    {
      "cell_type": "code",
      "source": [
        "\n",
        "\"dwarf\" in b_list"
      ],
      "metadata": {
        "colab": {
          "base_uri": "https://localhost:8080/"
        },
        "id": "Zvay8qHjyWH0",
        "outputId": "9b424607-5a85-414a-8af4-5a8070fdc5df"
      },
      "execution_count": null,
      "outputs": [
        {
          "output_type": "execute_result",
          "data": {
            "text/plain": [
              "True"
            ]
          },
          "metadata": {},
          "execution_count": 312
        }
      ]
    },
    {
      "cell_type": "code",
      "source": [
        "\"dwarf\" not in b_list"
      ],
      "metadata": {
        "colab": {
          "base_uri": "https://localhost:8080/"
        },
        "id": "yz-vS1S0ye0m",
        "outputId": "0a73945a-ebc3-4d89-c5fc-464630e8b0f6"
      },
      "execution_count": null,
      "outputs": [
        {
          "output_type": "execute_result",
          "data": {
            "text/plain": [
              "False"
            ]
          },
          "metadata": {},
          "execution_count": 313
        }
      ]
    },
    {
      "cell_type": "markdown",
      "source": [
        "**Concatenating and combining lists**"
      ],
      "metadata": {
        "id": "XKxI7gbmyjD_"
      }
    },
    {
      "cell_type": "markdown",
      "source": [
        "Nối hai list lại với nhau."
      ],
      "metadata": {
        "id": "KLBaVDVQyuaE"
      }
    },
    {
      "cell_type": "code",
      "source": [
        "[4, None, \"foo\"] + [7, 8, (2, 3)]"
      ],
      "metadata": {
        "colab": {
          "base_uri": "https://localhost:8080/"
        },
        "id": "MnflphMoylNw",
        "outputId": "795d225f-6a85-486a-8545-1b91e806146f"
      },
      "execution_count": null,
      "outputs": [
        {
          "output_type": "execute_result",
          "data": {
            "text/plain": [
              "[4, None, 'foo', 7, 8, (2, 3)]"
            ]
          },
          "metadata": {},
          "execution_count": 315
        }
      ]
    },
    {
      "cell_type": "code",
      "source": [
        "x = [4, None, \"foo\"]\n",
        "x.extend([7, 8, (2, 3)])\n",
        "x"
      ],
      "metadata": {
        "colab": {
          "base_uri": "https://localhost:8080/"
        },
        "id": "flpePln8yqdH",
        "outputId": "bea78803-a216-498d-c686-82db5852c988"
      },
      "execution_count": null,
      "outputs": [
        {
          "output_type": "execute_result",
          "data": {
            "text/plain": [
              "[4, None, 'foo', 7, 8, (2, 3)]"
            ]
          },
          "metadata": {},
          "execution_count": 316
        }
      ]
    },
    {
      "cell_type": "markdown",
      "source": [
        "Gom tất cả phần tử từ nhiều list con vào một list duy nhất"
      ],
      "metadata": {
        "id": "lVCxEPBGzFZi"
      }
    },
    {
      "cell_type": "code",
      "source": [
        "list_of_lists = [[1, 2], [5]]\n",
        "everything = [ [3, 4]]\n",
        "for chunk in list_of_lists:\n",
        "    everything.extend(chunk)\n",
        "\n",
        "print(everything)"
      ],
      "metadata": {
        "colab": {
          "base_uri": "https://localhost:8080/"
        },
        "id": "j61DgqC-zFzw",
        "outputId": "04bda462-5b32-41ad-e834-335e270069db"
      },
      "execution_count": null,
      "outputs": [
        {
          "output_type": "stream",
          "name": "stdout",
          "text": [
            "[[3, 4], 1, 2, 5]\n"
          ]
        }
      ]
    },
    {
      "cell_type": "code",
      "source": [
        "everything = [ [7, 8]]\n",
        "for chunk in list_of_lists:\n",
        "  everything = everything + chunk\n",
        "\n",
        "print(everything)"
      ],
      "metadata": {
        "colab": {
          "base_uri": "https://localhost:8080/"
        },
        "id": "n1cEvJtUzYiH",
        "outputId": "6f175987-76e4-41c6-97b4-51936771cd8c"
      },
      "execution_count": null,
      "outputs": [
        {
          "output_type": "stream",
          "name": "stdout",
          "text": [
            "[[7, 8], 1, 2, 5]\n"
          ]
        }
      ]
    },
    {
      "cell_type": "markdown",
      "source": [
        "**Sorting**"
      ],
      "metadata": {
        "id": "vt_9VpNKzDNm"
      }
    },
    {
      "cell_type": "markdown",
      "source": [
        "Sắp xếp list theo thứ tự tắng dần"
      ],
      "metadata": {
        "id": "qTy9XaUny3zY"
      }
    },
    {
      "cell_type": "code",
      "source": [
        "a = [7, 2, 5, 1, 3]\n",
        "a.sort()\n",
        "a"
      ],
      "metadata": {
        "colab": {
          "base_uri": "https://localhost:8080/"
        },
        "id": "7l_EVMkry2UC",
        "outputId": "20f6dd5e-256b-4478-81b3-345245c54ccd"
      },
      "execution_count": null,
      "outputs": [
        {
          "output_type": "execute_result",
          "data": {
            "text/plain": [
              "[1, 2, 3, 5, 7]"
            ]
          },
          "metadata": {},
          "execution_count": 317
        }
      ]
    },
    {
      "cell_type": "markdown",
      "source": [
        "Sắp xếp list theo độ dài các từ, từ ngắn đến dài."
      ],
      "metadata": {
        "id": "dUylSKX60hSm"
      }
    },
    {
      "cell_type": "code",
      "source": [
        "b = [\"saw\", \"small\", \"He\", \"foxes\", \"six\"]\n",
        "b.sort(key=len)\n",
        "b"
      ],
      "metadata": {
        "colab": {
          "base_uri": "https://localhost:8080/"
        },
        "id": "SwtCq4YS0adC",
        "outputId": "626fa040-1271-4c46-c4f9-97ba321d0ae8"
      },
      "execution_count": null,
      "outputs": [
        {
          "output_type": "execute_result",
          "data": {
            "text/plain": [
              "['He', 'saw', 'six', 'small', 'foxes']"
            ]
          },
          "metadata": {},
          "execution_count": 340
        }
      ]
    },
    {
      "cell_type": "markdown",
      "source": [
        "**Slicing**"
      ],
      "metadata": {
        "id": "I181xsFE0rBt"
      }
    },
    {
      "cell_type": "markdown",
      "source": [
        "Lấy các phần tử từ index 1 đến index 4"
      ],
      "metadata": {
        "id": "OaNHudT105IE"
      }
    },
    {
      "cell_type": "code",
      "source": [
        "seq = [7, 2, 3, 7, 5, 6, 0, 1]\n",
        "seq[1:5]"
      ],
      "metadata": {
        "colab": {
          "base_uri": "https://localhost:8080/"
        },
        "id": "3Hcb6v400ssm",
        "outputId": "25ed3343-f973-43c1-b03f-604a12729614"
      },
      "execution_count": null,
      "outputs": [
        {
          "output_type": "execute_result",
          "data": {
            "text/plain": [
              "[2, 3, 7, 5]"
            ]
          },
          "metadata": {},
          "execution_count": 355
        }
      ]
    },
    {
      "cell_type": "markdown",
      "source": [
        "Căt từ index 3 đến 4 (7, 5)"
      ],
      "metadata": {
        "id": "-IADceUQ09u1"
      }
    },
    {
      "cell_type": "code",
      "source": [
        "seq[3:5] = [6, 3]\n",
        "seq"
      ],
      "metadata": {
        "colab": {
          "base_uri": "https://localhost:8080/"
        },
        "id": "Pix-DOs-09-J",
        "outputId": "6908da9c-8ca9-4d2d-e061-e9a72faf851d"
      },
      "execution_count": null,
      "outputs": [
        {
          "output_type": "execute_result",
          "data": {
            "text/plain": [
              "[7, 2, 3, 6, 3, 6, 0, 1]"
            ]
          },
          "metadata": {},
          "execution_count": 356
        }
      ]
    },
    {
      "cell_type": "markdown",
      "source": [
        "Lấy 5 phần tử đầu tiên (index 0 đến 4)."
      ],
      "metadata": {
        "id": "97vJGtsk14iU"
      }
    },
    {
      "cell_type": "code",
      "source": [
        "seq[:5]"
      ],
      "metadata": {
        "colab": {
          "base_uri": "https://localhost:8080/"
        },
        "id": "kKceyEAt1tGX",
        "outputId": "abd81aaa-010d-434b-b1e0-76643f781b40"
      },
      "execution_count": null,
      "outputs": [
        {
          "output_type": "execute_result",
          "data": {
            "text/plain": [
              "[7, 2, 3, 6, 3]"
            ]
          },
          "metadata": {},
          "execution_count": 357
        }
      ]
    },
    {
      "cell_type": "markdown",
      "source": [
        "Lấy tất cả phần tử từ index 3 trở đi."
      ],
      "metadata": {
        "id": "yeDZJr562I1n"
      }
    },
    {
      "cell_type": "code",
      "source": [
        "seq[3:]"
      ],
      "metadata": {
        "colab": {
          "base_uri": "https://localhost:8080/"
        },
        "id": "EZYTNFvE2ECE",
        "outputId": "054aa80c-be4d-4b3f-9c76-fcde700bdcea"
      },
      "execution_count": null,
      "outputs": [
        {
          "output_type": "execute_result",
          "data": {
            "text/plain": [
              "[6, 3, 6, 0, 1]"
            ]
          },
          "metadata": {},
          "execution_count": 358
        }
      ]
    },
    {
      "cell_type": "markdown",
      "source": [
        "Lấy 4 phần tử cuối cùng"
      ],
      "metadata": {
        "id": "Omz1mPYq2YGx"
      }
    },
    {
      "cell_type": "code",
      "source": [
        "seq[-4:]"
      ],
      "metadata": {
        "colab": {
          "base_uri": "https://localhost:8080/"
        },
        "id": "K5WqIpWq2L44",
        "outputId": "bc18264a-f19f-4ebe-fc24-063422ef4379"
      },
      "execution_count": null,
      "outputs": [
        {
          "output_type": "execute_result",
          "data": {
            "text/plain": [
              "[3, 6, 0, 1]"
            ]
          },
          "metadata": {},
          "execution_count": 359
        }
      ]
    },
    {
      "cell_type": "markdown",
      "source": [
        "Lấy 4 phần tử bắt đầu từ index -6 đến trước index -2."
      ],
      "metadata": {
        "id": "_zby2liM2dxF"
      }
    },
    {
      "cell_type": "code",
      "source": [
        "seq[-6:-2]"
      ],
      "metadata": {
        "colab": {
          "base_uri": "https://localhost:8080/"
        },
        "id": "HaNQ9jZf2Nys",
        "outputId": "6b2a3147-3bbe-46a6-e68d-e0eedb3dd294"
      },
      "execution_count": null,
      "outputs": [
        {
          "output_type": "execute_result",
          "data": {
            "text/plain": [
              "[3, 6, 3, 6]"
            ]
          },
          "metadata": {},
          "execution_count": 360
        }
      ]
    },
    {
      "cell_type": "code",
      "source": [
        "seq[::2]"
      ],
      "metadata": {
        "colab": {
          "base_uri": "https://localhost:8080/"
        },
        "id": "QKbCCy332xhf",
        "outputId": "91bef8da-a0ed-46b8-c631-787ce4111a88"
      },
      "execution_count": null,
      "outputs": [
        {
          "output_type": "execute_result",
          "data": {
            "text/plain": [
              "[7, 3, 3, 0]"
            ]
          },
          "metadata": {},
          "execution_count": 362
        }
      ]
    },
    {
      "cell_type": "code",
      "source": [
        "\n",
        "seq[::-1]"
      ],
      "metadata": {
        "colab": {
          "base_uri": "https://localhost:8080/"
        },
        "id": "yvxYMqEB2zL6",
        "outputId": "262dd79b-00cf-4b8a-b3bf-8b3fc1432948"
      },
      "execution_count": null,
      "outputs": [
        {
          "output_type": "execute_result",
          "data": {
            "text/plain": [
              "[1, 0, 6, 3, 6, 3, 2, 7]"
            ]
          },
          "metadata": {},
          "execution_count": 363
        }
      ]
    },
    {
      "cell_type": "markdown",
      "source": [
        "### Dictionary"
      ],
      "metadata": {
        "id": "WSOfRL8-291d"
      }
    },
    {
      "cell_type": "code",
      "source": [
        "empty_dict = {}\n",
        "d1 = {\"a\": \"some value\", \"b\": [1, 2, 3, 4]}\n",
        "d1"
      ],
      "metadata": {
        "colab": {
          "base_uri": "https://localhost:8080/"
        },
        "id": "IJei5ZIW2_nR",
        "outputId": "68c0cb51-3ee4-4e08-c975-6d730d6e1d91"
      },
      "execution_count": null,
      "outputs": [
        {
          "output_type": "execute_result",
          "data": {
            "text/plain": [
              "{'a': 'some value', 'b': [1, 2, 3, 4]}"
            ]
          },
          "metadata": {},
          "execution_count": 364
        }
      ]
    },
    {
      "cell_type": "code",
      "source": [
        "d1[7] = \"an integer\"\n",
        "d1"
      ],
      "metadata": {
        "colab": {
          "base_uri": "https://localhost:8080/"
        },
        "id": "rPMlXbQo3Gk3",
        "outputId": "d3519667-c660-47f2-d544-ed6f24153970"
      },
      "execution_count": null,
      "outputs": [
        {
          "output_type": "execute_result",
          "data": {
            "text/plain": [
              "{'a': 'some value', 'b': [1, 2, 3, 4], 7: 'an integer'}"
            ]
          },
          "metadata": {},
          "execution_count": 366
        }
      ]
    },
    {
      "cell_type": "code",
      "source": [
        "d1[\"b\"]"
      ],
      "metadata": {
        "colab": {
          "base_uri": "https://localhost:8080/"
        },
        "id": "d9WPIRB63R0V",
        "outputId": "84c9d992-6985-47be-a055-82cbb63d5c02"
      },
      "execution_count": null,
      "outputs": [
        {
          "output_type": "execute_result",
          "data": {
            "text/plain": [
              "[1, 2, 3, 4]"
            ]
          },
          "metadata": {},
          "execution_count": 367
        }
      ]
    },
    {
      "cell_type": "code",
      "source": [
        "\"b\" in d1"
      ],
      "metadata": {
        "colab": {
          "base_uri": "https://localhost:8080/"
        },
        "id": "DGPs2Gwk3TwR",
        "outputId": "a37e9937-6ffc-4fdd-c2f1-24a7d16cf6e7"
      },
      "execution_count": null,
      "outputs": [
        {
          "output_type": "execute_result",
          "data": {
            "text/plain": [
              "True"
            ]
          },
          "metadata": {},
          "execution_count": 370
        }
      ]
    },
    {
      "cell_type": "code",
      "source": [
        "d1[5] = \"some value\"\n",
        "d1"
      ],
      "metadata": {
        "colab": {
          "base_uri": "https://localhost:8080/"
        },
        "id": "V6RSIuQn3Wj0",
        "outputId": "e9428ae7-5a29-4c20-c32d-2d03fb732a51"
      },
      "execution_count": null,
      "outputs": [
        {
          "output_type": "execute_result",
          "data": {
            "text/plain": [
              "{'a': 'some value', 'b': [1, 2, 3, 4], 7: 'an integer', 5: 'some value'}"
            ]
          },
          "metadata": {},
          "execution_count": 369
        }
      ]
    },
    {
      "cell_type": "code",
      "source": [
        "d1[\"dummy\"] = \"another value\"\n",
        "d1"
      ],
      "metadata": {
        "colab": {
          "base_uri": "https://localhost:8080/"
        },
        "id": "hvBVk7SL3fbA",
        "outputId": "15b3e0e9-8f5f-434a-968d-d74302b18465"
      },
      "execution_count": null,
      "outputs": [
        {
          "output_type": "execute_result",
          "data": {
            "text/plain": [
              "{'a': 'some value',\n",
              " 'b': [1, 2, 3, 4],\n",
              " 7: 'an integer',\n",
              " 5: 'some value',\n",
              " 'dummy': 'another value'}"
            ]
          },
          "metadata": {},
          "execution_count": 371
        }
      ]
    },
    {
      "cell_type": "code",
      "source": [
        "del d1[5]\n",
        "d1"
      ],
      "metadata": {
        "colab": {
          "base_uri": "https://localhost:8080/"
        },
        "id": "rmvQ9Df63hKk",
        "outputId": "f4bf8cc6-edc4-41c5-d338-c783d98dcedb"
      },
      "execution_count": null,
      "outputs": [
        {
          "output_type": "execute_result",
          "data": {
            "text/plain": [
              "{'a': 'some value',\n",
              " 'b': [1, 2, 3, 4],\n",
              " 7: 'an integer',\n",
              " 'dummy': 'another value'}"
            ]
          },
          "metadata": {},
          "execution_count": 372
        }
      ]
    },
    {
      "cell_type": "code",
      "source": [
        "ret = d1.pop(\"dummy\")\n",
        "ret"
      ],
      "metadata": {
        "colab": {
          "base_uri": "https://localhost:8080/",
          "height": 36
        },
        "id": "Wj7kMIDe3o6H",
        "outputId": "1dd94c00-4846-4525-b999-16f1dbe54c61"
      },
      "execution_count": null,
      "outputs": [
        {
          "output_type": "execute_result",
          "data": {
            "text/plain": [
              "'another value'"
            ],
            "application/vnd.google.colaboratory.intrinsic+json": {
              "type": "string"
            }
          },
          "metadata": {},
          "execution_count": 373
        }
      ]
    },
    {
      "cell_type": "code",
      "source": [
        "d1"
      ],
      "metadata": {
        "colab": {
          "base_uri": "https://localhost:8080/"
        },
        "id": "ENV72A4Y3p-v",
        "outputId": "464b1dd8-3582-425c-af25-ef27ae5c3063"
      },
      "execution_count": null,
      "outputs": [
        {
          "output_type": "execute_result",
          "data": {
            "text/plain": [
              "{'a': 'some value', 'b': [1, 2, 3, 4], 7: 'an integer'}"
            ]
          },
          "metadata": {},
          "execution_count": 374
        }
      ]
    },
    {
      "cell_type": "code",
      "source": [
        "list(d1.keys())"
      ],
      "metadata": {
        "colab": {
          "base_uri": "https://localhost:8080/"
        },
        "id": "GMJrJ3zo3t2F",
        "outputId": "b716b8a5-d345-4157-e036-3a7286d2eabc"
      },
      "execution_count": null,
      "outputs": [
        {
          "output_type": "execute_result",
          "data": {
            "text/plain": [
              "['a', 'b', 7]"
            ]
          },
          "metadata": {},
          "execution_count": 376
        }
      ]
    },
    {
      "cell_type": "code",
      "source": [
        "list(d1.values())"
      ],
      "metadata": {
        "colab": {
          "base_uri": "https://localhost:8080/"
        },
        "id": "YcNPSYd93ws9",
        "outputId": "6f45de0d-0868-4fb9-c1cf-c1d7108fbe33"
      },
      "execution_count": null,
      "outputs": [
        {
          "output_type": "execute_result",
          "data": {
            "text/plain": [
              "['some value', [1, 2, 3, 4], 'an integer']"
            ]
          },
          "metadata": {},
          "execution_count": 377
        }
      ]
    },
    {
      "cell_type": "code",
      "source": [
        "list(d1.items())"
      ],
      "metadata": {
        "colab": {
          "base_uri": "https://localhost:8080/"
        },
        "id": "2Ew21qF43yu9",
        "outputId": "d429806b-60d5-4c9b-bce8-7f25679fbb46"
      },
      "execution_count": null,
      "outputs": [
        {
          "output_type": "execute_result",
          "data": {
            "text/plain": [
              "[('a', 'some value'), ('b', [1, 2, 3, 4]), (7, 'an integer')]"
            ]
          },
          "metadata": {},
          "execution_count": 379
        }
      ]
    },
    {
      "cell_type": "code",
      "source": [
        "d1.update({\"b\": \"foo\", \"c\": 12})\n",
        "d1"
      ],
      "metadata": {
        "colab": {
          "base_uri": "https://localhost:8080/"
        },
        "id": "6foSiHle31ym",
        "outputId": "17b35957-fe8e-4927-862f-2a2e62120287"
      },
      "execution_count": null,
      "outputs": [
        {
          "output_type": "execute_result",
          "data": {
            "text/plain": [
              "{'a': 'some value', 'b': 'foo', 7: 'an integer', 'c': 12}"
            ]
          },
          "metadata": {},
          "execution_count": 380
        }
      ]
    },
    {
      "cell_type": "markdown",
      "source": [
        "**Creating dictionaries from sequences**"
      ],
      "metadata": {
        "id": "1d_3eFUs34ha"
      }
    },
    {
      "cell_type": "code",
      "source": [
        "key_list = ['a', 'b', 'c']\n",
        "value_list = [1, 2, 3]\n",
        "\n",
        "mapping = {}\n",
        "for key, value in zip(key_list, value_list):\n",
        "    mapping[key] = value\n",
        "\n",
        "print(mapping)"
      ],
      "metadata": {
        "colab": {
          "base_uri": "https://localhost:8080/"
        },
        "id": "v-kWWs_a4Ate",
        "outputId": "42b1a71a-a0b8-4a2d-c59b-81eeb7795448"
      },
      "execution_count": null,
      "outputs": [
        {
          "output_type": "stream",
          "name": "stdout",
          "text": [
            "{'a': 1, 'b': 2, 'c': 3}\n"
          ]
        }
      ]
    },
    {
      "cell_type": "code",
      "source": [
        "tuples = zip(range(5), reversed(range(5)))\n",
        "tuples"
      ],
      "metadata": {
        "colab": {
          "base_uri": "https://localhost:8080/"
        },
        "id": "uYIqNDBV38Tc",
        "outputId": "9cf32eb4-bee2-48a5-bdac-cc87cd9d247b"
      },
      "execution_count": null,
      "outputs": [
        {
          "output_type": "execute_result",
          "data": {
            "text/plain": [
              "<zip at 0x7a02307425c0>"
            ]
          },
          "metadata": {},
          "execution_count": 381
        }
      ]
    },
    {
      "cell_type": "code",
      "source": [
        "mapping = dict(tuples)\n",
        "mapping"
      ],
      "metadata": {
        "colab": {
          "base_uri": "https://localhost:8080/"
        },
        "id": "29FlGsGF3-ZR",
        "outputId": "8cab4c71-a0b6-4d9c-97f7-87eba5c48598"
      },
      "execution_count": null,
      "outputs": [
        {
          "output_type": "execute_result",
          "data": {
            "text/plain": [
              "{0: 4, 1: 3, 2: 2, 3: 1, 4: 0}"
            ]
          },
          "metadata": {},
          "execution_count": 382
        }
      ]
    },
    {
      "cell_type": "markdown",
      "source": [
        "**Default values**"
      ],
      "metadata": {
        "id": "ljQw0Nh14Qo6"
      }
    },
    {
      "cell_type": "code",
      "source": [
        "words = [\"apple\", \"bat\", \"bar\", \"atom\", \"book\"]\n",
        "by_letter = {}\n",
        "\n",
        "for word in words:\n",
        "    letter = word[0]\n",
        "    if letter not in by_letter:\n",
        "        by_letter[letter] = [word]\n",
        "    else:\n",
        "        by_letter[letter].append(word)\n",
        "\n",
        "by_letter"
      ],
      "metadata": {
        "colab": {
          "base_uri": "https://localhost:8080/"
        },
        "id": "9QCVgwTi4Z02",
        "outputId": "60ec57de-2233-43d0-eff2-2bad34d15a33"
      },
      "execution_count": null,
      "outputs": [
        {
          "output_type": "execute_result",
          "data": {
            "text/plain": [
              "{'a': ['apple', 'atom'], 'b': ['bat', 'bar', 'book']}"
            ]
          },
          "metadata": {},
          "execution_count": 388
        }
      ]
    },
    {
      "cell_type": "code",
      "source": [
        "by_letter = {}\n",
        "for word in words:\n",
        "    letter = word[0]\n",
        "    by_letter.setdefault(letter, []).append(word)\n",
        "by_letter"
      ],
      "metadata": {
        "colab": {
          "base_uri": "https://localhost:8080/"
        },
        "id": "Bzji2ToA4c8d",
        "outputId": "364235c9-1ff0-41db-9f8b-c0151ed16c32"
      },
      "execution_count": null,
      "outputs": [
        {
          "output_type": "execute_result",
          "data": {
            "text/plain": [
              "{'a': ['apple', 'atom'], 'b': ['bat', 'bar', 'book']}"
            ]
          },
          "metadata": {},
          "execution_count": 389
        }
      ]
    },
    {
      "cell_type": "code",
      "source": [
        "from collections import defaultdict\n",
        "by_letter = defaultdict(list)\n",
        "for word in words:\n",
        "    by_letter[word[0]].append(word)"
      ],
      "metadata": {
        "id": "NSWOFpb64ekL"
      },
      "execution_count": null,
      "outputs": []
    },
    {
      "cell_type": "markdown",
      "source": [
        "**Valid dictionary key types**"
      ],
      "metadata": {
        "id": "1A2TCmF44k-7"
      }
    },
    {
      "cell_type": "markdown",
      "source": [
        "Chỉ nhận các đối tượng không thay đổi còn list là mutable"
      ],
      "metadata": {
        "id": "xlI84Xw74u9R"
      }
    },
    {
      "cell_type": "code",
      "source": [
        "hash(\"string\")\n",
        "hash((1, 2, (2, 3)))\n",
        "hash((1, 2, [2, 3])) # fails because lists are mutable"
      ],
      "metadata": {
        "colab": {
          "base_uri": "https://localhost:8080/",
          "height": 183
        },
        "id": "Y9tKzeWl4rKg",
        "outputId": "7c9eaa08-2405-4a45-8737-b959edc7c9c3"
      },
      "execution_count": null,
      "outputs": [
        {
          "output_type": "error",
          "ename": "TypeError",
          "evalue": "unhashable type: 'list'",
          "traceback": [
            "\u001b[0;31m---------------------------------------------------------------------------\u001b[0m",
            "\u001b[0;31mTypeError\u001b[0m                                 Traceback (most recent call last)",
            "\u001b[0;32m/tmp/ipython-input-1861772862.py\u001b[0m in \u001b[0;36m<cell line: 0>\u001b[0;34m()\u001b[0m\n\u001b[1;32m      1\u001b[0m \u001b[0mhash\u001b[0m\u001b[0;34m(\u001b[0m\u001b[0;34m\"string\"\u001b[0m\u001b[0;34m)\u001b[0m\u001b[0;34m\u001b[0m\u001b[0;34m\u001b[0m\u001b[0m\n\u001b[1;32m      2\u001b[0m \u001b[0mhash\u001b[0m\u001b[0;34m(\u001b[0m\u001b[0;34m(\u001b[0m\u001b[0;36m1\u001b[0m\u001b[0;34m,\u001b[0m \u001b[0;36m2\u001b[0m\u001b[0;34m,\u001b[0m \u001b[0;34m(\u001b[0m\u001b[0;36m2\u001b[0m\u001b[0;34m,\u001b[0m \u001b[0;36m3\u001b[0m\u001b[0;34m)\u001b[0m\u001b[0;34m)\u001b[0m\u001b[0;34m)\u001b[0m\u001b[0;34m\u001b[0m\u001b[0;34m\u001b[0m\u001b[0m\n\u001b[0;32m----> 3\u001b[0;31m \u001b[0mhash\u001b[0m\u001b[0;34m(\u001b[0m\u001b[0;34m(\u001b[0m\u001b[0;36m1\u001b[0m\u001b[0;34m,\u001b[0m \u001b[0;36m2\u001b[0m\u001b[0;34m,\u001b[0m \u001b[0;34m[\u001b[0m\u001b[0;36m2\u001b[0m\u001b[0;34m,\u001b[0m \u001b[0;36m3\u001b[0m\u001b[0;34m]\u001b[0m\u001b[0;34m)\u001b[0m\u001b[0;34m)\u001b[0m \u001b[0;31m# fails because lists are mutable\u001b[0m\u001b[0;34m\u001b[0m\u001b[0;34m\u001b[0m\u001b[0m\n\u001b[0m",
            "\u001b[0;31mTypeError\u001b[0m: unhashable type: 'list'"
          ]
        }
      ]
    },
    {
      "cell_type": "code",
      "source": [
        "d = {}\n",
        "d[tuple([1, 2, 3])] = 5\n",
        "d"
      ],
      "metadata": {
        "colab": {
          "base_uri": "https://localhost:8080/"
        },
        "id": "nycyVDog44IX",
        "outputId": "f822d2e1-666e-43c1-95bb-2858d44ed26c"
      },
      "execution_count": null,
      "outputs": [
        {
          "output_type": "execute_result",
          "data": {
            "text/plain": [
              "{(1, 2, 3): 5}"
            ]
          },
          "metadata": {},
          "execution_count": 393
        }
      ]
    },
    {
      "cell_type": "markdown",
      "source": [
        "**Set**"
      ],
      "metadata": {
        "id": "yytXiPQC5T5E"
      }
    },
    {
      "cell_type": "code",
      "source": [
        "set([2, 2, 2, 1, 3, 3])"
      ],
      "metadata": {
        "colab": {
          "base_uri": "https://localhost:8080/"
        },
        "id": "bTZVsxTe5Oz7",
        "outputId": "c6b7ab61-602e-4477-936a-367b871754cf"
      },
      "execution_count": null,
      "outputs": [
        {
          "output_type": "execute_result",
          "data": {
            "text/plain": [
              "{1, 2, 3}"
            ]
          },
          "metadata": {},
          "execution_count": 395
        }
      ]
    },
    {
      "cell_type": "code",
      "source": [
        "{2, 2, 2, 1, 3, 3}"
      ],
      "metadata": {
        "colab": {
          "base_uri": "https://localhost:8080/"
        },
        "id": "HxR6uBCC5SG5",
        "outputId": "af789837-37e1-474a-d6d7-a5e28ae98c6e"
      },
      "execution_count": null,
      "outputs": [
        {
          "output_type": "execute_result",
          "data": {
            "text/plain": [
              "{1, 2, 3}"
            ]
          },
          "metadata": {},
          "execution_count": 396
        }
      ]
    },
    {
      "cell_type": "markdown",
      "source": [
        "Truyền giá trị cho a,b"
      ],
      "metadata": {
        "id": "ihJhQ4yZ5b2J"
      }
    },
    {
      "cell_type": "code",
      "source": [
        "a = {1, 2, 3, 4, 5}\n",
        "b = {3, 4, 5, 6, 7, 8}"
      ],
      "metadata": {
        "id": "uQWGKutX5ZK6"
      },
      "execution_count": null,
      "outputs": []
    },
    {
      "cell_type": "code",
      "source": [
        "a.union(b)"
      ],
      "metadata": {
        "colab": {
          "base_uri": "https://localhost:8080/"
        },
        "id": "JV6ADBPZ5g_Z",
        "outputId": "dec18a83-577c-4d47-e0d1-74de8e42a0e2"
      },
      "execution_count": null,
      "outputs": [
        {
          "output_type": "execute_result",
          "data": {
            "text/plain": [
              "{1, 2, 3, 4, 5, 6, 7, 8}"
            ]
          },
          "metadata": {},
          "execution_count": 398
        }
      ]
    },
    {
      "cell_type": "code",
      "source": [
        "a | b"
      ],
      "metadata": {
        "colab": {
          "base_uri": "https://localhost:8080/"
        },
        "id": "M9EPTLyU5lFG",
        "outputId": "132979ef-0d19-416c-b1f6-e79f81cfef03"
      },
      "execution_count": null,
      "outputs": [
        {
          "output_type": "execute_result",
          "data": {
            "text/plain": [
              "{1, 2, 3, 4, 5, 6, 7, 8}"
            ]
          },
          "metadata": {},
          "execution_count": 399
        }
      ]
    },
    {
      "cell_type": "code",
      "source": [
        "a.intersection(b)"
      ],
      "metadata": {
        "colab": {
          "base_uri": "https://localhost:8080/"
        },
        "id": "lD42qTKE5noG",
        "outputId": "63731146-25bd-4edc-d786-9d1363cf90b8"
      },
      "execution_count": null,
      "outputs": [
        {
          "output_type": "execute_result",
          "data": {
            "text/plain": [
              "{3, 4, 5}"
            ]
          },
          "metadata": {},
          "execution_count": 401
        }
      ]
    },
    {
      "cell_type": "code",
      "source": [
        "a & b"
      ],
      "metadata": {
        "colab": {
          "base_uri": "https://localhost:8080/"
        },
        "id": "Bcaouh6j5pKJ",
        "outputId": "c03ae16d-df91-4133-9909-4a38b2849b22"
      },
      "execution_count": null,
      "outputs": [
        {
          "output_type": "execute_result",
          "data": {
            "text/plain": [
              "{3, 4, 5}"
            ]
          },
          "metadata": {},
          "execution_count": 402
        }
      ]
    },
    {
      "cell_type": "code",
      "source": [
        "c = a.copy()\n",
        "c |= b\n",
        "c"
      ],
      "metadata": {
        "colab": {
          "base_uri": "https://localhost:8080/"
        },
        "id": "HUN8GRD_5tn3",
        "outputId": "9ca77e4d-beff-45de-a1a4-f248603a2871"
      },
      "execution_count": null,
      "outputs": [
        {
          "output_type": "execute_result",
          "data": {
            "text/plain": [
              "{1, 2, 3, 4, 5, 6, 7, 8}"
            ]
          },
          "metadata": {},
          "execution_count": 403
        }
      ]
    },
    {
      "cell_type": "code",
      "source": [
        "d = a.copy()\n",
        "d &= b\n",
        "d"
      ],
      "metadata": {
        "colab": {
          "base_uri": "https://localhost:8080/"
        },
        "id": "BrjGGv2b5wgL",
        "outputId": "3855f7b0-bf7e-4fa3-8f8a-90f705497495"
      },
      "execution_count": null,
      "outputs": [
        {
          "output_type": "execute_result",
          "data": {
            "text/plain": [
              "{3, 4, 5}"
            ]
          },
          "metadata": {},
          "execution_count": 404
        }
      ]
    },
    {
      "cell_type": "code",
      "source": [
        "my_data = [1, 2, 3, 4]\n",
        "my_set = {tuple(my_data)}\n",
        "my_set"
      ],
      "metadata": {
        "colab": {
          "base_uri": "https://localhost:8080/"
        },
        "id": "C5ot6Rt_5y9b",
        "outputId": "1fc7d333-3d9e-45d4-aa6d-2c260878acf2"
      },
      "execution_count": null,
      "outputs": [
        {
          "output_type": "execute_result",
          "data": {
            "text/plain": [
              "{(1, 2, 3, 4)}"
            ]
          },
          "metadata": {},
          "execution_count": 413
        }
      ]
    },
    {
      "cell_type": "code",
      "source": [
        "a_set = {1, 2, 3, 4, 5}\n",
        "{1, 2, 3}.issubset(a_set)"
      ],
      "metadata": {
        "colab": {
          "base_uri": "https://localhost:8080/"
        },
        "id": "TFWbUwNL6CiJ",
        "outputId": "a4721da6-64ab-4d1b-88b3-c848d004bad7"
      },
      "execution_count": null,
      "outputs": [
        {
          "output_type": "execute_result",
          "data": {
            "text/plain": [
              "True"
            ]
          },
          "metadata": {},
          "execution_count": 414
        }
      ]
    },
    {
      "cell_type": "code",
      "source": [
        "a_set.issuperset({1, 2, 3})"
      ],
      "metadata": {
        "colab": {
          "base_uri": "https://localhost:8080/"
        },
        "id": "hmduwTv96Rj_",
        "outputId": "f4b42a49-3758-4f0c-be12-40924d02c3b8"
      },
      "execution_count": null,
      "outputs": [
        {
          "output_type": "execute_result",
          "data": {
            "text/plain": [
              "True"
            ]
          },
          "metadata": {},
          "execution_count": 415
        }
      ]
    },
    {
      "cell_type": "code",
      "source": [
        "{1, 2, 3} == {3, 2, 1}"
      ],
      "metadata": {
        "colab": {
          "base_uri": "https://localhost:8080/"
        },
        "id": "BuJ8ysLr55n_",
        "outputId": "a4b391b2-493f-449e-b691-107c6769df6d"
      },
      "execution_count": null,
      "outputs": [
        {
          "output_type": "execute_result",
          "data": {
            "text/plain": [
              "True"
            ]
          },
          "metadata": {},
          "execution_count": 407
        }
      ]
    },
    {
      "cell_type": "markdown",
      "source": [
        "### Built-In Sequence Functions"
      ],
      "metadata": {
        "id": "7vb20otU6dhG"
      }
    },
    {
      "cell_type": "markdown",
      "source": [
        "**sorted**"
      ],
      "metadata": {
        "id": "cl1HsqmY6gEN"
      }
    },
    {
      "cell_type": "code",
      "source": [
        "sorted([7, 1, 2, 6, 0, 3, 2])"
      ],
      "metadata": {
        "colab": {
          "base_uri": "https://localhost:8080/"
        },
        "id": "5A8Ekjzi6MxH",
        "outputId": "caf51539-1ebb-41ea-c65b-200f66c1b44f"
      },
      "execution_count": null,
      "outputs": [
        {
          "output_type": "execute_result",
          "data": {
            "text/plain": [
              "[0, 1, 2, 2, 3, 6, 7]"
            ]
          },
          "metadata": {},
          "execution_count": 417
        }
      ]
    },
    {
      "cell_type": "code",
      "source": [
        "sorted(\"horse race\")"
      ],
      "metadata": {
        "colab": {
          "base_uri": "https://localhost:8080/"
        },
        "id": "-NRteGRb6nfW",
        "outputId": "29741027-93fa-46ff-e7d2-6a9afe8c57c4"
      },
      "execution_count": null,
      "outputs": [
        {
          "output_type": "execute_result",
          "data": {
            "text/plain": [
              "[' ', 'a', 'c', 'e', 'e', 'h', 'o', 'r', 'r', 's']"
            ]
          },
          "metadata": {},
          "execution_count": 418
        }
      ]
    },
    {
      "cell_type": "markdown",
      "source": [
        "**zip**"
      ],
      "metadata": {
        "id": "Ax7EHS7L6rXS"
      }
    },
    {
      "cell_type": "code",
      "source": [
        "seq1 = [\"foo\", \"bar\", \"baz\"]\n",
        "seq2 = [\"one\", \"two\", \"three\"]\n",
        "zipped = zip(seq1, seq2)\n",
        "list(zipped)"
      ],
      "metadata": {
        "colab": {
          "base_uri": "https://localhost:8080/"
        },
        "id": "XRByjjIY6ugM",
        "outputId": "4bf80007-c95f-42a8-cfef-9d2bdfdf5929"
      },
      "execution_count": null,
      "outputs": [
        {
          "output_type": "execute_result",
          "data": {
            "text/plain": [
              "[('foo', 'one'), ('bar', 'two'), ('baz', 'three')]"
            ]
          },
          "metadata": {},
          "execution_count": 419
        }
      ]
    },
    {
      "cell_type": "code",
      "source": [
        "seq3 = [False, True]\n",
        "list(zip(seq1, seq2, seq3))"
      ],
      "metadata": {
        "colab": {
          "base_uri": "https://localhost:8080/"
        },
        "id": "5X9bIxIz6yoe",
        "outputId": "0d074d69-7f92-4476-f579-bfc291df4bfd"
      },
      "execution_count": null,
      "outputs": [
        {
          "output_type": "execute_result",
          "data": {
            "text/plain": [
              "[('foo', 'one', False), ('bar', 'two', True)]"
            ]
          },
          "metadata": {},
          "execution_count": 421
        }
      ]
    },
    {
      "cell_type": "code",
      "source": [
        "for index, (a, b) in enumerate(zip(seq1, seq2)):\n",
        "    print(f\"{index}: {a}, {b}\")"
      ],
      "metadata": {
        "colab": {
          "base_uri": "https://localhost:8080/"
        },
        "id": "_fORFFIU606a",
        "outputId": "87003f8d-9ac1-4a19-d929-4edf3cfbc995"
      },
      "execution_count": null,
      "outputs": [
        {
          "output_type": "stream",
          "name": "stdout",
          "text": [
            "0: foo, one\n",
            "1: bar, two\n",
            "2: baz, three\n"
          ]
        }
      ]
    },
    {
      "cell_type": "markdown",
      "source": [
        "**reversed**"
      ],
      "metadata": {
        "id": "cWBYQ8qr648c"
      }
    },
    {
      "cell_type": "code",
      "source": [
        "list(reversed(range(10)))"
      ],
      "metadata": {
        "colab": {
          "base_uri": "https://localhost:8080/"
        },
        "id": "51wCeFjI69h1",
        "outputId": "f4834cc1-cb1e-4633-ae94-266de05c77af"
      },
      "execution_count": null,
      "outputs": [
        {
          "output_type": "execute_result",
          "data": {
            "text/plain": [
              "[9, 8, 7, 6, 5, 4, 3, 2, 1, 0]"
            ]
          },
          "metadata": {},
          "execution_count": 423
        }
      ]
    },
    {
      "cell_type": "markdown",
      "source": [
        "### List, Set, and Dictionary Comprehensions"
      ],
      "metadata": {
        "id": "dDtEGZF16_oM"
      }
    },
    {
      "cell_type": "code",
      "source": [
        "strings = [\"a\", \"as\", \"bat\", \"car\", \"dove\", \"python\"]\n",
        "[x.upper() for x in strings if len(x) > 2]"
      ],
      "metadata": {
        "colab": {
          "base_uri": "https://localhost:8080/"
        },
        "id": "IHgvuyUG7Co4",
        "outputId": "06a34cfd-a778-4177-9824-24b043364243"
      },
      "execution_count": null,
      "outputs": [
        {
          "output_type": "execute_result",
          "data": {
            "text/plain": [
              "['BAT', 'CAR', 'DOVE', 'PYTHON']"
            ]
          },
          "metadata": {},
          "execution_count": 424
        }
      ]
    },
    {
      "cell_type": "code",
      "source": [
        "unique_lengths = {len(x) for x in strings}\n",
        "unique_lengths"
      ],
      "metadata": {
        "colab": {
          "base_uri": "https://localhost:8080/"
        },
        "id": "GVfbRTRF7FWl",
        "outputId": "7866961e-4cd0-4042-9fa3-1769f11cdb85"
      },
      "execution_count": null,
      "outputs": [
        {
          "output_type": "execute_result",
          "data": {
            "text/plain": [
              "{1, 2, 3, 4, 6}"
            ]
          },
          "metadata": {},
          "execution_count": 426
        }
      ]
    },
    {
      "cell_type": "code",
      "source": [
        "set(map(len, strings))"
      ],
      "metadata": {
        "colab": {
          "base_uri": "https://localhost:8080/"
        },
        "id": "uhgPAHLj7IHl",
        "outputId": "e30ef8d9-8755-4d62-dabf-53d0e33dfef0"
      },
      "execution_count": null,
      "outputs": [
        {
          "output_type": "execute_result",
          "data": {
            "text/plain": [
              "{1, 2, 3, 4, 6}"
            ]
          },
          "metadata": {},
          "execution_count": 428
        }
      ]
    },
    {
      "cell_type": "code",
      "source": [
        "loc_mapping = {value: index for index, value in enumerate(strings)}\n",
        "loc_mapping"
      ],
      "metadata": {
        "colab": {
          "base_uri": "https://localhost:8080/"
        },
        "id": "v55tNhQS7KKc",
        "outputId": "919f2ac3-ed5e-4f0e-8eb9-631d8d3a61f4"
      },
      "execution_count": null,
      "outputs": [
        {
          "output_type": "execute_result",
          "data": {
            "text/plain": [
              "{'a': 0, 'as': 1, 'bat': 2, 'car': 3, 'dove': 4, 'python': 5}"
            ]
          },
          "metadata": {},
          "execution_count": 430
        }
      ]
    },
    {
      "cell_type": "markdown",
      "source": [
        "**Nested list comprehensions**"
      ],
      "metadata": {
        "id": "2lNKTKJx7NWi"
      }
    },
    {
      "cell_type": "code",
      "source": [
        "all_data = [[\"John\", \"Emily\", \"Michael\", \"Mary\", \"Steven\"],\n",
        "            [\"Maria\", \"Juan\", \"Javier\", \"Natalia\", \"Pilar\"]]"
      ],
      "metadata": {
        "id": "6XMU4CX17QOT"
      },
      "execution_count": null,
      "outputs": []
    },
    {
      "cell_type": "code",
      "source": [
        "names_of_interest = []\n",
        "for names in all_data:\n",
        "    enough_as = [name for name in names if name.count(\"a\") >= 2]\n",
        "    names_of_interest.extend(enough_as)\n",
        "names_of_interest"
      ],
      "metadata": {
        "colab": {
          "base_uri": "https://localhost:8080/"
        },
        "id": "F0Tanqp87Se0",
        "outputId": "4df60e27-e0e7-448a-937b-983a51473258"
      },
      "execution_count": null,
      "outputs": [
        {
          "output_type": "execute_result",
          "data": {
            "text/plain": [
              "['Maria', 'Natalia']"
            ]
          },
          "metadata": {},
          "execution_count": 433
        }
      ]
    },
    {
      "cell_type": "code",
      "source": [
        "result = [name for names in all_data for name in names\n",
        "          if name.count(\"a\") >= 2]\n",
        "result"
      ],
      "metadata": {
        "colab": {
          "base_uri": "https://localhost:8080/"
        },
        "id": "obwN_nII7VKs",
        "outputId": "c5cc7c43-9086-486d-bbc8-0d7b945e136f"
      },
      "execution_count": null,
      "outputs": [
        {
          "output_type": "execute_result",
          "data": {
            "text/plain": [
              "['Maria', 'Natalia']"
            ]
          },
          "metadata": {},
          "execution_count": 434
        }
      ]
    },
    {
      "cell_type": "code",
      "source": [
        "some_tuples = [(1, 2, 3), (4, 5, 6), (7, 8, 9)]\n",
        "flattened = [x for tup in some_tuples for x in tup]\n",
        "flattened"
      ],
      "metadata": {
        "colab": {
          "base_uri": "https://localhost:8080/"
        },
        "id": "YypZXAZw7XyZ",
        "outputId": "108e5d35-9743-420e-975f-2a2ea4db766b"
      },
      "execution_count": null,
      "outputs": [
        {
          "output_type": "execute_result",
          "data": {
            "text/plain": [
              "[1, 2, 3, 4, 5, 6, 7, 8, 9]"
            ]
          },
          "metadata": {},
          "execution_count": 435
        }
      ]
    },
    {
      "cell_type": "code",
      "source": [
        "flattened = []\n",
        "\n",
        "for tup in some_tuples:\n",
        "    for x in tup:\n",
        "        flattened.append(x)"
      ],
      "metadata": {
        "id": "8NkHz5zr7bj2"
      },
      "execution_count": null,
      "outputs": []
    },
    {
      "cell_type": "code",
      "source": [
        "[[x for x in tup] for tup in some_tuples]"
      ],
      "metadata": {
        "colab": {
          "base_uri": "https://localhost:8080/"
        },
        "id": "Dj-OLQ6v7eHJ",
        "outputId": "a7431b94-13a7-4bf5-cc08-c85ff88bd67b"
      },
      "execution_count": null,
      "outputs": [
        {
          "output_type": "execute_result",
          "data": {
            "text/plain": [
              "[[1, 2, 3], [4, 5, 6], [7, 8, 9]]"
            ]
          },
          "metadata": {},
          "execution_count": 438
        }
      ]
    },
    {
      "cell_type": "markdown",
      "source": [
        "## 3.2 Functions"
      ],
      "metadata": {
        "id": "_TYmfr1E7leZ"
      }
    },
    {
      "cell_type": "markdown",
      "source": [
        "Tạo function"
      ],
      "metadata": {
        "id": "_SOJXvQF7u3-"
      }
    },
    {
      "cell_type": "code",
      "source": [
        "def my_function(x, y):\n",
        "    return x + y"
      ],
      "metadata": {
        "id": "fhyfCKze7lyQ"
      },
      "execution_count": null,
      "outputs": []
    },
    {
      "cell_type": "code",
      "source": [
        "my_function(1, 2)"
      ],
      "metadata": {
        "colab": {
          "base_uri": "https://localhost:8080/"
        },
        "id": "9WbPGWv47uAA",
        "outputId": "9a6a61fa-b818-46e1-f2ef-e06e7890d6d5"
      },
      "execution_count": null,
      "outputs": [
        {
          "output_type": "execute_result",
          "data": {
            "text/plain": [
              "3"
            ]
          },
          "metadata": {},
          "execution_count": 449
        }
      ]
    },
    {
      "cell_type": "code",
      "source": [
        "result = my_function(1, 2)\n",
        "result"
      ],
      "metadata": {
        "colab": {
          "base_uri": "https://localhost:8080/"
        },
        "id": "WBLmJ2CC8CBs",
        "outputId": "2031ab9a-f714-4641-db0c-41ef4dd72f2c"
      },
      "execution_count": null,
      "outputs": [
        {
          "output_type": "execute_result",
          "data": {
            "text/plain": [
              "3"
            ]
          },
          "metadata": {},
          "execution_count": 450
        }
      ]
    },
    {
      "cell_type": "code",
      "source": [
        "def function_without_return(x):\n",
        "    print(x)\n",
        "\n",
        "result = function_without_return(\"hello!\")\n",
        "print(result)"
      ],
      "metadata": {
        "colab": {
          "base_uri": "https://localhost:8080/"
        },
        "id": "2PFZ7jd270vp",
        "outputId": "8b37cc17-c1e5-41e7-a758-d6953b0b132a"
      },
      "execution_count": null,
      "outputs": [
        {
          "output_type": "stream",
          "name": "stdout",
          "text": [
            "hello!\n",
            "None\n"
          ]
        }
      ]
    },
    {
      "cell_type": "code",
      "source": [
        "def my_function2(x, y, z=1.5):\n",
        "    if z > 1:\n",
        "        return z * (x + y)\n",
        "    else:\n",
        "        return z / (x + y)"
      ],
      "metadata": {
        "id": "RxrwqS-x737J"
      },
      "execution_count": null,
      "outputs": []
    },
    {
      "cell_type": "code",
      "source": [
        "my_function2(5, 6, z=0.7)"
      ],
      "metadata": {
        "colab": {
          "base_uri": "https://localhost:8080/"
        },
        "id": "fWx35ES877du",
        "outputId": "74929b2d-7fd0-4b2d-d178-d388dc641a06"
      },
      "execution_count": null,
      "outputs": [
        {
          "output_type": "execute_result",
          "data": {
            "text/plain": [
              "0.06363636363636363"
            ]
          },
          "metadata": {},
          "execution_count": 452
        }
      ]
    },
    {
      "cell_type": "code",
      "source": [
        "my_function2(3.14, 7, 3.5)"
      ],
      "metadata": {
        "colab": {
          "base_uri": "https://localhost:8080/"
        },
        "id": "gpeVcA4e8NrS",
        "outputId": "87c2c80b-a83c-488f-bc0c-33cc41df72ed"
      },
      "execution_count": null,
      "outputs": [
        {
          "output_type": "execute_result",
          "data": {
            "text/plain": [
              "35.49"
            ]
          },
          "metadata": {},
          "execution_count": 454
        }
      ]
    },
    {
      "cell_type": "code",
      "source": [
        "my_function2(10, 20)"
      ],
      "metadata": {
        "colab": {
          "base_uri": "https://localhost:8080/"
        },
        "id": "2hsG9GMC8O54",
        "outputId": "57a50508-5184-42c7-a871-7894b3d3f0eb"
      },
      "execution_count": null,
      "outputs": [
        {
          "output_type": "execute_result",
          "data": {
            "text/plain": [
              "45.0"
            ]
          },
          "metadata": {},
          "execution_count": 455
        }
      ]
    },
    {
      "cell_type": "markdown",
      "source": [
        "**Namespaces, Scope, and Local Functions**"
      ],
      "metadata": {
        "id": "iTx0sFlX8RRM"
      }
    },
    {
      "cell_type": "code",
      "source": [
        "def func():\n",
        "  a = []\n",
        "  for i in range(5):\n",
        "    a.append(i)"
      ],
      "metadata": {
        "id": "kVwqvdVl8Wio"
      },
      "execution_count": null,
      "outputs": []
    },
    {
      "cell_type": "code",
      "source": [
        "a = []\n",
        "def func():\n",
        "    for i in range(5):\n",
        "        a.append(i)"
      ],
      "metadata": {
        "id": "ZjY1m6xq8bnH"
      },
      "execution_count": null,
      "outputs": []
    },
    {
      "cell_type": "code",
      "source": [
        "func()\n",
        "a"
      ],
      "metadata": {
        "colab": {
          "base_uri": "https://localhost:8080/"
        },
        "id": "duKXvQ0f8ixa",
        "outputId": "1c52ceaf-40b1-4163-88c5-c6897cea1f98"
      },
      "execution_count": null,
      "outputs": [
        {
          "output_type": "execute_result",
          "data": {
            "text/plain": [
              "[0, 1, 2, 3, 4]"
            ]
          },
          "metadata": {},
          "execution_count": 478
        }
      ]
    },
    {
      "cell_type": "code",
      "source": [
        "func()\n",
        "a"
      ],
      "metadata": {
        "colab": {
          "base_uri": "https://localhost:8080/"
        },
        "id": "q3wfHY2l8n6Q",
        "outputId": "43d16b05-e064-4951-fd92-166196b48533"
      },
      "execution_count": null,
      "outputs": [
        {
          "output_type": "execute_result",
          "data": {
            "text/plain": [
              "[0, 1, 2, 3, 4, 0, 1, 2, 3, 4]"
            ]
          },
          "metadata": {},
          "execution_count": 481
        }
      ]
    },
    {
      "cell_type": "code",
      "source": [
        "a = None\n",
        "def bind_a_variable():\n",
        "    global a\n",
        "    a = []\n",
        "bind_a_variable()\n",
        "print(a)"
      ],
      "metadata": {
        "colab": {
          "base_uri": "https://localhost:8080/"
        },
        "id": "i0LeeSi68x3g",
        "outputId": "adecfeab-07a7-4b40-af79-0a09e15e455c"
      },
      "execution_count": null,
      "outputs": [
        {
          "output_type": "stream",
          "name": "stdout",
          "text": [
            "[]\n"
          ]
        }
      ]
    },
    {
      "cell_type": "markdown",
      "source": [
        "### Returning Multiple Values"
      ],
      "metadata": {
        "id": "KMXgraWI81Wv"
      }
    },
    {
      "cell_type": "code",
      "source": [
        "def f():\n",
        "  a = 5\n",
        "  b = 6\n",
        "  c = 7\n",
        "  return a, b, c"
      ],
      "metadata": {
        "id": "FouGZxUY87YY"
      },
      "execution_count": null,
      "outputs": []
    },
    {
      "cell_type": "code",
      "source": [
        "a, b, c = f()"
      ],
      "metadata": {
        "id": "ugwxr5H29l2q"
      },
      "execution_count": null,
      "outputs": []
    },
    {
      "cell_type": "code",
      "source": [
        "return_value = f()"
      ],
      "metadata": {
        "id": "nBdEZbOU9CaW"
      },
      "execution_count": null,
      "outputs": []
    },
    {
      "cell_type": "code",
      "source": [
        "print(return_value)"
      ],
      "metadata": {
        "colab": {
          "base_uri": "https://localhost:8080/"
        },
        "id": "i2zIk-hw9gyD",
        "outputId": "7d82eadf-d545-4ba7-85a0-3ba2f855a35f"
      },
      "execution_count": null,
      "outputs": [
        {
          "output_type": "stream",
          "name": "stdout",
          "text": [
            "(5, 6, 7)\n"
          ]
        }
      ]
    },
    {
      "cell_type": "code",
      "source": [
        "def f():\n",
        "  a = 5\n",
        "  b = 6\n",
        "  c = 7\n",
        "  return {\"a\" : a, \"b\" : b, \"c\" : c}"
      ],
      "metadata": {
        "id": "SdYOeNpQ9E_s"
      },
      "execution_count": null,
      "outputs": []
    },
    {
      "cell_type": "markdown",
      "source": [
        "### Functions Are Objects"
      ],
      "metadata": {
        "id": "R-vmPQeL9KEh"
      }
    },
    {
      "cell_type": "code",
      "source": [
        "states = [\"   Alabama \", \"Georgia!\", \"Georgia\", \"georgia\", \"FlOrIda\",\n",
        "          \"south   carolina##\", \"West virginia?\"]"
      ],
      "metadata": {
        "id": "Sp_YaiTH9qsK"
      },
      "execution_count": null,
      "outputs": []
    },
    {
      "cell_type": "code",
      "source": [
        "import re\n",
        "\n",
        "def clean_strings(strings):\n",
        "    result = []\n",
        "    for value in strings:\n",
        "        value = value.strip()\n",
        "        value = re.sub(\"[!#?]\", \"\", value)\n",
        "        value = value.title()\n",
        "        result.append(value)\n",
        "    return result"
      ],
      "metadata": {
        "id": "0xtfai6a9tHd"
      },
      "execution_count": null,
      "outputs": []
    },
    {
      "cell_type": "code",
      "source": [
        "\n",
        "clean_strings(states)"
      ],
      "metadata": {
        "colab": {
          "base_uri": "https://localhost:8080/"
        },
        "id": "qI84acHN9w9f",
        "outputId": "b6597697-fe28-4854-b6f9-19622885f951"
      },
      "execution_count": null,
      "outputs": [
        {
          "output_type": "execute_result",
          "data": {
            "text/plain": [
              "['Alabama',\n",
              " 'Georgia',\n",
              " 'Georgia',\n",
              " 'Georgia',\n",
              " 'Florida',\n",
              " 'South   Carolina',\n",
              " 'West Virginia']"
            ]
          },
          "metadata": {},
          "execution_count": 501
        }
      ]
    },
    {
      "cell_type": "code",
      "source": [
        "def remove_punctuation(value):\n",
        "    return re.sub(\"[!#?]\", \"\", value)\n",
        "\n",
        "clean_ops = [str.strip, remove_punctuation, str.title]\n",
        "\n",
        "def clean_strings(strings, ops):\n",
        "    result = []\n",
        "    for value in strings:\n",
        "        for func in ops:\n",
        "            value = func(value)\n",
        "        result.append(value)\n",
        "    return result"
      ],
      "metadata": {
        "id": "IL8nIfDC9zW6"
      },
      "execution_count": null,
      "outputs": []
    },
    {
      "cell_type": "code",
      "source": [
        "clean_strings(states, clean_ops)"
      ],
      "metadata": {
        "colab": {
          "base_uri": "https://localhost:8080/"
        },
        "id": "SBCJCTaY91pW",
        "outputId": "ca41229e-649c-45f9-c487-f682af58e891"
      },
      "execution_count": null,
      "outputs": [
        {
          "output_type": "execute_result",
          "data": {
            "text/plain": [
              "['Alabama',\n",
              " 'Georgia',\n",
              " 'Georgia',\n",
              " 'Georgia',\n",
              " 'Florida',\n",
              " 'South   Carolina',\n",
              " 'West Virginia']"
            ]
          },
          "metadata": {},
          "execution_count": 503
        }
      ]
    },
    {
      "cell_type": "code",
      "source": [
        "for x in map(remove_punctuation, states):\n",
        "    print(x)"
      ],
      "metadata": {
        "colab": {
          "base_uri": "https://localhost:8080/"
        },
        "id": "cw4jD_fG93Yv",
        "outputId": "9356a2f9-2477-4c79-b0c7-0f856c14ae5e"
      },
      "execution_count": null,
      "outputs": [
        {
          "output_type": "stream",
          "name": "stdout",
          "text": [
            "   Alabama \n",
            "Georgia\n",
            "Georgia\n",
            "georgia\n",
            "FlOrIda\n",
            "south   carolina\n",
            "West virginia\n"
          ]
        }
      ]
    },
    {
      "cell_type": "markdown",
      "source": [
        "### Anonymous (Lambda) Functions"
      ],
      "metadata": {
        "id": "qAX1ECYm95-4"
      }
    },
    {
      "cell_type": "code",
      "source": [
        "def short_function(x):\n",
        "    return x * 2\n",
        "\n",
        "equiv_anon = lambda x: x * 2"
      ],
      "metadata": {
        "id": "DdEJLy4j99SX"
      },
      "execution_count": null,
      "outputs": []
    },
    {
      "cell_type": "code",
      "source": [
        "def apply_to_list(some_list, f):\n",
        "    return [f(x) for x in some_list]\n",
        "\n",
        "ints = [4, 0, 1, 5, 6]\n",
        "apply_to_list(ints, lambda x: x * 2)"
      ],
      "metadata": {
        "colab": {
          "base_uri": "https://localhost:8080/"
        },
        "id": "1PBBrC6P9_NJ",
        "outputId": "b88de7aa-75e0-44fa-87d9-06090137f70e"
      },
      "execution_count": null,
      "outputs": [
        {
          "output_type": "execute_result",
          "data": {
            "text/plain": [
              "[8, 0, 2, 10, 12]"
            ]
          },
          "metadata": {},
          "execution_count": 507
        }
      ]
    },
    {
      "cell_type": "code",
      "source": [
        "strings = [\"foo\", \"card\", \"bar\", \"aaaa\", \"abab\"]"
      ],
      "metadata": {
        "id": "pLyLS8Vm-AxR"
      },
      "execution_count": null,
      "outputs": []
    },
    {
      "cell_type": "code",
      "source": [
        "strings.sort(key=lambda x: len(set(x)))\n",
        "strings"
      ],
      "metadata": {
        "colab": {
          "base_uri": "https://localhost:8080/"
        },
        "id": "cZnI4tsu-Cux",
        "outputId": "af6c89e0-a20c-47d9-eeb4-db92d78e3130"
      },
      "execution_count": null,
      "outputs": [
        {
          "output_type": "execute_result",
          "data": {
            "text/plain": [
              "['aaaa', 'foo', 'abab', 'bar', 'card']"
            ]
          },
          "metadata": {},
          "execution_count": 510
        }
      ]
    },
    {
      "cell_type": "markdown",
      "source": [
        "### Generators"
      ],
      "metadata": {
        "id": "iy8XlUs--HqA"
      }
    },
    {
      "cell_type": "code",
      "source": [
        "some_dict = {\"a\": 1, \"b\": 2, \"c\": 3}\n",
        "for key in some_dict:\n",
        "    print(key)"
      ],
      "metadata": {
        "colab": {
          "base_uri": "https://localhost:8080/"
        },
        "id": "F1phPgDN-Fnr",
        "outputId": "993b6547-6cbb-4370-cbde-c743ad7aa613"
      },
      "execution_count": null,
      "outputs": [
        {
          "output_type": "stream",
          "name": "stdout",
          "text": [
            "a\n",
            "b\n",
            "c\n"
          ]
        }
      ]
    },
    {
      "cell_type": "code",
      "source": [
        "dict_iterator = iter(some_dict)\n",
        "dict_iterator"
      ],
      "metadata": {
        "colab": {
          "base_uri": "https://localhost:8080/"
        },
        "id": "it-Yjv1U-J_Y",
        "outputId": "b38951ca-7ba6-45e9-a1b6-26f06180443c"
      },
      "execution_count": null,
      "outputs": [
        {
          "output_type": "execute_result",
          "data": {
            "text/plain": [
              "<dict_keyiterator at 0x7a02303ba660>"
            ]
          },
          "metadata": {},
          "execution_count": 512
        }
      ]
    },
    {
      "cell_type": "code",
      "source": [
        "list(dict_iterator)"
      ],
      "metadata": {
        "colab": {
          "base_uri": "https://localhost:8080/"
        },
        "id": "X3JFkRBW-M45",
        "outputId": "1c93ff63-2646-451d-b810-ed2d3d050e1a"
      },
      "execution_count": null,
      "outputs": [
        {
          "output_type": "execute_result",
          "data": {
            "text/plain": [
              "[]"
            ]
          },
          "metadata": {},
          "execution_count": 514
        }
      ]
    },
    {
      "cell_type": "code",
      "source": [
        "def squares(n=10):\n",
        "    print(f\"Generating squares from 1 to {n ** 2}\")\n",
        "    for i in range(1, n + 1):\n",
        "        yield i ** 2"
      ],
      "metadata": {
        "id": "IFrrTSWd-PDb"
      },
      "execution_count": null,
      "outputs": []
    },
    {
      "cell_type": "code",
      "source": [
        "gen = squares()\n",
        "gen"
      ],
      "metadata": {
        "colab": {
          "base_uri": "https://localhost:8080/"
        },
        "id": "wdg_Srxj-Rt8",
        "outputId": "83bc78ff-1567-4258-b3c4-62eefc440009"
      },
      "execution_count": null,
      "outputs": [
        {
          "output_type": "execute_result",
          "data": {
            "text/plain": [
              "<generator object squares at 0x7a0230177d80>"
            ]
          },
          "metadata": {},
          "execution_count": 516
        }
      ]
    },
    {
      "cell_type": "code",
      "source": [
        "for x in gen:\n",
        "    print(x, end=\" \")"
      ],
      "metadata": {
        "colab": {
          "base_uri": "https://localhost:8080/"
        },
        "id": "vpjXeATc-TyC",
        "outputId": "d244911e-cdb7-4e3a-99ad-bce25a508845"
      },
      "execution_count": null,
      "outputs": [
        {
          "output_type": "stream",
          "name": "stdout",
          "text": [
            "Generating squares from 1 to 100\n",
            "1 4 9 16 25 36 49 64 81 100 "
          ]
        }
      ]
    },
    {
      "cell_type": "markdown",
      "source": [
        "**Generator expressions**"
      ],
      "metadata": {
        "id": "NNfOWdlx-WzB"
      }
    },
    {
      "cell_type": "code",
      "source": [
        "gen = (x ** 2 for x in range(100))\n",
        "gen"
      ],
      "metadata": {
        "colab": {
          "base_uri": "https://localhost:8080/"
        },
        "id": "UXE62vYi-Yxb",
        "outputId": "3d2cfc6f-2d1a-44c8-d891-2642a7146158"
      },
      "execution_count": null,
      "outputs": [
        {
          "output_type": "execute_result",
          "data": {
            "text/plain": [
              "<generator object <genexpr> at 0x7a02303ffed0>"
            ]
          },
          "metadata": {},
          "execution_count": 518
        }
      ]
    },
    {
      "cell_type": "code",
      "source": [
        "def _make_gen():\n",
        "  for x in range(100):\n",
        "    yield x ** 2\n",
        "gen = _make_gen()"
      ],
      "metadata": {
        "id": "NSpTkr74-c20"
      },
      "execution_count": null,
      "outputs": []
    },
    {
      "cell_type": "code",
      "source": [
        "sum(x ** 2 for x in range(100))"
      ],
      "metadata": {
        "colab": {
          "base_uri": "https://localhost:8080/"
        },
        "id": "L3VIVT2G-bz6",
        "outputId": "73a01475-d92f-4481-877c-472178add766"
      },
      "execution_count": null,
      "outputs": [
        {
          "output_type": "execute_result",
          "data": {
            "text/plain": [
              "328350"
            ]
          },
          "metadata": {},
          "execution_count": 522
        }
      ]
    },
    {
      "cell_type": "code",
      "source": [
        "dict((i, i ** 2) for i in range(5))"
      ],
      "metadata": {
        "colab": {
          "base_uri": "https://localhost:8080/"
        },
        "id": "KglA5ZM5-kYS",
        "outputId": "c98adfb3-5493-48e9-e476-835f25249543"
      },
      "execution_count": null,
      "outputs": [
        {
          "output_type": "execute_result",
          "data": {
            "text/plain": [
              "{0: 0, 1: 1, 2: 4, 3: 9, 4: 16}"
            ]
          },
          "metadata": {},
          "execution_count": 523
        }
      ]
    },
    {
      "cell_type": "markdown",
      "source": [
        "**itertools module**"
      ],
      "metadata": {
        "id": "ykpzYIwG-mdL"
      }
    },
    {
      "cell_type": "code",
      "source": [
        "import itertools\n",
        "def first_letter(x):\n",
        "    return x[0]\n",
        "\n",
        "names = [\"Alan\", \"Adam\", \"Wes\", \"Will\", \"Albert\", \"Steven\"]\n",
        "\n",
        "for letter, names in itertools.groupby(names, first_letter):\n",
        "    print(letter, list(names)) # names is a generator"
      ],
      "metadata": {
        "colab": {
          "base_uri": "https://localhost:8080/"
        },
        "id": "yzuj_qhE-h-l",
        "outputId": "41654004-c7f3-4ea4-f020-ecb52edb6f29"
      },
      "execution_count": null,
      "outputs": [
        {
          "output_type": "stream",
          "name": "stdout",
          "text": [
            "A ['Alan', 'Adam']\n",
            "W ['Wes', 'Will']\n",
            "A ['Albert']\n",
            "S ['Steven']\n"
          ]
        }
      ]
    },
    {
      "cell_type": "markdown",
      "source": [
        "### Errors and Exception Handling"
      ],
      "metadata": {
        "id": "NEyDRAmX-vOk"
      }
    },
    {
      "cell_type": "code",
      "source": [
        "float(\"1.2345\")"
      ],
      "metadata": {
        "colab": {
          "base_uri": "https://localhost:8080/"
        },
        "id": "d8V1jdgv-rPe",
        "outputId": "de1ea48b-51de-4708-8224-9789dbbcfd67"
      },
      "execution_count": null,
      "outputs": [
        {
          "output_type": "execute_result",
          "data": {
            "text/plain": [
              "1.2345"
            ]
          },
          "metadata": {},
          "execution_count": 524
        }
      ]
    },
    {
      "cell_type": "markdown",
      "source": [
        "Không phải chuỗi biểu diễn số hợp lệ."
      ],
      "metadata": {
        "id": "PkGLjzch-3Fy"
      }
    },
    {
      "cell_type": "code",
      "source": [
        "float(\"something\")"
      ],
      "metadata": {
        "colab": {
          "base_uri": "https://localhost:8080/",
          "height": 146
        },
        "id": "G1k31Dh1-taK",
        "outputId": "849e14c5-a079-4b95-e26d-cf69a41ab953"
      },
      "execution_count": null,
      "outputs": [
        {
          "output_type": "error",
          "ename": "ValueError",
          "evalue": "could not convert string to float: 'something'",
          "traceback": [
            "\u001b[0;31m---------------------------------------------------------------------------\u001b[0m",
            "\u001b[0;31mValueError\u001b[0m                                Traceback (most recent call last)",
            "\u001b[0;32m/tmp/ipython-input-4117532930.py\u001b[0m in \u001b[0;36m<cell line: 0>\u001b[0;34m()\u001b[0m\n\u001b[0;32m----> 1\u001b[0;31m \u001b[0mfloat\u001b[0m\u001b[0;34m(\u001b[0m\u001b[0;34m\"something\"\u001b[0m\u001b[0;34m)\u001b[0m\u001b[0;34m\u001b[0m\u001b[0;34m\u001b[0m\u001b[0m\n\u001b[0m",
            "\u001b[0;31mValueError\u001b[0m: could not convert string to float: 'something'"
          ]
        }
      ]
    },
    {
      "cell_type": "markdown",
      "source": [
        "Hàm chuyển sang float"
      ],
      "metadata": {
        "id": "K8FxwnYn_Ycl"
      }
    },
    {
      "cell_type": "code",
      "source": [
        "def attempt_float(x):\n",
        "    try:\n",
        "        return float(x)\n",
        "    except:\n",
        "        return x"
      ],
      "metadata": {
        "id": "iP2oW-_4-7eJ"
      },
      "execution_count": null,
      "outputs": []
    },
    {
      "cell_type": "code",
      "source": [
        "attempt_float(\"1.2345\")"
      ],
      "metadata": {
        "colab": {
          "base_uri": "https://localhost:8080/"
        },
        "id": "-RSDOy2R-9ZA",
        "outputId": "4527dff2-db19-402d-8402-e8d753fb5f88"
      },
      "execution_count": null,
      "outputs": [
        {
          "output_type": "execute_result",
          "data": {
            "text/plain": [
              "1.2345"
            ]
          },
          "metadata": {},
          "execution_count": 527
        }
      ]
    },
    {
      "cell_type": "code",
      "source": [
        "attempt_float(\"something\")"
      ],
      "metadata": {
        "colab": {
          "base_uri": "https://localhost:8080/",
          "height": 36
        },
        "id": "wIUHUaa6-_Xz",
        "outputId": "c1038bda-de2b-4065-9509-871d3ad99810"
      },
      "execution_count": null,
      "outputs": [
        {
          "output_type": "execute_result",
          "data": {
            "text/plain": [
              "'something'"
            ],
            "application/vnd.google.colaboratory.intrinsic+json": {
              "type": "string"
            }
          },
          "metadata": {},
          "execution_count": 529
        }
      ]
    },
    {
      "cell_type": "markdown",
      "source": [
        "Lỗi xảy ra vì (1, 2) là tuple, không phải số hay chuỗi số hợp lệ."
      ],
      "metadata": {
        "id": "8zDHT8HJ_K5d"
      }
    },
    {
      "cell_type": "code",
      "source": [
        "float((1, 2))"
      ],
      "metadata": {
        "colab": {
          "base_uri": "https://localhost:8080/",
          "height": 146
        },
        "id": "M6GmjZpm_FTw",
        "outputId": "fca82e17-2f65-419f-bfea-67d61cf7653c"
      },
      "execution_count": null,
      "outputs": [
        {
          "output_type": "error",
          "ename": "TypeError",
          "evalue": "float() argument must be a string or a real number, not 'tuple'",
          "traceback": [
            "\u001b[0;31m---------------------------------------------------------------------------\u001b[0m",
            "\u001b[0;31mTypeError\u001b[0m                                 Traceback (most recent call last)",
            "\u001b[0;32m/tmp/ipython-input-1061708882.py\u001b[0m in \u001b[0;36m<cell line: 0>\u001b[0;34m()\u001b[0m\n\u001b[0;32m----> 1\u001b[0;31m \u001b[0mfloat\u001b[0m\u001b[0;34m(\u001b[0m\u001b[0;34m(\u001b[0m\u001b[0;36m1\u001b[0m\u001b[0;34m,\u001b[0m \u001b[0;36m2\u001b[0m\u001b[0;34m)\u001b[0m\u001b[0;34m)\u001b[0m\u001b[0;34m\u001b[0m\u001b[0;34m\u001b[0m\u001b[0m\n\u001b[0m",
            "\u001b[0;31mTypeError\u001b[0m: float() argument must be a string or a real number, not 'tuple'"
          ]
        }
      ]
    },
    {
      "cell_type": "markdown",
      "source": [
        "Hàm chuyển sang float"
      ],
      "metadata": {
        "id": "Uh1Z0s-L_R7K"
      }
    },
    {
      "cell_type": "code",
      "source": [
        "def attempt_float(x):\n",
        "    try:\n",
        "        return float(x)\n",
        "    except ValueError:\n",
        "        return x"
      ],
      "metadata": {
        "id": "7_5xhTMx_Nng"
      },
      "execution_count": null,
      "outputs": []
    },
    {
      "cell_type": "code",
      "source": [
        "attempt_float((1, 2))"
      ],
      "metadata": {
        "colab": {
          "base_uri": "https://localhost:8080/",
          "height": 274
        },
        "id": "o7Jw_Q-g_bmm",
        "outputId": "75ec0a40-f321-496f-c53a-18a8b413a2fc"
      },
      "execution_count": null,
      "outputs": [
        {
          "output_type": "error",
          "ename": "TypeError",
          "evalue": "float() argument must be a string or a real number, not 'tuple'",
          "traceback": [
            "\u001b[0;31m---------------------------------------------------------------------------\u001b[0m",
            "\u001b[0;31mTypeError\u001b[0m                                 Traceback (most recent call last)",
            "\u001b[0;32m/tmp/ipython-input-3151118377.py\u001b[0m in \u001b[0;36m<cell line: 0>\u001b[0;34m()\u001b[0m\n\u001b[0;32m----> 1\u001b[0;31m \u001b[0mattempt_float\u001b[0m\u001b[0;34m(\u001b[0m\u001b[0;34m(\u001b[0m\u001b[0;36m1\u001b[0m\u001b[0;34m,\u001b[0m \u001b[0;36m2\u001b[0m\u001b[0;34m)\u001b[0m\u001b[0;34m)\u001b[0m\u001b[0;34m\u001b[0m\u001b[0;34m\u001b[0m\u001b[0m\n\u001b[0m",
            "\u001b[0;32m/tmp/ipython-input-1063157278.py\u001b[0m in \u001b[0;36mattempt_float\u001b[0;34m(x)\u001b[0m\n\u001b[1;32m      1\u001b[0m \u001b[0;32mdef\u001b[0m \u001b[0mattempt_float\u001b[0m\u001b[0;34m(\u001b[0m\u001b[0mx\u001b[0m\u001b[0;34m)\u001b[0m\u001b[0;34m:\u001b[0m\u001b[0;34m\u001b[0m\u001b[0;34m\u001b[0m\u001b[0m\n\u001b[1;32m      2\u001b[0m     \u001b[0;32mtry\u001b[0m\u001b[0;34m:\u001b[0m\u001b[0;34m\u001b[0m\u001b[0;34m\u001b[0m\u001b[0m\n\u001b[0;32m----> 3\u001b[0;31m         \u001b[0;32mreturn\u001b[0m \u001b[0mfloat\u001b[0m\u001b[0;34m(\u001b[0m\u001b[0mx\u001b[0m\u001b[0;34m)\u001b[0m\u001b[0;34m\u001b[0m\u001b[0;34m\u001b[0m\u001b[0m\n\u001b[0m\u001b[1;32m      4\u001b[0m     \u001b[0;32mexcept\u001b[0m \u001b[0mValueError\u001b[0m\u001b[0;34m:\u001b[0m\u001b[0;34m\u001b[0m\u001b[0;34m\u001b[0m\u001b[0m\n\u001b[1;32m      5\u001b[0m         \u001b[0;32mreturn\u001b[0m \u001b[0mx\u001b[0m\u001b[0;34m\u001b[0m\u001b[0;34m\u001b[0m\u001b[0m\n",
            "\u001b[0;31mTypeError\u001b[0m: float() argument must be a string or a real number, not 'tuple'"
          ]
        }
      ]
    },
    {
      "cell_type": "code",
      "source": [
        "def attempt_float(x):\n",
        "    try:\n",
        "        return float(x)\n",
        "    except (TypeError, ValueError):\n",
        "        return x"
      ],
      "metadata": {
        "id": "OENvmJQp_iR2"
      },
      "execution_count": null,
      "outputs": []
    },
    {
      "cell_type": "code",
      "source": [
        "path = \"examples/segismundo.txt\"\n",
        "\n",
        "def write_to_file(f):\n",
        "    f.write(\"Đây là nội dung ví dụ.\\n\")\n",
        "    f.write(\"Thêm dòng nữa.\")\n",
        "\n",
        "f = open(path, mode=\"w\", encoding=\"utf-8\")\n",
        "try:\n",
        "    write_to_file(f)\n",
        "finally:\n",
        "    f.close()"
      ],
      "metadata": {
        "id": "4FXH7oUqtIUm"
      },
      "execution_count": null,
      "outputs": []
    },
    {
      "cell_type": "code",
      "source": [
        " f = open(path, mode=\"w\")\n",
        " try:\n",
        "  write_to_file(f)\n",
        " except:\n",
        "  print(\"Failed\")\n",
        " else:\n",
        "  print(\"Succeeded\")\n",
        " finally:\n",
        "  f.close()"
      ],
      "metadata": {
        "colab": {
          "base_uri": "https://localhost:8080/"
        },
        "id": "Qx1zCUjMtdpv",
        "outputId": "9d9ad36b-78dd-440b-c501-f464c1ca4fa4"
      },
      "execution_count": null,
      "outputs": [
        {
          "output_type": "stream",
          "name": "stdout",
          "text": [
            "Succeeded\n"
          ]
        }
      ]
    },
    {
      "cell_type": "markdown",
      "source": [
        "### 3.3 Files and the Operating System"
      ],
      "metadata": {
        "id": "daUZSxmLspDq"
      }
    },
    {
      "cell_type": "code",
      "source": [
        "import os\n",
        "os.makedirs(\"examples\", exist_ok=True)\n",
        "\n",
        "file_path = \"examples/segismundo.txt\"\n",
        "with open(file_path, \"w\", encoding=\"utf-8\") as f:\n",
        "    f.write(\"Đây là nội dung\\n\")\n",
        "\n",
        "with open(file_path, \"r\", encoding=\"utf-8\") as f:\n",
        "    print(f.read())"
      ],
      "metadata": {
        "colab": {
          "base_uri": "https://localhost:8080/"
        },
        "id": "1xGlf7Nps8RS",
        "outputId": "578b4bf0-2bd5-4008-cf50-15d88893e50b"
      },
      "execution_count": null,
      "outputs": [
        {
          "output_type": "stream",
          "name": "stdout",
          "text": [
            "Đây là nội dung\n",
            "\n"
          ]
        }
      ]
    },
    {
      "cell_type": "code",
      "source": [
        "path = \"examples/segismundo.txt\"\n",
        "f = open(path, encoding=\"utf-8\")"
      ],
      "metadata": {
        "id": "sRxnk2kYswWx"
      },
      "execution_count": null,
      "outputs": []
    },
    {
      "cell_type": "code",
      "source": [
        "\n",
        "lines = [x.rstrip() for x in open(path, encoding=\"utf-8\")]\n",
        "lines"
      ],
      "metadata": {
        "colab": {
          "base_uri": "https://localhost:8080/"
        },
        "id": "rKHhax-StyyB",
        "outputId": "60a998de-282c-4df7-8447-f4ecda01d91a"
      },
      "execution_count": null,
      "outputs": [
        {
          "output_type": "execute_result",
          "data": {
            "text/plain": [
              "['Đây là nội dung ví dụ.', 'Thêm dòng nữa.']"
            ]
          },
          "metadata": {},
          "execution_count": 15
        }
      ]
    },
    {
      "cell_type": "code",
      "source": [
        "f.close()"
      ],
      "metadata": {
        "id": "0luGGMjQt85X"
      },
      "execution_count": null,
      "outputs": []
    },
    {
      "cell_type": "code",
      "source": [
        "with open(path, encoding=\"utf-8\") as f:\n",
        "    lines = [x.rstrip() for x in f]"
      ],
      "metadata": {
        "id": "8xlRKHoNt_-h"
      },
      "execution_count": null,
      "outputs": []
    },
    {
      "cell_type": "code",
      "source": [
        "f1 = open(path)\n",
        "f1.read(10)"
      ],
      "metadata": {
        "colab": {
          "base_uri": "https://localhost:8080/",
          "height": 36
        },
        "id": "UmGuovhAuDIA",
        "outputId": "5bba5a4e-f29f-4946-8665-6f94cb3e6b1f"
      },
      "execution_count": null,
      "outputs": [
        {
          "output_type": "execute_result",
          "data": {
            "text/plain": [
              "'Đây là nội'"
            ],
            "application/vnd.google.colaboratory.intrinsic+json": {
              "type": "string"
            }
          },
          "metadata": {},
          "execution_count": 20
        }
      ]
    },
    {
      "cell_type": "code",
      "source": [
        "f2 = open(path, mode=\"rb\")  # Binary mode\n",
        "f2.read(10)"
      ],
      "metadata": {
        "colab": {
          "base_uri": "https://localhost:8080/"
        },
        "id": "N7C0lHIKuKgA",
        "outputId": "e7c453f9-546f-4307-a3cc-7e9bba49a6ac"
      },
      "execution_count": null,
      "outputs": [
        {
          "output_type": "execute_result",
          "data": {
            "text/plain": [
              "b'\\xc4\\x90\\xc3\\xa2y l\\xc3\\xa0 '"
            ]
          },
          "metadata": {},
          "execution_count": 21
        }
      ]
    },
    {
      "cell_type": "code",
      "source": [
        "f1.tell()"
      ],
      "metadata": {
        "colab": {
          "base_uri": "https://localhost:8080/"
        },
        "id": "pr3sxGA3uMEt",
        "outputId": "9b37b4b7-6734-47f0-f121-5493b06e5657"
      },
      "execution_count": null,
      "outputs": [
        {
          "output_type": "execute_result",
          "data": {
            "text/plain": [
              "15"
            ]
          },
          "metadata": {},
          "execution_count": 22
        }
      ]
    },
    {
      "cell_type": "code",
      "source": [
        "f2.tell()"
      ],
      "metadata": {
        "colab": {
          "base_uri": "https://localhost:8080/"
        },
        "id": "i5OdQV1auQQF",
        "outputId": "0b397c63-d49d-4d79-e026-88d26aeac40c"
      },
      "execution_count": null,
      "outputs": [
        {
          "output_type": "execute_result",
          "data": {
            "text/plain": [
              "10"
            ]
          },
          "metadata": {},
          "execution_count": 23
        }
      ]
    },
    {
      "cell_type": "code",
      "source": [
        "import sys\n",
        "sys.getdefaultencoding()"
      ],
      "metadata": {
        "colab": {
          "base_uri": "https://localhost:8080/",
          "height": 36
        },
        "id": "t8zGvHYgAfFf",
        "outputId": "fc2bcc0c-e8ac-453b-94fc-016ed3eb9f06"
      },
      "execution_count": null,
      "outputs": [
        {
          "output_type": "execute_result",
          "data": {
            "text/plain": [
              "'utf-8'"
            ],
            "application/vnd.google.colaboratory.intrinsic+json": {
              "type": "string"
            }
          },
          "metadata": {},
          "execution_count": 24
        }
      ]
    },
    {
      "cell_type": "code",
      "source": [
        "f1.seek(3)"
      ],
      "metadata": {
        "colab": {
          "base_uri": "https://localhost:8080/"
        },
        "id": "Q9EPApPkAsOt",
        "outputId": "59734b31-6828-494c-9fc1-e13564b77b86"
      },
      "execution_count": null,
      "outputs": [
        {
          "output_type": "execute_result",
          "data": {
            "text/plain": [
              "3"
            ]
          },
          "metadata": {},
          "execution_count": 25
        }
      ]
    },
    {
      "cell_type": "code",
      "source": [
        "f1.read(1)"
      ],
      "metadata": {
        "colab": {
          "base_uri": "https://localhost:8080/",
          "height": 36
        },
        "id": "T_a2cZVYAwY_",
        "outputId": "26a387c0-8072-4353-d6b1-5be359bc4e15"
      },
      "execution_count": null,
      "outputs": [
        {
          "output_type": "execute_result",
          "data": {
            "text/plain": [
              "''"
            ],
            "application/vnd.google.colaboratory.intrinsic+json": {
              "type": "string"
            }
          },
          "metadata": {},
          "execution_count": 27
        }
      ]
    },
    {
      "cell_type": "code",
      "source": [
        "f1.tell()"
      ],
      "metadata": {
        "colab": {
          "base_uri": "https://localhost:8080/"
        },
        "id": "lNlDDHrNAyK8",
        "outputId": "15b6b0b3-c173-407e-d086-63cec2192a95"
      },
      "execution_count": null,
      "outputs": [
        {
          "output_type": "execute_result",
          "data": {
            "text/plain": [
              "49"
            ]
          },
          "metadata": {},
          "execution_count": 28
        }
      ]
    },
    {
      "cell_type": "code",
      "source": [
        "f1.close()\n",
        "f2.close()"
      ],
      "metadata": {
        "id": "ks_H1jvcA8dG"
      },
      "execution_count": null,
      "outputs": []
    },
    {
      "cell_type": "code",
      "source": [
        "path\n",
        "\n",
        "with open(\"tmp.txt\", mode=\"w\") as handle:\n",
        "    handle.writelines(x for x in open(path) if len(x) > 1)\n",
        "\n",
        "with open(\"tmp.txt\") as f:\n",
        "    lines = f.readlines()\n",
        "\n",
        "lines"
      ],
      "metadata": {
        "colab": {
          "base_uri": "https://localhost:8080/"
        },
        "id": "1jA7KyjdA-2a",
        "outputId": "d90a1f73-4035-4a02-d870-88f4f59490d1"
      },
      "execution_count": null,
      "outputs": [
        {
          "output_type": "execute_result",
          "data": {
            "text/plain": [
              "['Đây là nội dung ví dụ.\\n', 'Thêm dòng nữa.']"
            ]
          },
          "metadata": {},
          "execution_count": 30
        }
      ]
    },
    {
      "cell_type": "code",
      "source": [
        "import os\n",
        "os.remove(\"tmp.txt\")"
      ],
      "metadata": {
        "id": "sTVHJRixBIzE"
      },
      "execution_count": null,
      "outputs": []
    },
    {
      "cell_type": "code",
      "source": [
        "with open(path) as f:\n",
        "    chars = f.read(10)\n",
        "chars"
      ],
      "metadata": {
        "colab": {
          "base_uri": "https://localhost:8080/",
          "height": 36
        },
        "id": "4A-Urfo2BKqe",
        "outputId": "3a309ff1-da0b-4764-9acf-3b72a5f970cf"
      },
      "execution_count": null,
      "outputs": [
        {
          "output_type": "execute_result",
          "data": {
            "text/plain": [
              "'Đây là nội'"
            ],
            "application/vnd.google.colaboratory.intrinsic+json": {
              "type": "string"
            }
          },
          "metadata": {},
          "execution_count": 34
        }
      ]
    },
    {
      "cell_type": "code",
      "source": [
        "len(chars)"
      ],
      "metadata": {
        "colab": {
          "base_uri": "https://localhost:8080/"
        },
        "id": "nI0YuSluBOnU",
        "outputId": "fc33f08b-9dda-4d82-dc48-d7191704c133"
      },
      "execution_count": null,
      "outputs": [
        {
          "output_type": "execute_result",
          "data": {
            "text/plain": [
              "10"
            ]
          },
          "metadata": {},
          "execution_count": 35
        }
      ]
    },
    {
      "cell_type": "code",
      "source": [
        "with open(path, mode=\"rb\") as f:\n",
        "    data = f.read(10)\n",
        "data"
      ],
      "metadata": {
        "colab": {
          "base_uri": "https://localhost:8080/"
        },
        "id": "FrbtffaDBRMi",
        "outputId": "8484f863-ff3d-4517-ab32-d3e3c77a79ac"
      },
      "execution_count": null,
      "outputs": [
        {
          "output_type": "execute_result",
          "data": {
            "text/plain": [
              "b'\\xc4\\x90\\xc3\\xa2y l\\xc3\\xa0 '"
            ]
          },
          "metadata": {},
          "execution_count": 37
        }
      ]
    },
    {
      "cell_type": "code",
      "source": [
        "data.decode(\"utf-8\")"
      ],
      "metadata": {
        "colab": {
          "base_uri": "https://localhost:8080/",
          "height": 36
        },
        "id": "HmMNDs8MBTCb",
        "outputId": "ce880f1d-88c2-4719-828b-2018a9580df4"
      },
      "execution_count": null,
      "outputs": [
        {
          "output_type": "execute_result",
          "data": {
            "text/plain": [
              "'Đây là '"
            ],
            "application/vnd.google.colaboratory.intrinsic+json": {
              "type": "string"
            }
          },
          "metadata": {},
          "execution_count": 40
        }
      ]
    },
    {
      "cell_type": "code",
      "source": [
        "data[:4].decode(\"utf-8\")"
      ],
      "metadata": {
        "colab": {
          "base_uri": "https://localhost:8080/",
          "height": 36
        },
        "id": "ozb5vYm6BbZ8",
        "outputId": "46caeef9-c0db-402e-9f1b-191eff86792d"
      },
      "execution_count": null,
      "outputs": [
        {
          "output_type": "execute_result",
          "data": {
            "text/plain": [
              "'Đâ'"
            ],
            "application/vnd.google.colaboratory.intrinsic+json": {
              "type": "string"
            }
          },
          "metadata": {},
          "execution_count": 41
        }
      ]
    },
    {
      "cell_type": "code",
      "source": [
        "source_path = \"examples/segismundo.txt\"\n",
        "sink_path = \"sink.txt\"\n",
        "\n",
        "with open(path, encoding=\"utf-8\") as source:\n",
        "    with open(sink_path, \"w\", encoding=\"utf-8\") as sink:\n",
        "        sink.write(source.read())\n",
        "\n",
        "with open(sink_path, encoding=\"utf-8\") as f:\n",
        "    print(f.read(10))"
      ],
      "metadata": {
        "colab": {
          "base_uri": "https://localhost:8080/"
        },
        "id": "IXJ8eVogBYAM",
        "outputId": "c4028916-4de7-44e5-932c-cbede31afc11"
      },
      "execution_count": null,
      "outputs": [
        {
          "output_type": "stream",
          "name": "stdout",
          "text": [
            "Đây là nội\n"
          ]
        }
      ]
    },
    {
      "cell_type": "code",
      "source": [
        "f = open(path, encoding='utf-8')"
      ],
      "metadata": {
        "id": "JqE_XUaHCXlM"
      },
      "execution_count": null,
      "outputs": []
    },
    {
      "cell_type": "code",
      "source": [
        "f.read(5)"
      ],
      "metadata": {
        "colab": {
          "base_uri": "https://localhost:8080/",
          "height": 36
        },
        "id": "XBOxZ2CxCYyi",
        "outputId": "49cfdb45-b599-4a10-8f1f-66fa048c5037"
      },
      "execution_count": null,
      "outputs": [
        {
          "output_type": "execute_result",
          "data": {
            "text/plain": [
              "'Đây l'"
            ],
            "application/vnd.google.colaboratory.intrinsic+json": {
              "type": "string"
            }
          },
          "metadata": {},
          "execution_count": 49
        }
      ]
    },
    {
      "cell_type": "code",
      "source": [
        "f.seek(4)"
      ],
      "metadata": {
        "colab": {
          "base_uri": "https://localhost:8080/"
        },
        "id": "N2d6xl8GCZ8L",
        "outputId": "0e089915-418f-4478-8b75-008ca45e72b7"
      },
      "execution_count": null,
      "outputs": [
        {
          "output_type": "execute_result",
          "data": {
            "text/plain": [
              "4"
            ]
          },
          "metadata": {},
          "execution_count": 51
        }
      ]
    },
    {
      "cell_type": "code",
      "source": [
        "f.read(1)"
      ],
      "metadata": {
        "colab": {
          "base_uri": "https://localhost:8080/",
          "height": 36
        },
        "id": "czQgmBurCcPt",
        "outputId": "87f7fe88-1b3d-4e85-fe78-70c45d572d15"
      },
      "execution_count": null,
      "outputs": [
        {
          "output_type": "execute_result",
          "data": {
            "text/plain": [
              "'y'"
            ],
            "application/vnd.google.colaboratory.intrinsic+json": {
              "type": "string"
            }
          },
          "metadata": {},
          "execution_count": 52
        }
      ]
    },
    {
      "cell_type": "code",
      "source": [
        "f.close()"
      ],
      "metadata": {
        "id": "X6Ndnms6CeUj"
      },
      "execution_count": null,
      "outputs": []
    },
    {
      "cell_type": "markdown",
      "source": [
        "# CHAPTER 4: NumPy Basics: Arrays andVectorized Computation"
      ],
      "metadata": {
        "id": "xe4j4TWnChp-"
      }
    },
    {
      "cell_type": "code",
      "source": [
        "import numpy as np\n",
        "np.random.seed(12345)\n",
        "import matplotlib.pyplot as plt\n",
        "plt.rc(\"figure\", figsize=(10, 6))\n",
        "np.set_printoptions(precision=4, suppress=True)"
      ],
      "metadata": {
        "id": "n5Aak74OCwNi"
      },
      "execution_count": null,
      "outputs": []
    },
    {
      "cell_type": "code",
      "source": [
        "import numpy as np\n",
        "\n",
        "my_arr = np.arange(1_000_000)\n",
        "my_list = list(range(1_000_000))"
      ],
      "metadata": {
        "id": "ElRPZzLSC5dg"
      },
      "execution_count": null,
      "outputs": []
    },
    {
      "cell_type": "code",
      "source": [
        "%timeit my_arr2 = my_arr * 2\n",
        "%timeit my_list2 = [x * 2 for x in my_list]"
      ],
      "metadata": {
        "colab": {
          "base_uri": "https://localhost:8080/"
        },
        "id": "nCY3qY09C8dJ",
        "outputId": "c9fbf556-6239-497e-93f7-fee0c994de2d"
      },
      "execution_count": null,
      "outputs": [
        {
          "output_type": "stream",
          "name": "stdout",
          "text": [
            "1.05 ms ± 94.5 µs per loop (mean ± std. dev. of 7 runs, 1000 loops each)\n",
            "65.7 ms ± 13.5 ms per loop (mean ± std. dev. of 7 runs, 10 loops each)\n"
          ]
        }
      ]
    },
    {
      "cell_type": "markdown",
      "source": [
        "## 4.1 The NumPy ndarray: A Multidimensional Array Object"
      ],
      "metadata": {
        "id": "hvZat2DMDDSh"
      }
    },
    {
      "cell_type": "markdown",
      "source": [
        "Tạo mảng trong Numpy"
      ],
      "metadata": {
        "id": "PZSjsDP_DMGy"
      }
    },
    {
      "cell_type": "code",
      "source": [
        "import numpy as np\n",
        "data = np.array([[1.5, -0.1, 3], [0, -3, 6.5]])\n",
        "data"
      ],
      "metadata": {
        "colab": {
          "base_uri": "https://localhost:8080/"
        },
        "id": "2MXeMKQuDGcJ",
        "outputId": "5f465307-1d1c-4404-a9d8-103ff07a3ee6"
      },
      "execution_count": null,
      "outputs": [
        {
          "output_type": "execute_result",
          "data": {
            "text/plain": [
              "array([[ 1.5, -0.1,  3. ],\n",
              "       [ 0. , -3. ,  6.5]])"
            ]
          },
          "metadata": {},
          "execution_count": 62
        }
      ]
    },
    {
      "cell_type": "markdown",
      "source": [
        "Nhân mảng cho 10\n"
      ],
      "metadata": {
        "id": "hRPQ_9r3DOty"
      }
    },
    {
      "cell_type": "code",
      "source": [
        "data * 10"
      ],
      "metadata": {
        "colab": {
          "base_uri": "https://localhost:8080/"
        },
        "id": "Z5LvTE87DInp",
        "outputId": "f0ec7c44-6c48-421e-f4e9-c450f615986a"
      },
      "execution_count": null,
      "outputs": [
        {
          "output_type": "execute_result",
          "data": {
            "text/plain": [
              "array([[ 15.,  -1.,  30.],\n",
              "       [  0., -30.,  65.]])"
            ]
          },
          "metadata": {},
          "execution_count": 64
        }
      ]
    },
    {
      "cell_type": "markdown",
      "source": [
        "Cộng thêm chính nó"
      ],
      "metadata": {
        "id": "V8mZya2MDkrY"
      }
    },
    {
      "cell_type": "code",
      "source": [
        "data + data"
      ],
      "metadata": {
        "colab": {
          "base_uri": "https://localhost:8080/"
        },
        "id": "QWnecNmTDUlh",
        "outputId": "f47f9e9a-83a9-4d13-b731-eabf89f515b9"
      },
      "execution_count": null,
      "outputs": [
        {
          "output_type": "execute_result",
          "data": {
            "text/plain": [
              "array([[ 3. , -0.2,  6. ],\n",
              "       [ 0. , -6. , 13. ]])"
            ]
          },
          "metadata": {},
          "execution_count": 65
        }
      ]
    },
    {
      "cell_type": "markdown",
      "source": [
        "Mô tả kích thước của mảng"
      ],
      "metadata": {
        "id": "xJNFUNbbEBLZ"
      }
    },
    {
      "cell_type": "code",
      "source": [
        "data.shape"
      ],
      "metadata": {
        "colab": {
          "base_uri": "https://localhost:8080/"
        },
        "id": "QnCGCyWYDpJP",
        "outputId": "beaff53e-cf1b-49c3-a0a5-44d649ee374d"
      },
      "execution_count": null,
      "outputs": [
        {
          "output_type": "execute_result",
          "data": {
            "text/plain": [
              "(2, 3)"
            ]
          },
          "metadata": {},
          "execution_count": 66
        }
      ]
    },
    {
      "cell_type": "markdown",
      "source": [
        "Kiểu dữ liệu mảng"
      ],
      "metadata": {
        "id": "YofZLGutEDQo"
      }
    },
    {
      "cell_type": "code",
      "source": [
        "data.dtype"
      ],
      "metadata": {
        "colab": {
          "base_uri": "https://localhost:8080/"
        },
        "id": "eqsDTcJZDrj5",
        "outputId": "841873c1-4502-4a74-ff1a-9f1b5b055dd8"
      },
      "execution_count": null,
      "outputs": [
        {
          "output_type": "execute_result",
          "data": {
            "text/plain": [
              "dtype('float64')"
            ]
          },
          "metadata": {},
          "execution_count": 67
        }
      ]
    },
    {
      "cell_type": "markdown",
      "source": [
        "### Creating ndarrays"
      ],
      "metadata": {
        "id": "2kN64p09ENDY"
      }
    },
    {
      "cell_type": "markdown",
      "source": [
        "Tạo mảng 1 chiều"
      ],
      "metadata": {
        "id": "g5HHd-9ZEbSA"
      }
    },
    {
      "cell_type": "code",
      "source": [
        "data1 = [6, 7.5, 8, 0, 1]\n",
        "arr1 = np.array(data1)\n",
        "arr1"
      ],
      "metadata": {
        "colab": {
          "base_uri": "https://localhost:8080/"
        },
        "id": "lplrEOp4EUuP",
        "outputId": "77316ad2-fbf2-4e18-c7bb-492da611bc8a"
      },
      "execution_count": null,
      "outputs": [
        {
          "output_type": "execute_result",
          "data": {
            "text/plain": [
              "array([6. , 7.5, 8. , 0. , 1. ])"
            ]
          },
          "metadata": {},
          "execution_count": 69
        }
      ]
    },
    {
      "cell_type": "markdown",
      "source": [
        "Tạo mảng 2 chiều"
      ],
      "metadata": {
        "id": "LaF7a2ZBEclR"
      }
    },
    {
      "cell_type": "code",
      "source": [
        "data2 = [[1, 2, 3, 4], [5, 6, 7, 8]]\n",
        "arr2 = np.array(data2)\n",
        "arr2"
      ],
      "metadata": {
        "colab": {
          "base_uri": "https://localhost:8080/"
        },
        "id": "96S94F1REacZ",
        "outputId": "92cf9940-6e85-4076-e437-d5658a425c10"
      },
      "execution_count": null,
      "outputs": [
        {
          "output_type": "execute_result",
          "data": {
            "text/plain": [
              "array([[1, 2, 3, 4],\n",
              "       [5, 6, 7, 8]])"
            ]
          },
          "metadata": {},
          "execution_count": 70
        }
      ]
    },
    {
      "cell_type": "markdown",
      "source": [
        "Số chiều của mảng"
      ],
      "metadata": {
        "id": "6jyENpFzE5Ng"
      }
    },
    {
      "cell_type": "code",
      "source": [
        "arr2.ndim"
      ],
      "metadata": {
        "colab": {
          "base_uri": "https://localhost:8080/"
        },
        "id": "bPV-mxgWEgB5",
        "outputId": "dfbb1b3c-d0f6-4948-a5ec-1c63f50fe860"
      },
      "execution_count": null,
      "outputs": [
        {
          "output_type": "execute_result",
          "data": {
            "text/plain": [
              "2"
            ]
          },
          "metadata": {},
          "execution_count": 72
        }
      ]
    },
    {
      "cell_type": "markdown",
      "source": [
        "Kích thước mảng"
      ],
      "metadata": {
        "id": "TFhcwBaHE_0v"
      }
    },
    {
      "cell_type": "code",
      "source": [
        "arr2.shape"
      ],
      "metadata": {
        "colab": {
          "base_uri": "https://localhost:8080/"
        },
        "id": "FhO8GPFrElkA",
        "outputId": "161ab88d-6352-4989-a478-7d2117da02fa"
      },
      "execution_count": null,
      "outputs": [
        {
          "output_type": "execute_result",
          "data": {
            "text/plain": [
              "(2, 4)"
            ]
          },
          "metadata": {},
          "execution_count": 73
        }
      ]
    },
    {
      "cell_type": "markdown",
      "source": [
        "Kiểu dữ liệu mảng"
      ],
      "metadata": {
        "id": "CPJOtAD6FJyO"
      }
    },
    {
      "cell_type": "code",
      "source": [
        "arr1.dtype"
      ],
      "metadata": {
        "colab": {
          "base_uri": "https://localhost:8080/"
        },
        "id": "IDrlJxfyFE--",
        "outputId": "c0fd6364-8fac-4dc2-ea99-3d2531fbc596"
      },
      "execution_count": null,
      "outputs": [
        {
          "output_type": "execute_result",
          "data": {
            "text/plain": [
              "dtype('float64')"
            ]
          },
          "metadata": {},
          "execution_count": 75
        }
      ]
    },
    {
      "cell_type": "code",
      "source": [
        "arr2.dtype"
      ],
      "metadata": {
        "colab": {
          "base_uri": "https://localhost:8080/"
        },
        "id": "VgAjI_RBFGdm",
        "outputId": "fd88d4f7-e132-4afb-a4f9-9ab9ebb3465c"
      },
      "execution_count": null,
      "outputs": [
        {
          "output_type": "execute_result",
          "data": {
            "text/plain": [
              "dtype('int64')"
            ]
          },
          "metadata": {},
          "execution_count": 76
        }
      ]
    },
    {
      "cell_type": "markdown",
      "source": [
        "Tạo mảng 1 chiều có giá trị bằng 0"
      ],
      "metadata": {
        "id": "AZ6a95B6FRte"
      }
    },
    {
      "cell_type": "code",
      "source": [
        "np.zeros(10)"
      ],
      "metadata": {
        "colab": {
          "base_uri": "https://localhost:8080/"
        },
        "id": "Z-e4HEweFMNA",
        "outputId": "1ad6ad03-a15e-4e43-b726-fbfa9a3ed265"
      },
      "execution_count": null,
      "outputs": [
        {
          "output_type": "execute_result",
          "data": {
            "text/plain": [
              "array([0., 0., 0., 0., 0., 0., 0., 0., 0., 0.])"
            ]
          },
          "metadata": {},
          "execution_count": 77
        }
      ]
    },
    {
      "cell_type": "markdown",
      "source": [
        "Tạo mảng 2 chiều có giá trị bằng 0"
      ],
      "metadata": {
        "id": "-r2570I8FWGA"
      }
    },
    {
      "cell_type": "code",
      "source": [
        "np.zeros((3, 6))"
      ],
      "metadata": {
        "colab": {
          "base_uri": "https://localhost:8080/"
        },
        "id": "NO4JpJDQFQmf",
        "outputId": "53a67e6d-5366-4d46-fda1-61b3dcf16681"
      },
      "execution_count": null,
      "outputs": [
        {
          "output_type": "execute_result",
          "data": {
            "text/plain": [
              "array([[0., 0., 0., 0., 0., 0.],\n",
              "       [0., 0., 0., 0., 0., 0.],\n",
              "       [0., 0., 0., 0., 0., 0.]])"
            ]
          },
          "metadata": {},
          "execution_count": 86
        }
      ]
    },
    {
      "cell_type": "markdown",
      "source": [
        "Tạo mảng đúng kích thước nhưng giá trị bên trong chưa xác định"
      ],
      "metadata": {
        "id": "Z7_xH-nUFoue"
      }
    },
    {
      "cell_type": "code",
      "source": [
        "np.empty((2, 3, 2))"
      ],
      "metadata": {
        "colab": {
          "base_uri": "https://localhost:8080/"
        },
        "id": "aXKu7Oq_FZIx",
        "outputId": "c872c32e-c855-47ed-dcc3-0d48bb5536ca"
      },
      "execution_count": null,
      "outputs": [
        {
          "output_type": "execute_result",
          "data": {
            "text/plain": [
              "array([[[6.7336e-310, 6.7336e-310],\n",
              "        [0.0000e+000, 0.0000e+000],\n",
              "        [0.0000e+000, 1.5001e+248]],\n",
              "\n",
              "       [[4.3117e-096, 1.1600e-028],\n",
              "        [3.7778e+180, 1.1600e-028],\n",
              "        [4.1946e+228, 1.5554e+161]]])"
            ]
          },
          "metadata": {},
          "execution_count": 87
        }
      ]
    },
    {
      "cell_type": "markdown",
      "source": [
        "Tạo mảng có n phần tử"
      ],
      "metadata": {
        "id": "Uj1KH4cvFurn"
      }
    },
    {
      "cell_type": "code",
      "source": [
        "np.arange(15)"
      ],
      "metadata": {
        "colab": {
          "base_uri": "https://localhost:8080/"
        },
        "id": "2xXnE-B0Ff0e",
        "outputId": "520ac52c-200c-42b4-90f1-d25778cb1dee"
      },
      "execution_count": null,
      "outputs": [
        {
          "output_type": "execute_result",
          "data": {
            "text/plain": [
              "array([ 0,  1,  2,  3,  4,  5,  6,  7,  8,  9, 10, 11, 12, 13, 14])"
            ]
          },
          "metadata": {},
          "execution_count": 81
        }
      ]
    },
    {
      "cell_type": "markdown",
      "source": [
        "### Data Types for ndarrays"
      ],
      "metadata": {
        "id": "MkoJvazLFy_u"
      }
    },
    {
      "cell_type": "markdown",
      "source": [
        "Kiểu dữ liệu của mảng"
      ],
      "metadata": {
        "id": "Sdvy2z-BF613"
      }
    },
    {
      "cell_type": "code",
      "source": [
        "arr1 = np.array([1, 2, 3], dtype=np.float64)\n",
        "arr2 = np.array([1, 2, 3], dtype=np.int32)\n",
        "arr1.dtype"
      ],
      "metadata": {
        "colab": {
          "base_uri": "https://localhost:8080/"
        },
        "id": "fwPmUesfF24P",
        "outputId": "3b8fcd30-c985-4eec-fbe1-9a974b0c295d"
      },
      "execution_count": null,
      "outputs": [
        {
          "output_type": "execute_result",
          "data": {
            "text/plain": [
              "dtype('float64')"
            ]
          },
          "metadata": {},
          "execution_count": 89
        }
      ]
    },
    {
      "cell_type": "code",
      "source": [
        "arr2.dtype"
      ],
      "metadata": {
        "colab": {
          "base_uri": "https://localhost:8080/"
        },
        "id": "HobZReXLF4YP",
        "outputId": "e7a6cc9e-ec07-450e-a6a9-e50154011a62"
      },
      "execution_count": null,
      "outputs": [
        {
          "output_type": "execute_result",
          "data": {
            "text/plain": [
              "dtype('int32')"
            ]
          },
          "metadata": {},
          "execution_count": 90
        }
      ]
    },
    {
      "cell_type": "markdown",
      "source": [
        "Tạo mảng và xem kiểu dữ liệu mặc định"
      ],
      "metadata": {
        "id": "95CH2YSiGK3n"
      }
    },
    {
      "cell_type": "code",
      "source": [
        "arr = np.array([1, 2, 3, 4, 5])\n",
        "arr.dtype"
      ],
      "metadata": {
        "colab": {
          "base_uri": "https://localhost:8080/"
        },
        "id": "2df0T37eF-UM",
        "outputId": "3e0766ff-6511-4023-c12a-43cdf19d1822"
      },
      "execution_count": null,
      "outputs": [
        {
          "output_type": "execute_result",
          "data": {
            "text/plain": [
              "dtype('int64')"
            ]
          },
          "metadata": {},
          "execution_count": 93
        }
      ]
    },
    {
      "cell_type": "markdown",
      "source": [
        "Ép kiểu dữ liệu vào"
      ],
      "metadata": {
        "id": "e7ekemuAGOpv"
      }
    },
    {
      "cell_type": "code",
      "source": [
        "float_arr = arr.astype(np.float64)\n",
        "float_arr"
      ],
      "metadata": {
        "colab": {
          "base_uri": "https://localhost:8080/"
        },
        "id": "QtJByPryGDhf",
        "outputId": "1f332787-3cf1-450c-d34a-868f0e0b4d2a"
      },
      "execution_count": null,
      "outputs": [
        {
          "output_type": "execute_result",
          "data": {
            "text/plain": [
              "array([1., 2., 3., 4., 5.])"
            ]
          },
          "metadata": {},
          "execution_count": 94
        }
      ]
    },
    {
      "cell_type": "code",
      "source": [
        "float_arr.dtype"
      ],
      "metadata": {
        "colab": {
          "base_uri": "https://localhost:8080/"
        },
        "id": "p3wcNHriGFxW",
        "outputId": "3777f8ee-3847-4cac-c994-e6e8547de924"
      },
      "execution_count": null,
      "outputs": [
        {
          "output_type": "execute_result",
          "data": {
            "text/plain": [
              "dtype('float64')"
            ]
          },
          "metadata": {},
          "execution_count": 95
        }
      ]
    },
    {
      "cell_type": "markdown",
      "source": [
        "Ép kiểu dữ liệu khác vào"
      ],
      "metadata": {
        "id": "vYrIUKQBGkaH"
      }
    },
    {
      "cell_type": "code",
      "source": [
        "arr = np.array([3.7, -1.2, -2.6, 0.5, 12.9, 10.1])\n",
        "arr\n",
        "arr.astype(np.int32)"
      ],
      "metadata": {
        "colab": {
          "base_uri": "https://localhost:8080/"
        },
        "id": "SN5mcZ-4GhL2",
        "outputId": "c8163009-182a-4eb0-9067-da05871f71ef"
      },
      "execution_count": null,
      "outputs": [
        {
          "output_type": "execute_result",
          "data": {
            "text/plain": [
              "array([ 3, -1, -2,  0, 12, 10], dtype=int32)"
            ]
          },
          "metadata": {},
          "execution_count": 97
        }
      ]
    },
    {
      "cell_type": "code",
      "source": [
        "numeric_strings = np.array([\"1.25\", \"-9.6\", \"42\"], dtype=str)\n",
        "numeric_strings.astype(float)"
      ],
      "metadata": {
        "colab": {
          "base_uri": "https://localhost:8080/"
        },
        "id": "Dn1J8w04Gor3",
        "outputId": "4ce972fe-ae10-4d74-a4d5-7a1933917a7f"
      },
      "execution_count": null,
      "outputs": [
        {
          "output_type": "execute_result",
          "data": {
            "text/plain": [
              "array([ 1.25, -9.6 , 42.  ])"
            ]
          },
          "metadata": {},
          "execution_count": 101
        }
      ]
    },
    {
      "cell_type": "code",
      "source": [
        "int_array = np.arange(10)\n",
        "calibers = np.array([.22, .270, .357, .380, .44, .50], dtype=np.float64)\n",
        "int_array.astype(calibers.dtype)"
      ],
      "metadata": {
        "colab": {
          "base_uri": "https://localhost:8080/"
        },
        "id": "mCxw6SEtG6MW",
        "outputId": "a30d3465-d459-4f75-c7c0-cbcc2df112b7"
      },
      "execution_count": null,
      "outputs": [
        {
          "output_type": "execute_result",
          "data": {
            "text/plain": [
              "array([0., 1., 2., 3., 4., 5., 6., 7., 8., 9.])"
            ]
          },
          "metadata": {},
          "execution_count": 102
        }
      ]
    },
    {
      "cell_type": "code",
      "source": [
        "zeros_uint32 = np.zeros(8, dtype=\"u4\")\n",
        "zeros_uint32"
      ],
      "metadata": {
        "colab": {
          "base_uri": "https://localhost:8080/"
        },
        "id": "af_AAxH6HB_U",
        "outputId": "70768a78-3910-4744-9406-d9c7f4790ef6"
      },
      "execution_count": null,
      "outputs": [
        {
          "output_type": "execute_result",
          "data": {
            "text/plain": [
              "array([0, 0, 0, 0, 0, 0, 0, 0], dtype=uint32)"
            ]
          },
          "metadata": {},
          "execution_count": 104
        }
      ]
    },
    {
      "cell_type": "markdown",
      "source": [
        "### Arithmetic with NumPy Arrays"
      ],
      "metadata": {
        "id": "PtqGNk-ZHJX1"
      }
    },
    {
      "cell_type": "markdown",
      "source": [
        "Tạo mảng arr"
      ],
      "metadata": {
        "id": "-5NB-mevHeRl"
      }
    },
    {
      "cell_type": "code",
      "source": [
        "arr = np.array([[1., 2., 3.], [4., 5., 6.]])\n",
        "arr"
      ],
      "metadata": {
        "colab": {
          "base_uri": "https://localhost:8080/"
        },
        "id": "M3DiT6bIHHMf",
        "outputId": "27ba6d32-770b-40d1-bc50-ef161d1f95a9"
      },
      "execution_count": null,
      "outputs": [
        {
          "output_type": "execute_result",
          "data": {
            "text/plain": [
              "array([[1., 2., 3.],\n",
              "       [4., 5., 6.]])"
            ]
          },
          "metadata": {},
          "execution_count": 116
        }
      ]
    },
    {
      "cell_type": "markdown",
      "source": [
        "Nhân phân tử trong mảng"
      ],
      "metadata": {
        "id": "gZnnU_CyHbne"
      }
    },
    {
      "cell_type": "code",
      "source": [
        "arr * arr"
      ],
      "metadata": {
        "colab": {
          "base_uri": "https://localhost:8080/"
        },
        "id": "efVFjuMuHMlc",
        "outputId": "641a490f-b5aa-4066-c1b0-5481dd1933e3"
      },
      "execution_count": null,
      "outputs": [
        {
          "output_type": "execute_result",
          "data": {
            "text/plain": [
              "array([[ 1.,  4.,  9.],\n",
              "       [16., 25., 36.]])"
            ]
          },
          "metadata": {},
          "execution_count": 107
        }
      ]
    },
    {
      "cell_type": "markdown",
      "source": [
        "Trừ phần tử trong mảng"
      ],
      "metadata": {
        "id": "zfhC6yigHZjs"
      }
    },
    {
      "cell_type": "code",
      "source": [
        "arr - arr"
      ],
      "metadata": {
        "colab": {
          "base_uri": "https://localhost:8080/"
        },
        "id": "1NjjdXlYHNkk",
        "outputId": "39636568-0bb1-4a32-e4b4-8a5e814488f7"
      },
      "execution_count": null,
      "outputs": [
        {
          "output_type": "execute_result",
          "data": {
            "text/plain": [
              "array([[0., 0., 0.],\n",
              "       [0., 0., 0.]])"
            ]
          },
          "metadata": {},
          "execution_count": 111
        }
      ]
    },
    {
      "cell_type": "markdown",
      "source": [
        "Chia phần tử trong mảng"
      ],
      "metadata": {
        "id": "BezaEvHuHmpu"
      }
    },
    {
      "cell_type": "code",
      "source": [
        "1 / arr"
      ],
      "metadata": {
        "colab": {
          "base_uri": "https://localhost:8080/"
        },
        "id": "8eReb2gcHg5V",
        "outputId": "37ca9643-5d50-45b2-843a-e89c778c866f"
      },
      "execution_count": null,
      "outputs": [
        {
          "output_type": "execute_result",
          "data": {
            "text/plain": [
              "array([[1.    , 0.5   , 0.3333],\n",
              "       [0.25  , 0.2   , 0.1667]])"
            ]
          },
          "metadata": {},
          "execution_count": 115
        }
      ]
    },
    {
      "cell_type": "markdown",
      "source": [
        "Nhân phần tử trong mảng với 2"
      ],
      "metadata": {
        "id": "UJKfrj0SHrIc"
      }
    },
    {
      "cell_type": "code",
      "source": [
        "arr ** 2"
      ],
      "metadata": {
        "colab": {
          "base_uri": "https://localhost:8080/"
        },
        "id": "ere9KIEOHh-N",
        "outputId": "a6c192e9-4b62-4937-908e-90d37f9379ab"
      },
      "execution_count": null,
      "outputs": [
        {
          "output_type": "execute_result",
          "data": {
            "text/plain": [
              "array([[ 1.,  4.,  9.],\n",
              "       [16., 25., 36.]])"
            ]
          },
          "metadata": {},
          "execution_count": 113
        }
      ]
    },
    {
      "cell_type": "markdown",
      "source": [
        "Tạo mảng arr2"
      ],
      "metadata": {
        "id": "T4-KGAJrH2tU"
      }
    },
    {
      "cell_type": "code",
      "source": [
        "arr2 = np.array([[0., 4., 1.], [7., 2., 12.]])\n",
        "arr2"
      ],
      "metadata": {
        "colab": {
          "base_uri": "https://localhost:8080/"
        },
        "id": "cnoNrGwnHvnl",
        "outputId": "652df99c-74f7-46ef-a6e3-6fd90b961047"
      },
      "execution_count": null,
      "outputs": [
        {
          "output_type": "execute_result",
          "data": {
            "text/plain": [
              "array([[ 0.,  4.,  1.],\n",
              "       [ 7.,  2., 12.]])"
            ]
          },
          "metadata": {},
          "execution_count": 118
        }
      ]
    },
    {
      "cell_type": "markdown",
      "source": [
        "So sánh mảng arr2 và arr nếu đúng True"
      ],
      "metadata": {
        "id": "SMTzEtJPH6YV"
      }
    },
    {
      "cell_type": "code",
      "source": [
        "arr2 > arr"
      ],
      "metadata": {
        "colab": {
          "base_uri": "https://localhost:8080/"
        },
        "id": "r7G8Ufi1H1m1",
        "outputId": "83697a49-4379-4f67-aeca-290145106ed3"
      },
      "execution_count": null,
      "outputs": [
        {
          "output_type": "execute_result",
          "data": {
            "text/plain": [
              "array([[False,  True, False],\n",
              "       [ True, False,  True]])"
            ]
          },
          "metadata": {},
          "execution_count": 119
        }
      ]
    },
    {
      "cell_type": "markdown",
      "source": [
        "### Basic Indexing and Slicing"
      ],
      "metadata": {
        "id": "AWZh3gh_ICoM"
      }
    },
    {
      "cell_type": "markdown",
      "source": [
        "Tạo mảng gồm 10 phần tử"
      ],
      "metadata": {
        "id": "KXEudB_fITaM"
      }
    },
    {
      "cell_type": "code",
      "source": [
        "arr = np.arange(10)\n",
        "arr"
      ],
      "metadata": {
        "colab": {
          "base_uri": "https://localhost:8080/"
        },
        "id": "zHsvfLk7IFr1",
        "outputId": "99156b6b-ace9-40b2-a715-97284e98261e"
      },
      "execution_count": null,
      "outputs": [
        {
          "output_type": "execute_result",
          "data": {
            "text/plain": [
              "array([0, 1, 2, 3, 4, 5, 6, 7, 8, 9])"
            ]
          },
          "metadata": {},
          "execution_count": 121
        }
      ]
    },
    {
      "cell_type": "markdown",
      "source": [
        "Lấy phần tử vị trí thứ 6"
      ],
      "metadata": {
        "id": "k4c8fKoVIaTz"
      }
    },
    {
      "cell_type": "code",
      "source": [
        "arr[5]"
      ],
      "metadata": {
        "colab": {
          "base_uri": "https://localhost:8080/"
        },
        "id": "K4YCxLjZIIw7",
        "outputId": "96c3d55b-509a-4454-8ffc-10699b63ffca"
      },
      "execution_count": null,
      "outputs": [
        {
          "output_type": "execute_result",
          "data": {
            "text/plain": [
              "np.int64(5)"
            ]
          },
          "metadata": {},
          "execution_count": 124
        }
      ]
    },
    {
      "cell_type": "markdown",
      "source": [
        "Cắt mảng từ vị trí 5-8"
      ],
      "metadata": {
        "id": "SG-cQzcbIPqe"
      }
    },
    {
      "cell_type": "code",
      "source": [
        "arr[5:8]\n"
      ],
      "metadata": {
        "colab": {
          "base_uri": "https://localhost:8080/"
        },
        "id": "omhnislfINIF",
        "outputId": "aa95d031-30b5-4e64-cfef-219dc7a00e29"
      },
      "execution_count": null,
      "outputs": [
        {
          "output_type": "execute_result",
          "data": {
            "text/plain": [
              "array([5, 6, 7])"
            ]
          },
          "metadata": {},
          "execution_count": 123
        }
      ]
    },
    {
      "cell_type": "markdown",
      "source": [
        "Thay giá trị từ khoảng đó"
      ],
      "metadata": {
        "id": "Kl1L8PGiIoHd"
      }
    },
    {
      "cell_type": "code",
      "source": [
        "arr[5:8] = 12\n",
        "arr"
      ],
      "metadata": {
        "colab": {
          "base_uri": "https://localhost:8080/"
        },
        "id": "0jbMlLMvIkcV",
        "outputId": "0f1c29c6-b2e6-4ece-fd9c-4e1b4f3faf04"
      },
      "execution_count": null,
      "outputs": [
        {
          "output_type": "execute_result",
          "data": {
            "text/plain": [
              "array([ 0,  1,  2,  3,  4, 12, 12, 12,  8,  9])"
            ]
          },
          "metadata": {},
          "execution_count": 127
        }
      ]
    },
    {
      "cell_type": "markdown",
      "source": [
        "Gán phần mảng đã cắt"
      ],
      "metadata": {
        "id": "W9545X10JFCu"
      }
    },
    {
      "cell_type": "code",
      "source": [
        "arr_slice = arr[5:8]\n",
        "arr_slice"
      ],
      "metadata": {
        "colab": {
          "base_uri": "https://localhost:8080/"
        },
        "id": "apBa1Go-IwDb",
        "outputId": "3a1089a8-d226-4d4d-ce65-e64422e65fb6"
      },
      "execution_count": null,
      "outputs": [
        {
          "output_type": "execute_result",
          "data": {
            "text/plain": [
              "array([12, 12, 12])"
            ]
          },
          "metadata": {},
          "execution_count": 129
        }
      ]
    },
    {
      "cell_type": "markdown",
      "source": [
        "Gán số vào vị trí thứ 2"
      ],
      "metadata": {
        "id": "l1adfI4PJKF7"
      }
    },
    {
      "cell_type": "code",
      "source": [
        "arr_slice[1] = 12345\n",
        "arr"
      ],
      "metadata": {
        "colab": {
          "base_uri": "https://localhost:8080/"
        },
        "id": "7OtxzmZsIxkL",
        "outputId": "f7f57455-7580-4184-f0ed-8572ac7d3371"
      },
      "execution_count": null,
      "outputs": [
        {
          "output_type": "execute_result",
          "data": {
            "text/plain": [
              "array([    0,     1,     2,     3,     4,    12, 12345,    12,     8,\n",
              "           9])"
            ]
          },
          "metadata": {},
          "execution_count": 132
        }
      ]
    },
    {
      "cell_type": "markdown",
      "source": [
        "Gán số vào cả mảng"
      ],
      "metadata": {
        "id": "lvP5dMOLJNck"
      }
    },
    {
      "cell_type": "code",
      "source": [
        "arr_slice[:] = 64\n",
        "arr"
      ],
      "metadata": {
        "colab": {
          "base_uri": "https://localhost:8080/"
        },
        "id": "eSpScYS4I4SD",
        "outputId": "d99fc0ff-a1fc-4042-9303-54de6fc7bff5"
      },
      "execution_count": null,
      "outputs": [
        {
          "output_type": "execute_result",
          "data": {
            "text/plain": [
              "array([ 0,  1,  2,  3,  4, 64, 64, 64,  8,  9])"
            ]
          },
          "metadata": {},
          "execution_count": 133
        }
      ]
    },
    {
      "cell_type": "markdown",
      "source": [
        "Tạo mảng arr2d"
      ],
      "metadata": {
        "id": "8CXsNp8BJq5i"
      }
    },
    {
      "cell_type": "code",
      "source": [
        "arr2d = np.array([[1, 2, 3], [4, 5, 6], [7, 8, 9]])\n",
        "arr2d[2]"
      ],
      "metadata": {
        "colab": {
          "base_uri": "https://localhost:8080/"
        },
        "id": "rY5eAx0wI8hT",
        "outputId": "158032fb-28fa-4409-b779-9c029296f973"
      },
      "execution_count": null,
      "outputs": [
        {
          "output_type": "execute_result",
          "data": {
            "text/plain": [
              "array([7, 8, 9])"
            ]
          },
          "metadata": {},
          "execution_count": 134
        }
      ]
    },
    {
      "cell_type": "markdown",
      "source": [
        "Giá trị của hàng 0 cột 2"
      ],
      "metadata": {
        "id": "14TKjUBlJcnS"
      }
    },
    {
      "cell_type": "code",
      "source": [
        "arr2d[0][2]"
      ],
      "metadata": {
        "colab": {
          "base_uri": "https://localhost:8080/"
        },
        "id": "7tE0xPwhI-Ir",
        "outputId": "9b721287-3f30-470e-e9fd-b91eea3d4ae2"
      },
      "execution_count": null,
      "outputs": [
        {
          "output_type": "execute_result",
          "data": {
            "text/plain": [
              "np.int64(3)"
            ]
          },
          "metadata": {},
          "execution_count": 136
        }
      ]
    },
    {
      "cell_type": "code",
      "source": [
        "arr2d[0, 2]"
      ],
      "metadata": {
        "colab": {
          "base_uri": "https://localhost:8080/"
        },
        "id": "Glth73FZJBS9",
        "outputId": "a89167b1-4c26-47aa-9eef-a77bbbfbd424"
      },
      "execution_count": null,
      "outputs": [
        {
          "output_type": "execute_result",
          "data": {
            "text/plain": [
              "np.int64(3)"
            ]
          },
          "metadata": {},
          "execution_count": 137
        }
      ]
    },
    {
      "cell_type": "markdown",
      "source": [
        "Tạo mảng arr3d"
      ],
      "metadata": {
        "id": "H_9Oe_OFJo40"
      }
    },
    {
      "cell_type": "code",
      "source": [
        "arr3d = np.array([[[1, 2, 3], [4, 5, 6]], [[7, 8, 9], [10, 11, 12]]])\n",
        "arr3d"
      ],
      "metadata": {
        "colab": {
          "base_uri": "https://localhost:8080/"
        },
        "id": "sU31w-9OJoIC",
        "outputId": "af5c16f4-417c-4420-83ec-31e3ff1f199a"
      },
      "execution_count": null,
      "outputs": [
        {
          "output_type": "execute_result",
          "data": {
            "text/plain": [
              "array([[[ 1,  2,  3],\n",
              "        [ 4,  5,  6]],\n",
              "\n",
              "       [[ 7,  8,  9],\n",
              "        [10, 11, 12]]])"
            ]
          },
          "metadata": {},
          "execution_count": 138
        }
      ]
    },
    {
      "cell_type": "markdown",
      "source": [
        "Lấy khối đầu tiên"
      ],
      "metadata": {
        "id": "DoHhBWPdJ8e8"
      }
    },
    {
      "cell_type": "code",
      "source": [
        "arr3d[0]"
      ],
      "metadata": {
        "colab": {
          "base_uri": "https://localhost:8080/"
        },
        "id": "f5RRBKeXJvEK",
        "outputId": "fac156fd-7513-4907-d1aa-ab14c1901f8e"
      },
      "execution_count": null,
      "outputs": [
        {
          "output_type": "execute_result",
          "data": {
            "text/plain": [
              "array([[1, 2, 3],\n",
              "       [4, 5, 6]])"
            ]
          },
          "metadata": {},
          "execution_count": 140
        }
      ]
    },
    {
      "cell_type": "markdown",
      "source": [
        "Thay giá trị của khối đầu"
      ],
      "metadata": {
        "id": "c9Titr0VKFST"
      }
    },
    {
      "cell_type": "code",
      "source": [
        "old_values = arr3d[0].copy()\n",
        "arr3d[0] = 42\n",
        "arr3d"
      ],
      "metadata": {
        "colab": {
          "base_uri": "https://localhost:8080/"
        },
        "id": "h7dvd-5cJ10L",
        "outputId": "0b871bf0-376a-427e-aca9-c3a9df74875b"
      },
      "execution_count": null,
      "outputs": [
        {
          "output_type": "execute_result",
          "data": {
            "text/plain": [
              "array([[[42, 42, 42],\n",
              "        [42, 42, 42]],\n",
              "\n",
              "       [[ 7,  8,  9],\n",
              "        [10, 11, 12]]])"
            ]
          },
          "metadata": {},
          "execution_count": 143
        }
      ]
    },
    {
      "cell_type": "markdown",
      "source": [
        "Trả về giá trị cũ"
      ],
      "metadata": {
        "id": "A1LO5VZ9KJsa"
      }
    },
    {
      "cell_type": "code",
      "source": [
        "arr3d[0] = old_values\n",
        "arr3d"
      ],
      "metadata": {
        "colab": {
          "base_uri": "https://localhost:8080/"
        },
        "id": "EP52E2H9KCZE",
        "outputId": "5f0172c7-7c71-47b9-d61f-89977876b907"
      },
      "execution_count": null,
      "outputs": [
        {
          "output_type": "execute_result",
          "data": {
            "text/plain": [
              "array([[[ 1,  2,  3],\n",
              "        [ 4,  5,  6]],\n",
              "\n",
              "       [[ 7,  8,  9],\n",
              "        [10, 11, 12]]])"
            ]
          },
          "metadata": {},
          "execution_count": 144
        }
      ]
    },
    {
      "cell_type": "markdown",
      "source": [
        "Giá trị khối 1 hàng 0"
      ],
      "metadata": {
        "id": "XY9e1LWMKPNr"
      }
    },
    {
      "cell_type": "code",
      "source": [
        "arr3d[1, 0]"
      ],
      "metadata": {
        "colab": {
          "base_uri": "https://localhost:8080/"
        },
        "id": "4a53lLDjKNZ9",
        "outputId": "87e8c7db-3c8f-4acc-94cf-8e5a54128194"
      },
      "execution_count": null,
      "outputs": [
        {
          "output_type": "execute_result",
          "data": {
            "text/plain": [
              "array([7, 8, 9])"
            ]
          },
          "metadata": {},
          "execution_count": 146
        }
      ]
    },
    {
      "cell_type": "markdown",
      "source": [
        "Lấy khối 1 ra"
      ],
      "metadata": {
        "id": "ClpsqSfNKf7C"
      }
    },
    {
      "cell_type": "code",
      "source": [
        "x = arr3d[1]\n",
        "x"
      ],
      "metadata": {
        "colab": {
          "base_uri": "https://localhost:8080/"
        },
        "id": "J0zi7Fu7Kc3S",
        "outputId": "06456f58-e490-47a1-e0c3-28e90afdcae7"
      },
      "execution_count": null,
      "outputs": [
        {
          "output_type": "execute_result",
          "data": {
            "text/plain": [
              "array([[ 7,  8,  9],\n",
              "       [10, 11, 12]])"
            ]
          },
          "metadata": {},
          "execution_count": 148
        }
      ]
    },
    {
      "cell_type": "markdown",
      "source": [
        "Giá trị hàng 1"
      ],
      "metadata": {
        "id": "2iX3HIaEKiiS"
      }
    },
    {
      "cell_type": "code",
      "source": [
        "x[0]"
      ],
      "metadata": {
        "colab": {
          "base_uri": "https://localhost:8080/"
        },
        "id": "uKBBExqoKez8",
        "outputId": "46116772-2f5d-4638-915a-91ed8c817e9b"
      },
      "execution_count": null,
      "outputs": [
        {
          "output_type": "execute_result",
          "data": {
            "text/plain": [
              "array([7, 8, 9])"
            ]
          },
          "metadata": {},
          "execution_count": 149
        }
      ]
    },
    {
      "cell_type": "markdown",
      "source": [
        "**Indexing with slices**"
      ],
      "metadata": {
        "id": "VDcgk6f9LM-K"
      }
    },
    {
      "cell_type": "code",
      "source": [
        "arr"
      ],
      "metadata": {
        "colab": {
          "base_uri": "https://localhost:8080/"
        },
        "id": "2PE1jxqoKomx",
        "outputId": "2f25dc8f-0f23-477a-e84c-30b28fe7285e"
      },
      "execution_count": null,
      "outputs": [
        {
          "output_type": "execute_result",
          "data": {
            "text/plain": [
              "array([ 0,  1,  2,  3,  4, 64, 64, 64,  8,  9])"
            ]
          },
          "metadata": {},
          "execution_count": 150
        }
      ]
    },
    {
      "cell_type": "markdown",
      "source": [
        "Cắt khoảng 1 tới 6"
      ],
      "metadata": {
        "id": "hcjS8bggKq4p"
      }
    },
    {
      "cell_type": "code",
      "source": [
        "arr[1:6]"
      ],
      "metadata": {
        "colab": {
          "base_uri": "https://localhost:8080/"
        },
        "id": "AFTHBcWqKpgh",
        "outputId": "c6b2fbc0-e9fd-4731-849d-a5ed4c722ce1"
      },
      "execution_count": null,
      "outputs": [
        {
          "output_type": "execute_result",
          "data": {
            "text/plain": [
              "array([ 1,  2,  3,  4, 64])"
            ]
          },
          "metadata": {},
          "execution_count": 151
        }
      ]
    },
    {
      "cell_type": "code",
      "source": [
        "arr2d"
      ],
      "metadata": {
        "colab": {
          "base_uri": "https://localhost:8080/"
        },
        "id": "95stfWapKxVz",
        "outputId": "da2e68e8-41d5-4528-b2b8-c0335702dbad"
      },
      "execution_count": null,
      "outputs": [
        {
          "output_type": "execute_result",
          "data": {
            "text/plain": [
              "array([[1, 2, 3],\n",
              "       [4, 5, 6],\n",
              "       [7, 8, 9]])"
            ]
          },
          "metadata": {},
          "execution_count": 154
        }
      ]
    },
    {
      "cell_type": "markdown",
      "source": [
        "Lấy 2 hàng"
      ],
      "metadata": {
        "id": "ahjG6VZUK11j"
      }
    },
    {
      "cell_type": "code",
      "source": [
        "arr2d[:2]"
      ],
      "metadata": {
        "colab": {
          "base_uri": "https://localhost:8080/"
        },
        "id": "ddnq0FprKzWi",
        "outputId": "3aa64a93-b71c-4a09-86b1-b077cc8bd52e"
      },
      "execution_count": null,
      "outputs": [
        {
          "output_type": "execute_result",
          "data": {
            "text/plain": [
              "array([[1, 2, 3],\n",
              "       [4, 5, 6]])"
            ]
          },
          "metadata": {},
          "execution_count": 155
        }
      ]
    },
    {
      "cell_type": "markdown",
      "source": [
        "Lấy từ hàng 0 cột 1 trở đi"
      ],
      "metadata": {
        "id": "6XClH_okLn1p"
      }
    },
    {
      "cell_type": "code",
      "source": [
        "arr2d[:2, 1:]"
      ],
      "metadata": {
        "colab": {
          "base_uri": "https://localhost:8080/"
        },
        "id": "DRXrPKmcLRIZ",
        "outputId": "e2aa662a-37df-4e18-df2b-1fc3b04fe185"
      },
      "execution_count": null,
      "outputs": [
        {
          "output_type": "execute_result",
          "data": {
            "text/plain": [
              "array([[2, 3],\n",
              "       [5, 6]])"
            ]
          },
          "metadata": {},
          "execution_count": 156
        }
      ]
    },
    {
      "cell_type": "code",
      "source": [
        "lower_dim_slice = arr2d[1, :2]"
      ],
      "metadata": {
        "id": "rwpu3fxpLsUC"
      },
      "execution_count": null,
      "outputs": []
    },
    {
      "cell_type": "markdown",
      "source": [
        "Mảng 1 chiều"
      ],
      "metadata": {
        "id": "rDJsxxopMXAY"
      }
    },
    {
      "cell_type": "code",
      "source": [
        "lower_dim_slice.shape"
      ],
      "metadata": {
        "colab": {
          "base_uri": "https://localhost:8080/"
        },
        "id": "DbnoVzvKLunK",
        "outputId": "b4538f46-c173-4916-b5cc-936f399ef2e1"
      },
      "execution_count": null,
      "outputs": [
        {
          "output_type": "execute_result",
          "data": {
            "text/plain": [
              "(2,)"
            ]
          },
          "metadata": {},
          "execution_count": 159
        }
      ]
    },
    {
      "cell_type": "markdown",
      "source": [
        "Lấy 2 hàng đầu của cột 2"
      ],
      "metadata": {
        "id": "tsqL0QiJL8UB"
      }
    },
    {
      "cell_type": "code",
      "source": [
        "arr2d[:2, 2]"
      ],
      "metadata": {
        "colab": {
          "base_uri": "https://localhost:8080/"
        },
        "id": "KtYRefHlLyRi",
        "outputId": "e3d7f718-868f-4f40-df14-63fca7202a1b"
      },
      "execution_count": null,
      "outputs": [
        {
          "output_type": "execute_result",
          "data": {
            "text/plain": [
              "array([3, 6])"
            ]
          },
          "metadata": {},
          "execution_count": 161
        }
      ]
    },
    {
      "cell_type": "markdown",
      "source": [
        "Lấy cột 0"
      ],
      "metadata": {
        "id": "AVXcVyNyL3UC"
      }
    },
    {
      "cell_type": "code",
      "source": [
        "arr2d[:, :1]"
      ],
      "metadata": {
        "colab": {
          "base_uri": "https://localhost:8080/"
        },
        "id": "FbVlOhtFL0Ni",
        "outputId": "5deb009c-e379-4ff2-bf29-98d551c01a85"
      },
      "execution_count": null,
      "outputs": [
        {
          "output_type": "execute_result",
          "data": {
            "text/plain": [
              "array([[1],\n",
              "       [4],\n",
              "       [7]])"
            ]
          },
          "metadata": {},
          "execution_count": 163
        }
      ]
    },
    {
      "cell_type": "code",
      "source": [
        "arr2d[:2, 1:] = 0\n",
        "arr2d"
      ],
      "metadata": {
        "colab": {
          "base_uri": "https://localhost:8080/"
        },
        "id": "4bcVGKeGMbOR",
        "outputId": "9a120499-2799-4efe-c9d9-462c726d72ce"
      },
      "execution_count": null,
      "outputs": [
        {
          "output_type": "execute_result",
          "data": {
            "text/plain": [
              "array([[1, 0, 0],\n",
              "       [4, 0, 0],\n",
              "       [7, 8, 9]])"
            ]
          },
          "metadata": {},
          "execution_count": 165
        }
      ]
    },
    {
      "cell_type": "markdown",
      "source": [
        "### Boolean Indexing"
      ],
      "metadata": {
        "id": "yP6byXaMMsg_"
      }
    },
    {
      "cell_type": "code",
      "source": [
        "names = np.array([\"Bob\", \"Joe\", \"Will\", \"Bob\", \"Will\", \"Joe\", \"Joe\"])\n",
        "data = np.array([[4, 7], [0, 2], [-5, 6], [0, 0], [1, 2],\n",
        "                 [-12, -4], [3, 4]])\n",
        "names"
      ],
      "metadata": {
        "colab": {
          "base_uri": "https://localhost:8080/"
        },
        "id": "cn7QX9uQMsrU",
        "outputId": "4d0a165d-f52c-4f59-e398-28c50171b614"
      },
      "execution_count": null,
      "outputs": [
        {
          "output_type": "execute_result",
          "data": {
            "text/plain": [
              "array(['Bob', 'Joe', 'Will', 'Bob', 'Will', 'Joe', 'Joe'], dtype='<U4')"
            ]
          },
          "metadata": {},
          "execution_count": 167
        }
      ]
    },
    {
      "cell_type": "code",
      "source": [
        "data"
      ],
      "metadata": {
        "colab": {
          "base_uri": "https://localhost:8080/"
        },
        "id": "QQnhL_Y-MwWx",
        "outputId": "fd9f779d-5335-4d33-bd6a-c2b731e4c60e"
      },
      "execution_count": null,
      "outputs": [
        {
          "output_type": "execute_result",
          "data": {
            "text/plain": [
              "array([[  4,   7],\n",
              "       [  0,   2],\n",
              "       [ -5,   6],\n",
              "       [  0,   0],\n",
              "       [  1,   2],\n",
              "       [-12,  -4],\n",
              "       [  3,   4]])"
            ]
          },
          "metadata": {},
          "execution_count": 168
        }
      ]
    },
    {
      "cell_type": "markdown",
      "source": [
        "Kiếm Bob trong mảng"
      ],
      "metadata": {
        "id": "w_hfBCKrM57h"
      }
    },
    {
      "cell_type": "code",
      "source": [
        "names == \"Bob\""
      ],
      "metadata": {
        "colab": {
          "base_uri": "https://localhost:8080/"
        },
        "id": "XgzLOnwkM3gZ",
        "outputId": "35047cc6-46b0-4118-b3c7-fe50f7bcbe72"
      },
      "execution_count": null,
      "outputs": [
        {
          "output_type": "execute_result",
          "data": {
            "text/plain": [
              "array([ True, False, False,  True, False, False, False])"
            ]
          },
          "metadata": {},
          "execution_count": 169
        }
      ]
    },
    {
      "cell_type": "code",
      "source": [
        "data[names == \"Bob\"]"
      ],
      "metadata": {
        "colab": {
          "base_uri": "https://localhost:8080/"
        },
        "id": "YMlP9-1wM9T3",
        "outputId": "35217000-8c61-450e-8aed-fcfdbfb78982"
      },
      "execution_count": null,
      "outputs": [
        {
          "output_type": "execute_result",
          "data": {
            "text/plain": [
              "array([[4, 7],\n",
              "       [0, 0]])"
            ]
          },
          "metadata": {},
          "execution_count": 171
        }
      ]
    },
    {
      "cell_type": "code",
      "source": [
        "data[names == \"Bob\", 1:]"
      ],
      "metadata": {
        "colab": {
          "base_uri": "https://localhost:8080/"
        },
        "id": "KtlvAmy2NJnX",
        "outputId": "88bd4a8c-0a4d-4ca6-eb59-e4203c6a517b"
      },
      "execution_count": null,
      "outputs": [
        {
          "output_type": "execute_result",
          "data": {
            "text/plain": [
              "array([[7],\n",
              "       [0]])"
            ]
          },
          "metadata": {},
          "execution_count": 177
        }
      ]
    },
    {
      "cell_type": "code",
      "source": [
        "data[names == \"Bob\", 1]"
      ],
      "metadata": {
        "colab": {
          "base_uri": "https://localhost:8080/"
        },
        "id": "nK6a5r9aNXh-",
        "outputId": "27a79c77-17b1-4fea-bd53-bcc9bb3ced9a"
      },
      "execution_count": null,
      "outputs": [
        {
          "output_type": "execute_result",
          "data": {
            "text/plain": [
              "array([7, 0])"
            ]
          },
          "metadata": {},
          "execution_count": 178
        }
      ]
    },
    {
      "cell_type": "code",
      "source": [
        "names != \"Bob\""
      ],
      "metadata": {
        "colab": {
          "base_uri": "https://localhost:8080/"
        },
        "id": "D_ZeNAZ9NLUP",
        "outputId": "0cfd5a60-1556-4b10-fbe3-f73480524276"
      },
      "execution_count": null,
      "outputs": [
        {
          "output_type": "execute_result",
          "data": {
            "text/plain": [
              "array([False,  True,  True, False,  True,  True,  True])"
            ]
          },
          "metadata": {},
          "execution_count": 174
        }
      ]
    },
    {
      "cell_type": "code",
      "source": [
        "~(names == \"Bob\")"
      ],
      "metadata": {
        "colab": {
          "base_uri": "https://localhost:8080/"
        },
        "id": "pwskC2dNNTzh",
        "outputId": "220fd1d9-0dfa-46e5-b2f4-342afa221333"
      },
      "execution_count": null,
      "outputs": [
        {
          "output_type": "execute_result",
          "data": {
            "text/plain": [
              "array([False,  True,  True, False,  True,  True,  True])"
            ]
          },
          "metadata": {},
          "execution_count": 175
        }
      ]
    },
    {
      "cell_type": "code",
      "source": [
        "data[~(names == \"Bob\")]"
      ],
      "metadata": {
        "colab": {
          "base_uri": "https://localhost:8080/"
        },
        "id": "_FixW-xVNVF3",
        "outputId": "b263bce5-be2b-475c-c9b5-ea687adf8e01"
      },
      "execution_count": null,
      "outputs": [
        {
          "output_type": "execute_result",
          "data": {
            "text/plain": [
              "array([[  0,   2],\n",
              "       [ -5,   6],\n",
              "       [  1,   2],\n",
              "       [-12,  -4],\n",
              "       [  3,   4]])"
            ]
          },
          "metadata": {},
          "execution_count": 176
        }
      ]
    },
    {
      "cell_type": "code",
      "source": [
        "cond = names == \"Bob\"\n",
        "data[~cond]"
      ],
      "metadata": {
        "colab": {
          "base_uri": "https://localhost:8080/"
        },
        "id": "NqeedWLLNbeP",
        "outputId": "304f40ba-3464-40e1-ccc9-99349ecfaa82"
      },
      "execution_count": null,
      "outputs": [
        {
          "output_type": "execute_result",
          "data": {
            "text/plain": [
              "array([[  0,   2],\n",
              "       [ -5,   6],\n",
              "       [  1,   2],\n",
              "       [-12,  -4],\n",
              "       [  3,   4]])"
            ]
          },
          "metadata": {},
          "execution_count": 179
        }
      ]
    },
    {
      "cell_type": "code",
      "source": [
        "mask = (names == \"Bob\") | (names == \"Will\")\n",
        "mask"
      ],
      "metadata": {
        "colab": {
          "base_uri": "https://localhost:8080/"
        },
        "id": "coeXjeH1Nd2i",
        "outputId": "89e72941-9778-4d49-b56c-8e9ede2e8889"
      },
      "execution_count": null,
      "outputs": [
        {
          "output_type": "execute_result",
          "data": {
            "text/plain": [
              "array([ True, False,  True,  True,  True, False, False])"
            ]
          },
          "metadata": {},
          "execution_count": 180
        }
      ]
    },
    {
      "cell_type": "code",
      "source": [
        "data[mask]"
      ],
      "metadata": {
        "id": "dVZiX0ChNfTY",
        "outputId": "9957dd11-adbc-4aca-fc4e-21e37bfa8a39",
        "colab": {
          "base_uri": "https://localhost:8080/"
        }
      },
      "execution_count": null,
      "outputs": [
        {
          "output_type": "execute_result",
          "data": {
            "text/plain": [
              "array([[ 4,  7],\n",
              "       [-5,  6],\n",
              "       [ 0,  0],\n",
              "       [ 1,  2]])"
            ]
          },
          "metadata": {},
          "execution_count": 181
        }
      ]
    },
    {
      "cell_type": "code",
      "source": [
        "data[data < 0] = 0\n",
        "data"
      ],
      "metadata": {
        "id": "RfYJiB6JNgtf",
        "outputId": "07ea1245-dcc3-4350-8c4a-9ffbce16e21b",
        "colab": {
          "base_uri": "https://localhost:8080/"
        }
      },
      "execution_count": null,
      "outputs": [
        {
          "output_type": "execute_result",
          "data": {
            "text/plain": [
              "array([[4, 7],\n",
              "       [0, 2],\n",
              "       [0, 6],\n",
              "       [0, 0],\n",
              "       [1, 2],\n",
              "       [0, 0],\n",
              "       [3, 4]])"
            ]
          },
          "metadata": {},
          "execution_count": 182
        }
      ]
    },
    {
      "cell_type": "code",
      "source": [
        "data[names != \"Joe\"] = 7\n",
        "data"
      ],
      "metadata": {
        "colab": {
          "base_uri": "https://localhost:8080/"
        },
        "id": "16rfvknIOAMQ",
        "outputId": "305ac4e1-3f22-4478-a590-1c5e778f8963"
      },
      "execution_count": 193,
      "outputs": [
        {
          "output_type": "execute_result",
          "data": {
            "text/plain": [
              "array([[7, 7],\n",
              "       [0, 2],\n",
              "       [7, 7],\n",
              "       [7, 7],\n",
              "       [7, 7],\n",
              "       [0, 0],\n",
              "       [3, 4]])"
            ]
          },
          "metadata": {},
          "execution_count": 193
        }
      ]
    },
    {
      "cell_type": "markdown",
      "source": [
        "### Fancy Indexing"
      ],
      "metadata": {
        "id": "XI7XMx3xOCn_"
      }
    },
    {
      "cell_type": "code",
      "source": [
        "arr = np.zeros((8, 4))\n",
        "for i in range(8):\n",
        "    arr[i] = i\n",
        "arr"
      ],
      "metadata": {
        "colab": {
          "base_uri": "https://localhost:8080/"
        },
        "id": "TOXzm2PKOC8G",
        "outputId": "39b22c53-faea-4290-fcde-d2deee0832c1"
      },
      "execution_count": 194,
      "outputs": [
        {
          "output_type": "execute_result",
          "data": {
            "text/plain": [
              "array([[0., 0., 0., 0.],\n",
              "       [1., 1., 1., 1.],\n",
              "       [2., 2., 2., 2.],\n",
              "       [3., 3., 3., 3.],\n",
              "       [4., 4., 4., 4.],\n",
              "       [5., 5., 5., 5.],\n",
              "       [6., 6., 6., 6.],\n",
              "       [7., 7., 7., 7.]])"
            ]
          },
          "metadata": {},
          "execution_count": 194
        }
      ]
    },
    {
      "cell_type": "markdown",
      "source": [
        "Lấy ra mảng theo thứ tự"
      ],
      "metadata": {
        "id": "ktbLsbunOTA3"
      }
    },
    {
      "cell_type": "code",
      "source": [
        "arr[[4, 3, 0, 6]]"
      ],
      "metadata": {
        "colab": {
          "base_uri": "https://localhost:8080/"
        },
        "id": "fpsTnAF0OMDA",
        "outputId": "ac16e318-3dfa-41a4-af3a-e4613f7bb8c3"
      },
      "execution_count": 195,
      "outputs": [
        {
          "output_type": "execute_result",
          "data": {
            "text/plain": [
              "array([[4., 4., 4., 4.],\n",
              "       [3., 3., 3., 3.],\n",
              "       [0., 0., 0., 0.],\n",
              "       [6., 6., 6., 6.]])"
            ]
          },
          "metadata": {},
          "execution_count": 195
        }
      ]
    },
    {
      "cell_type": "markdown",
      "source": [
        "Lấy mảng theo thứ tự ngược lại"
      ],
      "metadata": {
        "id": "jXmcdGDTOqiQ"
      }
    },
    {
      "cell_type": "code",
      "source": [
        "arr[[-3, -5, -7]]"
      ],
      "metadata": {
        "colab": {
          "base_uri": "https://localhost:8080/"
        },
        "id": "9t6qD4HnOfGH",
        "outputId": "ea80d148-1aaa-4426-9319-81c2b4cacd72"
      },
      "execution_count": 198,
      "outputs": [
        {
          "output_type": "execute_result",
          "data": {
            "text/plain": [
              "array([[5., 5., 5., 5.],\n",
              "       [3., 3., 3., 3.],\n",
              "       [1., 1., 1., 1.]])"
            ]
          },
          "metadata": {},
          "execution_count": 198
        }
      ]
    },
    {
      "cell_type": "code",
      "source": [
        "arr = np.arange(32).reshape((8, 4))\n",
        "arr"
      ],
      "metadata": {
        "colab": {
          "base_uri": "https://localhost:8080/"
        },
        "id": "zS6xgyH-Owo3",
        "outputId": "b86552f1-c18b-4288-ee3a-4964fb86dac6"
      },
      "execution_count": 199,
      "outputs": [
        {
          "output_type": "execute_result",
          "data": {
            "text/plain": [
              "array([[ 0,  1,  2,  3],\n",
              "       [ 4,  5,  6,  7],\n",
              "       [ 8,  9, 10, 11],\n",
              "       [12, 13, 14, 15],\n",
              "       [16, 17, 18, 19],\n",
              "       [20, 21, 22, 23],\n",
              "       [24, 25, 26, 27],\n",
              "       [28, 29, 30, 31]])"
            ]
          },
          "metadata": {},
          "execution_count": 199
        }
      ]
    },
    {
      "cell_type": "code",
      "source": [
        "arr[[1, 5, 7, 2], [0, 3, 1, 2]]"
      ],
      "metadata": {
        "colab": {
          "base_uri": "https://localhost:8080/"
        },
        "id": "YBvTEJTYOzZV",
        "outputId": "af537e47-6efe-46d2-9f1a-aced58db1d45"
      },
      "execution_count": 200,
      "outputs": [
        {
          "output_type": "execute_result",
          "data": {
            "text/plain": [
              "array([ 4, 23, 29, 10])"
            ]
          },
          "metadata": {},
          "execution_count": 200
        }
      ]
    },
    {
      "cell_type": "code",
      "source": [
        "arr[[1, 5, 7, 2]][:, [0, 3, 1, 2]]"
      ],
      "metadata": {
        "colab": {
          "base_uri": "https://localhost:8080/"
        },
        "id": "FjjtRVHzO4cf",
        "outputId": "3e828a83-e546-4af1-d475-3149f42e9273"
      },
      "execution_count": 202,
      "outputs": [
        {
          "output_type": "execute_result",
          "data": {
            "text/plain": [
              "array([[ 4,  7,  5,  6],\n",
              "       [20, 23, 21, 22],\n",
              "       [28, 31, 29, 30],\n",
              "       [ 8, 11,  9, 10]])"
            ]
          },
          "metadata": {},
          "execution_count": 202
        }
      ]
    },
    {
      "cell_type": "code",
      "source": [
        "arr[[1, 5, 7, 2], [0, 3, 1, 2]]"
      ],
      "metadata": {
        "colab": {
          "base_uri": "https://localhost:8080/"
        },
        "id": "lUxAUeLZO981",
        "outputId": "fe2a72c4-c53c-4c96-cc13-544114514614"
      },
      "execution_count": 203,
      "outputs": [
        {
          "output_type": "execute_result",
          "data": {
            "text/plain": [
              "array([ 4, 23, 29, 10])"
            ]
          },
          "metadata": {},
          "execution_count": 203
        }
      ]
    },
    {
      "cell_type": "code",
      "source": [
        "arr[[1, 5, 7, 2], [0, 3, 1, 2]] = 0\n"
      ],
      "metadata": {
        "id": "fUm7u65vO_TV"
      },
      "execution_count": 204,
      "outputs": []
    },
    {
      "cell_type": "code",
      "source": [
        "arr"
      ],
      "metadata": {
        "colab": {
          "base_uri": "https://localhost:8080/"
        },
        "id": "q786I7gsPABO",
        "outputId": "26d8ffbb-7175-4de0-e613-360cf027784d"
      },
      "execution_count": 205,
      "outputs": [
        {
          "output_type": "execute_result",
          "data": {
            "text/plain": [
              "array([[ 0,  1,  2,  3],\n",
              "       [ 0,  5,  6,  7],\n",
              "       [ 8,  9,  0, 11],\n",
              "       [12, 13, 14, 15],\n",
              "       [16, 17, 18, 19],\n",
              "       [20, 21, 22,  0],\n",
              "       [24, 25, 26, 27],\n",
              "       [28,  0, 30, 31]])"
            ]
          },
          "metadata": {},
          "execution_count": 205
        }
      ]
    },
    {
      "cell_type": "markdown",
      "source": [
        "### Transposing Arrays and Swapping Axes"
      ],
      "metadata": {
        "id": "bZQ-XXsHP_CF"
      }
    },
    {
      "cell_type": "code",
      "source": [
        "arr = np.arange(15).reshape((3, 5))\n",
        "arr"
      ],
      "metadata": {
        "colab": {
          "base_uri": "https://localhost:8080/"
        },
        "id": "CBarZO-nPBWn",
        "outputId": "fabd988e-c69d-4737-ba53-f5db25d6667d"
      },
      "execution_count": 209,
      "outputs": [
        {
          "output_type": "execute_result",
          "data": {
            "text/plain": [
              "array([[ 0,  1,  2,  3,  4],\n",
              "       [ 5,  6,  7,  8,  9],\n",
              "       [10, 11, 12, 13, 14]])"
            ]
          },
          "metadata": {},
          "execution_count": 209
        }
      ]
    },
    {
      "cell_type": "code",
      "source": [
        "arr.T"
      ],
      "metadata": {
        "colab": {
          "base_uri": "https://localhost:8080/"
        },
        "id": "RS6u7zDJPEs8",
        "outputId": "e96c5cb0-432a-4416-c215-0c790a1d9447"
      },
      "execution_count": 211,
      "outputs": [
        {
          "output_type": "execute_result",
          "data": {
            "text/plain": [
              "array([[ 0,  5, 10],\n",
              "       [ 1,  6, 11],\n",
              "       [ 2,  7, 12],\n",
              "       [ 3,  8, 13],\n",
              "       [ 4,  9, 14]])"
            ]
          },
          "metadata": {},
          "execution_count": 211
        }
      ]
    },
    {
      "cell_type": "code",
      "source": [
        "arr = np.array([[0, 1, 0], [1, 2, -2], [6, 3, 2], [-1, 0, -1], [1, 0, 1]])\n",
        "arr"
      ],
      "metadata": {
        "colab": {
          "base_uri": "https://localhost:8080/"
        },
        "id": "osFisLRpPNVu",
        "outputId": "3e288c69-1c1f-45a1-9a55-23573b73127e"
      },
      "execution_count": 307,
      "outputs": [
        {
          "output_type": "execute_result",
          "data": {
            "text/plain": [
              "array([[ 0,  1,  0],\n",
              "       [ 1,  2, -2],\n",
              "       [ 6,  3,  2],\n",
              "       [-1,  0, -1],\n",
              "       [ 1,  0,  1]])"
            ]
          },
          "metadata": {},
          "execution_count": 307
        }
      ]
    },
    {
      "cell_type": "code",
      "source": [
        "np.dot(arr.T, arr)"
      ],
      "metadata": {
        "colab": {
          "base_uri": "https://localhost:8080/"
        },
        "id": "Y_Al4lfxQFAt",
        "outputId": "cf51caa9-d0d2-423b-efb3-4da56544c18a"
      },
      "execution_count": 306,
      "outputs": [
        {
          "output_type": "execute_result",
          "data": {
            "text/plain": [
              "array([[39, 20, 12],\n",
              "       [20, 14,  2],\n",
              "       [12,  2, 10]])"
            ]
          },
          "metadata": {},
          "execution_count": 306
        }
      ]
    },
    {
      "cell_type": "code",
      "source": [
        "arr.T @ arr"
      ],
      "metadata": {
        "colab": {
          "base_uri": "https://localhost:8080/"
        },
        "id": "egx7yBAPQD7k",
        "outputId": "251c39a1-9235-415e-f62a-3069ef50ca71"
      },
      "execution_count": 309,
      "outputs": [
        {
          "output_type": "execute_result",
          "data": {
            "text/plain": [
              "array([[39, 20, 12],\n",
              "       [20, 14,  2],\n",
              "       [12,  2, 10]])"
            ]
          },
          "metadata": {},
          "execution_count": 309
        }
      ]
    },
    {
      "cell_type": "code",
      "source": [
        "arr"
      ],
      "metadata": {
        "colab": {
          "base_uri": "https://localhost:8080/"
        },
        "id": "JpQnRhHiQILR",
        "outputId": "10356326-738c-4752-df1c-a1f6fd2bd2a0"
      },
      "execution_count": 310,
      "outputs": [
        {
          "output_type": "execute_result",
          "data": {
            "text/plain": [
              "array([[ 0,  1,  0],\n",
              "       [ 1,  2, -2],\n",
              "       [ 6,  3,  2],\n",
              "       [-1,  0, -1],\n",
              "       [ 1,  0,  1]])"
            ]
          },
          "metadata": {},
          "execution_count": 310
        }
      ]
    },
    {
      "cell_type": "code",
      "source": [
        "arr.swapaxes(0, 1)"
      ],
      "metadata": {
        "colab": {
          "base_uri": "https://localhost:8080/"
        },
        "id": "0sH7RzlzQLcu",
        "outputId": "ef2136e8-3b87-40e7-d1b9-01207c8dd33d"
      },
      "execution_count": 311,
      "outputs": [
        {
          "output_type": "execute_result",
          "data": {
            "text/plain": [
              "array([[ 0,  1,  6, -1,  1],\n",
              "       [ 1,  2,  3,  0,  0],\n",
              "       [ 0, -2,  2, -1,  1]])"
            ]
          },
          "metadata": {},
          "execution_count": 311
        }
      ]
    },
    {
      "cell_type": "markdown",
      "source": [
        "## 4.2 Pseudorandom Number Generation"
      ],
      "metadata": {
        "id": "3I5PglBFQO79"
      }
    },
    {
      "cell_type": "markdown",
      "source": [
        "Sinh mảng 4x4  "
      ],
      "metadata": {
        "id": "R-7YygmaQuQ8"
      }
    },
    {
      "cell_type": "code",
      "source": [
        "samples = np.random.standard_normal(size=(4, 4))\n",
        "samples"
      ],
      "metadata": {
        "colab": {
          "base_uri": "https://localhost:8080/"
        },
        "id": "nP3MiJASQNVE",
        "outputId": "8d7a8186-ecf4-462d-e84f-3839383ae97b"
      },
      "execution_count": 312,
      "outputs": [
        {
          "output_type": "execute_result",
          "data": {
            "text/plain": [
              "array([[ 1.3529,  0.8864, -2.0016, -0.3718],\n",
              "       [ 1.669 , -0.4386, -0.5397,  0.477 ],\n",
              "       [ 3.2489, -1.0212, -0.5771,  0.1241],\n",
              "       [ 0.3026,  0.5238,  0.0009,  1.3438]])"
            ]
          },
          "metadata": {},
          "execution_count": 312
        }
      ]
    },
    {
      "cell_type": "code",
      "source": [
        "from random import normalvariate\n",
        "N = 1_000_000\n",
        "%timeit samples = [normalvariate(0, 1) for _ in range(N)]\n",
        "%timeit np.random.standard_normal(N)"
      ],
      "metadata": {
        "colab": {
          "base_uri": "https://localhost:8080/"
        },
        "id": "NaA4ys9WQTBd",
        "outputId": "5a537b10-c262-4c96-ea9d-62a54bd821f1"
      },
      "execution_count": 313,
      "outputs": [
        {
          "output_type": "stream",
          "name": "stdout",
          "text": [
            "577 ms ± 33.1 ms per loop (mean ± std. dev. of 7 runs, 1 loop each)\n",
            "45.4 ms ± 769 µs per loop (mean ± std. dev. of 7 runs, 10 loops each)\n"
          ]
        }
      ]
    },
    {
      "cell_type": "code",
      "source": [
        "rng = np.random.default_rng(seed=12345)\n",
        "data = rng.standard_normal((2, 3))"
      ],
      "metadata": {
        "id": "TMKxI1SrQXps"
      },
      "execution_count": 315,
      "outputs": []
    },
    {
      "cell_type": "markdown",
      "source": [
        "Xem kiểu"
      ],
      "metadata": {
        "id": "0-B96tyDQqm1"
      }
    },
    {
      "cell_type": "code",
      "source": [
        "type(rng)"
      ],
      "metadata": {
        "colab": {
          "base_uri": "https://localhost:8080/"
        },
        "id": "pb8n1d_xQY_c",
        "outputId": "95cc3cae-7cfa-4851-d2c4-560e9c49eb1a"
      },
      "execution_count": 316,
      "outputs": [
        {
          "output_type": "execute_result",
          "data": {
            "text/plain": [
              "numpy.random._generator.Generator"
            ]
          },
          "metadata": {},
          "execution_count": 316
        }
      ]
    },
    {
      "cell_type": "markdown",
      "source": [
        "## 4.3 Universal Functions: Fast Element-Wise Array Functions"
      ],
      "metadata": {
        "id": "xOAvVwvOQ3E8"
      }
    },
    {
      "cell_type": "markdown",
      "source": [
        "Sinh mảng"
      ],
      "metadata": {
        "id": "pkBTSLMGQr5V"
      }
    },
    {
      "cell_type": "code",
      "source": [
        "arr = np.arange(10)\n",
        "arr"
      ],
      "metadata": {
        "colab": {
          "base_uri": "https://localhost:8080/"
        },
        "id": "pc7VrLJLQeUs",
        "outputId": "8ba8fb5f-729b-4d6a-da7c-53abded38544"
      },
      "execution_count": 317,
      "outputs": [
        {
          "output_type": "execute_result",
          "data": {
            "text/plain": [
              "array([0, 1, 2, 3, 4, 5, 6, 7, 8, 9])"
            ]
          },
          "metadata": {},
          "execution_count": 317
        }
      ]
    },
    {
      "cell_type": "markdown",
      "source": [
        "Lấy căn bậc 2 mảng"
      ],
      "metadata": {
        "id": "rHarDuFZQkHc"
      }
    },
    {
      "cell_type": "code",
      "source": [
        "np.sqrt(arr)"
      ],
      "metadata": {
        "colab": {
          "base_uri": "https://localhost:8080/"
        },
        "id": "ghY1PE3pQf08",
        "outputId": "6d283f95-354a-4b24-da67-a962b82eff79"
      },
      "execution_count": 318,
      "outputs": [
        {
          "output_type": "execute_result",
          "data": {
            "text/plain": [
              "array([0.    , 1.    , 1.4142, 1.7321, 2.    , 2.2361, 2.4495, 2.6458,\n",
              "       2.8284, 3.    ])"
            ]
          },
          "metadata": {},
          "execution_count": 318
        }
      ]
    },
    {
      "cell_type": "markdown",
      "source": [
        "Lấy e^()"
      ],
      "metadata": {
        "id": "TpPeyx8OQnKb"
      }
    },
    {
      "cell_type": "code",
      "source": [
        "np.exp(arr)"
      ],
      "metadata": {
        "colab": {
          "base_uri": "https://localhost:8080/"
        },
        "id": "b4NI8X4QQiW0",
        "outputId": "ff7fbb64-b2c6-4fd4-8a9d-1efac3361188"
      },
      "execution_count": 319,
      "outputs": [
        {
          "output_type": "execute_result",
          "data": {
            "text/plain": [
              "array([   1.    ,    2.7183,    7.3891,   20.0855,   54.5982,  148.4132,\n",
              "        403.4288, 1096.6332, 2980.958 , 8103.0839])"
            ]
          },
          "metadata": {},
          "execution_count": 319
        }
      ]
    },
    {
      "cell_type": "code",
      "source": [
        "x = rng.standard_normal(8)\n",
        "y = rng.standard_normal(8)\n",
        "x"
      ],
      "metadata": {
        "colab": {
          "base_uri": "https://localhost:8080/"
        },
        "id": "-vkQGR-hQ9_O",
        "outputId": "dba74969-2170-4d7a-f5a3-f09e8d8df3b6"
      },
      "execution_count": 322,
      "outputs": [
        {
          "output_type": "execute_result",
          "data": {
            "text/plain": [
              "array([-1.2287,  0.2576,  0.3129, -0.1308,  1.27  , -0.093 , -0.0662,\n",
              "       -1.1082])"
            ]
          },
          "metadata": {},
          "execution_count": 322
        }
      ]
    },
    {
      "cell_type": "code",
      "source": [
        "y"
      ],
      "metadata": {
        "colab": {
          "base_uri": "https://localhost:8080/"
        },
        "id": "gW5pEAJVRCRc",
        "outputId": "e407e3d2-b3db-4df5-80e1-d6a1ae3ffa7c"
      },
      "execution_count": 323,
      "outputs": [
        {
          "output_type": "execute_result",
          "data": {
            "text/plain": [
              "array([0.136 , 1.3471, 0.0611, 0.0709, 0.4337, 0.2775, 0.5303, 0.5367])"
            ]
          },
          "metadata": {},
          "execution_count": 323
        }
      ]
    },
    {
      "cell_type": "code",
      "source": [
        "np.maximum(x, y)"
      ],
      "metadata": {
        "colab": {
          "base_uri": "https://localhost:8080/"
        },
        "id": "FAi5AHiYRDPi",
        "outputId": "0c482814-f1dc-44a4-872b-d0e2f04abd94"
      },
      "execution_count": 324,
      "outputs": [
        {
          "output_type": "execute_result",
          "data": {
            "text/plain": [
              "array([0.136 , 1.3471, 0.3129, 0.0709, 1.27  , 0.2775, 0.5303, 0.5367])"
            ]
          },
          "metadata": {},
          "execution_count": 324
        }
      ]
    },
    {
      "cell_type": "markdown",
      "source": [
        "Sinh mảng"
      ],
      "metadata": {
        "id": "ElMSkj6ERSVk"
      }
    },
    {
      "cell_type": "code",
      "source": [
        "arr = rng.standard_normal(7) * 5\n",
        "arr"
      ],
      "metadata": {
        "colab": {
          "base_uri": "https://localhost:8080/"
        },
        "id": "nDCYCMAURFtL",
        "outputId": "91a97faa-6543-4741-a8f0-c480be271b67"
      },
      "execution_count": 326,
      "outputs": [
        {
          "output_type": "execute_result",
          "data": {
            "text/plain": [
              "array([ 2.3702, -2.0743,  0.4886, -8.2021, -4.2863,  3.4414, -5.7726])"
            ]
          },
          "metadata": {},
          "execution_count": 326
        }
      ]
    },
    {
      "cell_type": "code",
      "source": [
        "remainder, whole_part = np.modf(arr)\n",
        "remainder"
      ],
      "metadata": {
        "colab": {
          "base_uri": "https://localhost:8080/"
        },
        "id": "89UETcCzRHTb",
        "outputId": "b69f60e4-68af-427d-a875-224d5efd8b77"
      },
      "execution_count": 327,
      "outputs": [
        {
          "output_type": "execute_result",
          "data": {
            "text/plain": [
              "array([ 0.3702, -0.0743,  0.4886, -0.2021, -0.2863,  0.4414, -0.7726])"
            ]
          },
          "metadata": {},
          "execution_count": 327
        }
      ]
    },
    {
      "cell_type": "code",
      "source": [
        "whole_part"
      ],
      "metadata": {
        "colab": {
          "base_uri": "https://localhost:8080/"
        },
        "id": "ItQC959xRJD7",
        "outputId": "67aca7f4-29c9-463b-860f-867c1172027d"
      },
      "execution_count": 328,
      "outputs": [
        {
          "output_type": "execute_result",
          "data": {
            "text/plain": [
              "array([ 2., -2.,  0., -8., -4.,  3., -5.])"
            ]
          },
          "metadata": {},
          "execution_count": 328
        }
      ]
    },
    {
      "cell_type": "code",
      "source": [
        "arr"
      ],
      "metadata": {
        "colab": {
          "base_uri": "https://localhost:8080/"
        },
        "id": "DZZL2PxIRVxs",
        "outputId": "be8a0ab2-5f6f-4de4-836d-8f7c667192d2"
      },
      "execution_count": 329,
      "outputs": [
        {
          "output_type": "execute_result",
          "data": {
            "text/plain": [
              "array([ 2.3702, -2.0743,  0.4886, -8.2021, -4.2863,  3.4414, -5.7726])"
            ]
          },
          "metadata": {},
          "execution_count": 329
        }
      ]
    },
    {
      "cell_type": "code",
      "source": [
        "out = np.zeros_like(arr)\n",
        "np.add(arr, 1)"
      ],
      "metadata": {
        "colab": {
          "base_uri": "https://localhost:8080/"
        },
        "id": "MEoE8RQORXbs",
        "outputId": "57a50b4a-f504-4281-d37f-8f6f46c26439"
      },
      "execution_count": 330,
      "outputs": [
        {
          "output_type": "execute_result",
          "data": {
            "text/plain": [
              "array([ 3.3702, -1.0743,  1.4886, -7.2021, -3.2863,  4.4414, -4.7726])"
            ]
          },
          "metadata": {},
          "execution_count": 330
        }
      ]
    },
    {
      "cell_type": "code",
      "source": [
        "np.add(arr, 1, out=out)"
      ],
      "metadata": {
        "colab": {
          "base_uri": "https://localhost:8080/"
        },
        "id": "PgolXZItRczS",
        "outputId": "ec4cda69-2e5a-4325-e4ba-8363418c6c61"
      },
      "execution_count": 331,
      "outputs": [
        {
          "output_type": "execute_result",
          "data": {
            "text/plain": [
              "array([ 3.3702, -1.0743,  1.4886, -7.2021, -3.2863,  4.4414, -4.7726])"
            ]
          },
          "metadata": {},
          "execution_count": 331
        }
      ]
    },
    {
      "cell_type": "code",
      "source": [
        "out"
      ],
      "metadata": {
        "colab": {
          "base_uri": "https://localhost:8080/"
        },
        "id": "NO327PIpReXk",
        "outputId": "91f782c5-1c9d-462c-a759-15cd4a6b0f0f"
      },
      "execution_count": 332,
      "outputs": [
        {
          "output_type": "execute_result",
          "data": {
            "text/plain": [
              "array([ 3.3702, -1.0743,  1.4886, -7.2021, -3.2863,  4.4414, -4.7726])"
            ]
          },
          "metadata": {},
          "execution_count": 332
        }
      ]
    },
    {
      "cell_type": "markdown",
      "source": [
        "## 4.4 Array-Oriented Programming with Arrays"
      ],
      "metadata": {
        "id": "_MWN5FDQRjLy"
      }
    },
    {
      "cell_type": "code",
      "source": [
        "points = np.arange(-5, 5, 0.01) # 100 equally spaced points\n",
        "xs, ys = np.meshgrid(points, points)\n",
        "ys"
      ],
      "metadata": {
        "colab": {
          "base_uri": "https://localhost:8080/"
        },
        "id": "r9liQWFnRhy8",
        "outputId": "e0981c12-cd3d-4889-f651-d8636e3f92cd"
      },
      "execution_count": 333,
      "outputs": [
        {
          "output_type": "execute_result",
          "data": {
            "text/plain": [
              "array([[-5.  , -5.  , -5.  , ..., -5.  , -5.  , -5.  ],\n",
              "       [-4.99, -4.99, -4.99, ..., -4.99, -4.99, -4.99],\n",
              "       [-4.98, -4.98, -4.98, ..., -4.98, -4.98, -4.98],\n",
              "       ...,\n",
              "       [ 4.97,  4.97,  4.97, ...,  4.97,  4.97,  4.97],\n",
              "       [ 4.98,  4.98,  4.98, ...,  4.98,  4.98,  4.98],\n",
              "       [ 4.99,  4.99,  4.99, ...,  4.99,  4.99,  4.99]])"
            ]
          },
          "metadata": {},
          "execution_count": 333
        }
      ]
    },
    {
      "cell_type": "code",
      "source": [
        "\n",
        "z = np.sqrt(xs ** 2 + ys ** 2)\n",
        "z"
      ],
      "metadata": {
        "colab": {
          "base_uri": "https://localhost:8080/"
        },
        "id": "713omcrrRn_M",
        "outputId": "86d8dd45-3857-4830-be16-14dcf9c7c476"
      },
      "execution_count": 334,
      "outputs": [
        {
          "output_type": "execute_result",
          "data": {
            "text/plain": [
              "array([[7.0711, 7.064 , 7.0569, ..., 7.0499, 7.0569, 7.064 ],\n",
              "       [7.064 , 7.0569, 7.0499, ..., 7.0428, 7.0499, 7.0569],\n",
              "       [7.0569, 7.0499, 7.0428, ..., 7.0357, 7.0428, 7.0499],\n",
              "       ...,\n",
              "       [7.0499, 7.0428, 7.0357, ..., 7.0286, 7.0357, 7.0428],\n",
              "       [7.0569, 7.0499, 7.0428, ..., 7.0357, 7.0428, 7.0499],\n",
              "       [7.064 , 7.0569, 7.0499, ..., 7.0428, 7.0499, 7.0569]])"
            ]
          },
          "metadata": {},
          "execution_count": 334
        }
      ]
    },
    {
      "cell_type": "code",
      "source": [
        "\n",
        "import matplotlib.pyplot as plt\n",
        "plt.imshow(z, cmap=plt.cm.gray, extent=[-5, 5, -5, 5])\n",
        "plt.colorbar()\n",
        "plt.title(\"Image plot of $\\sqrt{x^2 + y^2}$ for a grid of values\")"
      ],
      "metadata": {
        "colab": {
          "base_uri": "https://localhost:8080/",
          "height": 646
        },
        "id": "popsdctNRou8",
        "outputId": "bea53655-3a4e-4f3a-8d65-f8acc3d8f134"
      },
      "execution_count": 335,
      "outputs": [
        {
          "output_type": "stream",
          "name": "stderr",
          "text": [
            "<>:4: SyntaxWarning: invalid escape sequence '\\s'\n",
            "<>:4: SyntaxWarning: invalid escape sequence '\\s'\n",
            "/tmp/ipython-input-999559057.py:4: SyntaxWarning: invalid escape sequence '\\s'\n",
            "  plt.title(\"Image plot of $\\sqrt{x^2 + y^2}$ for a grid of values\")\n"
          ]
        },
        {
          "output_type": "execute_result",
          "data": {
            "text/plain": [
              "Text(0.5, 1.0, 'Image plot of $\\\\sqrt{x^2 + y^2}$ for a grid of values')"
            ]
          },
          "metadata": {},
          "execution_count": 335
        },
        {
          "output_type": "display_data",
          "data": {
            "text/plain": [
              "<Figure size 1000x600 with 2 Axes>"
            ],
            "image/png": "[encoded data removed]"
          },
          "metadata": {}
        }
      ]
    },
    {
      "cell_type": "code",
      "source": [
        "plt.draw()"
      ],
      "metadata": {
        "colab": {
          "base_uri": "https://localhost:8080/",
          "height": 35
        },
        "id": "s-n1fVfuSORa",
        "outputId": "2c4d07ee-82eb-4d00-8d30-3a7c50af3b3c"
      },
      "execution_count": 337,
      "outputs": [
        {
          "output_type": "display_data",
          "data": {
            "text/plain": [
              "<Figure size 1000x600 with 0 Axes>"
            ]
          },
          "metadata": {}
        }
      ]
    },
    {
      "cell_type": "code",
      "source": [
        "plt.close(\"all\")"
      ],
      "metadata": {
        "id": "cUkGS31_SF80"
      },
      "execution_count": 336,
      "outputs": []
    },
    {
      "cell_type": "markdown",
      "source": [
        "### Expressing Conditional Logic as Array Operations"
      ],
      "metadata": {
        "id": "hDLG-bUNRtQK"
      }
    },
    {
      "cell_type": "code",
      "source": [
        "xarr = np.array([1.1, 1.2, 1.3, 1.4, 1.5])\n",
        "yarr = np.array([2.1, 2.2, 2.3, 2.4, 2.5])\n",
        "cond = np.array([True, False, True, True, False])"
      ],
      "metadata": {
        "id": "NfUlOzpQSHuj"
      },
      "execution_count": 358,
      "outputs": []
    },
    {
      "cell_type": "code",
      "source": [
        "result = [(x if c else y)\n",
        "          for x, y, c in zip(xarr, yarr, cond)]\n",
        "result"
      ],
      "metadata": {
        "colab": {
          "base_uri": "https://localhost:8080/"
        },
        "id": "ZkbUtRJaST4M",
        "outputId": "d317e0a3-9d6d-42d9-d213-be1c237d4add"
      },
      "execution_count": 359,
      "outputs": [
        {
          "output_type": "execute_result",
          "data": {
            "text/plain": [
              "[np.float64(1.1),\n",
              " np.float64(2.2),\n",
              " np.float64(1.3),\n",
              " np.float64(1.4),\n",
              " np.float64(2.5)]"
            ]
          },
          "metadata": {},
          "execution_count": 359
        }
      ]
    },
    {
      "cell_type": "code",
      "source": [
        "result = np.where(cond, xarr, yarr)\n",
        "result"
      ],
      "metadata": {
        "colab": {
          "base_uri": "https://localhost:8080/"
        },
        "id": "oJS49ihbSWik",
        "outputId": "35ae2cf7-e792-4fc3-e166-0cb18c6e2f39"
      },
      "execution_count": 360,
      "outputs": [
        {
          "output_type": "execute_result",
          "data": {
            "text/plain": [
              "array([1.1, 2.2, 1.3, 1.4, 2.5])"
            ]
          },
          "metadata": {},
          "execution_count": 360
        }
      ]
    },
    {
      "cell_type": "code",
      "source": [
        "arr = rng.standard_normal((4, 4))\n",
        "arr"
      ],
      "metadata": {
        "colab": {
          "base_uri": "https://localhost:8080/"
        },
        "id": "by7FCYq0SYDc",
        "outputId": "943b2443-8e93-4f70-e0ad-733236ee6386"
      },
      "execution_count": 361,
      "outputs": [
        {
          "output_type": "execute_result",
          "data": {
            "text/plain": [
              "array([[-0.8119, -0.0255,  1.1582,  0.3005],\n",
              "       [ 0.0531,  0.2573,  0.0357,  0.5472],\n",
              "       [-1.123 , -1.9752, -0.4252, -1.1491],\n",
              "       [ 1.6151, -0.1585, -0.2529, -1.5382]])"
            ]
          },
          "metadata": {},
          "execution_count": 361
        }
      ]
    },
    {
      "cell_type": "code",
      "source": [
        "arr > 0"
      ],
      "metadata": {
        "colab": {
          "base_uri": "https://localhost:8080/"
        },
        "id": "90PabKIaSaca",
        "outputId": "d7d7b46a-d24a-469e-9808-95efd349aa9f"
      },
      "execution_count": 362,
      "outputs": [
        {
          "output_type": "execute_result",
          "data": {
            "text/plain": [
              "array([[False, False,  True,  True],\n",
              "       [ True,  True,  True,  True],\n",
              "       [False, False, False, False],\n",
              "       [ True, False, False, False]])"
            ]
          },
          "metadata": {},
          "execution_count": 362
        }
      ]
    },
    {
      "cell_type": "code",
      "source": [
        "np.where(arr > 0, 2, -2)"
      ],
      "metadata": {
        "colab": {
          "base_uri": "https://localhost:8080/"
        },
        "id": "gA-dASGaScIT",
        "outputId": "ca70ed72-72f2-4418-b6d4-eac52deb9f6d"
      },
      "execution_count": 363,
      "outputs": [
        {
          "output_type": "execute_result",
          "data": {
            "text/plain": [
              "array([[-2, -2,  2,  2],\n",
              "       [ 2,  2,  2,  2],\n",
              "       [-2, -2, -2, -2],\n",
              "       [ 2, -2, -2, -2]])"
            ]
          },
          "metadata": {},
          "execution_count": 363
        }
      ]
    },
    {
      "cell_type": "code",
      "source": [
        "np.where(arr > 0, 2, arr) # set only positive values to 2"
      ],
      "metadata": {
        "colab": {
          "base_uri": "https://localhost:8080/"
        },
        "id": "K7ZAsQhxSeeL",
        "outputId": "54e973e0-fe8e-45d8-bce6-4a8681b44225"
      },
      "execution_count": 364,
      "outputs": [
        {
          "output_type": "execute_result",
          "data": {
            "text/plain": [
              "array([[-0.8119, -0.0255,  2.    ,  2.    ],\n",
              "       [ 2.    ,  2.    ,  2.    ,  2.    ],\n",
              "       [-1.123 , -1.9752, -0.4252, -1.1491],\n",
              "       [ 2.    , -0.1585, -0.2529, -1.5382]])"
            ]
          },
          "metadata": {},
          "execution_count": 364
        }
      ]
    },
    {
      "cell_type": "markdown",
      "source": [
        "### Mathematical and Statistical Methods"
      ],
      "metadata": {
        "id": "TwhifKtmSgfy"
      }
    },
    {
      "cell_type": "code",
      "source": [
        "arr = rng.standard_normal((5, 4))\n",
        "arr"
      ],
      "metadata": {
        "colab": {
          "base_uri": "https://localhost:8080/"
        },
        "id": "MZ0ZVQyoSmAj",
        "outputId": "37c8334a-6af9-48ef-ce0b-c38d005d48de"
      },
      "execution_count": 365,
      "outputs": [
        {
          "output_type": "execute_result",
          "data": {
            "text/plain": [
              "array([[ 0.2821, -0.6236,  1.1218,  0.8412],\n",
              "       [-0.7759,  0.4107, -2.7224, -0.6733],\n",
              "       [ 1.2462,  0.7902,  0.1753, -0.0293],\n",
              "       [-1.4195, -1.36  ,  0.2234,  1.7618],\n",
              "       [-2.1709,  0.6285,  0.6012,  0.9508]])"
            ]
          },
          "metadata": {},
          "execution_count": 365
        }
      ]
    },
    {
      "cell_type": "code",
      "source": [
        "arr.mean()"
      ],
      "metadata": {
        "colab": {
          "base_uri": "https://localhost:8080/"
        },
        "id": "rxGvobgOSnJR",
        "outputId": "aeef5fc5-e21c-44f2-b47d-9b25d733f65d"
      },
      "execution_count": 366,
      "outputs": [
        {
          "output_type": "execute_result",
          "data": {
            "text/plain": [
              "np.float64(-0.03708222045175261)"
            ]
          },
          "metadata": {},
          "execution_count": 366
        }
      ]
    },
    {
      "cell_type": "code",
      "source": [
        "np.mean(arr)"
      ],
      "metadata": {
        "colab": {
          "base_uri": "https://localhost:8080/"
        },
        "id": "VlCaGUoKSoVH",
        "outputId": "4fdd044d-e571-43b3-9281-654807074ad4"
      },
      "execution_count": 367,
      "outputs": [
        {
          "output_type": "execute_result",
          "data": {
            "text/plain": [
              "np.float64(-0.03708222045175261)"
            ]
          },
          "metadata": {},
          "execution_count": 367
        }
      ]
    },
    {
      "cell_type": "code",
      "source": [
        "arr.sum()"
      ],
      "metadata": {
        "colab": {
          "base_uri": "https://localhost:8080/"
        },
        "id": "J6QtwcCTSqv8",
        "outputId": "efa7ac66-f6a9-4b39-c3b8-ffd29b560ba6"
      },
      "execution_count": 368,
      "outputs": [
        {
          "output_type": "execute_result",
          "data": {
            "text/plain": [
              "np.float64(-0.7416444090350521)"
            ]
          },
          "metadata": {},
          "execution_count": 368
        }
      ]
    },
    {
      "cell_type": "code",
      "source": [
        "arr.mean(axis=1)"
      ],
      "metadata": {
        "colab": {
          "base_uri": "https://localhost:8080/"
        },
        "id": "Tflj2c4oSuZq",
        "outputId": "f9828add-e47f-40de-d85d-cc6eb0183969"
      },
      "execution_count": 369,
      "outputs": [
        {
          "output_type": "execute_result",
          "data": {
            "text/plain": [
              "array([ 0.4054, -0.9402,  0.5456, -0.1986,  0.0024])"
            ]
          },
          "metadata": {},
          "execution_count": 369
        }
      ]
    },
    {
      "cell_type": "code",
      "source": [
        "arr.sum(axis=0)"
      ],
      "metadata": {
        "colab": {
          "base_uri": "https://localhost:8080/"
        },
        "id": "vmMzqWzsTQe0",
        "outputId": "3e122b32-9c93-4adf-f12d-c4d1d281f568"
      },
      "execution_count": 370,
      "outputs": [
        {
          "output_type": "execute_result",
          "data": {
            "text/plain": [
              "array([-2.838 , -0.1542, -0.6006,  2.8512])"
            ]
          },
          "metadata": {},
          "execution_count": 370
        }
      ]
    },
    {
      "cell_type": "code",
      "source": [
        "arr = np.array([0, 1, 2, 3, 4, 5, 6, 7])"
      ],
      "metadata": {
        "id": "So7CtbsaSv37"
      },
      "execution_count": 371,
      "outputs": []
    },
    {
      "cell_type": "code",
      "source": [
        "arr.cumsum()"
      ],
      "metadata": {
        "colab": {
          "base_uri": "https://localhost:8080/"
        },
        "id": "cHmdJhHxTV4R",
        "outputId": "a1a44dcc-4f01-4341-9ac8-d6d8de44e966"
      },
      "execution_count": 372,
      "outputs": [
        {
          "output_type": "execute_result",
          "data": {
            "text/plain": [
              "array([ 0,  1,  3,  6, 10, 15, 21, 28])"
            ]
          },
          "metadata": {},
          "execution_count": 372
        }
      ]
    },
    {
      "cell_type": "code",
      "source": [
        "arr = np.array([[0, 1, 2], [3, 4, 5], [6, 7, 8]])\n",
        "arr"
      ],
      "metadata": {
        "colab": {
          "base_uri": "https://localhost:8080/"
        },
        "id": "A4YlR4xUTXgB",
        "outputId": "8149d4cb-e5f5-4680-90b3-9b2a76780d52"
      },
      "execution_count": 374,
      "outputs": [
        {
          "output_type": "execute_result",
          "data": {
            "text/plain": [
              "array([[0, 1, 2],\n",
              "       [3, 4, 5],\n",
              "       [6, 7, 8]])"
            ]
          },
          "metadata": {},
          "execution_count": 374
        }
      ]
    },
    {
      "cell_type": "code",
      "source": [
        "arr.cumsum(axis=0)"
      ],
      "metadata": {
        "colab": {
          "base_uri": "https://localhost:8080/"
        },
        "id": "BVooBDpBTe9Z",
        "outputId": "d5547849-0d78-4705-d25f-f9effbc57978"
      },
      "execution_count": 375,
      "outputs": [
        {
          "output_type": "execute_result",
          "data": {
            "text/plain": [
              "array([[ 0,  1,  2],\n",
              "       [ 3,  5,  7],\n",
              "       [ 9, 12, 15]])"
            ]
          },
          "metadata": {},
          "execution_count": 375
        }
      ]
    },
    {
      "cell_type": "code",
      "source": [
        "arr.cumsum(axis=1)"
      ],
      "metadata": {
        "colab": {
          "base_uri": "https://localhost:8080/"
        },
        "id": "QirSGIkNThBF",
        "outputId": "14356abc-6d73-452c-ebdc-79492385069e"
      },
      "execution_count": 376,
      "outputs": [
        {
          "output_type": "execute_result",
          "data": {
            "text/plain": [
              "array([[ 0,  1,  3],\n",
              "       [ 3,  7, 12],\n",
              "       [ 6, 13, 21]])"
            ]
          },
          "metadata": {},
          "execution_count": 376
        }
      ]
    },
    {
      "cell_type": "markdown",
      "source": [
        "### Methods for Boolean Arrays"
      ],
      "metadata": {
        "id": "WdwUwZwYTjHi"
      }
    },
    {
      "cell_type": "code",
      "source": [
        "arr = rng.standard_normal(100)\n",
        "(arr > 0).sum() # Number of positive values"
      ],
      "metadata": {
        "colab": {
          "base_uri": "https://localhost:8080/"
        },
        "id": "d8-8zPhdTg5J",
        "outputId": "e02d8093-dbed-4acc-cfec-991df87a3f0e"
      },
      "execution_count": 377,
      "outputs": [
        {
          "output_type": "execute_result",
          "data": {
            "text/plain": [
              "np.int64(53)"
            ]
          },
          "metadata": {},
          "execution_count": 377
        }
      ]
    },
    {
      "cell_type": "code",
      "source": [
        "(arr <= 0).sum() # Number of non-positive values"
      ],
      "metadata": {
        "colab": {
          "base_uri": "https://localhost:8080/"
        },
        "id": "-XRt1CyeTqBy",
        "outputId": "a4faff6c-c4d7-4393-d68e-adc7bf78d123"
      },
      "execution_count": 378,
      "outputs": [
        {
          "output_type": "execute_result",
          "data": {
            "text/plain": [
              "np.int64(47)"
            ]
          },
          "metadata": {},
          "execution_count": 378
        }
      ]
    },
    {
      "cell_type": "code",
      "source": [
        "bools = np.array([False, False, True, False])\n",
        "bools.any()"
      ],
      "metadata": {
        "colab": {
          "base_uri": "https://localhost:8080/"
        },
        "id": "t23BwxDYTtuB",
        "outputId": "225a60e8-68cb-4703-a932-b8c54bd55eb1"
      },
      "execution_count": 379,
      "outputs": [
        {
          "output_type": "execute_result",
          "data": {
            "text/plain": [
              "np.True_"
            ]
          },
          "metadata": {},
          "execution_count": 379
        }
      ]
    },
    {
      "cell_type": "code",
      "source": [
        "bools.all()"
      ],
      "metadata": {
        "colab": {
          "base_uri": "https://localhost:8080/"
        },
        "id": "RHmJRCxnTu-R",
        "outputId": "cd1a33c0-e638-412e-fa61-3729165e7ab9"
      },
      "execution_count": 380,
      "outputs": [
        {
          "output_type": "execute_result",
          "data": {
            "text/plain": [
              "np.False_"
            ]
          },
          "metadata": {},
          "execution_count": 380
        }
      ]
    },
    {
      "cell_type": "markdown",
      "source": [
        "### Sorting"
      ],
      "metadata": {
        "id": "lpWI5lV6Tx_0"
      }
    },
    {
      "cell_type": "code",
      "source": [
        "arr = rng.standard_normal(6)\n",
        "arr"
      ],
      "metadata": {
        "colab": {
          "base_uri": "https://localhost:8080/"
        },
        "id": "R1MSvlohTxFT",
        "outputId": "eb36f14f-df8f-471f-fac0-895f731d2d47"
      },
      "execution_count": 381,
      "outputs": [
        {
          "output_type": "execute_result",
          "data": {
            "text/plain": [
              "array([-2.2706,  0.2632,  2.4713, -1.0199,  0.0188, -1.8943])"
            ]
          },
          "metadata": {},
          "execution_count": 381
        }
      ]
    },
    {
      "cell_type": "code",
      "source": [
        "arr.sort()\n",
        "arr"
      ],
      "metadata": {
        "colab": {
          "base_uri": "https://localhost:8080/"
        },
        "id": "2aTppEPqT1yn",
        "outputId": "34dc64e1-6805-47cd-ee0f-39055faa355f"
      },
      "execution_count": 382,
      "outputs": [
        {
          "output_type": "execute_result",
          "data": {
            "text/plain": [
              "array([-2.2706, -1.8943, -1.0199,  0.0188,  0.2632,  2.4713])"
            ]
          },
          "metadata": {},
          "execution_count": 382
        }
      ]
    },
    {
      "cell_type": "code",
      "source": [
        "arr = rng.standard_normal((5, 3))\n",
        "arr"
      ],
      "metadata": {
        "colab": {
          "base_uri": "https://localhost:8080/"
        },
        "id": "9UYYLZCaT3zK",
        "outputId": "f1708862-27d5-4955-ac4e-e522451a5148"
      },
      "execution_count": 383,
      "outputs": [
        {
          "output_type": "execute_result",
          "data": {
            "text/plain": [
              "array([[-0.755 ,  0.7562, -1.0425],\n",
              "       [-0.0343, -0.3552, -0.3784],\n",
              "       [ 0.1906,  0.4844,  1.2303],\n",
              "       [ 0.833 , -0.5649,  1.4147],\n",
              "       [ 1.2483, -1.5589,  0.6652]])"
            ]
          },
          "metadata": {},
          "execution_count": 383
        }
      ]
    },
    {
      "cell_type": "code",
      "source": [
        "arr.sort(axis=0)\n",
        "arr"
      ],
      "metadata": {
        "id": "ucvIp6_ST6_A",
        "outputId": "86931546-d2b1-4a3c-ab11-b549bb5b536a",
        "colab": {
          "base_uri": "https://localhost:8080/"
        }
      },
      "execution_count": 384,
      "outputs": [
        {
          "output_type": "execute_result",
          "data": {
            "text/plain": [
              "array([[-0.755 , -1.5589, -1.0425],\n",
              "       [-0.0343, -0.5649, -0.3784],\n",
              "       [ 0.1906, -0.3552,  0.6652],\n",
              "       [ 0.833 ,  0.4844,  1.2303],\n",
              "       [ 1.2483,  0.7562,  1.4147]])"
            ]
          },
          "metadata": {},
          "execution_count": 384
        }
      ]
    },
    {
      "cell_type": "code",
      "source": [
        "arr.sort(axis=1)\n",
        "arr"
      ],
      "metadata": {
        "id": "FzYDMJ-AT8WY",
        "outputId": "00648109-f9fd-4bb3-f62c-19c85614ca2f",
        "colab": {
          "base_uri": "https://localhost:8080/"
        }
      },
      "execution_count": 385,
      "outputs": [
        {
          "output_type": "execute_result",
          "data": {
            "text/plain": [
              "array([[-1.5589, -1.0425, -0.755 ],\n",
              "       [-0.5649, -0.3784, -0.0343],\n",
              "       [-0.3552,  0.1906,  0.6652],\n",
              "       [ 0.4844,  0.833 ,  1.2303],\n",
              "       [ 0.7562,  1.2483,  1.4147]])"
            ]
          },
          "metadata": {},
          "execution_count": 385
        }
      ]
    },
    {
      "cell_type": "markdown",
      "source": [
        "# Kết thúc"
      ],
      "metadata": {
        "id": "Ml1u44T5snRy"
      }
    }
  ]
}