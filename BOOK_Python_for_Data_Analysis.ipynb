{
  "nbformat": 4,
  "nbformat_minor": 0,
  "metadata": {
    "colab": {
      "provenance": [],
      "mount_file_id": "1Qo56fOvBU0kH1l4An-YCkzyfAA1PfzmV",
      "authorship_tag": "ABX9TyPfqaOCUsPcJR3AGxw5VW9J",
      "include_colab_link": true
    },
    "kernelspec": {
      "name": "python3",
      "display_name": "Python 3"
    },
    "language_info": {
      "name": "python"
    }
  },
  "cells": [
    {
      "cell_type": "markdown",
      "metadata": {
        "id": "view-in-github",
        "colab_type": "text"
      },
      "source": [
        "<a href=\"https://colab.research.google.com/github/ThienBao224/Data_Analytics/blob/main/BOOK_Python_for_Data_Analysis.ipynb\" target=\"_parent\"><img src=\"https://colab.research.google.com/assets/colab-badge.svg\" alt=\"Open In Colab\"/></a>"
      ]
    },
    {
      "cell_type": "markdown",
      "source": [
        "# [BOOK] Python for Data Analysis"
      ],
      "metadata": {
        "id": "qbhCQ_XUJVFs"
      }
    },
    {
      "cell_type": "markdown",
      "source": [
        "# CHAPTER 1: Preliminaries"
      ],
      "metadata": {
        "id": "1mTFAzguJtL6"
      }
    },
    {
      "cell_type": "markdown",
      "source": [
        "## 1.6 Navigating This Book"
      ],
      "metadata": {
        "id": "7EJ-VwOmXQoP"
      }
    },
    {
      "cell_type": "markdown",
      "source": [
        "### Code Examples"
      ],
      "metadata": {
        "id": "iTVw9OI5KNRP"
      }
    },
    {
      "cell_type": "code",
      "source": [
        " import numpy as np\n",
        " import pandas as pd\n",
        " pd.options.display.max_columns = 20\n",
        " pd.options.display.max_rows = 20\n",
        " pd.options.display.max_colwidth = 80\n",
        " np.set_printoptions(precision=4, suppress=True)"
      ],
      "metadata": {
        "id": "G6x8sHDPKNsc"
      },
      "execution_count": null,
      "outputs": []
    },
    {
      "cell_type": "markdown",
      "source": [
        "### Data for Examples"
      ],
      "metadata": {
        "id": "C4U3XwytKCRW"
      }
    },
    {
      "cell_type": "code",
      "source": [
        "!ls"
      ],
      "metadata": {
        "colab": {
          "base_uri": "https://localhost:8080/"
        },
        "id": "-z2UgHcGJ47g",
        "outputId": "3276a6ea-9a45-4b6d-ec31-87c29e2b8991"
      },
      "execution_count": null,
      "outputs": [
        {
          "output_type": "stream",
          "name": "stdout",
          "text": [
            "drive  sample_data\n"
          ]
        }
      ]
    },
    {
      "cell_type": "code",
      "source": [
        "!pwd"
      ],
      "metadata": {
        "colab": {
          "base_uri": "https://localhost:8080/"
        },
        "id": "5p7vWFOnJ9Qi",
        "outputId": "be5a9106-d0db-4dc0-d5d7-c5a807e8470c"
      },
      "execution_count": null,
      "outputs": [
        {
          "output_type": "stream",
          "name": "stdout",
          "text": [
            "/content\n"
          ]
        }
      ]
    },
    {
      "cell_type": "markdown",
      "source": [
        "### Import Conventions"
      ],
      "metadata": {
        "id": "IiEIY-9OJnmP"
      }
    },
    {
      "cell_type": "code",
      "execution_count": null,
      "metadata": {
        "id": "rSY9J4M-IWC8"
      },
      "outputs": [],
      "source": [
        "import numpy as np\n",
        "import matplotlib.pyplot as plt\n",
        "import pandas as pd\n",
        "import seaborn as sns\n",
        "import statsmodels as sm"
      ]
    },
    {
      "cell_type": "markdown",
      "source": [
        "# CHAPTER 2: Python Language Basics, IPython, and Jupyter Notebooks"
      ],
      "metadata": {
        "id": "oXieipoyKftV"
      }
    },
    {
      "cell_type": "markdown",
      "source": [
        "## 2.1 The Python Interpreter"
      ],
      "metadata": {
        "id": "ao8oQiT0KzFL"
      }
    },
    {
      "cell_type": "code",
      "source": [
        "a = 5\n",
        "print(a)"
      ],
      "metadata": {
        "colab": {
          "base_uri": "https://localhost:8080/"
        },
        "id": "2xzDuQHNK67V",
        "outputId": "41aab86e-4874-4b31-8d8f-0cee92bde5c8"
      },
      "execution_count": null,
      "outputs": [
        {
          "output_type": "stream",
          "name": "stdout",
          "text": [
            "5\n"
          ]
        }
      ]
    },
    {
      "cell_type": "markdown",
      "source": [
        "Tạo file và chạy file vừa tạo"
      ],
      "metadata": {
        "id": "X34FH_m_L98v"
      }
    },
    {
      "cell_type": "code",
      "source": [
        "f = open(\" hello_world.py\", \"w\")\n",
        "f.write(\"Hello World\")\n",
        "f.close()\n",
        "\n",
        "f = open(\" hello_world.py\", \"r\")\n",
        "text = f.read()\n",
        "print(text)\n",
        "f.close()"
      ],
      "metadata": {
        "colab": {
          "base_uri": "https://localhost:8080/"
        },
        "id": "HNkF5CCKLBkj",
        "outputId": "01d9edaa-ec7f-44a7-e052-80795047fa84"
      },
      "execution_count": null,
      "outputs": [
        {
          "output_type": "stream",
          "name": "stdout",
          "text": [
            "Hello World\n"
          ]
        }
      ]
    },
    {
      "cell_type": "markdown",
      "source": [
        "## 2.2 IPython Basics"
      ],
      "metadata": {
        "id": "hfrwwV3MMXiJ"
      }
    },
    {
      "cell_type": "markdown",
      "source": [
        "### Running the IPython Shell"
      ],
      "metadata": {
        "id": "ZDX9PoblMZBB"
      }
    },
    {
      "cell_type": "code",
      "source": [
        "a=5\n",
        "print(a)"
      ],
      "metadata": {
        "colab": {
          "base_uri": "https://localhost:8080/"
        },
        "id": "lYPK6EgHMeC_",
        "outputId": "ab5b5970-473a-49ba-f2ec-436e795a9464"
      },
      "execution_count": null,
      "outputs": [
        {
          "output_type": "stream",
          "name": "stdout",
          "text": [
            "5\n"
          ]
        }
      ]
    },
    {
      "cell_type": "markdown",
      "source": [
        "Tạo mảng 1 chiều"
      ],
      "metadata": {
        "id": "hPWn5DfmNA-l"
      }
    },
    {
      "cell_type": "code",
      "source": [
        "import numpy as np\n",
        "from IPython.display import display\n",
        "\n",
        "data = [np.random.standard_normal() for i in range(7)]\n",
        "display(data)"
      ],
      "metadata": {
        "colab": {
          "base_uri": "https://localhost:8080/",
          "height": 145
        },
        "id": "Aocqkg-HMjeQ",
        "outputId": "9a593cf4-0593-4dea-883c-d0845d8dd8c0"
      },
      "execution_count": null,
      "outputs": [
        {
          "output_type": "display_data",
          "data": {
            "text/plain": [
              "[0.27152807803718393,\n",
              " 0.1767750474041871,\n",
              " -0.7850020710703584,\n",
              " 0.016368041260411144,\n",
              " 1.2738716817171427,\n",
              " 0.39861865006743286,\n",
              " 0.8177397788868653]"
            ]
          },
          "metadata": {}
        }
      ]
    },
    {
      "cell_type": "code",
      "source": [
        "import numpy as np\n",
        "data = [np.random.standard_normal() for i in range(7)]\n",
        "print(data)"
      ],
      "metadata": {
        "colab": {
          "base_uri": "https://localhost:8080/"
        },
        "id": "PaxdwTa2NFC6",
        "outputId": "faf81a78-16b0-481e-ea87-710e6927abb7"
      },
      "execution_count": null,
      "outputs": [
        {
          "output_type": "stream",
          "name": "stdout",
          "text": [
            "[-0.18627188177061774, -0.7493961247075919, -1.256290435780577, 1.5596580768180108, -0.502726093760218, 0.9254848681922595, -0.04070458645291868]\n"
          ]
        }
      ]
    },
    {
      "cell_type": "markdown",
      "source": [
        "### Introspection"
      ],
      "metadata": {
        "id": "kF4N4DRINfh8"
      }
    },
    {
      "cell_type": "code",
      "source": [
        "b = [1, 2, 3]\n",
        "b?\n",
        "print?"
      ],
      "metadata": {
        "id": "uLcG6bYyN5C5"
      },
      "execution_count": null,
      "outputs": []
    },
    {
      "cell_type": "code",
      "source": [
        "def add_numbers(a, b):\n",
        " \"\"\"\n",
        "    Add two numbers together\n",
        "    Returns\n",
        "    ------\n",
        "    the_sum : type of arguments\n",
        "    \"\"\"\n",
        " return a + b"
      ],
      "metadata": {
        "id": "YDyBy-qfOGeU"
      },
      "execution_count": null,
      "outputs": []
    },
    {
      "cell_type": "code",
      "source": [
        "add_numbers?"
      ],
      "metadata": {
        "id": "x-i9my0bOJKO"
      },
      "execution_count": null,
      "outputs": []
    },
    {
      "cell_type": "markdown",
      "source": [
        "## 2.3 Python Language Basics"
      ],
      "metadata": {
        "id": "E1kCjFgYOXNC"
      }
    },
    {
      "cell_type": "markdown",
      "source": [
        "### Language Semantics"
      ],
      "metadata": {
        "id": "K2trIGRNOYL_"
      }
    },
    {
      "cell_type": "markdown",
      "source": [
        "**Indentation, not braces**"
      ],
      "metadata": {
        "id": "Hk1XiHarObuq"
      }
    },
    {
      "cell_type": "code",
      "source": [
        "array = [5, 2, 9, 1, 7]\n",
        "pivot = 5\n",
        "less = []\n",
        "greater = []\n",
        "\n",
        "for x in array:\n",
        "    if x < pivot:\n",
        "        less.append(x)\n",
        "    else:\n",
        "        greater.append(x)\n",
        "\n",
        "print(\"less:\", less)\n",
        "print(\"greater:\", greater)"
      ],
      "metadata": {
        "colab": {
          "base_uri": "https://localhost:8080/"
        },
        "id": "hU4hTBbYOdjq",
        "outputId": "45f83181-2cb6-4595-9916-0a3c3f0c991a"
      },
      "execution_count": null,
      "outputs": [
        {
          "output_type": "stream",
          "name": "stdout",
          "text": [
            "less: [2, 1]\n",
            "greater: [5, 9, 7]\n"
          ]
        }
      ]
    },
    {
      "cell_type": "markdown",
      "source": [
        "**Comments**"
      ],
      "metadata": {
        "id": "kBGldCYcPCSa"
      }
    },
    {
      "cell_type": "code",
      "source": [
        "results = []\n",
        "  for line in file_handle:\n",
        "  # keep the empty lines for now\n",
        "  # if len(line) == 0:\n",
        "  #   continue\n",
        "  results.append(line.replace(\"foo\", \"bar\"))"
      ],
      "metadata": {
        "id": "k6-7zE8oP21D"
      },
      "execution_count": null,
      "outputs": []
    },
    {
      "cell_type": "code",
      "source": [
        "print(\"Reached this line\")  # Simple status report"
      ],
      "metadata": {
        "colab": {
          "base_uri": "https://localhost:8080/"
        },
        "id": "nOtNEhFJP7HX",
        "outputId": "770d1a72-4c09-492b-9cef-53e3438ad454"
      },
      "execution_count": null,
      "outputs": [
        {
          "output_type": "stream",
          "name": "stdout",
          "text": [
            "Reached this line\n"
          ]
        }
      ]
    },
    {
      "cell_type": "markdown",
      "source": [
        "**Variables and argument passing**"
      ],
      "metadata": {
        "id": "i30MOZ92P-aW"
      }
    },
    {
      "cell_type": "code",
      "source": [
        "a = [1, 2, 3]\n",
        "b = a\n",
        "display(b)"
      ],
      "metadata": {
        "colab": {
          "base_uri": "https://localhost:8080/",
          "height": 35
        },
        "id": "otjYp4FvQTVe",
        "outputId": "84bede68-5153-4e3d-c371-92c83f9debf3"
      },
      "execution_count": null,
      "outputs": [
        {
          "output_type": "display_data",
          "data": {
            "text/plain": [
              "[1, 2, 3]"
            ]
          },
          "metadata": {}
        }
      ]
    },
    {
      "cell_type": "code",
      "source": [
        "a.append(4)\n",
        "b"
      ],
      "metadata": {
        "colab": {
          "base_uri": "https://localhost:8080/"
        },
        "id": "mHllN1T_QafS",
        "outputId": "3a00962b-d4a9-4f5d-ce19-ec5ef05ee5ba"
      },
      "execution_count": null,
      "outputs": [
        {
          "output_type": "execute_result",
          "data": {
            "text/plain": [
              "[1, 2, 3, 4]"
            ]
          },
          "metadata": {},
          "execution_count": 46
        }
      ]
    },
    {
      "cell_type": "code",
      "source": [
        "def append_element(some_list, element):\n",
        "    some_list.append(element)\n",
        "data = [1, 2, 3]\n",
        "append_element(data, 4)\n",
        "data"
      ],
      "metadata": {
        "colab": {
          "base_uri": "https://localhost:8080/"
        },
        "id": "tf8YfgqvQiO2",
        "outputId": "b07b6416-9df7-4fcb-f9ea-c3cc7241f91c"
      },
      "execution_count": null,
      "outputs": [
        {
          "output_type": "execute_result",
          "data": {
            "text/plain": [
              "[1, 2, 3, 4]"
            ]
          },
          "metadata": {},
          "execution_count": 48
        }
      ]
    },
    {
      "cell_type": "markdown",
      "source": [
        "**Dynamic references, strong typest**"
      ],
      "metadata": {
        "id": "aepfBG42Q7ar"
      }
    },
    {
      "cell_type": "code",
      "source": [
        "a = 5\n",
        "print(a)\n",
        "type(a)"
      ],
      "metadata": {
        "colab": {
          "base_uri": "https://localhost:8080/"
        },
        "id": "NfiJq50vRLSS",
        "outputId": "e1dc2308-45b1-4c72-abaf-a7e10cb9945e"
      },
      "execution_count": null,
      "outputs": [
        {
          "output_type": "stream",
          "name": "stdout",
          "text": [
            "5\n"
          ]
        },
        {
          "output_type": "execute_result",
          "data": {
            "text/plain": [
              "int"
            ]
          },
          "metadata": {},
          "execution_count": 51
        }
      ]
    },
    {
      "cell_type": "code",
      "source": [
        "a = \"foo\"\n",
        "print(a)\n",
        "type(a)"
      ],
      "metadata": {
        "colab": {
          "base_uri": "https://localhost:8080/"
        },
        "id": "Ddo9rSvYRD8d",
        "outputId": "4668a22d-54fe-477c-dea6-00c39ff2a6de"
      },
      "execution_count": null,
      "outputs": [
        {
          "output_type": "stream",
          "name": "stdout",
          "text": [
            "foo\n"
          ]
        },
        {
          "output_type": "execute_result",
          "data": {
            "text/plain": [
              "str"
            ]
          },
          "metadata": {},
          "execution_count": 52
        }
      ]
    },
    {
      "cell_type": "code",
      "source": [
        "\"5\" + 5"
      ],
      "metadata": {
        "colab": {
          "base_uri": "https://localhost:8080/",
          "height": 146
        },
        "id": "NKdbTYfpRRoM",
        "outputId": "9a3d5fee-3257-4f7a-d9d9-2eedad1048d3"
      },
      "execution_count": null,
      "outputs": [
        {
          "output_type": "error",
          "ename": "TypeError",
          "evalue": "can only concatenate str (not \"int\") to str",
          "traceback": [
            "\u001b[0;31m---------------------------------------------------------------------------\u001b[0m",
            "\u001b[0;31mTypeError\u001b[0m                                 Traceback (most recent call last)",
            "\u001b[0;32m/tmp/ipython-input-4107985378.py\u001b[0m in \u001b[0;36m<cell line: 0>\u001b[0;34m()\u001b[0m\n\u001b[0;32m----> 1\u001b[0;31m \u001b[0;34m\"5\"\u001b[0m \u001b[0;34m+\u001b[0m \u001b[0;36m5\u001b[0m\u001b[0;34m\u001b[0m\u001b[0;34m\u001b[0m\u001b[0m\n\u001b[0m",
            "\u001b[0;31mTypeError\u001b[0m: can only concatenate str (not \"int\") to str"
          ]
        }
      ]
    },
    {
      "cell_type": "code",
      "source": [
        "a = 4.5\n",
        "b = 2\n",
        "# String formatting, to be visited later\n",
        "print(f\"a is {type(a)}, b is {type(b)}\")\n",
        "a / b"
      ],
      "metadata": {
        "colab": {
          "base_uri": "https://localhost:8080/"
        },
        "id": "aE_-SXQtRXxC",
        "outputId": "57f87a1a-df9a-4619-bef1-a0b34d0888c5"
      },
      "execution_count": null,
      "outputs": [
        {
          "output_type": "stream",
          "name": "stdout",
          "text": [
            "a is <class 'float'>, b is <class 'int'>\n"
          ]
        },
        {
          "output_type": "execute_result",
          "data": {
            "text/plain": [
              "2.25"
            ]
          },
          "metadata": {},
          "execution_count": 54
        }
      ]
    },
    {
      "cell_type": "code",
      "source": [
        "a = 5\n",
        "isinstance(a, int)"
      ],
      "metadata": {
        "colab": {
          "base_uri": "https://localhost:8080/"
        },
        "id": "TK9Vc8aURb00",
        "outputId": "735925e3-4169-493a-8559-411f51f22c24"
      },
      "execution_count": null,
      "outputs": [
        {
          "output_type": "execute_result",
          "data": {
            "text/plain": [
              "True"
            ]
          },
          "metadata": {},
          "execution_count": 55
        }
      ]
    },
    {
      "cell_type": "code",
      "source": [
        "a = 5; b = 4.5\n",
        "isinstance(a, (int, float))\n",
        "isinstance(b, (int, float))"
      ],
      "metadata": {
        "colab": {
          "base_uri": "https://localhost:8080/"
        },
        "id": "I2j55l03Rdvg",
        "outputId": "71c7d8cb-fc0c-4909-f38d-a71fea9d588c"
      },
      "execution_count": null,
      "outputs": [
        {
          "output_type": "execute_result",
          "data": {
            "text/plain": [
              "True"
            ]
          },
          "metadata": {},
          "execution_count": 56
        }
      ]
    },
    {
      "cell_type": "markdown",
      "source": [
        "**Attributes and methods**"
      ],
      "metadata": {
        "id": "gHmnafwTQS2T"
      }
    },
    {
      "cell_type": "code",
      "source": [
        "a = \"foo\"\n",
        "getattr(a, \"split\")"
      ],
      "metadata": {
        "colab": {
          "base_uri": "https://localhost:8080/"
        },
        "id": "fd_zqTu5RlAy",
        "outputId": "7938f7b8-5764-4fe5-da85-572ec1b6ca39"
      },
      "execution_count": null,
      "outputs": [
        {
          "output_type": "execute_result",
          "data": {
            "text/plain": [
              "<function str.split(sep=None, maxsplit=-1)>"
            ]
          },
          "metadata": {},
          "execution_count": 58
        }
      ]
    },
    {
      "cell_type": "markdown",
      "source": [
        "**Duck typing**"
      ],
      "metadata": {
        "id": "exV95gqfRtjw"
      }
    },
    {
      "cell_type": "code",
      "source": [
        "def isiterable(obj):\n",
        "    try:\n",
        "        iter(obj)\n",
        "        return True\n",
        "    except TypeError: # not iterable\n",
        "        return False"
      ],
      "metadata": {
        "id": "2AHcWQrrRtzq"
      },
      "execution_count": null,
      "outputs": []
    },
    {
      "cell_type": "code",
      "source": [
        "isiterable(\"a string\")"
      ],
      "metadata": {
        "colab": {
          "base_uri": "https://localhost:8080/"
        },
        "id": "UWsdLkRkR0cW",
        "outputId": "96b860b1-6646-4ace-8742-88641c580196"
      },
      "execution_count": null,
      "outputs": [
        {
          "output_type": "execute_result",
          "data": {
            "text/plain": [
              "True"
            ]
          },
          "metadata": {},
          "execution_count": 63
        }
      ]
    },
    {
      "cell_type": "code",
      "source": [
        "isiterable([1, 2, 3])"
      ],
      "metadata": {
        "colab": {
          "base_uri": "https://localhost:8080/"
        },
        "id": "s_p7iOvOR3ru",
        "outputId": "f6553f37-3bdd-404c-ebe7-b10dc82c0254"
      },
      "execution_count": null,
      "outputs": [
        {
          "output_type": "execute_result",
          "data": {
            "text/plain": [
              "True"
            ]
          },
          "metadata": {},
          "execution_count": 62
        }
      ]
    },
    {
      "cell_type": "code",
      "source": [
        "isiterable(5)"
      ],
      "metadata": {
        "colab": {
          "base_uri": "https://localhost:8080/"
        },
        "id": "Ss5uG77pR4Kx",
        "outputId": "04052fde-8ffe-4a92-df29-6a764bc7ffaf"
      },
      "execution_count": null,
      "outputs": [
        {
          "output_type": "execute_result",
          "data": {
            "text/plain": [
              "False"
            ]
          },
          "metadata": {},
          "execution_count": 61
        }
      ]
    },
    {
      "cell_type": "markdown",
      "source": [
        "**Imports**"
      ],
      "metadata": {
        "id": "-iNvdFIsR9V3"
      }
    },
    {
      "cell_type": "code",
      "source": [
        "with open(\"some_module.py\", \"w\") as f:\n",
        "    f.write(\"\"\"\n",
        "PI = 3.14159\n",
        "\n",
        "def f(x):\n",
        "    return x + 2\n",
        "\n",
        "def g(a, b):\n",
        "    return a + b\n",
        "\"\"\")\n"
      ],
      "metadata": {
        "id": "f-alqmHpWCCR"
      },
      "execution_count": null,
      "outputs": []
    },
    {
      "cell_type": "code",
      "source": [
        " import some_module\n",
        " result = some_module.f(5)\n",
        " pi = some_module.PI\n",
        "\n",
        " print(result)\n",
        " print(pi)"
      ],
      "metadata": {
        "colab": {
          "base_uri": "https://localhost:8080/"
        },
        "id": "85Z4gKQ7WGfj",
        "outputId": "3e25314b-e1a3-4906-d1bb-452832eb3e58"
      },
      "execution_count": null,
      "outputs": [
        {
          "output_type": "stream",
          "name": "stdout",
          "text": [
            "7\n",
            "3.14159\n"
          ]
        }
      ]
    },
    {
      "cell_type": "code",
      "source": [
        "from some_module import g, PI\n",
        "result = g(5, PI)\n",
        "\n",
        "print(result)"
      ],
      "metadata": {
        "colab": {
          "base_uri": "https://localhost:8080/"
        },
        "id": "kPPL6MFcWI29",
        "outputId": "1fab2ad2-df40-4cc1-e471-8b695963b6ba"
      },
      "execution_count": null,
      "outputs": [
        {
          "output_type": "stream",
          "name": "stdout",
          "text": [
            "8.14159\n"
          ]
        }
      ]
    },
    {
      "cell_type": "code",
      "source": [
        " import some_module as sm\n",
        " from some_module import PI as pi, g as gf\n",
        " r1 = sm.f(pi)\n",
        " r2 = gf(6, pi)\n",
        "\n",
        " print(r1)\n",
        " print(r2)"
      ],
      "metadata": {
        "colab": {
          "base_uri": "https://localhost:8080/"
        },
        "id": "Crt7kEcAWWMk",
        "outputId": "c86ad9bb-fd79-4257-db8d-618bd9842527"
      },
      "execution_count": null,
      "outputs": [
        {
          "output_type": "stream",
          "name": "stdout",
          "text": [
            "5.14159\n",
            "9.14159\n"
          ]
        }
      ]
    },
    {
      "cell_type": "markdown",
      "source": [
        "**Binary operators and comparisons**"
      ],
      "metadata": {
        "id": "91NBlms4WZ3J"
      }
    },
    {
      "cell_type": "code",
      "source": [
        "5 - 7"
      ],
      "metadata": {
        "colab": {
          "base_uri": "https://localhost:8080/"
        },
        "id": "POayMtPbWc8A",
        "outputId": "7e1793c8-5bc0-4913-b54c-01181099b43b"
      },
      "execution_count": null,
      "outputs": [
        {
          "output_type": "execute_result",
          "data": {
            "text/plain": [
              "-2"
            ]
          },
          "metadata": {},
          "execution_count": 102
        }
      ]
    },
    {
      "cell_type": "code",
      "source": [
        "12 + 21.5"
      ],
      "metadata": {
        "colab": {
          "base_uri": "https://localhost:8080/"
        },
        "id": "tmd9SoTrWe7A",
        "outputId": "08a650ec-ee0b-4ca2-e432-484868f96f3f"
      },
      "execution_count": null,
      "outputs": [
        {
          "output_type": "execute_result",
          "data": {
            "text/plain": [
              "33.5"
            ]
          },
          "metadata": {},
          "execution_count": 103
        }
      ]
    },
    {
      "cell_type": "code",
      "source": [
        "5 <= 2"
      ],
      "metadata": {
        "colab": {
          "base_uri": "https://localhost:8080/"
        },
        "id": "WYuCaQ8NWgsW",
        "outputId": "8566db03-c183-47d3-a0df-754034fbaedc"
      },
      "execution_count": null,
      "outputs": [
        {
          "output_type": "execute_result",
          "data": {
            "text/plain": [
              "False"
            ]
          },
          "metadata": {},
          "execution_count": 104
        }
      ]
    },
    {
      "cell_type": "code",
      "source": [
        "a = [1, 2, 3]\n",
        "b = a\n",
        "c = list(a)\n",
        "a is b"
      ],
      "metadata": {
        "colab": {
          "base_uri": "https://localhost:8080/"
        },
        "id": "1bfO_NSjWlLW",
        "outputId": "0c3a4172-fce4-46e2-c507-f23f007ed18d"
      },
      "execution_count": null,
      "outputs": [
        {
          "output_type": "execute_result",
          "data": {
            "text/plain": [
              "True"
            ]
          },
          "metadata": {},
          "execution_count": 106
        }
      ]
    },
    {
      "cell_type": "code",
      "source": [
        "a is not c"
      ],
      "metadata": {
        "colab": {
          "base_uri": "https://localhost:8080/"
        },
        "id": "Y-B9a7NMWqkS",
        "outputId": "cf4268c5-acdb-4d94-8ad5-842d6d454449"
      },
      "execution_count": null,
      "outputs": [
        {
          "output_type": "execute_result",
          "data": {
            "text/plain": [
              "True"
            ]
          },
          "metadata": {},
          "execution_count": 107
        }
      ]
    },
    {
      "cell_type": "code",
      "source": [
        "a == c"
      ],
      "metadata": {
        "colab": {
          "base_uri": "https://localhost:8080/"
        },
        "id": "aWTO_8R1WsPY",
        "outputId": "dc3426e6-02cc-44f6-c0c4-1ce5c845a08c"
      },
      "execution_count": null,
      "outputs": [
        {
          "output_type": "execute_result",
          "data": {
            "text/plain": [
              "True"
            ]
          },
          "metadata": {},
          "execution_count": 108
        }
      ]
    },
    {
      "cell_type": "code",
      "source": [
        "a = None\n",
        "a is None"
      ],
      "metadata": {
        "colab": {
          "base_uri": "https://localhost:8080/"
        },
        "id": "bJbbq2W5WwUX",
        "outputId": "1d83a15c-2b6f-43e3-a8e8-8b402548efd4"
      },
      "execution_count": null,
      "outputs": [
        {
          "output_type": "execute_result",
          "data": {
            "text/plain": [
              "True"
            ]
          },
          "metadata": {},
          "execution_count": 110
        }
      ]
    },
    {
      "cell_type": "markdown",
      "source": [
        "**Mutable and immutable objects**"
      ],
      "metadata": {
        "id": "y448Ai3EWy1e"
      }
    },
    {
      "cell_type": "code",
      "source": [
        "a_list = [\"foo\", 2, [4, 5]]\n",
        "a_list[2] = (3, 4)\n",
        "a_list"
      ],
      "metadata": {
        "colab": {
          "base_uri": "https://localhost:8080/"
        },
        "id": "DT2Bzxk3W1D0",
        "outputId": "163a7c9b-10d0-4189-a667-f05890596ca7"
      },
      "execution_count": null,
      "outputs": [
        {
          "output_type": "execute_result",
          "data": {
            "text/plain": [
              "['foo', 2, (3, 4)]"
            ]
          },
          "metadata": {},
          "execution_count": 111
        }
      ]
    },
    {
      "cell_type": "markdown",
      "source": [
        "Chạy thất bại"
      ],
      "metadata": {
        "id": "AAGT9aeqW5ys"
      }
    },
    {
      "cell_type": "code",
      "source": [
        "a_tuple = (3, 5, (4, 5))\n",
        "a_tuple[1] = \"four\""
      ],
      "metadata": {
        "colab": {
          "base_uri": "https://localhost:8080/",
          "height": 165
        },
        "id": "4R_OdqfUW4dj",
        "outputId": "613c8646-7eb2-4973-e4b9-aebf7167f7e3"
      },
      "execution_count": null,
      "outputs": [
        {
          "output_type": "error",
          "ename": "TypeError",
          "evalue": "'tuple' object does not support item assignment",
          "traceback": [
            "\u001b[0;31m---------------------------------------------------------------------------\u001b[0m",
            "\u001b[0;31mTypeError\u001b[0m                                 Traceback (most recent call last)",
            "\u001b[0;32m/tmp/ipython-input-1554276931.py\u001b[0m in \u001b[0;36m<cell line: 0>\u001b[0;34m()\u001b[0m\n\u001b[1;32m      1\u001b[0m \u001b[0ma_tuple\u001b[0m \u001b[0;34m=\u001b[0m \u001b[0;34m(\u001b[0m\u001b[0;36m3\u001b[0m\u001b[0;34m,\u001b[0m \u001b[0;36m5\u001b[0m\u001b[0;34m,\u001b[0m \u001b[0;34m(\u001b[0m\u001b[0;36m4\u001b[0m\u001b[0;34m,\u001b[0m \u001b[0;36m5\u001b[0m\u001b[0;34m)\u001b[0m\u001b[0;34m)\u001b[0m\u001b[0;34m\u001b[0m\u001b[0;34m\u001b[0m\u001b[0m\n\u001b[0;32m----> 2\u001b[0;31m \u001b[0ma_tuple\u001b[0m\u001b[0;34m[\u001b[0m\u001b[0;36m1\u001b[0m\u001b[0;34m]\u001b[0m \u001b[0;34m=\u001b[0m \u001b[0;34m\"four\"\u001b[0m\u001b[0;34m\u001b[0m\u001b[0;34m\u001b[0m\u001b[0m\n\u001b[0m",
            "\u001b[0;31mTypeError\u001b[0m: 'tuple' object does not support item assignment"
          ]
        }
      ]
    },
    {
      "cell_type": "markdown",
      "source": [
        "### Scalar Types"
      ],
      "metadata": {
        "id": "9FklFpqeW-kF"
      }
    },
    {
      "cell_type": "markdown",
      "source": [
        "**Numeric types**"
      ],
      "metadata": {
        "id": "PeX_4dSzgOT6"
      }
    },
    {
      "cell_type": "code",
      "source": [
        "ival = 17239871\n",
        "ival ** 6"
      ],
      "metadata": {
        "colab": {
          "base_uri": "https://localhost:8080/"
        },
        "id": "27hXxRUGgQE_",
        "outputId": "01087677-6f2e-4d6d-a280-78ec7c1e1d31"
      },
      "execution_count": null,
      "outputs": [
        {
          "output_type": "execute_result",
          "data": {
            "text/plain": [
              "26254519291092456596965462913230729701102721"
            ]
          },
          "metadata": {},
          "execution_count": 113
        }
      ]
    },
    {
      "cell_type": "code",
      "source": [
        "fval = 7.243\n",
        "print(f'{fval}, data type = {type(fval)}')\n",
        "fval2 = 6.78e-5\n",
        "print(f'{fval2}, data type = {type(fval2)}')"
      ],
      "metadata": {
        "colab": {
          "base_uri": "https://localhost:8080/"
        },
        "id": "vNP511y0gV9H",
        "outputId": "314713a3-44a3-45bc-cfb4-7f91e065e63f"
      },
      "execution_count": null,
      "outputs": [
        {
          "output_type": "stream",
          "name": "stdout",
          "text": [
            "7.243, data type = <class 'float'>\n",
            "6.78e-05, data type = <class 'float'>\n"
          ]
        }
      ]
    },
    {
      "cell_type": "markdown",
      "source": [
        "Chia bình thường"
      ],
      "metadata": {
        "id": "WCzInV3fhS_9"
      }
    },
    {
      "cell_type": "code",
      "source": [
        "3 / 2"
      ],
      "metadata": {
        "colab": {
          "base_uri": "https://localhost:8080/"
        },
        "id": "RNzY_g1Qg5bC",
        "outputId": "fec90b68-4e78-4887-f568-cef0feffd721"
      },
      "execution_count": null,
      "outputs": [
        {
          "output_type": "execute_result",
          "data": {
            "text/plain": [
              "1.5"
            ]
          },
          "metadata": {},
          "execution_count": 117
        }
      ]
    },
    {
      "cell_type": "markdown",
      "source": [
        "Chia lấy phần nguyên"
      ],
      "metadata": {
        "id": "9fFYk0vXhQi8"
      }
    },
    {
      "cell_type": "code",
      "source": [
        "3 // 2"
      ],
      "metadata": {
        "colab": {
          "base_uri": "https://localhost:8080/"
        },
        "id": "GPYmPlNlg7TM",
        "outputId": "9357c98c-d2fd-4e7e-8f62-70e5486f113e"
      },
      "execution_count": null,
      "outputs": [
        {
          "output_type": "execute_result",
          "data": {
            "text/plain": [
              "1"
            ]
          },
          "metadata": {},
          "execution_count": 119
        }
      ]
    },
    {
      "cell_type": "markdown",
      "source": [
        "**Strings**"
      ],
      "metadata": {
        "id": "001o-aeyhZM8"
      }
    },
    {
      "cell_type": "code",
      "source": [
        "a = 'one way of writing a string'\n",
        "print(f'{a}, data type = {type(a)}')\n",
        "b = \"another way\"\n",
        "print(f'{b}, data type = {type(b)}')"
      ],
      "metadata": {
        "colab": {
          "base_uri": "https://localhost:8080/"
        },
        "id": "DVRmiW3GhgIb",
        "outputId": "d0fff5c8-7fd8-4110-cd22-fccf25652f81"
      },
      "execution_count": null,
      "outputs": [
        {
          "output_type": "stream",
          "name": "stdout",
          "text": [
            "one way of writing a string, data type = <class 'str'>\n",
            "another way, data type = <class 'str'>\n"
          ]
        }
      ]
    },
    {
      "cell_type": "markdown",
      "source": [
        "Viết 1 đoạn văn"
      ],
      "metadata": {
        "id": "17hsayafhsRi"
      }
    },
    {
      "cell_type": "code",
      "source": [
        "c = \"\"\"\n",
        "This is a longer string that\n",
        "spans multiple lines\n",
        "\"\"\"\n",
        "print(f'{c}, data type = {type(c)}')"
      ],
      "metadata": {
        "colab": {
          "base_uri": "https://localhost:8080/"
        },
        "id": "m96dezeWhoZr",
        "outputId": "f06f7e81-cf14-478f-d19b-2eb29d7c1638"
      },
      "execution_count": null,
      "outputs": [
        {
          "output_type": "stream",
          "name": "stdout",
          "text": [
            "\n",
            "This is a longer string that\n",
            "spans multiple lines\n",
            ", data type = <class 'str'>\n"
          ]
        }
      ]
    },
    {
      "cell_type": "markdown",
      "source": [
        "Đếm số dòng"
      ],
      "metadata": {
        "id": "1teg3KnviBmh"
      }
    },
    {
      "cell_type": "code",
      "source": [
        "c.count(\"\\n\")"
      ],
      "metadata": {
        "colab": {
          "base_uri": "https://localhost:8080/"
        },
        "id": "CNOSZeqKh1Ay",
        "outputId": "61bfb1b4-d29d-4bd0-a827-f9096625517a"
      },
      "execution_count": null,
      "outputs": [
        {
          "output_type": "execute_result",
          "data": {
            "text/plain": [
              "3"
            ]
          },
          "metadata": {},
          "execution_count": 124
        }
      ]
    },
    {
      "cell_type": "markdown",
      "source": [
        "Lỗi"
      ],
      "metadata": {
        "id": "vfXs-ml1iFbJ"
      }
    },
    {
      "cell_type": "code",
      "source": [
        "a = \"this is a string\"\n",
        "a[10] = \"f\""
      ],
      "metadata": {
        "colab": {
          "base_uri": "https://localhost:8080/",
          "height": 165
        },
        "id": "FcQnU8f1iDsP",
        "outputId": "5e045897-8a87-4469-aa8f-fb1603fc4042"
      },
      "execution_count": null,
      "outputs": [
        {
          "output_type": "error",
          "ename": "TypeError",
          "evalue": "'str' object does not support item assignment",
          "traceback": [
            "\u001b[0;31m---------------------------------------------------------------------------\u001b[0m",
            "\u001b[0;31mTypeError\u001b[0m                                 Traceback (most recent call last)",
            "\u001b[0;32m/tmp/ipython-input-2237151913.py\u001b[0m in \u001b[0;36m<cell line: 0>\u001b[0;34m()\u001b[0m\n\u001b[1;32m      1\u001b[0m \u001b[0ma\u001b[0m \u001b[0;34m=\u001b[0m \u001b[0;34m\"this is a string\"\u001b[0m\u001b[0;34m\u001b[0m\u001b[0;34m\u001b[0m\u001b[0m\n\u001b[0;32m----> 2\u001b[0;31m \u001b[0ma\u001b[0m\u001b[0;34m[\u001b[0m\u001b[0;36m10\u001b[0m\u001b[0;34m]\u001b[0m \u001b[0;34m=\u001b[0m \u001b[0;34m\"f\"\u001b[0m\u001b[0;34m\u001b[0m\u001b[0;34m\u001b[0m\u001b[0m\n\u001b[0m",
            "\u001b[0;31mTypeError\u001b[0m: 'str' object does not support item assignment"
          ]
        }
      ]
    },
    {
      "cell_type": "markdown",
      "source": [
        "Nối chuỗi"
      ],
      "metadata": {
        "id": "cYdAz2TViWNv"
      }
    },
    {
      "cell_type": "code",
      "source": [
        "b = a.replace(\"string\", \"longer string\")\n",
        "b"
      ],
      "metadata": {
        "colab": {
          "base_uri": "https://localhost:8080/",
          "height": 36
        },
        "id": "bPxCt55hiJU2",
        "outputId": "f892f6b3-fb29-4c98-f5fd-809adc5a688f"
      },
      "execution_count": null,
      "outputs": [
        {
          "output_type": "execute_result",
          "data": {
            "text/plain": [
              "'this is a longer string'"
            ],
            "application/vnd.google.colaboratory.intrinsic+json": {
              "type": "string"
            }
          },
          "metadata": {},
          "execution_count": 126
        }
      ]
    },
    {
      "cell_type": "code",
      "source": [
        "a"
      ],
      "metadata": {
        "colab": {
          "base_uri": "https://localhost:8080/",
          "height": 36
        },
        "id": "MUDF_OTMiXsu",
        "outputId": "8d686a96-c7db-4263-9d8a-3201ce26529e"
      },
      "execution_count": null,
      "outputs": [
        {
          "output_type": "execute_result",
          "data": {
            "text/plain": [
              "'this is a string'"
            ],
            "application/vnd.google.colaboratory.intrinsic+json": {
              "type": "string"
            }
          },
          "metadata": {},
          "execution_count": 128
        }
      ]
    },
    {
      "cell_type": "markdown",
      "source": [
        "Đổi kiểu dữ liệu"
      ],
      "metadata": {
        "id": "7SC6huCpimfR"
      }
    },
    {
      "cell_type": "code",
      "source": [
        "a = 5.6\n",
        "print(f'{a}, data type = {type(a)}')\n",
        "s = str(a)\n",
        "print(f'{s}, data type = {type(s)}')"
      ],
      "metadata": {
        "colab": {
          "base_uri": "https://localhost:8080/"
        },
        "id": "ktCwsoKqia4_",
        "outputId": "3456d8ea-6715-466c-8dc9-ff3a17853a93"
      },
      "execution_count": null,
      "outputs": [
        {
          "output_type": "stream",
          "name": "stdout",
          "text": [
            "5.6, data type = <class 'float'>\n",
            "5.6, data type = <class 'str'>\n"
          ]
        }
      ]
    },
    {
      "cell_type": "markdown",
      "source": [
        "Lấy 3 ký tự đầu tiên trong chuỗi"
      ],
      "metadata": {
        "id": "RfU674AfiwwS"
      }
    },
    {
      "cell_type": "code",
      "source": [
        "s = \"python\"\n",
        "list(s)\n",
        "s[:3]"
      ],
      "metadata": {
        "colab": {
          "base_uri": "https://localhost:8080/",
          "height": 36
        },
        "id": "U8UBYXELirS_",
        "outputId": "2ed3ceac-b256-41da-bbd7-752417444126"
      },
      "execution_count": null,
      "outputs": [
        {
          "output_type": "execute_result",
          "data": {
            "text/plain": [
              "'pyt'"
            ],
            "application/vnd.google.colaboratory.intrinsic+json": {
              "type": "string"
            }
          },
          "metadata": {},
          "execution_count": 133
        }
      ]
    },
    {
      "cell_type": "code",
      "source": [
        "s = \"12\\\\34\"\n",
        "print(s)"
      ],
      "metadata": {
        "colab": {
          "base_uri": "https://localhost:8080/"
        },
        "id": "5hq3iFSBi0Qk",
        "outputId": "a6adfabf-3286-44ce-a79f-f1cafdc230c2"
      },
      "execution_count": null,
      "outputs": [
        {
          "output_type": "stream",
          "name": "stdout",
          "text": [
            "12\\34\n"
          ]
        }
      ]
    },
    {
      "cell_type": "code",
      "source": [
        "s = r\"this\\has\\no\\special\\characters\"\n",
        "s"
      ],
      "metadata": {
        "colab": {
          "base_uri": "https://localhost:8080/",
          "height": 36
        },
        "id": "qANw9Caxi-42",
        "outputId": "0a14ad6f-c1b2-4e8b-a62f-10d4abb0b8c5"
      },
      "execution_count": null,
      "outputs": [
        {
          "output_type": "execute_result",
          "data": {
            "text/plain": [
              "'this\\\\has\\\\no\\\\special\\\\characters'"
            ],
            "application/vnd.google.colaboratory.intrinsic+json": {
              "type": "string"
            }
          },
          "metadata": {},
          "execution_count": 136
        }
      ]
    },
    {
      "cell_type": "markdown",
      "source": [
        "Nối chuỗi"
      ],
      "metadata": {
        "id": "R63tzetWjDrA"
      }
    },
    {
      "cell_type": "code",
      "source": [
        "a = \"this is the first half \"\n",
        "b = \"and this is the second half\"\n",
        "a + b"
      ],
      "metadata": {
        "colab": {
          "base_uri": "https://localhost:8080/",
          "height": 36
        },
        "id": "UgxIZGH9jCLx",
        "outputId": "4699f2ab-d954-49ec-f9a9-de828268e6fe"
      },
      "execution_count": null,
      "outputs": [
        {
          "output_type": "execute_result",
          "data": {
            "text/plain": [
              "'this is the first half and this is the second half'"
            ],
            "application/vnd.google.colaboratory.intrinsic+json": {
              "type": "string"
            }
          },
          "metadata": {},
          "execution_count": 137
        }
      ]
    },
    {
      "cell_type": "markdown",
      "source": [
        "Ở đây:\n",
        "\n",
        "{0:.2f} → lấy đối số đầu tiên, định dạng float với 2 chữ số thập phân.\n",
        "\n",
        "{1:s} → lấy đối số thứ hai, định dạng string.\n",
        "\n",
        "{2:d} → lấy đối số thứ ba, định dạng integer (số nguyên)."
      ],
      "metadata": {
        "id": "FgbpOQiOjW-W"
      }
    },
    {
      "cell_type": "code",
      "source": [
        "template = \"{0:.2f} {1:s} are worth US${2:d}\"\n",
        "print(f'{template}, data type = {type(template)}')"
      ],
      "metadata": {
        "colab": {
          "base_uri": "https://localhost:8080/"
        },
        "id": "5bkVkd03jGwN",
        "outputId": "565479e8-e909-457a-da5c-28e2b48e4047"
      },
      "execution_count": null,
      "outputs": [
        {
          "output_type": "stream",
          "name": "stdout",
          "text": [
            "{0:.2f} {1:s} are worth US${2:d}, data type = <class 'str'>\n"
          ]
        }
      ]
    },
    {
      "cell_type": "markdown",
      "source": [
        "Kết quả"
      ],
      "metadata": {
        "id": "FyhrP206kHdY"
      }
    },
    {
      "cell_type": "code",
      "source": [
        "template.format(88.46, \"Argentine Pesos\", 1)"
      ],
      "metadata": {
        "colab": {
          "base_uri": "https://localhost:8080/",
          "height": 36
        },
        "id": "s7_oregOjvki",
        "outputId": "54ce2948-c38a-4ab5-9647-510d0fe64ade"
      },
      "execution_count": null,
      "outputs": [
        {
          "output_type": "execute_result",
          "data": {
            "text/plain": [
              "'88.46 Argentine Pesos are worth US$1'"
            ],
            "application/vnd.google.colaboratory.intrinsic+json": {
              "type": "string"
            }
          },
          "metadata": {},
          "execution_count": 145
        }
      ]
    },
    {
      "cell_type": "markdown",
      "source": [
        "Gán giá trị"
      ],
      "metadata": {
        "id": "k7rxThGlkQqH"
      }
    },
    {
      "cell_type": "code",
      "source": [
        "amount = 10\n",
        "rate = 88.46\n",
        "currency = \"Pesos\"\n",
        "result = f\"{amount} {currency} is worth US${amount / rate}\""
      ],
      "metadata": {
        "id": "aLefNh4Ij79r"
      },
      "execution_count": null,
      "outputs": []
    },
    {
      "cell_type": "markdown",
      "source": [
        "Kết quả"
      ],
      "metadata": {
        "id": "6DKU2-rgkJEc"
      }
    },
    {
      "cell_type": "code",
      "source": [
        "f\"{amount} {currency} is worth US${amount / rate:.2f}\""
      ],
      "metadata": {
        "colab": {
          "base_uri": "https://localhost:8080/",
          "height": 36
        },
        "id": "eEZ83Oi3j_D4",
        "outputId": "e24e6d52-09a9-49b4-fa27-da8d53eddd50"
      },
      "execution_count": null,
      "outputs": [
        {
          "output_type": "execute_result",
          "data": {
            "text/plain": [
              "'10 Pesos is worth US$0.11'"
            ],
            "application/vnd.google.colaboratory.intrinsic+json": {
              "type": "string"
            }
          },
          "metadata": {},
          "execution_count": 148
        }
      ]
    },
    {
      "cell_type": "markdown",
      "source": [
        "**Bytes and Unicode**"
      ],
      "metadata": {
        "id": "D0CN0rt5kT8D"
      }
    },
    {
      "cell_type": "markdown",
      "source": [
        "Thêm dấu"
      ],
      "metadata": {
        "id": "NNaBZNZPkmqS"
      }
    },
    {
      "cell_type": "code",
      "source": [
        "val = \"español\"\n",
        "print(f'{val}, data type = {type(val)}')"
      ],
      "metadata": {
        "colab": {
          "base_uri": "https://localhost:8080/"
        },
        "id": "dyqo9hKakdvZ",
        "outputId": "e5cc3b21-9988-4a52-c876-253f76a5c6a1"
      },
      "execution_count": null,
      "outputs": [
        {
          "output_type": "stream",
          "name": "stdout",
          "text": [
            "español, data type = <class 'str'>\n"
          ]
        }
      ]
    },
    {
      "cell_type": "markdown",
      "source": [
        "Chuyển chuỗi val (str) thành bytes theo chuẩn UTF-8."
      ],
      "metadata": {
        "id": "gBZeI4WkktfJ"
      }
    },
    {
      "cell_type": "code",
      "source": [
        "val_utf8 = val.encode(\"utf-8\")\n",
        "val_utf8\n",
        "type(val_utf8)"
      ],
      "metadata": {
        "colab": {
          "base_uri": "https://localhost:8080/"
        },
        "id": "WUxO25cbkeoH",
        "outputId": "675066eb-bccc-404d-a998-ac9da9e22b42"
      },
      "execution_count": null,
      "outputs": [
        {
          "output_type": "execute_result",
          "data": {
            "text/plain": [
              "bytes"
            ]
          },
          "metadata": {},
          "execution_count": 151
        }
      ]
    },
    {
      "cell_type": "code",
      "source": [
        "val_utf8.decode(\"utf-8\")"
      ],
      "metadata": {
        "colab": {
          "base_uri": "https://localhost:8080/",
          "height": 36
        },
        "id": "l-sI7BhDkyM3",
        "outputId": "8e2a5c7b-3f9a-4de2-f0bb-5c1cf050e524"
      },
      "execution_count": null,
      "outputs": [
        {
          "output_type": "execute_result",
          "data": {
            "text/plain": [
              "'español'"
            ],
            "application/vnd.google.colaboratory.intrinsic+json": {
              "type": "string"
            }
          },
          "metadata": {},
          "execution_count": 153
        }
      ]
    },
    {
      "cell_type": "code",
      "source": [
        "val.encode(\"latin1\")\n",
        "val.encode(\"utf-16\")\n",
        "val.encode(\"utf-16le\")"
      ],
      "metadata": {
        "colab": {
          "base_uri": "https://localhost:8080/"
        },
        "id": "CPrAGeeNk22g",
        "outputId": "7212d0c6-b43c-4d84-9a94-276f2829410c"
      },
      "execution_count": null,
      "outputs": [
        {
          "output_type": "execute_result",
          "data": {
            "text/plain": [
              "b'e\\x00s\\x00p\\x00a\\x00\\xf1\\x00o\\x00l\\x00'"
            ]
          },
          "metadata": {},
          "execution_count": 154
        }
      ]
    },
    {
      "cell_type": "markdown",
      "source": [
        "**Booleans**"
      ],
      "metadata": {
        "id": "MrAcQm8ak-9j"
      }
    },
    {
      "cell_type": "code",
      "source": [
        "True and True"
      ],
      "metadata": {
        "colab": {
          "base_uri": "https://localhost:8080/"
        },
        "id": "f1nI8foVlGe-",
        "outputId": "2a197a9e-97b3-4615-b8db-45b987d9350e"
      },
      "execution_count": null,
      "outputs": [
        {
          "output_type": "execute_result",
          "data": {
            "text/plain": [
              "True"
            ]
          },
          "metadata": {},
          "execution_count": 156
        }
      ]
    },
    {
      "cell_type": "code",
      "source": [
        "False or True"
      ],
      "metadata": {
        "colab": {
          "base_uri": "https://localhost:8080/"
        },
        "id": "rdPx_nP5lIkq",
        "outputId": "dbf02bb6-38df-4bbd-cbd3-3f867e97bca1"
      },
      "execution_count": null,
      "outputs": [
        {
          "output_type": "execute_result",
          "data": {
            "text/plain": [
              "True"
            ]
          },
          "metadata": {},
          "execution_count": 157
        }
      ]
    },
    {
      "cell_type": "code",
      "source": [
        "int(False)"
      ],
      "metadata": {
        "colab": {
          "base_uri": "https://localhost:8080/"
        },
        "id": "_6A3ezXNlKmO",
        "outputId": "054df865-1433-4215-ae8c-274713026574"
      },
      "execution_count": null,
      "outputs": [
        {
          "output_type": "execute_result",
          "data": {
            "text/plain": [
              "0"
            ]
          },
          "metadata": {},
          "execution_count": 160
        }
      ]
    },
    {
      "cell_type": "code",
      "source": [
        "int(True)"
      ],
      "metadata": {
        "colab": {
          "base_uri": "https://localhost:8080/"
        },
        "id": "Z4GYhpL_lM_o",
        "outputId": "db7bac2f-3b58-49d9-bd21-b4197b50d82f"
      },
      "execution_count": null,
      "outputs": [
        {
          "output_type": "execute_result",
          "data": {
            "text/plain": [
              "1"
            ]
          },
          "metadata": {},
          "execution_count": 161
        }
      ]
    },
    {
      "cell_type": "code",
      "source": [
        "a = True\n",
        "b = False\n",
        "not a"
      ],
      "metadata": {
        "colab": {
          "base_uri": "https://localhost:8080/"
        },
        "id": "r_3xK-7xlPzB",
        "outputId": "912dc89b-98a4-4085-db72-ed99a3a5035d"
      },
      "execution_count": null,
      "outputs": [
        {
          "output_type": "execute_result",
          "data": {
            "text/plain": [
              "False"
            ]
          },
          "metadata": {},
          "execution_count": 163
        }
      ]
    },
    {
      "cell_type": "code",
      "source": [
        "not b"
      ],
      "metadata": {
        "colab": {
          "base_uri": "https://localhost:8080/"
        },
        "id": "_db_0qtGlTlp",
        "outputId": "aa9e5a0a-8b6f-4ee4-bd82-621bd47e06e4"
      },
      "execution_count": null,
      "outputs": [
        {
          "output_type": "execute_result",
          "data": {
            "text/plain": [
              "True"
            ]
          },
          "metadata": {},
          "execution_count": 164
        }
      ]
    },
    {
      "cell_type": "markdown",
      "source": [
        "**Type casting**"
      ],
      "metadata": {
        "id": "xsBx9iI8lVQe"
      }
    },
    {
      "cell_type": "code",
      "source": [
        "s = \"3.14159\"\n",
        "fval = float(s)\n",
        "type(fval)"
      ],
      "metadata": {
        "colab": {
          "base_uri": "https://localhost:8080/"
        },
        "id": "pqXTzTqileAB",
        "outputId": "ee2e54c0-f18b-4c45-f3a2-62b6a69a6b6a"
      },
      "execution_count": null,
      "outputs": [
        {
          "output_type": "execute_result",
          "data": {
            "text/plain": [
              "float"
            ]
          },
          "metadata": {},
          "execution_count": 167
        }
      ]
    },
    {
      "cell_type": "code",
      "source": [
        "int(fval)"
      ],
      "metadata": {
        "colab": {
          "base_uri": "https://localhost:8080/"
        },
        "id": "gWLPj5vLljlU",
        "outputId": "c2aa72ab-c03a-4da1-d783-fb49efe1937e"
      },
      "execution_count": null,
      "outputs": [
        {
          "output_type": "execute_result",
          "data": {
            "text/plain": [
              "3"
            ]
          },
          "metadata": {},
          "execution_count": 168
        }
      ]
    },
    {
      "cell_type": "code",
      "source": [
        "bool(fval)"
      ],
      "metadata": {
        "colab": {
          "base_uri": "https://localhost:8080/"
        },
        "id": "aHWWoEwrlknU",
        "outputId": "fffa65a2-3eb6-46d9-aeda-1c17b909bb2c"
      },
      "execution_count": null,
      "outputs": [
        {
          "output_type": "execute_result",
          "data": {
            "text/plain": [
              "True"
            ]
          },
          "metadata": {},
          "execution_count": 169
        }
      ]
    },
    {
      "cell_type": "code",
      "source": [
        "bool(0)"
      ],
      "metadata": {
        "colab": {
          "base_uri": "https://localhost:8080/"
        },
        "id": "BUB1phe-lmft",
        "outputId": "59427bc1-f1db-4de5-b83e-f66bf2907092"
      },
      "execution_count": null,
      "outputs": [
        {
          "output_type": "execute_result",
          "data": {
            "text/plain": [
              "False"
            ]
          },
          "metadata": {},
          "execution_count": 170
        }
      ]
    },
    {
      "cell_type": "markdown",
      "source": [
        "**None**"
      ],
      "metadata": {
        "id": "Y7MDJ5LSlpEd"
      }
    },
    {
      "cell_type": "markdown",
      "source": [
        "None là kiểu giá trị null của Python"
      ],
      "metadata": {
        "id": "s-JKyHB5l1eG"
      }
    },
    {
      "cell_type": "code",
      "source": [
        "a = None\n",
        "a is None"
      ],
      "metadata": {
        "colab": {
          "base_uri": "https://localhost:8080/"
        },
        "id": "88MiSNJ9lrrD",
        "outputId": "7dc7fe59-ae6e-44a7-80e0-48257cb135ec"
      },
      "execution_count": null,
      "outputs": [
        {
          "output_type": "execute_result",
          "data": {
            "text/plain": [
              "True"
            ]
          },
          "metadata": {},
          "execution_count": 172
        }
      ]
    },
    {
      "cell_type": "code",
      "source": [
        "b = 5\n",
        "b is not None"
      ],
      "metadata": {
        "colab": {
          "base_uri": "https://localhost:8080/"
        },
        "id": "b7PQ08ADlxZg",
        "outputId": "ad217ecf-e4b3-4293-d9b7-fd77bb1c5faf"
      },
      "execution_count": null,
      "outputs": [
        {
          "output_type": "execute_result",
          "data": {
            "text/plain": [
              "True"
            ]
          },
          "metadata": {},
          "execution_count": 173
        }
      ]
    },
    {
      "cell_type": "markdown",
      "source": [
        "None là giá trị mặc định chung cho các đối số hàm"
      ],
      "metadata": {
        "id": "uZbyIReSl9vf"
      }
    },
    {
      "cell_type": "code",
      "source": [
        "def add_and_maybe_multiply(a, b, c=None):\n",
        "  result = a + b\n",
        "  if c is not None:\n",
        "    result = result * c\n",
        "  return result\n",
        "\n",
        "\n",
        "print(add_and_maybe_multiply(2, 3))       # chỉ cộng a + b\n",
        "print(add_and_maybe_multiply(2, 3, 4))    # cộng rồi nhân với c"
      ],
      "metadata": {
        "colab": {
          "base_uri": "https://localhost:8080/"
        },
        "id": "9tHRMKYYmD7g",
        "outputId": "8cc93205-f5f0-402e-a3bc-5c58824990f9"
      },
      "execution_count": null,
      "outputs": [
        {
          "output_type": "stream",
          "name": "stdout",
          "text": [
            "5\n",
            "20\n"
          ]
        }
      ]
    },
    {
      "cell_type": "markdown",
      "source": [
        "**Dates and times**"
      ],
      "metadata": {
        "id": "38qCCqdumVEw"
      }
    },
    {
      "cell_type": "markdown",
      "source": [
        "Tạo 1 đối tượng datetime"
      ],
      "metadata": {
        "id": "QYGrxrJVmwNy"
      }
    },
    {
      "cell_type": "code",
      "source": [
        "from datetime import datetime, date, time\n",
        "dt = datetime(2011, 10, 29, 20, 30, 21)"
      ],
      "metadata": {
        "id": "U-gHyNt_mZWa"
      },
      "execution_count": null,
      "outputs": []
    },
    {
      "cell_type": "markdown",
      "source": [
        "Lấy ra ngày"
      ],
      "metadata": {
        "id": "aN3IpauLm8_R"
      }
    },
    {
      "cell_type": "code",
      "source": [
        "dt.day"
      ],
      "metadata": {
        "colab": {
          "base_uri": "https://localhost:8080/"
        },
        "id": "cMD_O-CLm8cZ",
        "outputId": "3178cfcc-49f1-4f4b-fadb-29df87d5576d"
      },
      "execution_count": null,
      "outputs": [
        {
          "output_type": "execute_result",
          "data": {
            "text/plain": [
              "29"
            ]
          },
          "metadata": {},
          "execution_count": 187
        }
      ]
    },
    {
      "cell_type": "markdown",
      "source": [
        "Lấy ra phút"
      ],
      "metadata": {
        "id": "h3R5KKyvmr2k"
      }
    },
    {
      "cell_type": "code",
      "source": [
        "dt.minute"
      ],
      "metadata": {
        "colab": {
          "base_uri": "https://localhost:8080/"
        },
        "id": "N040tdoimcPy",
        "outputId": "285cb5e1-2261-4d5c-d932-b6a7def74e43"
      },
      "execution_count": null,
      "outputs": [
        {
          "output_type": "execute_result",
          "data": {
            "text/plain": [
              "30"
            ]
          },
          "metadata": {},
          "execution_count": 180
        }
      ]
    },
    {
      "cell_type": "markdown",
      "source": [
        "Lấy ra ngày tháng"
      ],
      "metadata": {
        "id": "_D6vK7i4muj7"
      }
    },
    {
      "cell_type": "code",
      "source": [
        "dt.date()"
      ],
      "metadata": {
        "colab": {
          "base_uri": "https://localhost:8080/"
        },
        "id": "_cpBKc2hmdES",
        "outputId": "cfc9383c-002f-4aba-ec0a-30a6667c8f4f"
      },
      "execution_count": null,
      "outputs": [
        {
          "output_type": "execute_result",
          "data": {
            "text/plain": [
              "datetime.date(2011, 10, 29)"
            ]
          },
          "metadata": {},
          "execution_count": 181
        }
      ]
    },
    {
      "cell_type": "markdown",
      "source": [
        "Lấy ra thời gian"
      ],
      "metadata": {
        "id": "VpasdVGQnRnm"
      }
    },
    {
      "cell_type": "code",
      "source": [
        "dt.time()"
      ],
      "metadata": {
        "colab": {
          "base_uri": "https://localhost:8080/"
        },
        "id": "IS0FA8UEmfhs",
        "outputId": "0f6a27c2-7a21-4c9c-ec1d-395965985c9e"
      },
      "execution_count": null,
      "outputs": [
        {
          "output_type": "stream",
          "name": "stdout",
          "text": [
            "2011-10-29 20:30:21, data type = <class 'datetime.datetime'>\n"
          ]
        }
      ]
    },
    {
      "cell_type": "markdown",
      "source": [
        "chuyển đối tượng datetime thành chuỗi (str)"
      ],
      "metadata": {
        "id": "jUd58I12ndNE"
      }
    },
    {
      "cell_type": "code",
      "source": [
        "dt.strftime(\"%Y-%m-%d %H:%M\")"
      ],
      "metadata": {
        "colab": {
          "base_uri": "https://localhost:8080/",
          "height": 36
        },
        "id": "URa6ws6TmlBR",
        "outputId": "7e4c79ff-c427-4e61-e889-2795913350ee"
      },
      "execution_count": null,
      "outputs": [
        {
          "output_type": "execute_result",
          "data": {
            "text/plain": [
              "'2011-10-29 20:30'"
            ],
            "application/vnd.google.colaboratory.intrinsic+json": {
              "type": "string"
            }
          },
          "metadata": {},
          "execution_count": 194
        }
      ]
    },
    {
      "cell_type": "markdown",
      "source": [
        "Tách ra theo dạng Year Month Days"
      ],
      "metadata": {
        "id": "TY4jvd6Gn8s_"
      }
    },
    {
      "cell_type": "code",
      "source": [
        "datetime.strptime(\"20091031\", \"%Y%m%d\")"
      ],
      "metadata": {
        "colab": {
          "base_uri": "https://localhost:8080/"
        },
        "id": "hVcP7I6_mm0p",
        "outputId": "d4502a8e-4b22-45b5-c240-aa3abfc9ee5d"
      },
      "execution_count": null,
      "outputs": [
        {
          "output_type": "execute_result",
          "data": {
            "text/plain": [
              "datetime.datetime(2009, 10, 31, 0, 0)"
            ]
          },
          "metadata": {},
          "execution_count": 184
        }
      ]
    },
    {
      "cell_type": "markdown",
      "source": [
        "Chỉ lấy giờ còn phút, giây = 0"
      ],
      "metadata": {
        "id": "19gBuwhuoEhP"
      }
    },
    {
      "cell_type": "code",
      "source": [
        "dt_hour = dt.replace(minute=0, second=0)\n",
        "dt_hour"
      ],
      "metadata": {
        "colab": {
          "base_uri": "https://localhost:8080/"
        },
        "id": "OuAhj7Tbmosz",
        "outputId": "ed49bc5f-8440-4964-a5d7-7a07ab334a2a"
      },
      "execution_count": null,
      "outputs": [
        {
          "output_type": "execute_result",
          "data": {
            "text/plain": [
              "datetime.datetime(2011, 10, 29, 20, 0)"
            ]
          },
          "metadata": {},
          "execution_count": 199
        }
      ]
    },
    {
      "cell_type": "markdown",
      "source": [
        "Giá trị ban đầu"
      ],
      "metadata": {
        "id": "GORPMtMYoN8L"
      }
    },
    {
      "cell_type": "code",
      "source": [
        "dt"
      ],
      "metadata": {
        "colab": {
          "base_uri": "https://localhost:8080/"
        },
        "id": "Vyndo4WWn188",
        "outputId": "603655ee-c520-4f5b-af4e-adb966ca7ad4"
      },
      "execution_count": null,
      "outputs": [
        {
          "output_type": "execute_result",
          "data": {
            "text/plain": [
              "datetime.datetime(2011, 10, 29, 20, 30, 21)"
            ]
          },
          "metadata": {},
          "execution_count": 197
        }
      ]
    },
    {
      "cell_type": "code",
      "source": [
        "dt2 = datetime(2011, 11, 15, 22, 30)\n",
        "delta = dt2 - dt\n"
      ],
      "metadata": {
        "id": "zFMMi_-QoQ36"
      },
      "execution_count": null,
      "outputs": []
    },
    {
      "cell_type": "code",
      "source": [
        "display(delta)"
      ],
      "metadata": {
        "colab": {
          "base_uri": "https://localhost:8080/",
          "height": 35
        },
        "id": "auCC9UsRo_R6",
        "outputId": "8e7fe84c-9304-4cb5-bbb8-3ee3f97bf4a8"
      },
      "execution_count": null,
      "outputs": [
        {
          "output_type": "display_data",
          "data": {
            "text/plain": [
              "datetime.timedelta(days=17, seconds=7179)"
            ]
          },
          "metadata": {}
        }
      ]
    },
    {
      "cell_type": "code",
      "source": [
        "type(delta)"
      ],
      "metadata": {
        "colab": {
          "base_uri": "https://localhost:8080/"
        },
        "id": "HzvbZNOxpAZe",
        "outputId": "fa121338-a2e8-41a9-dd5d-879833188574"
      },
      "execution_count": null,
      "outputs": [
        {
          "output_type": "execute_result",
          "data": {
            "text/plain": [
              "datetime.timedelta"
            ]
          },
          "metadata": {},
          "execution_count": 204
        }
      ]
    },
    {
      "cell_type": "code",
      "source": [
        "dt"
      ],
      "metadata": {
        "colab": {
          "base_uri": "https://localhost:8080/"
        },
        "id": "0iWUDwpQo8S4",
        "outputId": "7628a569-6e07-4a73-83ee-621e7b2a8593"
      },
      "execution_count": null,
      "outputs": [
        {
          "output_type": "execute_result",
          "data": {
            "text/plain": [
              "datetime.datetime(2011, 10, 29, 20, 30, 21)"
            ]
          },
          "metadata": {},
          "execution_count": 205
        }
      ]
    },
    {
      "cell_type": "code",
      "source": [
        "dt + delta"
      ],
      "metadata": {
        "colab": {
          "base_uri": "https://localhost:8080/"
        },
        "id": "WBh5K6WQpEJH",
        "outputId": "79e81fc5-3068-4f55-edb2-cba217f58d46"
      },
      "execution_count": null,
      "outputs": [
        {
          "output_type": "execute_result",
          "data": {
            "text/plain": [
              "datetime.datetime(2011, 11, 15, 22, 30)"
            ]
          },
          "metadata": {},
          "execution_count": 206
        }
      ]
    },
    {
      "cell_type": "markdown",
      "source": [
        "### Control Flow"
      ],
      "metadata": {
        "id": "057GrpAFpLha"
      }
    },
    {
      "cell_type": "markdown",
      "source": [
        "**if, elif, and else**"
      ],
      "metadata": {
        "id": "OaSwOziZpP1W"
      }
    },
    {
      "cell_type": "code",
      "source": [
        "x = -5\n",
        "if x < 0:\n",
        "  print(\"It's negative\")"
      ],
      "metadata": {
        "colab": {
          "base_uri": "https://localhost:8080/"
        },
        "id": "__Mz_AuopPPg",
        "outputId": "73af4fce-0ee2-44fe-9c72-0715b37eba68"
      },
      "execution_count": null,
      "outputs": [
        {
          "output_type": "stream",
          "name": "stdout",
          "text": [
            "It's negative\n"
          ]
        }
      ]
    },
    {
      "cell_type": "code",
      "source": [
        "if x < 0:\n",
        "  print(\"It's negative\")\n",
        "elif x == 0:\n",
        "  print(\"Equal to zero\")\n",
        "elif 0 < x < 5:\n",
        "  print(\"Positive but smaller than 5\")\n",
        "else:\n",
        "  print(\"Positive and larger than or equal to 5\")"
      ],
      "metadata": {
        "colab": {
          "base_uri": "https://localhost:8080/"
        },
        "id": "KcANaLY1piTN",
        "outputId": "793f911e-e461-4035-c20e-8983c7192306"
      },
      "execution_count": null,
      "outputs": [
        {
          "output_type": "stream",
          "name": "stdout",
          "text": [
            "It's negative\n"
          ]
        }
      ]
    },
    {
      "cell_type": "code",
      "source": [
        "a = 5; b = 7\n",
        "c = 8; d = 4\n",
        "if a < b or c > d:\n",
        "  print(\"Made it\")"
      ],
      "metadata": {
        "colab": {
          "base_uri": "https://localhost:8080/"
        },
        "id": "cqFgNud5pn7J",
        "outputId": "8586672c-cb0c-4ccd-fb34-26b4c439b4d9"
      },
      "execution_count": null,
      "outputs": [
        {
          "output_type": "stream",
          "name": "stdout",
          "text": [
            "Made it\n"
          ]
        }
      ]
    },
    {
      "cell_type": "code",
      "source": [
        "4 > 3 > 2 > 1"
      ],
      "metadata": {
        "colab": {
          "base_uri": "https://localhost:8080/"
        },
        "id": "GkvaePybpwWa",
        "outputId": "94b16b61-fc1f-4416-885b-d40ab863ed9b"
      },
      "execution_count": null,
      "outputs": [
        {
          "output_type": "execute_result",
          "data": {
            "text/plain": [
              "True"
            ]
          },
          "metadata": {},
          "execution_count": 215
        }
      ]
    },
    {
      "cell_type": "markdown",
      "source": [
        "**for loops**"
      ],
      "metadata": {
        "id": "4_Dy5ABKp2d6"
      }
    },
    {
      "cell_type": "code",
      "source": [
        "sequence = [1, 2, None, 4, None, 5]\n",
        "total = 0\n",
        "for value in sequence:\n",
        "  if value is None:\n",
        "    continue\n",
        "  total += value\n",
        "print(total)"
      ],
      "metadata": {
        "colab": {
          "base_uri": "https://localhost:8080/"
        },
        "id": "RORQbuq8p4kD",
        "outputId": "d227a9d4-2ca0-4761-8e43-1ee2cde9c392"
      },
      "execution_count": null,
      "outputs": [
        {
          "output_type": "stream",
          "name": "stdout",
          "text": [
            "12\n"
          ]
        }
      ]
    },
    {
      "cell_type": "code",
      "source": [
        "sequence = [1, 2, 0, 4, 6, 5, 2, 1]\n",
        "total_until_5 = 0\n",
        "for value in sequence:\n",
        "    if value == 5:\n",
        "      break\n",
        "    total_until_5 += value\n",
        "    print(total_until_5)"
      ],
      "metadata": {
        "colab": {
          "base_uri": "https://localhost:8080/"
        },
        "id": "vVWHlnd9qInO",
        "outputId": "1b00c791-dd69-422b-99ee-6e13bccd661e"
      },
      "execution_count": null,
      "outputs": [
        {
          "output_type": "stream",
          "name": "stdout",
          "text": [
            "1\n",
            "3\n",
            "3\n",
            "7\n",
            "13\n"
          ]
        }
      ]
    },
    {
      "cell_type": "code",
      "source": [
        "for i in range(4):\n",
        "    for j in range(4):\n",
        "        if j > i:\n",
        "            break\n",
        "        print((i, j))"
      ],
      "metadata": {
        "colab": {
          "base_uri": "https://localhost:8080/"
        },
        "id": "fFWo7dVnqVQv",
        "outputId": "f6eaee61-e6b5-4900-be71-0782b0e0eb61"
      },
      "execution_count": null,
      "outputs": [
        {
          "output_type": "stream",
          "name": "stdout",
          "text": [
            "(0, 0)\n",
            "(1, 0)\n",
            "(1, 1)\n",
            "(2, 0)\n",
            "(2, 1)\n",
            "(2, 2)\n",
            "(3, 0)\n",
            "(3, 1)\n",
            "(3, 2)\n",
            "(3, 3)\n"
          ]
        }
      ]
    },
    {
      "cell_type": "markdown",
      "source": [
        "**while loops**"
      ],
      "metadata": {
        "id": "F2SHgJHJqbUQ"
      }
    },
    {
      "cell_type": "code",
      "source": [
        "x = 256\n",
        "total = 0\n",
        "while x > 0:\n",
        "  if total > 500:\n",
        "    break\n",
        "  total += x\n",
        "  x = x // 2\n",
        "\n",
        "print(total)"
      ],
      "metadata": {
        "colab": {
          "base_uri": "https://localhost:8080/"
        },
        "id": "b5rKpg47qZGV",
        "outputId": "051ccf8a-73be-4915-f75f-b0b7e9e4e553"
      },
      "execution_count": null,
      "outputs": [
        {
          "output_type": "stream",
          "name": "stdout",
          "text": [
            "504\n"
          ]
        }
      ]
    },
    {
      "cell_type": "markdown",
      "source": [
        "**pass**"
      ],
      "metadata": {
        "id": "h9u0nIFWq4MI"
      }
    },
    {
      "cell_type": "code",
      "source": [
        "if x < 0:\n",
        "  print(\"negative!\")\n",
        "elif x == 0:\n",
        "  # TODO: put something smart here\n",
        "  pass\n",
        "else:\n",
        "  print(\"positive!\")"
      ],
      "metadata": {
        "colab": {
          "base_uri": "https://localhost:8080/"
        },
        "id": "gEwWOBXbq6yo",
        "outputId": "39f0bc94-57fc-4c8f-a0e9-4d7c08e93e53"
      },
      "execution_count": null,
      "outputs": [
        {
          "output_type": "stream",
          "name": "stdout",
          "text": [
            "positive!\n"
          ]
        }
      ]
    },
    {
      "cell_type": "markdown",
      "source": [
        "**range**"
      ],
      "metadata": {
        "id": "h83mWWm7rBf3"
      }
    },
    {
      "cell_type": "markdown",
      "source": [
        "Tạo một đối tượng range từ 0 đến 9"
      ],
      "metadata": {
        "id": "p0hUANj0rOr-"
      }
    },
    {
      "cell_type": "code",
      "source": [
        "range(10)"
      ],
      "metadata": {
        "colab": {
          "base_uri": "https://localhost:8080/"
        },
        "id": "K95Ulkk4rDlF",
        "outputId": "34354de4-4c03-461d-dcc8-eb15355be447"
      },
      "execution_count": null,
      "outputs": [
        {
          "output_type": "execute_result",
          "data": {
            "text/plain": [
              "range(0, 10)"
            ]
          },
          "metadata": {},
          "execution_count": 234
        }
      ]
    },
    {
      "cell_type": "markdown",
      "source": [
        "Tạo một danh sách các số nguyên từ 0 đến 9."
      ],
      "metadata": {
        "id": "mI_rjKuxrQRK"
      }
    },
    {
      "cell_type": "code",
      "source": [
        "list(range(10))"
      ],
      "metadata": {
        "colab": {
          "base_uri": "https://localhost:8080/"
        },
        "id": "I1Au2KO7rGNY",
        "outputId": "28444e2c-7782-41a0-8650-58b58ca545cb"
      },
      "execution_count": null,
      "outputs": [
        {
          "output_type": "execute_result",
          "data": {
            "text/plain": [
              "[0, 1, 2, 3, 4, 5, 6, 7, 8, 9]"
            ]
          },
          "metadata": {},
          "execution_count": 235
        }
      ]
    },
    {
      "cell_type": "markdown",
      "source": [
        "Tạo một danh sách các số nguyên từ 0 đến 20 và chỉ lấy số chẵn"
      ],
      "metadata": {
        "id": "PWWXyMRarZUV"
      }
    },
    {
      "cell_type": "code",
      "source": [
        "list(range(0, 20, 2))"
      ],
      "metadata": {
        "colab": {
          "base_uri": "https://localhost:8080/"
        },
        "id": "YTVl7FyorVrz",
        "outputId": "2f074d06-e2a7-4118-8348-7d83f8da1bc4"
      },
      "execution_count": null,
      "outputs": [
        {
          "output_type": "execute_result",
          "data": {
            "text/plain": [
              "[0, 2, 4, 6, 8, 10, 12, 14, 16, 18]"
            ]
          },
          "metadata": {},
          "execution_count": 237
        }
      ]
    },
    {
      "cell_type": "code",
      "source": [
        "list(range(5, 0, -1))"
      ],
      "metadata": {
        "colab": {
          "base_uri": "https://localhost:8080/"
        },
        "id": "2w47zXHLrYG4",
        "outputId": "0baeec06-80cf-4e5a-be47-4e7c7371b7d3"
      },
      "execution_count": null,
      "outputs": [
        {
          "output_type": "execute_result",
          "data": {
            "text/plain": [
              "[5, 4, 3, 2, 1]"
            ]
          },
          "metadata": {},
          "execution_count": 238
        }
      ]
    },
    {
      "cell_type": "code",
      "source": [
        "seq = [1, 2, 3, 4]\n",
        "for i in range(len(seq)):\n",
        "    print(f\"element {i}: {seq[i]}\")"
      ],
      "metadata": {
        "colab": {
          "base_uri": "https://localhost:8080/"
        },
        "id": "5-0m1GAkrkuX",
        "outputId": "e1da1c36-4cae-4c92-bf28-0f5e360045d9"
      },
      "execution_count": null,
      "outputs": [
        {
          "output_type": "stream",
          "name": "stdout",
          "text": [
            "element 0: 1\n",
            "element 1: 2\n",
            "element 2: 3\n",
            "element 3: 4\n"
          ]
        }
      ]
    },
    {
      "cell_type": "code",
      "source": [
        "total = 0\n",
        "for i in range(100_000):\n",
        "    # % is the modulo operator\n",
        "    if i % 3 == 0 or i % 5 == 0:\n",
        "        total += i\n",
        "print(total)"
      ],
      "metadata": {
        "colab": {
          "base_uri": "https://localhost:8080/"
        },
        "id": "0wg-9wtyrlWr",
        "outputId": "bcbfea9f-d3c1-48d2-e04e-3ec880edaa7a"
      },
      "execution_count": null,
      "outputs": [
        {
          "output_type": "stream",
          "name": "stdout",
          "text": [
            "2333316668\n"
          ]
        }
      ]
    },
    {
      "cell_type": "markdown",
      "source": [
        "# CHAPTER 3: Built-In Data Structures Functions, and Files"
      ],
      "metadata": {
        "id": "-Ki8IAvwrvCY"
      }
    },
    {
      "cell_type": "markdown",
      "source": [
        "## 3.1 Data Structures and Sequences"
      ],
      "metadata": {
        "id": "5Gdv_mXxry67"
      }
    },
    {
      "cell_type": "markdown",
      "source": [
        "### Tuple"
      ],
      "metadata": {
        "id": "lSAqHosWr1eI"
      }
    },
    {
      "cell_type": "markdown",
      "source": [
        "Cách khai báo"
      ],
      "metadata": {
        "id": "CdxFtJJosC5c"
      }
    },
    {
      "cell_type": "code",
      "source": [
        "tup = (4, 5, 6)\n",
        "tup"
      ],
      "metadata": {
        "colab": {
          "base_uri": "https://localhost:8080/"
        },
        "id": "yVcp59A1ryvH",
        "outputId": "1064a4f5-f102-4b62-a705-763014aca516"
      },
      "execution_count": null,
      "outputs": [
        {
          "output_type": "execute_result",
          "data": {
            "text/plain": [
              "(4, 5, 6)"
            ]
          },
          "metadata": {},
          "execution_count": 241
        }
      ]
    },
    {
      "cell_type": "code",
      "source": [
        "tup = 4, 5, 6\n",
        "tup"
      ],
      "metadata": {
        "colab": {
          "base_uri": "https://localhost:8080/"
        },
        "id": "NT7qM1QWsBDo",
        "outputId": "8f81a0b1-bd12-4a95-fb73-8763ff849614"
      },
      "execution_count": null,
      "outputs": [
        {
          "output_type": "execute_result",
          "data": {
            "text/plain": [
              "(4, 5, 6)"
            ]
          },
          "metadata": {},
          "execution_count": 243
        }
      ]
    },
    {
      "cell_type": "markdown",
      "source": [
        "Chuyển chuỗi thành ký tự"
      ],
      "metadata": {
        "id": "bCdn_aFGsNx0"
      }
    },
    {
      "cell_type": "code",
      "source": [
        "tuple([4, 0, 2])\n",
        "tup = tuple('string')\n",
        "tup"
      ],
      "metadata": {
        "colab": {
          "base_uri": "https://localhost:8080/"
        },
        "id": "0KZsCaBNsGsy",
        "outputId": "d0e6cb37-2df4-4f8d-fb80-d5b70718fafd"
      },
      "execution_count": null,
      "outputs": [
        {
          "output_type": "execute_result",
          "data": {
            "text/plain": [
              "('s', 't', 'r', 'i', 'n', 'g')"
            ]
          },
          "metadata": {},
          "execution_count": 244
        }
      ]
    },
    {
      "cell_type": "markdown",
      "source": [
        "Vị trí đầu"
      ],
      "metadata": {
        "id": "17t9BMfXsYUt"
      }
    },
    {
      "cell_type": "code",
      "source": [
        "tup[0]"
      ],
      "metadata": {
        "colab": {
          "base_uri": "https://localhost:8080/",
          "height": 36
        },
        "id": "Wc8yb6dFsWvE",
        "outputId": "6213b1c7-0a2e-46df-d198-846a3eff435d"
      },
      "execution_count": null,
      "outputs": [
        {
          "output_type": "execute_result",
          "data": {
            "text/plain": [
              "'s'"
            ],
            "application/vnd.google.colaboratory.intrinsic+json": {
              "type": "string"
            }
          },
          "metadata": {},
          "execution_count": 246
        }
      ]
    },
    {
      "cell_type": "markdown",
      "source": [
        "Tạo tuple lồng nhau"
      ],
      "metadata": {
        "id": "Vn5rizXAtcjC"
      }
    },
    {
      "cell_type": "code",
      "source": [
        "nested_tup = (4, 5, 6), (7, 8)\n",
        "nested_tup"
      ],
      "metadata": {
        "colab": {
          "base_uri": "https://localhost:8080/"
        },
        "id": "W9v55ocOsd97",
        "outputId": "30002928-011f-4178-cd5e-003ef10518fc"
      },
      "execution_count": null,
      "outputs": [
        {
          "output_type": "execute_result",
          "data": {
            "text/plain": [
              "((4, 5, 6), (7, 8))"
            ]
          },
          "metadata": {},
          "execution_count": 249
        }
      ]
    },
    {
      "cell_type": "markdown",
      "source": [
        "Lấy phần tử đầu tiên của nested_tup"
      ],
      "metadata": {
        "id": "nddtD3s4tkvv"
      }
    },
    {
      "cell_type": "code",
      "source": [
        "nested_tup[0]"
      ],
      "metadata": {
        "colab": {
          "base_uri": "https://localhost:8080/"
        },
        "id": "YOjxf8Pcs2PZ",
        "outputId": "530cbb40-8346-4707-fa70-7c35800b1f10"
      },
      "execution_count": null,
      "outputs": [
        {
          "output_type": "execute_result",
          "data": {
            "text/plain": [
              "(4, 5, 6)"
            ]
          },
          "metadata": {},
          "execution_count": 258
        }
      ]
    },
    {
      "cell_type": "markdown",
      "source": [
        "Lấy phần tử tiếp theo của nested_tup"
      ],
      "metadata": {
        "id": "24ZcMjyJtms7"
      }
    },
    {
      "cell_type": "code",
      "source": [
        "nested_tup[1]"
      ],
      "metadata": {
        "colab": {
          "base_uri": "https://localhost:8080/"
        },
        "id": "-hdgwj5Fs3u9",
        "outputId": "1a249474-2057-4624-aedc-a1598618eef1"
      },
      "execution_count": null,
      "outputs": [
        {
          "output_type": "execute_result",
          "data": {
            "text/plain": [
              "(7, 8)"
            ]
          },
          "metadata": {},
          "execution_count": 252
        }
      ]
    },
    {
      "cell_type": "markdown",
      "source": [
        "không thể gán lại phần tử trực tiếp phải thông qua append"
      ],
      "metadata": {
        "id": "bk_Y7tNmtVDg"
      }
    },
    {
      "cell_type": "code",
      "source": [
        "tup = tuple(['foo', [1, 2], True])\n",
        "tup[2] = False"
      ],
      "metadata": {
        "colab": {
          "base_uri": "https://localhost:8080/",
          "height": 165
        },
        "id": "_c6so6els7wh",
        "outputId": "9727e1c1-c12a-4075-f7c0-0e13e4e70995"
      },
      "execution_count": null,
      "outputs": [
        {
          "output_type": "error",
          "ename": "TypeError",
          "evalue": "'tuple' object does not support item assignment",
          "traceback": [
            "\u001b[0;31m---------------------------------------------------------------------------\u001b[0m",
            "\u001b[0;31mTypeError\u001b[0m                                 Traceback (most recent call last)",
            "\u001b[0;32m/tmp/ipython-input-211141333.py\u001b[0m in \u001b[0;36m<cell line: 0>\u001b[0;34m()\u001b[0m\n\u001b[1;32m      1\u001b[0m \u001b[0mtup\u001b[0m \u001b[0;34m=\u001b[0m \u001b[0mtuple\u001b[0m\u001b[0;34m(\u001b[0m\u001b[0;34m[\u001b[0m\u001b[0;34m'foo'\u001b[0m\u001b[0;34m,\u001b[0m \u001b[0;34m[\u001b[0m\u001b[0;36m1\u001b[0m\u001b[0;34m,\u001b[0m \u001b[0;36m2\u001b[0m\u001b[0;34m]\u001b[0m\u001b[0;34m,\u001b[0m \u001b[0;32mTrue\u001b[0m\u001b[0;34m]\u001b[0m\u001b[0;34m)\u001b[0m\u001b[0;34m\u001b[0m\u001b[0;34m\u001b[0m\u001b[0m\n\u001b[0;32m----> 2\u001b[0;31m \u001b[0mtup\u001b[0m\u001b[0;34m[\u001b[0m\u001b[0;36m2\u001b[0m\u001b[0;34m]\u001b[0m \u001b[0;34m=\u001b[0m \u001b[0;32mFalse\u001b[0m\u001b[0;34m\u001b[0m\u001b[0;34m\u001b[0m\u001b[0m\n\u001b[0m",
            "\u001b[0;31mTypeError\u001b[0m: 'tuple' object does not support item assignment"
          ]
        }
      ]
    },
    {
      "cell_type": "markdown",
      "source": [
        "Gán thành công 3 vào mảng"
      ],
      "metadata": {
        "id": "V1NCFWgYtyB6"
      }
    },
    {
      "cell_type": "code",
      "source": [
        "tup[1].append(3)\n",
        "tup"
      ],
      "metadata": {
        "colab": {
          "base_uri": "https://localhost:8080/"
        },
        "id": "HUer5xbztE0-",
        "outputId": "a494aa47-d73d-460f-c146-2d5aa2f5c33e"
      },
      "execution_count": null,
      "outputs": [
        {
          "output_type": "execute_result",
          "data": {
            "text/plain": [
              "('foo', [1, 2, 3], True)"
            ]
          },
          "metadata": {},
          "execution_count": 254
        }
      ]
    },
    {
      "cell_type": "markdown",
      "source": [
        "Tuple đc nối theo thứ tự từ trái sang phải."
      ],
      "metadata": {
        "id": "iko6f6PYt68z"
      }
    },
    {
      "cell_type": "code",
      "source": [
        "(4, None, 'foo') + (6, 0) + ('bar',)"
      ],
      "metadata": {
        "colab": {
          "base_uri": "https://localhost:8080/"
        },
        "id": "tSxExf7ctHc2",
        "outputId": "d346fe4a-cbf8-43d8-ebb1-3305c909c4f4"
      },
      "execution_count": null,
      "outputs": [
        {
          "output_type": "execute_result",
          "data": {
            "text/plain": [
              "(4, None, 'foo', 6, 0, 'bar')"
            ]
          },
          "metadata": {},
          "execution_count": 256
        }
      ]
    },
    {
      "cell_type": "markdown",
      "source": [
        "Lặp lại 4 lần"
      ],
      "metadata": {
        "id": "A7SoNUK7uFqW"
      }
    },
    {
      "cell_type": "code",
      "source": [
        "('foo', 'bar') * 4"
      ],
      "metadata": {
        "colab": {
          "base_uri": "https://localhost:8080/"
        },
        "id": "BJycp0g5uBG2",
        "outputId": "0fde84f0-0623-403c-859b-c3e50fd28642"
      },
      "execution_count": null,
      "outputs": [
        {
          "output_type": "execute_result",
          "data": {
            "text/plain": [
              "('foo', 'bar', 'foo', 'bar', 'foo', 'bar', 'foo', 'bar')"
            ]
          },
          "metadata": {},
          "execution_count": 259
        }
      ]
    },
    {
      "cell_type": "markdown",
      "source": [
        "**Unpacking tuples**"
      ],
      "metadata": {
        "id": "OVyV3S0cuKOY"
      }
    },
    {
      "cell_type": "markdown",
      "source": [
        "Gán lần lượt các phần tử của tuple"
      ],
      "metadata": {
        "id": "-mLBPLKhuXKR"
      }
    },
    {
      "cell_type": "code",
      "source": [
        "tup = (4, 5, 6)\n",
        "a, b, c = tup\n",
        "b"
      ],
      "metadata": {
        "colab": {
          "base_uri": "https://localhost:8080/"
        },
        "id": "ypVcAYgmuKgU",
        "outputId": "3aa896ae-9472-45af-8cf3-359527838a3d"
      },
      "execution_count": null,
      "outputs": [
        {
          "output_type": "execute_result",
          "data": {
            "text/plain": [
              "5"
            ]
          },
          "metadata": {},
          "execution_count": 268
        }
      ]
    },
    {
      "cell_type": "code",
      "source": [
        "tup = 4, 5, (6, 7)\n",
        "a, b, (c, d) = tup\n",
        "d"
      ],
      "metadata": {
        "colab": {
          "base_uri": "https://localhost:8080/"
        },
        "id": "134XHCLWuaIR",
        "outputId": "2d6f75c4-7f2d-4474-a3bd-dd8a5eefbab2"
      },
      "execution_count": null,
      "outputs": [
        {
          "output_type": "execute_result",
          "data": {
            "text/plain": [
              "7"
            ]
          },
          "metadata": {},
          "execution_count": 269
        }
      ]
    },
    {
      "cell_type": "code",
      "source": [
        "a, b = 1, 2\n",
        "a"
      ],
      "metadata": {
        "colab": {
          "base_uri": "https://localhost:8080/"
        },
        "id": "ZP7YMXQTufy0",
        "outputId": "68ec69b9-ae76-444c-b13c-0e34956b0240"
      },
      "execution_count": null,
      "outputs": [
        {
          "output_type": "execute_result",
          "data": {
            "text/plain": [
              "1"
            ]
          },
          "metadata": {},
          "execution_count": 270
        }
      ]
    },
    {
      "cell_type": "code",
      "source": [
        "b\n"
      ],
      "metadata": {
        "colab": {
          "base_uri": "https://localhost:8080/"
        },
        "id": "GOjBg7JgujMi",
        "outputId": "6d1e3e60-1cf4-4d6a-fbf1-b53381ef1994"
      },
      "execution_count": null,
      "outputs": [
        {
          "output_type": "execute_result",
          "data": {
            "text/plain": [
              "2"
            ]
          },
          "metadata": {},
          "execution_count": 271
        }
      ]
    },
    {
      "cell_type": "code",
      "source": [
        "b, a = a, b\n",
        "a"
      ],
      "metadata": {
        "colab": {
          "base_uri": "https://localhost:8080/"
        },
        "id": "NLzSmTbIukUg",
        "outputId": "fb771c55-c14f-4fc8-c3da-28f52543898d"
      },
      "execution_count": null,
      "outputs": [
        {
          "output_type": "execute_result",
          "data": {
            "text/plain": [
              "2"
            ]
          },
          "metadata": {},
          "execution_count": 272
        }
      ]
    },
    {
      "cell_type": "code",
      "source": [
        "b"
      ],
      "metadata": {
        "colab": {
          "base_uri": "https://localhost:8080/"
        },
        "id": "v9kUEV07um7l",
        "outputId": "5cc40004-1f40-46bc-e0b7-c690aae49a95"
      },
      "execution_count": null,
      "outputs": [
        {
          "output_type": "execute_result",
          "data": {
            "text/plain": [
              "2"
            ]
          },
          "metadata": {},
          "execution_count": 267
        }
      ]
    },
    {
      "cell_type": "markdown",
      "source": [
        "Vòng lặp for với tuple"
      ],
      "metadata": {
        "id": "7oF0B1oRu3lO"
      }
    },
    {
      "cell_type": "code",
      "source": [
        "seq = [(1, 2, 3), (4, 5, 6), (7, 8, 9)]\n",
        "for a, b, c in seq:\n",
        "    print(f'a={a}, b={b}, c={c}')"
      ],
      "metadata": {
        "colab": {
          "base_uri": "https://localhost:8080/"
        },
        "id": "ttFxdhH_uv6d",
        "outputId": "f7dde8bb-3af1-4e04-8c55-7c24d7b2180d"
      },
      "execution_count": null,
      "outputs": [
        {
          "output_type": "stream",
          "name": "stdout",
          "text": [
            "a=1, b=2, c=3\n",
            "a=4, b=5, c=6\n",
            "a=7, b=8, c=9\n"
          ]
        }
      ]
    },
    {
      "cell_type": "markdown",
      "source": [
        "a, b, *rest = values  \n",
        "Gán lần lượt:\n",
        "*   a = 1\n",
        "*   b = 2\n",
        "*   rest = [3, 4, 5] (rest luôn tạo một list chứa các phần tử còn lại.)"
      ],
      "metadata": {
        "id": "kfaz-FkKvOmc"
      }
    },
    {
      "cell_type": "code",
      "source": [
        "values = 1, 2, 3, 4, 5\n",
        "a, b, *rest = values"
      ],
      "metadata": {
        "id": "hozv0hpuu8Mt"
      },
      "execution_count": null,
      "outputs": []
    },
    {
      "cell_type": "code",
      "source": [
        "a"
      ],
      "metadata": {
        "colab": {
          "base_uri": "https://localhost:8080/"
        },
        "id": "Q6lzgCFzvGbo",
        "outputId": "f55cf062-407d-47c0-a5f8-1048d167d987"
      },
      "execution_count": null,
      "outputs": [
        {
          "output_type": "execute_result",
          "data": {
            "text/plain": [
              "1"
            ]
          },
          "metadata": {},
          "execution_count": 279
        }
      ]
    },
    {
      "cell_type": "code",
      "source": [
        "b"
      ],
      "metadata": {
        "colab": {
          "base_uri": "https://localhost:8080/"
        },
        "id": "HX3HeVclu-IR",
        "outputId": "48cc36eb-662b-4305-c4fc-1e4e8439a9f1"
      },
      "execution_count": null,
      "outputs": [
        {
          "output_type": "execute_result",
          "data": {
            "text/plain": [
              "2"
            ]
          },
          "metadata": {},
          "execution_count": 275
        }
      ]
    },
    {
      "cell_type": "code",
      "source": [
        "rest"
      ],
      "metadata": {
        "colab": {
          "base_uri": "https://localhost:8080/"
        },
        "id": "U2q5DD6uu_E3",
        "outputId": "34075f47-24be-492f-c4aa-58729c784cce"
      },
      "execution_count": null,
      "outputs": [
        {
          "output_type": "execute_result",
          "data": {
            "text/plain": [
              "[3, 4, 5]"
            ]
          },
          "metadata": {},
          "execution_count": 276
        }
      ]
    },
    {
      "cell_type": "markdown",
      "source": [
        "_ (thường dùng để bỏ qua giá trị không cần thiết)"
      ],
      "metadata": {
        "id": "maFYzWqJv77Z"
      }
    },
    {
      "cell_type": "code",
      "source": [
        "a, b, *_ = values\n",
        "print(a)\n",
        "print(b)\n",
        "print(_)"
      ],
      "metadata": {
        "colab": {
          "base_uri": "https://localhost:8080/"
        },
        "id": "kIgnmkA6vpsJ",
        "outputId": "c97e4666-5278-4335-8ee6-f42b0e331d82"
      },
      "execution_count": null,
      "outputs": [
        {
          "output_type": "stream",
          "name": "stdout",
          "text": [
            "1\n",
            "2\n",
            "[3, 4, 5]\n"
          ]
        }
      ]
    },
    {
      "cell_type": "markdown",
      "source": [
        "**Tuple methods**"
      ],
      "metadata": {
        "id": "Ho8gJ_irwETA"
      }
    },
    {
      "cell_type": "markdown",
      "source": [
        "Đếm số 2 trong tuple"
      ],
      "metadata": {
        "id": "7Tcu7O5XwJDJ"
      }
    },
    {
      "cell_type": "code",
      "source": [
        "a = (1, 2, 2, 2, 3, 4, 2)\n",
        "a.count(2)"
      ],
      "metadata": {
        "colab": {
          "base_uri": "https://localhost:8080/"
        },
        "id": "3Wsrie69wHQ-",
        "outputId": "06b71ee0-a720-43be-8022-843c7b88a5f2"
      },
      "execution_count": null,
      "outputs": [
        {
          "output_type": "execute_result",
          "data": {
            "text/plain": [
              "4"
            ]
          },
          "metadata": {},
          "execution_count": 285
        }
      ]
    },
    {
      "cell_type": "markdown",
      "source": [
        "### List"
      ],
      "metadata": {
        "id": "jb5bzXp8wRAQ"
      }
    },
    {
      "cell_type": "markdown",
      "source": [
        "Chuyển tuple thành list"
      ],
      "metadata": {
        "id": "OMXHvHoUwpBv"
      }
    },
    {
      "cell_type": "code",
      "source": [
        "a_list = [2, 3, 7, None]\n",
        "tup = (\"foo\", \"bar\", \"baz\")\n",
        "b_list = list(tup)\n",
        "b_list"
      ],
      "metadata": {
        "colab": {
          "base_uri": "https://localhost:8080/"
        },
        "id": "oMTf0J4MwWt_",
        "outputId": "adff11ed-2cb3-4550-bc98-66880e69c1d9"
      },
      "execution_count": null,
      "outputs": [
        {
          "output_type": "execute_result",
          "data": {
            "text/plain": [
              "['foo', 'bar', 'baz']"
            ]
          },
          "metadata": {},
          "execution_count": 304
        }
      ]
    },
    {
      "cell_type": "markdown",
      "source": [
        "Thay vị trí [1]"
      ],
      "metadata": {
        "id": "QVQ3Lcl4wdH2"
      }
    },
    {
      "cell_type": "code",
      "source": [
        "b_list[1] = \"peekaboo\"\n",
        "b_list"
      ],
      "metadata": {
        "colab": {
          "base_uri": "https://localhost:8080/"
        },
        "id": "UbTq75zdwcI5",
        "outputId": "9064cce1-311f-4730-e193-017a98f29604"
      },
      "execution_count": null,
      "outputs": [
        {
          "output_type": "execute_result",
          "data": {
            "text/plain": [
              "['foo', 'peekaboo', 'baz']"
            ]
          },
          "metadata": {},
          "execution_count": 305
        }
      ]
    },
    {
      "cell_type": "markdown",
      "source": [
        "Tạo một đối tượng range"
      ],
      "metadata": {
        "id": "oMkPdFXsw81K"
      }
    },
    {
      "cell_type": "code",
      "source": [
        "gen = range(10)\n",
        "gen"
      ],
      "metadata": {
        "colab": {
          "base_uri": "https://localhost:8080/"
        },
        "id": "EbBNuBNXwsDI",
        "outputId": "a012c735-fd02-4921-be0f-7b3811c46634"
      },
      "execution_count": null,
      "outputs": [
        {
          "output_type": "execute_result",
          "data": {
            "text/plain": [
              "range(0, 10)"
            ]
          },
          "metadata": {},
          "execution_count": 298
        }
      ]
    },
    {
      "cell_type": "markdown",
      "source": [
        "Chuyển range thành list"
      ],
      "metadata": {
        "id": "BuC4aXa_w70C"
      }
    },
    {
      "cell_type": "code",
      "source": [
        "list(gen)"
      ],
      "metadata": {
        "colab": {
          "base_uri": "https://localhost:8080/"
        },
        "id": "rbukO266wuyb",
        "outputId": "4765537f-7586-48e0-e5c3-470bccb01aed"
      },
      "execution_count": null,
      "outputs": [
        {
          "output_type": "execute_result",
          "data": {
            "text/plain": [
              "[0, 1, 2, 3, 4, 5, 6, 7, 8, 9]"
            ]
          },
          "metadata": {},
          "execution_count": 299
        }
      ]
    },
    {
      "cell_type": "markdown",
      "source": [
        "**Adding and removing elements**"
      ],
      "metadata": {
        "id": "KSU8lnF_xgNk"
      }
    },
    {
      "cell_type": "markdown",
      "source": [
        "Thêm phần tử vào cuối list"
      ],
      "metadata": {
        "id": "fKrDXIggxK2D"
      }
    },
    {
      "cell_type": "code",
      "source": [
        "b_list.append(\"dwarf\")\n",
        "b_list"
      ],
      "metadata": {
        "colab": {
          "base_uri": "https://localhost:8080/"
        },
        "id": "GdDfQGE-xCLg",
        "outputId": "57e6d3e7-3c19-4184-81e8-bfe234ce5052"
      },
      "execution_count": null,
      "outputs": [
        {
          "output_type": "execute_result",
          "data": {
            "text/plain": [
              "['foo', 'peekaboo', 'baz', 'dwarf']"
            ]
          },
          "metadata": {},
          "execution_count": 306
        }
      ]
    },
    {
      "cell_type": "markdown",
      "source": [
        "Thêm phần tử vào vị trí thứ 2 trong list"
      ],
      "metadata": {
        "id": "0_J5xaVsxU_B"
      }
    },
    {
      "cell_type": "code",
      "source": [
        "b_list.insert(1, \"red\")\n",
        "b_list"
      ],
      "metadata": {
        "colab": {
          "base_uri": "https://localhost:8080/"
        },
        "id": "9T8APystxRzX",
        "outputId": "1ce93880-42a1-4169-bf25-9f151828936e"
      },
      "execution_count": null,
      "outputs": [
        {
          "output_type": "execute_result",
          "data": {
            "text/plain": [
              "['foo', 'red', 'peekaboo', 'baz', 'dwarf']"
            ]
          },
          "metadata": {},
          "execution_count": 307
        }
      ]
    },
    {
      "cell_type": "markdown",
      "source": [
        "Xóa phần tử thứ 3"
      ],
      "metadata": {
        "id": "q-sLhNuSx4ZR"
      }
    },
    {
      "cell_type": "code",
      "source": [
        "b_list.pop(2)\n"
      ],
      "metadata": {
        "colab": {
          "base_uri": "https://localhost:8080/",
          "height": 36
        },
        "id": "jabBsRBIxuQp",
        "outputId": "11d60275-8c71-4b9e-ff52-3b365ef18e12"
      },
      "execution_count": null,
      "outputs": [
        {
          "output_type": "execute_result",
          "data": {
            "text/plain": [
              "'peekaboo'"
            ],
            "application/vnd.google.colaboratory.intrinsic+json": {
              "type": "string"
            }
          },
          "metadata": {},
          "execution_count": 308
        }
      ]
    },
    {
      "cell_type": "code",
      "source": [
        "b_list"
      ],
      "metadata": {
        "colab": {
          "base_uri": "https://localhost:8080/"
        },
        "id": "A7q80MC2xnhL",
        "outputId": "9daf3b0c-0f55-4037-ad7f-778ec98c164a"
      },
      "execution_count": null,
      "outputs": [
        {
          "output_type": "execute_result",
          "data": {
            "text/plain": [
              "['foo', 'red', 'baz', 'dwarf']"
            ]
          },
          "metadata": {},
          "execution_count": 309
        }
      ]
    },
    {
      "cell_type": "markdown",
      "source": [
        "Thêm phần tử foo vào cuối list"
      ],
      "metadata": {
        "id": "DGSsXfCJyOVt"
      }
    },
    {
      "cell_type": "code",
      "source": [
        "b_list.append(\"foo\")\n",
        "b_list"
      ],
      "metadata": {
        "colab": {
          "base_uri": "https://localhost:8080/"
        },
        "id": "kTX5sXvQyCzG",
        "outputId": "94ab5929-9177-44e0-e6b2-dd85cc3457f6"
      },
      "execution_count": null,
      "outputs": [
        {
          "output_type": "execute_result",
          "data": {
            "text/plain": [
              "['foo', 'red', 'baz', 'dwarf', 'foo']"
            ]
          },
          "metadata": {},
          "execution_count": 310
        }
      ]
    },
    {
      "cell_type": "markdown",
      "source": [
        "Xoá phần tử foo đầu tiên"
      ],
      "metadata": {
        "id": "A52cRj_bySeO"
      }
    },
    {
      "cell_type": "code",
      "source": [
        "b_list.remove(\"foo\")\n",
        "b_list"
      ],
      "metadata": {
        "colab": {
          "base_uri": "https://localhost:8080/"
        },
        "id": "6HGY-wo_yJ9T",
        "outputId": "213db639-31f6-4a0d-deee-92a9e8325144"
      },
      "execution_count": null,
      "outputs": [
        {
          "output_type": "execute_result",
          "data": {
            "text/plain": [
              "['red', 'baz', 'dwarf', 'foo']"
            ]
          },
          "metadata": {},
          "execution_count": 311
        }
      ]
    },
    {
      "cell_type": "markdown",
      "source": [
        "Kiểm tra xem phần tử có trong chuỗi k"
      ],
      "metadata": {
        "id": "drkLgKyayXjf"
      }
    },
    {
      "cell_type": "code",
      "source": [
        "\n",
        "\"dwarf\" in b_list"
      ],
      "metadata": {
        "colab": {
          "base_uri": "https://localhost:8080/"
        },
        "id": "Zvay8qHjyWH0",
        "outputId": "9b424607-5a85-414a-8af4-5a8070fdc5df"
      },
      "execution_count": null,
      "outputs": [
        {
          "output_type": "execute_result",
          "data": {
            "text/plain": [
              "True"
            ]
          },
          "metadata": {},
          "execution_count": 312
        }
      ]
    },
    {
      "cell_type": "code",
      "source": [
        "\"dwarf\" not in b_list"
      ],
      "metadata": {
        "colab": {
          "base_uri": "https://localhost:8080/"
        },
        "id": "yz-vS1S0ye0m",
        "outputId": "0a73945a-ebc3-4d89-c5fc-464630e8b0f6"
      },
      "execution_count": null,
      "outputs": [
        {
          "output_type": "execute_result",
          "data": {
            "text/plain": [
              "False"
            ]
          },
          "metadata": {},
          "execution_count": 313
        }
      ]
    },
    {
      "cell_type": "markdown",
      "source": [
        "**Concatenating and combining lists**"
      ],
      "metadata": {
        "id": "XKxI7gbmyjD_"
      }
    },
    {
      "cell_type": "markdown",
      "source": [
        "Nối hai list lại với nhau."
      ],
      "metadata": {
        "id": "KLBaVDVQyuaE"
      }
    },
    {
      "cell_type": "code",
      "source": [
        "[4, None, \"foo\"] + [7, 8, (2, 3)]"
      ],
      "metadata": {
        "colab": {
          "base_uri": "https://localhost:8080/"
        },
        "id": "MnflphMoylNw",
        "outputId": "795d225f-6a85-486a-8545-1b91e806146f"
      },
      "execution_count": null,
      "outputs": [
        {
          "output_type": "execute_result",
          "data": {
            "text/plain": [
              "[4, None, 'foo', 7, 8, (2, 3)]"
            ]
          },
          "metadata": {},
          "execution_count": 315
        }
      ]
    },
    {
      "cell_type": "code",
      "source": [
        "x = [4, None, \"foo\"]\n",
        "x.extend([7, 8, (2, 3)])\n",
        "x"
      ],
      "metadata": {
        "colab": {
          "base_uri": "https://localhost:8080/"
        },
        "id": "flpePln8yqdH",
        "outputId": "bea78803-a216-498d-c686-82db5852c988"
      },
      "execution_count": null,
      "outputs": [
        {
          "output_type": "execute_result",
          "data": {
            "text/plain": [
              "[4, None, 'foo', 7, 8, (2, 3)]"
            ]
          },
          "metadata": {},
          "execution_count": 316
        }
      ]
    },
    {
      "cell_type": "markdown",
      "source": [
        "Gom tất cả phần tử từ nhiều list con vào một list duy nhất"
      ],
      "metadata": {
        "id": "lVCxEPBGzFZi"
      }
    },
    {
      "cell_type": "code",
      "source": [
        "list_of_lists = [[1, 2], [5]]\n",
        "everything = [ [3, 4]]\n",
        "for chunk in list_of_lists:\n",
        "    everything.extend(chunk)\n",
        "\n",
        "print(everything)"
      ],
      "metadata": {
        "colab": {
          "base_uri": "https://localhost:8080/"
        },
        "id": "j61DgqC-zFzw",
        "outputId": "04bda462-5b32-41ad-e834-335e270069db"
      },
      "execution_count": null,
      "outputs": [
        {
          "output_type": "stream",
          "name": "stdout",
          "text": [
            "[[3, 4], 1, 2, 5]\n"
          ]
        }
      ]
    },
    {
      "cell_type": "code",
      "source": [
        "everything = [ [7, 8]]\n",
        "for chunk in list_of_lists:\n",
        "  everything = everything + chunk\n",
        "\n",
        "print(everything)"
      ],
      "metadata": {
        "colab": {
          "base_uri": "https://localhost:8080/"
        },
        "id": "n1cEvJtUzYiH",
        "outputId": "6f175987-76e4-41c6-97b4-51936771cd8c"
      },
      "execution_count": null,
      "outputs": [
        {
          "output_type": "stream",
          "name": "stdout",
          "text": [
            "[[7, 8], 1, 2, 5]\n"
          ]
        }
      ]
    },
    {
      "cell_type": "markdown",
      "source": [
        "**Sorting**"
      ],
      "metadata": {
        "id": "vt_9VpNKzDNm"
      }
    },
    {
      "cell_type": "markdown",
      "source": [
        "Sắp xếp list theo thứ tự tắng dần"
      ],
      "metadata": {
        "id": "qTy9XaUny3zY"
      }
    },
    {
      "cell_type": "code",
      "source": [
        "a = [7, 2, 5, 1, 3]\n",
        "a.sort()\n",
        "a"
      ],
      "metadata": {
        "colab": {
          "base_uri": "https://localhost:8080/"
        },
        "id": "7l_EVMkry2UC",
        "outputId": "20f6dd5e-256b-4478-81b3-345245c54ccd"
      },
      "execution_count": null,
      "outputs": [
        {
          "output_type": "execute_result",
          "data": {
            "text/plain": [
              "[1, 2, 3, 5, 7]"
            ]
          },
          "metadata": {},
          "execution_count": 317
        }
      ]
    },
    {
      "cell_type": "markdown",
      "source": [
        "Sắp xếp list theo độ dài các từ, từ ngắn đến dài."
      ],
      "metadata": {
        "id": "dUylSKX60hSm"
      }
    },
    {
      "cell_type": "code",
      "source": [
        "b = [\"saw\", \"small\", \"He\", \"foxes\", \"six\"]\n",
        "b.sort(key=len)\n",
        "b"
      ],
      "metadata": {
        "colab": {
          "base_uri": "https://localhost:8080/"
        },
        "id": "SwtCq4YS0adC",
        "outputId": "626fa040-1271-4c46-c4f9-97ba321d0ae8"
      },
      "execution_count": null,
      "outputs": [
        {
          "output_type": "execute_result",
          "data": {
            "text/plain": [
              "['He', 'saw', 'six', 'small', 'foxes']"
            ]
          },
          "metadata": {},
          "execution_count": 340
        }
      ]
    },
    {
      "cell_type": "markdown",
      "source": [
        "**Slicing**"
      ],
      "metadata": {
        "id": "I181xsFE0rBt"
      }
    },
    {
      "cell_type": "markdown",
      "source": [
        "Lấy các phần tử từ index 1 đến index 4"
      ],
      "metadata": {
        "id": "OaNHudT105IE"
      }
    },
    {
      "cell_type": "code",
      "source": [
        "seq = [7, 2, 3, 7, 5, 6, 0, 1]\n",
        "seq[1:5]"
      ],
      "metadata": {
        "colab": {
          "base_uri": "https://localhost:8080/"
        },
        "id": "3Hcb6v400ssm",
        "outputId": "25ed3343-f973-43c1-b03f-604a12729614"
      },
      "execution_count": null,
      "outputs": [
        {
          "output_type": "execute_result",
          "data": {
            "text/plain": [
              "[2, 3, 7, 5]"
            ]
          },
          "metadata": {},
          "execution_count": 355
        }
      ]
    },
    {
      "cell_type": "markdown",
      "source": [
        "Căt từ index 3 đến 4 (7, 5)"
      ],
      "metadata": {
        "id": "-IADceUQ09u1"
      }
    },
    {
      "cell_type": "code",
      "source": [
        "seq[3:5] = [6, 3]\n",
        "seq"
      ],
      "metadata": {
        "colab": {
          "base_uri": "https://localhost:8080/"
        },
        "id": "Pix-DOs-09-J",
        "outputId": "6908da9c-8ca9-4d2d-e061-e9a72faf851d"
      },
      "execution_count": null,
      "outputs": [
        {
          "output_type": "execute_result",
          "data": {
            "text/plain": [
              "[7, 2, 3, 6, 3, 6, 0, 1]"
            ]
          },
          "metadata": {},
          "execution_count": 356
        }
      ]
    },
    {
      "cell_type": "markdown",
      "source": [
        "Lấy 5 phần tử đầu tiên (index 0 đến 4)."
      ],
      "metadata": {
        "id": "97vJGtsk14iU"
      }
    },
    {
      "cell_type": "code",
      "source": [
        "seq[:5]"
      ],
      "metadata": {
        "colab": {
          "base_uri": "https://localhost:8080/"
        },
        "id": "kKceyEAt1tGX",
        "outputId": "abd81aaa-010d-434b-b1e0-76643f781b40"
      },
      "execution_count": null,
      "outputs": [
        {
          "output_type": "execute_result",
          "data": {
            "text/plain": [
              "[7, 2, 3, 6, 3]"
            ]
          },
          "metadata": {},
          "execution_count": 357
        }
      ]
    },
    {
      "cell_type": "markdown",
      "source": [
        "Lấy tất cả phần tử từ index 3 trở đi."
      ],
      "metadata": {
        "id": "yeDZJr562I1n"
      }
    },
    {
      "cell_type": "code",
      "source": [
        "seq[3:]"
      ],
      "metadata": {
        "colab": {
          "base_uri": "https://localhost:8080/"
        },
        "id": "EZYTNFvE2ECE",
        "outputId": "054aa80c-be4d-4b3f-9c76-fcde700bdcea"
      },
      "execution_count": null,
      "outputs": [
        {
          "output_type": "execute_result",
          "data": {
            "text/plain": [
              "[6, 3, 6, 0, 1]"
            ]
          },
          "metadata": {},
          "execution_count": 358
        }
      ]
    },
    {
      "cell_type": "markdown",
      "source": [
        "Lấy 4 phần tử cuối cùng"
      ],
      "metadata": {
        "id": "Omz1mPYq2YGx"
      }
    },
    {
      "cell_type": "code",
      "source": [
        "seq[-4:]"
      ],
      "metadata": {
        "colab": {
          "base_uri": "https://localhost:8080/"
        },
        "id": "K5WqIpWq2L44",
        "outputId": "bc18264a-f19f-4ebe-fc24-063422ef4379"
      },
      "execution_count": null,
      "outputs": [
        {
          "output_type": "execute_result",
          "data": {
            "text/plain": [
              "[3, 6, 0, 1]"
            ]
          },
          "metadata": {},
          "execution_count": 359
        }
      ]
    },
    {
      "cell_type": "markdown",
      "source": [
        "Lấy 4 phần tử bắt đầu từ index -6 đến trước index -2."
      ],
      "metadata": {
        "id": "_zby2liM2dxF"
      }
    },
    {
      "cell_type": "code",
      "source": [
        "seq[-6:-2]"
      ],
      "metadata": {
        "colab": {
          "base_uri": "https://localhost:8080/"
        },
        "id": "HaNQ9jZf2Nys",
        "outputId": "6b2a3147-3bbe-46a6-e68d-e0eedb3dd294"
      },
      "execution_count": null,
      "outputs": [
        {
          "output_type": "execute_result",
          "data": {
            "text/plain": [
              "[3, 6, 3, 6]"
            ]
          },
          "metadata": {},
          "execution_count": 360
        }
      ]
    },
    {
      "cell_type": "code",
      "source": [
        "seq[::2]"
      ],
      "metadata": {
        "colab": {
          "base_uri": "https://localhost:8080/"
        },
        "id": "QKbCCy332xhf",
        "outputId": "91bef8da-a0ed-46b8-c631-787ce4111a88"
      },
      "execution_count": null,
      "outputs": [
        {
          "output_type": "execute_result",
          "data": {
            "text/plain": [
              "[7, 3, 3, 0]"
            ]
          },
          "metadata": {},
          "execution_count": 362
        }
      ]
    },
    {
      "cell_type": "code",
      "source": [
        "\n",
        "seq[::-1]"
      ],
      "metadata": {
        "colab": {
          "base_uri": "https://localhost:8080/"
        },
        "id": "yvxYMqEB2zL6",
        "outputId": "262dd79b-00cf-4b8a-b3bf-8b3fc1432948"
      },
      "execution_count": null,
      "outputs": [
        {
          "output_type": "execute_result",
          "data": {
            "text/plain": [
              "[1, 0, 6, 3, 6, 3, 2, 7]"
            ]
          },
          "metadata": {},
          "execution_count": 363
        }
      ]
    },
    {
      "cell_type": "markdown",
      "source": [
        "### Dictionary"
      ],
      "metadata": {
        "id": "WSOfRL8-291d"
      }
    },
    {
      "cell_type": "code",
      "source": [
        "empty_dict = {}\n",
        "d1 = {\"a\": \"some value\", \"b\": [1, 2, 3, 4]}\n",
        "d1"
      ],
      "metadata": {
        "colab": {
          "base_uri": "https://localhost:8080/"
        },
        "id": "IJei5ZIW2_nR",
        "outputId": "68c0cb51-3ee4-4e08-c975-6d730d6e1d91"
      },
      "execution_count": null,
      "outputs": [
        {
          "output_type": "execute_result",
          "data": {
            "text/plain": [
              "{'a': 'some value', 'b': [1, 2, 3, 4]}"
            ]
          },
          "metadata": {},
          "execution_count": 364
        }
      ]
    },
    {
      "cell_type": "code",
      "source": [
        "d1[7] = \"an integer\"\n",
        "d1"
      ],
      "metadata": {
        "colab": {
          "base_uri": "https://localhost:8080/"
        },
        "id": "rPMlXbQo3Gk3",
        "outputId": "d3519667-c660-47f2-d544-ed6f24153970"
      },
      "execution_count": null,
      "outputs": [
        {
          "output_type": "execute_result",
          "data": {
            "text/plain": [
              "{'a': 'some value', 'b': [1, 2, 3, 4], 7: 'an integer'}"
            ]
          },
          "metadata": {},
          "execution_count": 366
        }
      ]
    },
    {
      "cell_type": "code",
      "source": [
        "d1[\"b\"]"
      ],
      "metadata": {
        "colab": {
          "base_uri": "https://localhost:8080/"
        },
        "id": "d9WPIRB63R0V",
        "outputId": "84c9d992-6985-47be-a055-82cbb63d5c02"
      },
      "execution_count": null,
      "outputs": [
        {
          "output_type": "execute_result",
          "data": {
            "text/plain": [
              "[1, 2, 3, 4]"
            ]
          },
          "metadata": {},
          "execution_count": 367
        }
      ]
    },
    {
      "cell_type": "code",
      "source": [
        "\"b\" in d1"
      ],
      "metadata": {
        "colab": {
          "base_uri": "https://localhost:8080/"
        },
        "id": "DGPs2Gwk3TwR",
        "outputId": "a37e9937-6ffc-4fdd-c2f1-24a7d16cf6e7"
      },
      "execution_count": null,
      "outputs": [
        {
          "output_type": "execute_result",
          "data": {
            "text/plain": [
              "True"
            ]
          },
          "metadata": {},
          "execution_count": 370
        }
      ]
    },
    {
      "cell_type": "code",
      "source": [
        "d1[5] = \"some value\"\n",
        "d1"
      ],
      "metadata": {
        "colab": {
          "base_uri": "https://localhost:8080/"
        },
        "id": "V6RSIuQn3Wj0",
        "outputId": "e9428ae7-5a29-4c20-c32d-2d03fb732a51"
      },
      "execution_count": null,
      "outputs": [
        {
          "output_type": "execute_result",
          "data": {
            "text/plain": [
              "{'a': 'some value', 'b': [1, 2, 3, 4], 7: 'an integer', 5: 'some value'}"
            ]
          },
          "metadata": {},
          "execution_count": 369
        }
      ]
    },
    {
      "cell_type": "code",
      "source": [
        "d1[\"dummy\"] = \"another value\"\n",
        "d1"
      ],
      "metadata": {
        "colab": {
          "base_uri": "https://localhost:8080/"
        },
        "id": "hvBVk7SL3fbA",
        "outputId": "15b3e0e9-8f5f-434a-968d-d74302b18465"
      },
      "execution_count": null,
      "outputs": [
        {
          "output_type": "execute_result",
          "data": {
            "text/plain": [
              "{'a': 'some value',\n",
              " 'b': [1, 2, 3, 4],\n",
              " 7: 'an integer',\n",
              " 5: 'some value',\n",
              " 'dummy': 'another value'}"
            ]
          },
          "metadata": {},
          "execution_count": 371
        }
      ]
    },
    {
      "cell_type": "code",
      "source": [
        "del d1[5]\n",
        "d1"
      ],
      "metadata": {
        "colab": {
          "base_uri": "https://localhost:8080/"
        },
        "id": "rmvQ9Df63hKk",
        "outputId": "f4bf8cc6-edc4-41c5-d338-c783d98dcedb"
      },
      "execution_count": null,
      "outputs": [
        {
          "output_type": "execute_result",
          "data": {
            "text/plain": [
              "{'a': 'some value',\n",
              " 'b': [1, 2, 3, 4],\n",
              " 7: 'an integer',\n",
              " 'dummy': 'another value'}"
            ]
          },
          "metadata": {},
          "execution_count": 372
        }
      ]
    },
    {
      "cell_type": "code",
      "source": [
        "ret = d1.pop(\"dummy\")\n",
        "ret"
      ],
      "metadata": {
        "colab": {
          "base_uri": "https://localhost:8080/",
          "height": 36
        },
        "id": "Wj7kMIDe3o6H",
        "outputId": "1dd94c00-4846-4525-b999-16f1dbe54c61"
      },
      "execution_count": null,
      "outputs": [
        {
          "output_type": "execute_result",
          "data": {
            "text/plain": [
              "'another value'"
            ],
            "application/vnd.google.colaboratory.intrinsic+json": {
              "type": "string"
            }
          },
          "metadata": {},
          "execution_count": 373
        }
      ]
    },
    {
      "cell_type": "code",
      "source": [
        "d1"
      ],
      "metadata": {
        "colab": {
          "base_uri": "https://localhost:8080/"
        },
        "id": "ENV72A4Y3p-v",
        "outputId": "464b1dd8-3582-425c-af25-ef27ae5c3063"
      },
      "execution_count": null,
      "outputs": [
        {
          "output_type": "execute_result",
          "data": {
            "text/plain": [
              "{'a': 'some value', 'b': [1, 2, 3, 4], 7: 'an integer'}"
            ]
          },
          "metadata": {},
          "execution_count": 374
        }
      ]
    },
    {
      "cell_type": "code",
      "source": [
        "list(d1.keys())"
      ],
      "metadata": {
        "colab": {
          "base_uri": "https://localhost:8080/"
        },
        "id": "GMJrJ3zo3t2F",
        "outputId": "b716b8a5-d345-4157-e036-3a7286d2eabc"
      },
      "execution_count": null,
      "outputs": [
        {
          "output_type": "execute_result",
          "data": {
            "text/plain": [
              "['a', 'b', 7]"
            ]
          },
          "metadata": {},
          "execution_count": 376
        }
      ]
    },
    {
      "cell_type": "code",
      "source": [
        "list(d1.values())"
      ],
      "metadata": {
        "colab": {
          "base_uri": "https://localhost:8080/"
        },
        "id": "YcNPSYd93ws9",
        "outputId": "6f45de0d-0868-4fb9-c1cf-c1d7108fbe33"
      },
      "execution_count": null,
      "outputs": [
        {
          "output_type": "execute_result",
          "data": {
            "text/plain": [
              "['some value', [1, 2, 3, 4], 'an integer']"
            ]
          },
          "metadata": {},
          "execution_count": 377
        }
      ]
    },
    {
      "cell_type": "code",
      "source": [
        "list(d1.items())"
      ],
      "metadata": {
        "colab": {
          "base_uri": "https://localhost:8080/"
        },
        "id": "2Ew21qF43yu9",
        "outputId": "d429806b-60d5-4c9b-bce8-7f25679fbb46"
      },
      "execution_count": null,
      "outputs": [
        {
          "output_type": "execute_result",
          "data": {
            "text/plain": [
              "[('a', 'some value'), ('b', [1, 2, 3, 4]), (7, 'an integer')]"
            ]
          },
          "metadata": {},
          "execution_count": 379
        }
      ]
    },
    {
      "cell_type": "code",
      "source": [
        "d1.update({\"b\": \"foo\", \"c\": 12})\n",
        "d1"
      ],
      "metadata": {
        "colab": {
          "base_uri": "https://localhost:8080/"
        },
        "id": "6foSiHle31ym",
        "outputId": "17b35957-fe8e-4927-862f-2a2e62120287"
      },
      "execution_count": null,
      "outputs": [
        {
          "output_type": "execute_result",
          "data": {
            "text/plain": [
              "{'a': 'some value', 'b': 'foo', 7: 'an integer', 'c': 12}"
            ]
          },
          "metadata": {},
          "execution_count": 380
        }
      ]
    },
    {
      "cell_type": "markdown",
      "source": [
        "**Creating dictionaries from sequences**"
      ],
      "metadata": {
        "id": "1d_3eFUs34ha"
      }
    },
    {
      "cell_type": "code",
      "source": [
        "key_list = ['a', 'b', 'c']\n",
        "value_list = [1, 2, 3]\n",
        "\n",
        "mapping = {}\n",
        "for key, value in zip(key_list, value_list):\n",
        "    mapping[key] = value\n",
        "\n",
        "print(mapping)"
      ],
      "metadata": {
        "colab": {
          "base_uri": "https://localhost:8080/"
        },
        "id": "v-kWWs_a4Ate",
        "outputId": "42b1a71a-a0b8-4a2d-c59b-81eeb7795448"
      },
      "execution_count": null,
      "outputs": [
        {
          "output_type": "stream",
          "name": "stdout",
          "text": [
            "{'a': 1, 'b': 2, 'c': 3}\n"
          ]
        }
      ]
    },
    {
      "cell_type": "code",
      "source": [
        "tuples = zip(range(5), reversed(range(5)))\n",
        "tuples"
      ],
      "metadata": {
        "colab": {
          "base_uri": "https://localhost:8080/"
        },
        "id": "uYIqNDBV38Tc",
        "outputId": "9cf32eb4-bee2-48a5-bdac-cc87cd9d247b"
      },
      "execution_count": null,
      "outputs": [
        {
          "output_type": "execute_result",
          "data": {
            "text/plain": [
              "<zip at 0x7a02307425c0>"
            ]
          },
          "metadata": {},
          "execution_count": 381
        }
      ]
    },
    {
      "cell_type": "code",
      "source": [
        "mapping = dict(tuples)\n",
        "mapping"
      ],
      "metadata": {
        "colab": {
          "base_uri": "https://localhost:8080/"
        },
        "id": "29FlGsGF3-ZR",
        "outputId": "8cab4c71-a0b6-4d9c-97f7-87eba5c48598"
      },
      "execution_count": null,
      "outputs": [
        {
          "output_type": "execute_result",
          "data": {
            "text/plain": [
              "{0: 4, 1: 3, 2: 2, 3: 1, 4: 0}"
            ]
          },
          "metadata": {},
          "execution_count": 382
        }
      ]
    },
    {
      "cell_type": "markdown",
      "source": [
        "**Default values**"
      ],
      "metadata": {
        "id": "ljQw0Nh14Qo6"
      }
    },
    {
      "cell_type": "code",
      "source": [
        "words = [\"apple\", \"bat\", \"bar\", \"atom\", \"book\"]\n",
        "by_letter = {}\n",
        "\n",
        "for word in words:\n",
        "    letter = word[0]\n",
        "    if letter not in by_letter:\n",
        "        by_letter[letter] = [word]\n",
        "    else:\n",
        "        by_letter[letter].append(word)\n",
        "\n",
        "by_letter"
      ],
      "metadata": {
        "colab": {
          "base_uri": "https://localhost:8080/"
        },
        "id": "9QCVgwTi4Z02",
        "outputId": "60ec57de-2233-43d0-eff2-2bad34d15a33"
      },
      "execution_count": null,
      "outputs": [
        {
          "output_type": "execute_result",
          "data": {
            "text/plain": [
              "{'a': ['apple', 'atom'], 'b': ['bat', 'bar', 'book']}"
            ]
          },
          "metadata": {},
          "execution_count": 388
        }
      ]
    },
    {
      "cell_type": "code",
      "source": [
        "by_letter = {}\n",
        "for word in words:\n",
        "    letter = word[0]\n",
        "    by_letter.setdefault(letter, []).append(word)\n",
        "by_letter"
      ],
      "metadata": {
        "colab": {
          "base_uri": "https://localhost:8080/"
        },
        "id": "Bzji2ToA4c8d",
        "outputId": "364235c9-1ff0-41db-9f8b-c0151ed16c32"
      },
      "execution_count": null,
      "outputs": [
        {
          "output_type": "execute_result",
          "data": {
            "text/plain": [
              "{'a': ['apple', 'atom'], 'b': ['bat', 'bar', 'book']}"
            ]
          },
          "metadata": {},
          "execution_count": 389
        }
      ]
    },
    {
      "cell_type": "code",
      "source": [
        "from collections import defaultdict\n",
        "by_letter = defaultdict(list)\n",
        "for word in words:\n",
        "    by_letter[word[0]].append(word)"
      ],
      "metadata": {
        "id": "NSWOFpb64ekL"
      },
      "execution_count": null,
      "outputs": []
    },
    {
      "cell_type": "markdown",
      "source": [
        "**Valid dictionary key types**"
      ],
      "metadata": {
        "id": "1A2TCmF44k-7"
      }
    },
    {
      "cell_type": "markdown",
      "source": [
        "Chỉ nhận các đối tượng không thay đổi còn list là mutable"
      ],
      "metadata": {
        "id": "xlI84Xw74u9R"
      }
    },
    {
      "cell_type": "code",
      "source": [
        "hash(\"string\")\n",
        "hash((1, 2, (2, 3)))\n",
        "hash((1, 2, [2, 3])) # fails because lists are mutable"
      ],
      "metadata": {
        "colab": {
          "base_uri": "https://localhost:8080/",
          "height": 183
        },
        "id": "Y9tKzeWl4rKg",
        "outputId": "7c9eaa08-2405-4a45-8737-b959edc7c9c3"
      },
      "execution_count": null,
      "outputs": [
        {
          "output_type": "error",
          "ename": "TypeError",
          "evalue": "unhashable type: 'list'",
          "traceback": [
            "\u001b[0;31m---------------------------------------------------------------------------\u001b[0m",
            "\u001b[0;31mTypeError\u001b[0m                                 Traceback (most recent call last)",
            "\u001b[0;32m/tmp/ipython-input-1861772862.py\u001b[0m in \u001b[0;36m<cell line: 0>\u001b[0;34m()\u001b[0m\n\u001b[1;32m      1\u001b[0m \u001b[0mhash\u001b[0m\u001b[0;34m(\u001b[0m\u001b[0;34m\"string\"\u001b[0m\u001b[0;34m)\u001b[0m\u001b[0;34m\u001b[0m\u001b[0;34m\u001b[0m\u001b[0m\n\u001b[1;32m      2\u001b[0m \u001b[0mhash\u001b[0m\u001b[0;34m(\u001b[0m\u001b[0;34m(\u001b[0m\u001b[0;36m1\u001b[0m\u001b[0;34m,\u001b[0m \u001b[0;36m2\u001b[0m\u001b[0;34m,\u001b[0m \u001b[0;34m(\u001b[0m\u001b[0;36m2\u001b[0m\u001b[0;34m,\u001b[0m \u001b[0;36m3\u001b[0m\u001b[0;34m)\u001b[0m\u001b[0;34m)\u001b[0m\u001b[0;34m)\u001b[0m\u001b[0;34m\u001b[0m\u001b[0;34m\u001b[0m\u001b[0m\n\u001b[0;32m----> 3\u001b[0;31m \u001b[0mhash\u001b[0m\u001b[0;34m(\u001b[0m\u001b[0;34m(\u001b[0m\u001b[0;36m1\u001b[0m\u001b[0;34m,\u001b[0m \u001b[0;36m2\u001b[0m\u001b[0;34m,\u001b[0m \u001b[0;34m[\u001b[0m\u001b[0;36m2\u001b[0m\u001b[0;34m,\u001b[0m \u001b[0;36m3\u001b[0m\u001b[0;34m]\u001b[0m\u001b[0;34m)\u001b[0m\u001b[0;34m)\u001b[0m \u001b[0;31m# fails because lists are mutable\u001b[0m\u001b[0;34m\u001b[0m\u001b[0;34m\u001b[0m\u001b[0m\n\u001b[0m",
            "\u001b[0;31mTypeError\u001b[0m: unhashable type: 'list'"
          ]
        }
      ]
    },
    {
      "cell_type": "code",
      "source": [
        "d = {}\n",
        "d[tuple([1, 2, 3])] = 5\n",
        "d"
      ],
      "metadata": {
        "colab": {
          "base_uri": "https://localhost:8080/"
        },
        "id": "nycyVDog44IX",
        "outputId": "f822d2e1-666e-43c1-95bb-2858d44ed26c"
      },
      "execution_count": null,
      "outputs": [
        {
          "output_type": "execute_result",
          "data": {
            "text/plain": [
              "{(1, 2, 3): 5}"
            ]
          },
          "metadata": {},
          "execution_count": 393
        }
      ]
    },
    {
      "cell_type": "markdown",
      "source": [
        "**Set**"
      ],
      "metadata": {
        "id": "yytXiPQC5T5E"
      }
    },
    {
      "cell_type": "code",
      "source": [
        "set([2, 2, 2, 1, 3, 3])"
      ],
      "metadata": {
        "colab": {
          "base_uri": "https://localhost:8080/"
        },
        "id": "bTZVsxTe5Oz7",
        "outputId": "c6b7ab61-602e-4477-936a-367b871754cf"
      },
      "execution_count": null,
      "outputs": [
        {
          "output_type": "execute_result",
          "data": {
            "text/plain": [
              "{1, 2, 3}"
            ]
          },
          "metadata": {},
          "execution_count": 395
        }
      ]
    },
    {
      "cell_type": "code",
      "source": [
        "{2, 2, 2, 1, 3, 3}"
      ],
      "metadata": {
        "colab": {
          "base_uri": "https://localhost:8080/"
        },
        "id": "HxR6uBCC5SG5",
        "outputId": "af789837-37e1-474a-d6d7-a5e28ae98c6e"
      },
      "execution_count": null,
      "outputs": [
        {
          "output_type": "execute_result",
          "data": {
            "text/plain": [
              "{1, 2, 3}"
            ]
          },
          "metadata": {},
          "execution_count": 396
        }
      ]
    },
    {
      "cell_type": "markdown",
      "source": [
        "Truyền giá trị cho a,b"
      ],
      "metadata": {
        "id": "ihJhQ4yZ5b2J"
      }
    },
    {
      "cell_type": "code",
      "source": [
        "a = {1, 2, 3, 4, 5}\n",
        "b = {3, 4, 5, 6, 7, 8}"
      ],
      "metadata": {
        "id": "uQWGKutX5ZK6"
      },
      "execution_count": null,
      "outputs": []
    },
    {
      "cell_type": "code",
      "source": [
        "a.union(b)"
      ],
      "metadata": {
        "colab": {
          "base_uri": "https://localhost:8080/"
        },
        "id": "JV6ADBPZ5g_Z",
        "outputId": "dec18a83-577c-4d47-e0d1-74de8e42a0e2"
      },
      "execution_count": null,
      "outputs": [
        {
          "output_type": "execute_result",
          "data": {
            "text/plain": [
              "{1, 2, 3, 4, 5, 6, 7, 8}"
            ]
          },
          "metadata": {},
          "execution_count": 398
        }
      ]
    },
    {
      "cell_type": "code",
      "source": [
        "a | b"
      ],
      "metadata": {
        "colab": {
          "base_uri": "https://localhost:8080/"
        },
        "id": "M9EPTLyU5lFG",
        "outputId": "132979ef-0d19-416c-b1f6-e79f81cfef03"
      },
      "execution_count": null,
      "outputs": [
        {
          "output_type": "execute_result",
          "data": {
            "text/plain": [
              "{1, 2, 3, 4, 5, 6, 7, 8}"
            ]
          },
          "metadata": {},
          "execution_count": 399
        }
      ]
    },
    {
      "cell_type": "code",
      "source": [
        "a.intersection(b)"
      ],
      "metadata": {
        "colab": {
          "base_uri": "https://localhost:8080/"
        },
        "id": "lD42qTKE5noG",
        "outputId": "63731146-25bd-4edc-d786-9d1363cf90b8"
      },
      "execution_count": null,
      "outputs": [
        {
          "output_type": "execute_result",
          "data": {
            "text/plain": [
              "{3, 4, 5}"
            ]
          },
          "metadata": {},
          "execution_count": 401
        }
      ]
    },
    {
      "cell_type": "code",
      "source": [
        "a & b"
      ],
      "metadata": {
        "colab": {
          "base_uri": "https://localhost:8080/"
        },
        "id": "Bcaouh6j5pKJ",
        "outputId": "c03ae16d-df91-4133-9909-4a38b2849b22"
      },
      "execution_count": null,
      "outputs": [
        {
          "output_type": "execute_result",
          "data": {
            "text/plain": [
              "{3, 4, 5}"
            ]
          },
          "metadata": {},
          "execution_count": 402
        }
      ]
    },
    {
      "cell_type": "code",
      "source": [
        "c = a.copy()\n",
        "c |= b\n",
        "c"
      ],
      "metadata": {
        "colab": {
          "base_uri": "https://localhost:8080/"
        },
        "id": "HUN8GRD_5tn3",
        "outputId": "9ca77e4d-beff-45de-a1a4-f248603a2871"
      },
      "execution_count": null,
      "outputs": [
        {
          "output_type": "execute_result",
          "data": {
            "text/plain": [
              "{1, 2, 3, 4, 5, 6, 7, 8}"
            ]
          },
          "metadata": {},
          "execution_count": 403
        }
      ]
    },
    {
      "cell_type": "code",
      "source": [
        "d = a.copy()\n",
        "d &= b\n",
        "d"
      ],
      "metadata": {
        "colab": {
          "base_uri": "https://localhost:8080/"
        },
        "id": "BrjGGv2b5wgL",
        "outputId": "3855f7b0-bf7e-4fa3-8f8a-90f705497495"
      },
      "execution_count": null,
      "outputs": [
        {
          "output_type": "execute_result",
          "data": {
            "text/plain": [
              "{3, 4, 5}"
            ]
          },
          "metadata": {},
          "execution_count": 404
        }
      ]
    },
    {
      "cell_type": "code",
      "source": [
        "my_data = [1, 2, 3, 4]\n",
        "my_set = {tuple(my_data)}\n",
        "my_set"
      ],
      "metadata": {
        "colab": {
          "base_uri": "https://localhost:8080/"
        },
        "id": "C5ot6Rt_5y9b",
        "outputId": "1fc7d333-3d9e-45d4-aa6d-2c260878acf2"
      },
      "execution_count": null,
      "outputs": [
        {
          "output_type": "execute_result",
          "data": {
            "text/plain": [
              "{(1, 2, 3, 4)}"
            ]
          },
          "metadata": {},
          "execution_count": 413
        }
      ]
    },
    {
      "cell_type": "code",
      "source": [
        "a_set = {1, 2, 3, 4, 5}\n",
        "{1, 2, 3}.issubset(a_set)"
      ],
      "metadata": {
        "colab": {
          "base_uri": "https://localhost:8080/"
        },
        "id": "TFWbUwNL6CiJ",
        "outputId": "a4721da6-64ab-4d1b-88b3-c848d004bad7"
      },
      "execution_count": null,
      "outputs": [
        {
          "output_type": "execute_result",
          "data": {
            "text/plain": [
              "True"
            ]
          },
          "metadata": {},
          "execution_count": 414
        }
      ]
    },
    {
      "cell_type": "code",
      "source": [
        "a_set.issuperset({1, 2, 3})"
      ],
      "metadata": {
        "colab": {
          "base_uri": "https://localhost:8080/"
        },
        "id": "hmduwTv96Rj_",
        "outputId": "f4b42a49-3758-4f0c-be12-40924d02c3b8"
      },
      "execution_count": null,
      "outputs": [
        {
          "output_type": "execute_result",
          "data": {
            "text/plain": [
              "True"
            ]
          },
          "metadata": {},
          "execution_count": 415
        }
      ]
    },
    {
      "cell_type": "code",
      "source": [
        "{1, 2, 3} == {3, 2, 1}"
      ],
      "metadata": {
        "colab": {
          "base_uri": "https://localhost:8080/"
        },
        "id": "BuJ8ysLr55n_",
        "outputId": "a4b391b2-493f-449e-b691-107c6769df6d"
      },
      "execution_count": null,
      "outputs": [
        {
          "output_type": "execute_result",
          "data": {
            "text/plain": [
              "True"
            ]
          },
          "metadata": {},
          "execution_count": 407
        }
      ]
    },
    {
      "cell_type": "markdown",
      "source": [
        "### Built-In Sequence Functions"
      ],
      "metadata": {
        "id": "7vb20otU6dhG"
      }
    },
    {
      "cell_type": "markdown",
      "source": [
        "**sorted**"
      ],
      "metadata": {
        "id": "cl1HsqmY6gEN"
      }
    },
    {
      "cell_type": "code",
      "source": [
        "sorted([7, 1, 2, 6, 0, 3, 2])"
      ],
      "metadata": {
        "colab": {
          "base_uri": "https://localhost:8080/"
        },
        "id": "5A8Ekjzi6MxH",
        "outputId": "caf51539-1ebb-41ea-c65b-200f66c1b44f"
      },
      "execution_count": null,
      "outputs": [
        {
          "output_type": "execute_result",
          "data": {
            "text/plain": [
              "[0, 1, 2, 2, 3, 6, 7]"
            ]
          },
          "metadata": {},
          "execution_count": 417
        }
      ]
    },
    {
      "cell_type": "code",
      "source": [
        "sorted(\"horse race\")"
      ],
      "metadata": {
        "colab": {
          "base_uri": "https://localhost:8080/"
        },
        "id": "-NRteGRb6nfW",
        "outputId": "29741027-93fa-46ff-e7d2-6a9afe8c57c4"
      },
      "execution_count": null,
      "outputs": [
        {
          "output_type": "execute_result",
          "data": {
            "text/plain": [
              "[' ', 'a', 'c', 'e', 'e', 'h', 'o', 'r', 'r', 's']"
            ]
          },
          "metadata": {},
          "execution_count": 418
        }
      ]
    },
    {
      "cell_type": "markdown",
      "source": [
        "**zip**"
      ],
      "metadata": {
        "id": "Ax7EHS7L6rXS"
      }
    },
    {
      "cell_type": "code",
      "source": [
        "seq1 = [\"foo\", \"bar\", \"baz\"]\n",
        "seq2 = [\"one\", \"two\", \"three\"]\n",
        "zipped = zip(seq1, seq2)\n",
        "list(zipped)"
      ],
      "metadata": {
        "colab": {
          "base_uri": "https://localhost:8080/"
        },
        "id": "XRByjjIY6ugM",
        "outputId": "4bf80007-c95f-42a8-cfef-9d2bdfdf5929"
      },
      "execution_count": null,
      "outputs": [
        {
          "output_type": "execute_result",
          "data": {
            "text/plain": [
              "[('foo', 'one'), ('bar', 'two'), ('baz', 'three')]"
            ]
          },
          "metadata": {},
          "execution_count": 419
        }
      ]
    },
    {
      "cell_type": "code",
      "source": [
        "seq3 = [False, True]\n",
        "list(zip(seq1, seq2, seq3))"
      ],
      "metadata": {
        "colab": {
          "base_uri": "https://localhost:8080/"
        },
        "id": "5X9bIxIz6yoe",
        "outputId": "0d074d69-7f92-4476-f579-bfc291df4bfd"
      },
      "execution_count": null,
      "outputs": [
        {
          "output_type": "execute_result",
          "data": {
            "text/plain": [
              "[('foo', 'one', False), ('bar', 'two', True)]"
            ]
          },
          "metadata": {},
          "execution_count": 421
        }
      ]
    },
    {
      "cell_type": "code",
      "source": [
        "for index, (a, b) in enumerate(zip(seq1, seq2)):\n",
        "    print(f\"{index}: {a}, {b}\")"
      ],
      "metadata": {
        "colab": {
          "base_uri": "https://localhost:8080/"
        },
        "id": "_fORFFIU606a",
        "outputId": "87003f8d-9ac1-4a19-d929-4edf3cfbc995"
      },
      "execution_count": null,
      "outputs": [
        {
          "output_type": "stream",
          "name": "stdout",
          "text": [
            "0: foo, one\n",
            "1: bar, two\n",
            "2: baz, three\n"
          ]
        }
      ]
    },
    {
      "cell_type": "markdown",
      "source": [
        "**reversed**"
      ],
      "metadata": {
        "id": "cWBYQ8qr648c"
      }
    },
    {
      "cell_type": "code",
      "source": [
        "list(reversed(range(10)))"
      ],
      "metadata": {
        "colab": {
          "base_uri": "https://localhost:8080/"
        },
        "id": "51wCeFjI69h1",
        "outputId": "f4834cc1-cb1e-4633-ae94-266de05c77af"
      },
      "execution_count": null,
      "outputs": [
        {
          "output_type": "execute_result",
          "data": {
            "text/plain": [
              "[9, 8, 7, 6, 5, 4, 3, 2, 1, 0]"
            ]
          },
          "metadata": {},
          "execution_count": 423
        }
      ]
    },
    {
      "cell_type": "markdown",
      "source": [
        "### List, Set, and Dictionary Comprehensions"
      ],
      "metadata": {
        "id": "dDtEGZF16_oM"
      }
    },
    {
      "cell_type": "code",
      "source": [
        "strings = [\"a\", \"as\", \"bat\", \"car\", \"dove\", \"python\"]\n",
        "[x.upper() for x in strings if len(x) > 2]"
      ],
      "metadata": {
        "colab": {
          "base_uri": "https://localhost:8080/"
        },
        "id": "IHgvuyUG7Co4",
        "outputId": "06a34cfd-a778-4177-9824-24b043364243"
      },
      "execution_count": null,
      "outputs": [
        {
          "output_type": "execute_result",
          "data": {
            "text/plain": [
              "['BAT', 'CAR', 'DOVE', 'PYTHON']"
            ]
          },
          "metadata": {},
          "execution_count": 424
        }
      ]
    },
    {
      "cell_type": "code",
      "source": [
        "unique_lengths = {len(x) for x in strings}\n",
        "unique_lengths"
      ],
      "metadata": {
        "colab": {
          "base_uri": "https://localhost:8080/"
        },
        "id": "GVfbRTRF7FWl",
        "outputId": "7866961e-4cd0-4042-9fa3-1769f11cdb85"
      },
      "execution_count": null,
      "outputs": [
        {
          "output_type": "execute_result",
          "data": {
            "text/plain": [
              "{1, 2, 3, 4, 6}"
            ]
          },
          "metadata": {},
          "execution_count": 426
        }
      ]
    },
    {
      "cell_type": "code",
      "source": [
        "set(map(len, strings))"
      ],
      "metadata": {
        "colab": {
          "base_uri": "https://localhost:8080/"
        },
        "id": "uhgPAHLj7IHl",
        "outputId": "e30ef8d9-8755-4d62-dabf-53d0e33dfef0"
      },
      "execution_count": null,
      "outputs": [
        {
          "output_type": "execute_result",
          "data": {
            "text/plain": [
              "{1, 2, 3, 4, 6}"
            ]
          },
          "metadata": {},
          "execution_count": 428
        }
      ]
    },
    {
      "cell_type": "code",
      "source": [
        "loc_mapping = {value: index for index, value in enumerate(strings)}\n",
        "loc_mapping"
      ],
      "metadata": {
        "colab": {
          "base_uri": "https://localhost:8080/"
        },
        "id": "v55tNhQS7KKc",
        "outputId": "919f2ac3-ed5e-4f0e-8eb9-631d8d3a61f4"
      },
      "execution_count": null,
      "outputs": [
        {
          "output_type": "execute_result",
          "data": {
            "text/plain": [
              "{'a': 0, 'as': 1, 'bat': 2, 'car': 3, 'dove': 4, 'python': 5}"
            ]
          },
          "metadata": {},
          "execution_count": 430
        }
      ]
    },
    {
      "cell_type": "markdown",
      "source": [
        "**Nested list comprehensions**"
      ],
      "metadata": {
        "id": "2lNKTKJx7NWi"
      }
    },
    {
      "cell_type": "code",
      "source": [
        "all_data = [[\"John\", \"Emily\", \"Michael\", \"Mary\", \"Steven\"],\n",
        "            [\"Maria\", \"Juan\", \"Javier\", \"Natalia\", \"Pilar\"]]"
      ],
      "metadata": {
        "id": "6XMU4CX17QOT"
      },
      "execution_count": null,
      "outputs": []
    },
    {
      "cell_type": "code",
      "source": [
        "names_of_interest = []\n",
        "for names in all_data:\n",
        "    enough_as = [name for name in names if name.count(\"a\") >= 2]\n",
        "    names_of_interest.extend(enough_as)\n",
        "names_of_interest"
      ],
      "metadata": {
        "colab": {
          "base_uri": "https://localhost:8080/"
        },
        "id": "F0Tanqp87Se0",
        "outputId": "4df60e27-e0e7-448a-937b-983a51473258"
      },
      "execution_count": null,
      "outputs": [
        {
          "output_type": "execute_result",
          "data": {
            "text/plain": [
              "['Maria', 'Natalia']"
            ]
          },
          "metadata": {},
          "execution_count": 433
        }
      ]
    },
    {
      "cell_type": "code",
      "source": [
        "result = [name for names in all_data for name in names\n",
        "          if name.count(\"a\") >= 2]\n",
        "result"
      ],
      "metadata": {
        "colab": {
          "base_uri": "https://localhost:8080/"
        },
        "id": "obwN_nII7VKs",
        "outputId": "c5cc7c43-9086-486d-bbc8-0d7b945e136f"
      },
      "execution_count": null,
      "outputs": [
        {
          "output_type": "execute_result",
          "data": {
            "text/plain": [
              "['Maria', 'Natalia']"
            ]
          },
          "metadata": {},
          "execution_count": 434
        }
      ]
    },
    {
      "cell_type": "code",
      "source": [
        "some_tuples = [(1, 2, 3), (4, 5, 6), (7, 8, 9)]\n",
        "flattened = [x for tup in some_tuples for x in tup]\n",
        "flattened"
      ],
      "metadata": {
        "colab": {
          "base_uri": "https://localhost:8080/"
        },
        "id": "YypZXAZw7XyZ",
        "outputId": "108e5d35-9743-420e-975f-2a2ea4db766b"
      },
      "execution_count": null,
      "outputs": [
        {
          "output_type": "execute_result",
          "data": {
            "text/plain": [
              "[1, 2, 3, 4, 5, 6, 7, 8, 9]"
            ]
          },
          "metadata": {},
          "execution_count": 435
        }
      ]
    },
    {
      "cell_type": "code",
      "source": [
        "flattened = []\n",
        "\n",
        "for tup in some_tuples:\n",
        "    for x in tup:\n",
        "        flattened.append(x)"
      ],
      "metadata": {
        "id": "8NkHz5zr7bj2"
      },
      "execution_count": null,
      "outputs": []
    },
    {
      "cell_type": "code",
      "source": [
        "[[x for x in tup] for tup in some_tuples]"
      ],
      "metadata": {
        "colab": {
          "base_uri": "https://localhost:8080/"
        },
        "id": "Dj-OLQ6v7eHJ",
        "outputId": "a7431b94-13a7-4bf5-cc08-c85ff88bd67b"
      },
      "execution_count": null,
      "outputs": [
        {
          "output_type": "execute_result",
          "data": {
            "text/plain": [
              "[[1, 2, 3], [4, 5, 6], [7, 8, 9]]"
            ]
          },
          "metadata": {},
          "execution_count": 438
        }
      ]
    },
    {
      "cell_type": "markdown",
      "source": [
        "## 3.2 Functions"
      ],
      "metadata": {
        "id": "_TYmfr1E7leZ"
      }
    },
    {
      "cell_type": "markdown",
      "source": [
        "Tạo function"
      ],
      "metadata": {
        "id": "_SOJXvQF7u3-"
      }
    },
    {
      "cell_type": "code",
      "source": [
        "def my_function(x, y):\n",
        "    return x + y"
      ],
      "metadata": {
        "id": "fhyfCKze7lyQ"
      },
      "execution_count": null,
      "outputs": []
    },
    {
      "cell_type": "code",
      "source": [
        "my_function(1, 2)"
      ],
      "metadata": {
        "colab": {
          "base_uri": "https://localhost:8080/"
        },
        "id": "9WbPGWv47uAA",
        "outputId": "9a6a61fa-b818-46e1-f2ef-e06e7890d6d5"
      },
      "execution_count": null,
      "outputs": [
        {
          "output_type": "execute_result",
          "data": {
            "text/plain": [
              "3"
            ]
          },
          "metadata": {},
          "execution_count": 449
        }
      ]
    },
    {
      "cell_type": "code",
      "source": [
        "result = my_function(1, 2)\n",
        "result"
      ],
      "metadata": {
        "colab": {
          "base_uri": "https://localhost:8080/"
        },
        "id": "WBLmJ2CC8CBs",
        "outputId": "2031ab9a-f714-4641-db0c-41ef4dd72f2c"
      },
      "execution_count": null,
      "outputs": [
        {
          "output_type": "execute_result",
          "data": {
            "text/plain": [
              "3"
            ]
          },
          "metadata": {},
          "execution_count": 450
        }
      ]
    },
    {
      "cell_type": "code",
      "source": [
        "def function_without_return(x):\n",
        "    print(x)\n",
        "\n",
        "result = function_without_return(\"hello!\")\n",
        "print(result)"
      ],
      "metadata": {
        "colab": {
          "base_uri": "https://localhost:8080/"
        },
        "id": "2PFZ7jd270vp",
        "outputId": "8b37cc17-c1e5-41e7-a758-d6953b0b132a"
      },
      "execution_count": null,
      "outputs": [
        {
          "output_type": "stream",
          "name": "stdout",
          "text": [
            "hello!\n",
            "None\n"
          ]
        }
      ]
    },
    {
      "cell_type": "code",
      "source": [
        "def my_function2(x, y, z=1.5):\n",
        "    if z > 1:\n",
        "        return z * (x + y)\n",
        "    else:\n",
        "        return z / (x + y)"
      ],
      "metadata": {
        "id": "RxrwqS-x737J"
      },
      "execution_count": null,
      "outputs": []
    },
    {
      "cell_type": "code",
      "source": [
        "my_function2(5, 6, z=0.7)"
      ],
      "metadata": {
        "colab": {
          "base_uri": "https://localhost:8080/"
        },
        "id": "fWx35ES877du",
        "outputId": "74929b2d-7fd0-4b2d-d178-d388dc641a06"
      },
      "execution_count": null,
      "outputs": [
        {
          "output_type": "execute_result",
          "data": {
            "text/plain": [
              "0.06363636363636363"
            ]
          },
          "metadata": {},
          "execution_count": 452
        }
      ]
    },
    {
      "cell_type": "code",
      "source": [
        "my_function2(3.14, 7, 3.5)"
      ],
      "metadata": {
        "colab": {
          "base_uri": "https://localhost:8080/"
        },
        "id": "gpeVcA4e8NrS",
        "outputId": "87c2c80b-a83c-488f-bc0c-33cc41df72ed"
      },
      "execution_count": null,
      "outputs": [
        {
          "output_type": "execute_result",
          "data": {
            "text/plain": [
              "35.49"
            ]
          },
          "metadata": {},
          "execution_count": 454
        }
      ]
    },
    {
      "cell_type": "code",
      "source": [
        "my_function2(10, 20)"
      ],
      "metadata": {
        "colab": {
          "base_uri": "https://localhost:8080/"
        },
        "id": "2hsG9GMC8O54",
        "outputId": "57a50508-5184-42c7-a871-7894b3d3f0eb"
      },
      "execution_count": null,
      "outputs": [
        {
          "output_type": "execute_result",
          "data": {
            "text/plain": [
              "45.0"
            ]
          },
          "metadata": {},
          "execution_count": 455
        }
      ]
    },
    {
      "cell_type": "markdown",
      "source": [
        "**Namespaces, Scope, and Local Functions**"
      ],
      "metadata": {
        "id": "iTx0sFlX8RRM"
      }
    },
    {
      "cell_type": "code",
      "source": [
        "def func():\n",
        "  a = []\n",
        "  for i in range(5):\n",
        "    a.append(i)"
      ],
      "metadata": {
        "id": "kVwqvdVl8Wio"
      },
      "execution_count": null,
      "outputs": []
    },
    {
      "cell_type": "code",
      "source": [
        "a = []\n",
        "def func():\n",
        "    for i in range(5):\n",
        "        a.append(i)"
      ],
      "metadata": {
        "id": "ZjY1m6xq8bnH"
      },
      "execution_count": null,
      "outputs": []
    },
    {
      "cell_type": "code",
      "source": [
        "func()\n",
        "a"
      ],
      "metadata": {
        "colab": {
          "base_uri": "https://localhost:8080/"
        },
        "id": "duKXvQ0f8ixa",
        "outputId": "1c52ceaf-40b1-4163-88c5-c6897cea1f98"
      },
      "execution_count": null,
      "outputs": [
        {
          "output_type": "execute_result",
          "data": {
            "text/plain": [
              "[0, 1, 2, 3, 4]"
            ]
          },
          "metadata": {},
          "execution_count": 478
        }
      ]
    },
    {
      "cell_type": "code",
      "source": [
        "func()\n",
        "a"
      ],
      "metadata": {
        "colab": {
          "base_uri": "https://localhost:8080/"
        },
        "id": "q3wfHY2l8n6Q",
        "outputId": "43d16b05-e064-4951-fd92-166196b48533"
      },
      "execution_count": null,
      "outputs": [
        {
          "output_type": "execute_result",
          "data": {
            "text/plain": [
              "[0, 1, 2, 3, 4, 0, 1, 2, 3, 4]"
            ]
          },
          "metadata": {},
          "execution_count": 481
        }
      ]
    },
    {
      "cell_type": "code",
      "source": [
        "a = None\n",
        "def bind_a_variable():\n",
        "    global a\n",
        "    a = []\n",
        "bind_a_variable()\n",
        "print(a)"
      ],
      "metadata": {
        "colab": {
          "base_uri": "https://localhost:8080/"
        },
        "id": "i0LeeSi68x3g",
        "outputId": "adecfeab-07a7-4b40-af79-0a09e15e455c"
      },
      "execution_count": null,
      "outputs": [
        {
          "output_type": "stream",
          "name": "stdout",
          "text": [
            "[]\n"
          ]
        }
      ]
    },
    {
      "cell_type": "markdown",
      "source": [
        "### Returning Multiple Values"
      ],
      "metadata": {
        "id": "KMXgraWI81Wv"
      }
    },
    {
      "cell_type": "code",
      "source": [
        "def f():\n",
        "  a = 5\n",
        "  b = 6\n",
        "  c = 7\n",
        "  return a, b, c"
      ],
      "metadata": {
        "id": "FouGZxUY87YY"
      },
      "execution_count": null,
      "outputs": []
    },
    {
      "cell_type": "code",
      "source": [
        "a, b, c = f()"
      ],
      "metadata": {
        "id": "ugwxr5H29l2q"
      },
      "execution_count": null,
      "outputs": []
    },
    {
      "cell_type": "code",
      "source": [
        "return_value = f()"
      ],
      "metadata": {
        "id": "nBdEZbOU9CaW"
      },
      "execution_count": null,
      "outputs": []
    },
    {
      "cell_type": "code",
      "source": [
        "print(return_value)"
      ],
      "metadata": {
        "colab": {
          "base_uri": "https://localhost:8080/"
        },
        "id": "i2zIk-hw9gyD",
        "outputId": "7d82eadf-d545-4ba7-85a0-3ba2f855a35f"
      },
      "execution_count": null,
      "outputs": [
        {
          "output_type": "stream",
          "name": "stdout",
          "text": [
            "(5, 6, 7)\n"
          ]
        }
      ]
    },
    {
      "cell_type": "code",
      "source": [
        "def f():\n",
        "  a = 5\n",
        "  b = 6\n",
        "  c = 7\n",
        "  return {\"a\" : a, \"b\" : b, \"c\" : c}"
      ],
      "metadata": {
        "id": "SdYOeNpQ9E_s"
      },
      "execution_count": null,
      "outputs": []
    },
    {
      "cell_type": "markdown",
      "source": [
        "### Functions Are Objects"
      ],
      "metadata": {
        "id": "R-vmPQeL9KEh"
      }
    },
    {
      "cell_type": "code",
      "source": [
        "states = [\"   Alabama \", \"Georgia!\", \"Georgia\", \"georgia\", \"FlOrIda\",\n",
        "          \"south   carolina##\", \"West virginia?\"]"
      ],
      "metadata": {
        "id": "Sp_YaiTH9qsK"
      },
      "execution_count": null,
      "outputs": []
    },
    {
      "cell_type": "code",
      "source": [
        "import re\n",
        "\n",
        "def clean_strings(strings):\n",
        "    result = []\n",
        "    for value in strings:\n",
        "        value = value.strip()\n",
        "        value = re.sub(\"[!#?]\", \"\", value)\n",
        "        value = value.title()\n",
        "        result.append(value)\n",
        "    return result"
      ],
      "metadata": {
        "id": "0xtfai6a9tHd"
      },
      "execution_count": null,
      "outputs": []
    },
    {
      "cell_type": "code",
      "source": [
        "\n",
        "clean_strings(states)"
      ],
      "metadata": {
        "colab": {
          "base_uri": "https://localhost:8080/"
        },
        "id": "qI84acHN9w9f",
        "outputId": "b6597697-fe28-4854-b6f9-19622885f951"
      },
      "execution_count": null,
      "outputs": [
        {
          "output_type": "execute_result",
          "data": {
            "text/plain": [
              "['Alabama',\n",
              " 'Georgia',\n",
              " 'Georgia',\n",
              " 'Georgia',\n",
              " 'Florida',\n",
              " 'South   Carolina',\n",
              " 'West Virginia']"
            ]
          },
          "metadata": {},
          "execution_count": 501
        }
      ]
    },
    {
      "cell_type": "code",
      "source": [
        "def remove_punctuation(value):\n",
        "    return re.sub(\"[!#?]\", \"\", value)\n",
        "\n",
        "clean_ops = [str.strip, remove_punctuation, str.title]\n",
        "\n",
        "def clean_strings(strings, ops):\n",
        "    result = []\n",
        "    for value in strings:\n",
        "        for func in ops:\n",
        "            value = func(value)\n",
        "        result.append(value)\n",
        "    return result"
      ],
      "metadata": {
        "id": "IL8nIfDC9zW6"
      },
      "execution_count": null,
      "outputs": []
    },
    {
      "cell_type": "code",
      "source": [
        "clean_strings(states, clean_ops)"
      ],
      "metadata": {
        "colab": {
          "base_uri": "https://localhost:8080/"
        },
        "id": "SBCJCTaY91pW",
        "outputId": "ca41229e-649c-45f9-c487-f682af58e891"
      },
      "execution_count": null,
      "outputs": [
        {
          "output_type": "execute_result",
          "data": {
            "text/plain": [
              "['Alabama',\n",
              " 'Georgia',\n",
              " 'Georgia',\n",
              " 'Georgia',\n",
              " 'Florida',\n",
              " 'South   Carolina',\n",
              " 'West Virginia']"
            ]
          },
          "metadata": {},
          "execution_count": 503
        }
      ]
    },
    {
      "cell_type": "code",
      "source": [
        "for x in map(remove_punctuation, states):\n",
        "    print(x)"
      ],
      "metadata": {
        "colab": {
          "base_uri": "https://localhost:8080/"
        },
        "id": "cw4jD_fG93Yv",
        "outputId": "9356a2f9-2477-4c79-b0c7-0f856c14ae5e"
      },
      "execution_count": null,
      "outputs": [
        {
          "output_type": "stream",
          "name": "stdout",
          "text": [
            "   Alabama \n",
            "Georgia\n",
            "Georgia\n",
            "georgia\n",
            "FlOrIda\n",
            "south   carolina\n",
            "West virginia\n"
          ]
        }
      ]
    },
    {
      "cell_type": "markdown",
      "source": [
        "### Anonymous (Lambda) Functions"
      ],
      "metadata": {
        "id": "qAX1ECYm95-4"
      }
    },
    {
      "cell_type": "code",
      "source": [
        "def short_function(x):\n",
        "    return x * 2\n",
        "\n",
        "equiv_anon = lambda x: x * 2"
      ],
      "metadata": {
        "id": "DdEJLy4j99SX"
      },
      "execution_count": null,
      "outputs": []
    },
    {
      "cell_type": "code",
      "source": [
        "def apply_to_list(some_list, f):\n",
        "    return [f(x) for x in some_list]\n",
        "\n",
        "ints = [4, 0, 1, 5, 6]\n",
        "apply_to_list(ints, lambda x: x * 2)"
      ],
      "metadata": {
        "colab": {
          "base_uri": "https://localhost:8080/"
        },
        "id": "1PBBrC6P9_NJ",
        "outputId": "b88de7aa-75e0-44fa-87d9-06090137f70e"
      },
      "execution_count": null,
      "outputs": [
        {
          "output_type": "execute_result",
          "data": {
            "text/plain": [
              "[8, 0, 2, 10, 12]"
            ]
          },
          "metadata": {},
          "execution_count": 507
        }
      ]
    },
    {
      "cell_type": "code",
      "source": [
        "strings = [\"foo\", \"card\", \"bar\", \"aaaa\", \"abab\"]"
      ],
      "metadata": {
        "id": "pLyLS8Vm-AxR"
      },
      "execution_count": null,
      "outputs": []
    },
    {
      "cell_type": "code",
      "source": [
        "strings.sort(key=lambda x: len(set(x)))\n",
        "strings"
      ],
      "metadata": {
        "colab": {
          "base_uri": "https://localhost:8080/"
        },
        "id": "cZnI4tsu-Cux",
        "outputId": "af6c89e0-a20c-47d9-eeb4-db92d78e3130"
      },
      "execution_count": null,
      "outputs": [
        {
          "output_type": "execute_result",
          "data": {
            "text/plain": [
              "['aaaa', 'foo', 'abab', 'bar', 'card']"
            ]
          },
          "metadata": {},
          "execution_count": 510
        }
      ]
    },
    {
      "cell_type": "markdown",
      "source": [
        "### Generators"
      ],
      "metadata": {
        "id": "iy8XlUs--HqA"
      }
    },
    {
      "cell_type": "code",
      "source": [
        "some_dict = {\"a\": 1, \"b\": 2, \"c\": 3}\n",
        "for key in some_dict:\n",
        "    print(key)"
      ],
      "metadata": {
        "colab": {
          "base_uri": "https://localhost:8080/"
        },
        "id": "F1phPgDN-Fnr",
        "outputId": "993b6547-6cbb-4370-cbde-c743ad7aa613"
      },
      "execution_count": null,
      "outputs": [
        {
          "output_type": "stream",
          "name": "stdout",
          "text": [
            "a\n",
            "b\n",
            "c\n"
          ]
        }
      ]
    },
    {
      "cell_type": "code",
      "source": [
        "dict_iterator = iter(some_dict)\n",
        "dict_iterator"
      ],
      "metadata": {
        "colab": {
          "base_uri": "https://localhost:8080/"
        },
        "id": "it-Yjv1U-J_Y",
        "outputId": "b38951ca-7ba6-45e9-a1b6-26f06180443c"
      },
      "execution_count": null,
      "outputs": [
        {
          "output_type": "execute_result",
          "data": {
            "text/plain": [
              "<dict_keyiterator at 0x7a02303ba660>"
            ]
          },
          "metadata": {},
          "execution_count": 512
        }
      ]
    },
    {
      "cell_type": "code",
      "source": [
        "list(dict_iterator)"
      ],
      "metadata": {
        "colab": {
          "base_uri": "https://localhost:8080/"
        },
        "id": "X3JFkRBW-M45",
        "outputId": "1c93ff63-2646-451d-b810-ed2d3d050e1a"
      },
      "execution_count": null,
      "outputs": [
        {
          "output_type": "execute_result",
          "data": {
            "text/plain": [
              "[]"
            ]
          },
          "metadata": {},
          "execution_count": 514
        }
      ]
    },
    {
      "cell_type": "code",
      "source": [
        "def squares(n=10):\n",
        "    print(f\"Generating squares from 1 to {n ** 2}\")\n",
        "    for i in range(1, n + 1):\n",
        "        yield i ** 2"
      ],
      "metadata": {
        "id": "IFrrTSWd-PDb"
      },
      "execution_count": null,
      "outputs": []
    },
    {
      "cell_type": "code",
      "source": [
        "gen = squares()\n",
        "gen"
      ],
      "metadata": {
        "colab": {
          "base_uri": "https://localhost:8080/"
        },
        "id": "wdg_Srxj-Rt8",
        "outputId": "83bc78ff-1567-4258-b3c4-62eefc440009"
      },
      "execution_count": null,
      "outputs": [
        {
          "output_type": "execute_result",
          "data": {
            "text/plain": [
              "<generator object squares at 0x7a0230177d80>"
            ]
          },
          "metadata": {},
          "execution_count": 516
        }
      ]
    },
    {
      "cell_type": "code",
      "source": [
        "for x in gen:\n",
        "    print(x, end=\" \")"
      ],
      "metadata": {
        "colab": {
          "base_uri": "https://localhost:8080/"
        },
        "id": "vpjXeATc-TyC",
        "outputId": "d244911e-cdb7-4e3a-99ad-bce25a508845"
      },
      "execution_count": null,
      "outputs": [
        {
          "output_type": "stream",
          "name": "stdout",
          "text": [
            "Generating squares from 1 to 100\n",
            "1 4 9 16 25 36 49 64 81 100 "
          ]
        }
      ]
    },
    {
      "cell_type": "markdown",
      "source": [
        "**Generator expressions**"
      ],
      "metadata": {
        "id": "NNfOWdlx-WzB"
      }
    },
    {
      "cell_type": "code",
      "source": [
        "gen = (x ** 2 for x in range(100))\n",
        "gen"
      ],
      "metadata": {
        "colab": {
          "base_uri": "https://localhost:8080/"
        },
        "id": "UXE62vYi-Yxb",
        "outputId": "3d2cfc6f-2d1a-44c8-d891-2642a7146158"
      },
      "execution_count": null,
      "outputs": [
        {
          "output_type": "execute_result",
          "data": {
            "text/plain": [
              "<generator object <genexpr> at 0x7a02303ffed0>"
            ]
          },
          "metadata": {},
          "execution_count": 518
        }
      ]
    },
    {
      "cell_type": "code",
      "source": [
        "def _make_gen():\n",
        "  for x in range(100):\n",
        "    yield x ** 2\n",
        "gen = _make_gen()"
      ],
      "metadata": {
        "id": "NSpTkr74-c20"
      },
      "execution_count": null,
      "outputs": []
    },
    {
      "cell_type": "code",
      "source": [
        "sum(x ** 2 for x in range(100))"
      ],
      "metadata": {
        "colab": {
          "base_uri": "https://localhost:8080/"
        },
        "id": "L3VIVT2G-bz6",
        "outputId": "73a01475-d92f-4481-877c-472178add766"
      },
      "execution_count": null,
      "outputs": [
        {
          "output_type": "execute_result",
          "data": {
            "text/plain": [
              "328350"
            ]
          },
          "metadata": {},
          "execution_count": 522
        }
      ]
    },
    {
      "cell_type": "code",
      "source": [
        "dict((i, i ** 2) for i in range(5))"
      ],
      "metadata": {
        "colab": {
          "base_uri": "https://localhost:8080/"
        },
        "id": "KglA5ZM5-kYS",
        "outputId": "c98adfb3-5493-48e9-e476-835f25249543"
      },
      "execution_count": null,
      "outputs": [
        {
          "output_type": "execute_result",
          "data": {
            "text/plain": [
              "{0: 0, 1: 1, 2: 4, 3: 9, 4: 16}"
            ]
          },
          "metadata": {},
          "execution_count": 523
        }
      ]
    },
    {
      "cell_type": "markdown",
      "source": [
        "**itertools module**"
      ],
      "metadata": {
        "id": "ykpzYIwG-mdL"
      }
    },
    {
      "cell_type": "code",
      "source": [
        "import itertools\n",
        "def first_letter(x):\n",
        "    return x[0]\n",
        "\n",
        "names = [\"Alan\", \"Adam\", \"Wes\", \"Will\", \"Albert\", \"Steven\"]\n",
        "\n",
        "for letter, names in itertools.groupby(names, first_letter):\n",
        "    print(letter, list(names)) # names is a generator"
      ],
      "metadata": {
        "colab": {
          "base_uri": "https://localhost:8080/"
        },
        "id": "yzuj_qhE-h-l",
        "outputId": "41654004-c7f3-4ea4-f020-ecb52edb6f29"
      },
      "execution_count": null,
      "outputs": [
        {
          "output_type": "stream",
          "name": "stdout",
          "text": [
            "A ['Alan', 'Adam']\n",
            "W ['Wes', 'Will']\n",
            "A ['Albert']\n",
            "S ['Steven']\n"
          ]
        }
      ]
    },
    {
      "cell_type": "markdown",
      "source": [
        "### Errors and Exception Handling"
      ],
      "metadata": {
        "id": "NEyDRAmX-vOk"
      }
    },
    {
      "cell_type": "code",
      "source": [
        "float(\"1.2345\")"
      ],
      "metadata": {
        "colab": {
          "base_uri": "https://localhost:8080/"
        },
        "id": "d8V1jdgv-rPe",
        "outputId": "de1ea48b-51de-4708-8224-9789dbbcfd67"
      },
      "execution_count": null,
      "outputs": [
        {
          "output_type": "execute_result",
          "data": {
            "text/plain": [
              "1.2345"
            ]
          },
          "metadata": {},
          "execution_count": 524
        }
      ]
    },
    {
      "cell_type": "markdown",
      "source": [
        "Không phải chuỗi biểu diễn số hợp lệ."
      ],
      "metadata": {
        "id": "PkGLjzch-3Fy"
      }
    },
    {
      "cell_type": "code",
      "source": [
        "float(\"something\")"
      ],
      "metadata": {
        "colab": {
          "base_uri": "https://localhost:8080/",
          "height": 146
        },
        "id": "G1k31Dh1-taK",
        "outputId": "849e14c5-a079-4b95-e26d-cf69a41ab953"
      },
      "execution_count": null,
      "outputs": [
        {
          "output_type": "error",
          "ename": "ValueError",
          "evalue": "could not convert string to float: 'something'",
          "traceback": [
            "\u001b[0;31m---------------------------------------------------------------------------\u001b[0m",
            "\u001b[0;31mValueError\u001b[0m                                Traceback (most recent call last)",
            "\u001b[0;32m/tmp/ipython-input-4117532930.py\u001b[0m in \u001b[0;36m<cell line: 0>\u001b[0;34m()\u001b[0m\n\u001b[0;32m----> 1\u001b[0;31m \u001b[0mfloat\u001b[0m\u001b[0;34m(\u001b[0m\u001b[0;34m\"something\"\u001b[0m\u001b[0;34m)\u001b[0m\u001b[0;34m\u001b[0m\u001b[0;34m\u001b[0m\u001b[0m\n\u001b[0m",
            "\u001b[0;31mValueError\u001b[0m: could not convert string to float: 'something'"
          ]
        }
      ]
    },
    {
      "cell_type": "markdown",
      "source": [
        "Hàm chuyển sang float"
      ],
      "metadata": {
        "id": "K8FxwnYn_Ycl"
      }
    },
    {
      "cell_type": "code",
      "source": [
        "def attempt_float(x):\n",
        "    try:\n",
        "        return float(x)\n",
        "    except:\n",
        "        return x"
      ],
      "metadata": {
        "id": "iP2oW-_4-7eJ"
      },
      "execution_count": null,
      "outputs": []
    },
    {
      "cell_type": "code",
      "source": [
        "attempt_float(\"1.2345\")"
      ],
      "metadata": {
        "colab": {
          "base_uri": "https://localhost:8080/"
        },
        "id": "-RSDOy2R-9ZA",
        "outputId": "4527dff2-db19-402d-8402-e8d753fb5f88"
      },
      "execution_count": null,
      "outputs": [
        {
          "output_type": "execute_result",
          "data": {
            "text/plain": [
              "1.2345"
            ]
          },
          "metadata": {},
          "execution_count": 527
        }
      ]
    },
    {
      "cell_type": "code",
      "source": [
        "attempt_float(\"something\")"
      ],
      "metadata": {
        "colab": {
          "base_uri": "https://localhost:8080/",
          "height": 36
        },
        "id": "wIUHUaa6-_Xz",
        "outputId": "c1038bda-de2b-4065-9509-871d3ad99810"
      },
      "execution_count": null,
      "outputs": [
        {
          "output_type": "execute_result",
          "data": {
            "text/plain": [
              "'something'"
            ],
            "application/vnd.google.colaboratory.intrinsic+json": {
              "type": "string"
            }
          },
          "metadata": {},
          "execution_count": 529
        }
      ]
    },
    {
      "cell_type": "markdown",
      "source": [
        "Lỗi xảy ra vì (1, 2) là tuple, không phải số hay chuỗi số hợp lệ."
      ],
      "metadata": {
        "id": "8zDHT8HJ_K5d"
      }
    },
    {
      "cell_type": "code",
      "source": [
        "float((1, 2))"
      ],
      "metadata": {
        "colab": {
          "base_uri": "https://localhost:8080/",
          "height": 146
        },
        "id": "M6GmjZpm_FTw",
        "outputId": "fca82e17-2f65-419f-bfea-67d61cf7653c"
      },
      "execution_count": null,
      "outputs": [
        {
          "output_type": "error",
          "ename": "TypeError",
          "evalue": "float() argument must be a string or a real number, not 'tuple'",
          "traceback": [
            "\u001b[0;31m---------------------------------------------------------------------------\u001b[0m",
            "\u001b[0;31mTypeError\u001b[0m                                 Traceback (most recent call last)",
            "\u001b[0;32m/tmp/ipython-input-1061708882.py\u001b[0m in \u001b[0;36m<cell line: 0>\u001b[0;34m()\u001b[0m\n\u001b[0;32m----> 1\u001b[0;31m \u001b[0mfloat\u001b[0m\u001b[0;34m(\u001b[0m\u001b[0;34m(\u001b[0m\u001b[0;36m1\u001b[0m\u001b[0;34m,\u001b[0m \u001b[0;36m2\u001b[0m\u001b[0;34m)\u001b[0m\u001b[0;34m)\u001b[0m\u001b[0;34m\u001b[0m\u001b[0;34m\u001b[0m\u001b[0m\n\u001b[0m",
            "\u001b[0;31mTypeError\u001b[0m: float() argument must be a string or a real number, not 'tuple'"
          ]
        }
      ]
    },
    {
      "cell_type": "markdown",
      "source": [
        "Hàm chuyển sang float"
      ],
      "metadata": {
        "id": "Uh1Z0s-L_R7K"
      }
    },
    {
      "cell_type": "code",
      "source": [
        "def attempt_float(x):\n",
        "    try:\n",
        "        return float(x)\n",
        "    except ValueError:\n",
        "        return x"
      ],
      "metadata": {
        "id": "7_5xhTMx_Nng"
      },
      "execution_count": null,
      "outputs": []
    },
    {
      "cell_type": "code",
      "source": [
        "attempt_float((1, 2))"
      ],
      "metadata": {
        "colab": {
          "base_uri": "https://localhost:8080/",
          "height": 274
        },
        "id": "o7Jw_Q-g_bmm",
        "outputId": "75ec0a40-f321-496f-c53a-18a8b413a2fc"
      },
      "execution_count": null,
      "outputs": [
        {
          "output_type": "error",
          "ename": "TypeError",
          "evalue": "float() argument must be a string or a real number, not 'tuple'",
          "traceback": [
            "\u001b[0;31m---------------------------------------------------------------------------\u001b[0m",
            "\u001b[0;31mTypeError\u001b[0m                                 Traceback (most recent call last)",
            "\u001b[0;32m/tmp/ipython-input-3151118377.py\u001b[0m in \u001b[0;36m<cell line: 0>\u001b[0;34m()\u001b[0m\n\u001b[0;32m----> 1\u001b[0;31m \u001b[0mattempt_float\u001b[0m\u001b[0;34m(\u001b[0m\u001b[0;34m(\u001b[0m\u001b[0;36m1\u001b[0m\u001b[0;34m,\u001b[0m \u001b[0;36m2\u001b[0m\u001b[0;34m)\u001b[0m\u001b[0;34m)\u001b[0m\u001b[0;34m\u001b[0m\u001b[0;34m\u001b[0m\u001b[0m\n\u001b[0m",
            "\u001b[0;32m/tmp/ipython-input-1063157278.py\u001b[0m in \u001b[0;36mattempt_float\u001b[0;34m(x)\u001b[0m\n\u001b[1;32m      1\u001b[0m \u001b[0;32mdef\u001b[0m \u001b[0mattempt_float\u001b[0m\u001b[0;34m(\u001b[0m\u001b[0mx\u001b[0m\u001b[0;34m)\u001b[0m\u001b[0;34m:\u001b[0m\u001b[0;34m\u001b[0m\u001b[0;34m\u001b[0m\u001b[0m\n\u001b[1;32m      2\u001b[0m     \u001b[0;32mtry\u001b[0m\u001b[0;34m:\u001b[0m\u001b[0;34m\u001b[0m\u001b[0;34m\u001b[0m\u001b[0m\n\u001b[0;32m----> 3\u001b[0;31m         \u001b[0;32mreturn\u001b[0m \u001b[0mfloat\u001b[0m\u001b[0;34m(\u001b[0m\u001b[0mx\u001b[0m\u001b[0;34m)\u001b[0m\u001b[0;34m\u001b[0m\u001b[0;34m\u001b[0m\u001b[0m\n\u001b[0m\u001b[1;32m      4\u001b[0m     \u001b[0;32mexcept\u001b[0m \u001b[0mValueError\u001b[0m\u001b[0;34m:\u001b[0m\u001b[0;34m\u001b[0m\u001b[0;34m\u001b[0m\u001b[0m\n\u001b[1;32m      5\u001b[0m         \u001b[0;32mreturn\u001b[0m \u001b[0mx\u001b[0m\u001b[0;34m\u001b[0m\u001b[0;34m\u001b[0m\u001b[0m\n",
            "\u001b[0;31mTypeError\u001b[0m: float() argument must be a string or a real number, not 'tuple'"
          ]
        }
      ]
    },
    {
      "cell_type": "code",
      "source": [
        "def attempt_float(x):\n",
        "    try:\n",
        "        return float(x)\n",
        "    except (TypeError, ValueError):\n",
        "        return x"
      ],
      "metadata": {
        "id": "OENvmJQp_iR2"
      },
      "execution_count": null,
      "outputs": []
    },
    {
      "cell_type": "code",
      "source": [
        "path = \"examples/segismundo.txt\"\n",
        "\n",
        "def write_to_file(f):\n",
        "    f.write(\"Đây là nội dung ví dụ.\\n\")\n",
        "    f.write(\"Thêm dòng nữa.\")\n",
        "\n",
        "f = open(path, mode=\"w\", encoding=\"utf-8\")\n",
        "try:\n",
        "    write_to_file(f)\n",
        "finally:\n",
        "    f.close()"
      ],
      "metadata": {
        "id": "4FXH7oUqtIUm"
      },
      "execution_count": null,
      "outputs": []
    },
    {
      "cell_type": "code",
      "source": [
        " f = open(path, mode=\"w\")\n",
        " try:\n",
        "  write_to_file(f)\n",
        " except:\n",
        "  print(\"Failed\")\n",
        " else:\n",
        "  print(\"Succeeded\")\n",
        " finally:\n",
        "  f.close()"
      ],
      "metadata": {
        "colab": {
          "base_uri": "https://localhost:8080/"
        },
        "id": "Qx1zCUjMtdpv",
        "outputId": "9d9ad36b-78dd-440b-c501-f464c1ca4fa4"
      },
      "execution_count": null,
      "outputs": [
        {
          "output_type": "stream",
          "name": "stdout",
          "text": [
            "Succeeded\n"
          ]
        }
      ]
    },
    {
      "cell_type": "markdown",
      "source": [
        "### 3.3 Files and the Operating System"
      ],
      "metadata": {
        "id": "daUZSxmLspDq"
      }
    },
    {
      "cell_type": "code",
      "source": [
        "import os\n",
        "os.makedirs(\"examples\", exist_ok=True)\n",
        "\n",
        "file_path = \"examples/segismundo.txt\"\n",
        "with open(file_path, \"w\", encoding=\"utf-8\") as f:\n",
        "    f.write(\"Đây là nội dung\\n\")\n",
        "\n",
        "with open(file_path, \"r\", encoding=\"utf-8\") as f:\n",
        "    print(f.read())"
      ],
      "metadata": {
        "colab": {
          "base_uri": "https://localhost:8080/"
        },
        "id": "1xGlf7Nps8RS",
        "outputId": "578b4bf0-2bd5-4008-cf50-15d88893e50b"
      },
      "execution_count": null,
      "outputs": [
        {
          "output_type": "stream",
          "name": "stdout",
          "text": [
            "Đây là nội dung\n",
            "\n"
          ]
        }
      ]
    },
    {
      "cell_type": "code",
      "source": [
        "path = \"examples/segismundo.txt\"\n",
        "f = open(path, encoding=\"utf-8\")"
      ],
      "metadata": {
        "id": "sRxnk2kYswWx"
      },
      "execution_count": null,
      "outputs": []
    },
    {
      "cell_type": "code",
      "source": [
        "\n",
        "lines = [x.rstrip() for x in open(path, encoding=\"utf-8\")]\n",
        "lines"
      ],
      "metadata": {
        "colab": {
          "base_uri": "https://localhost:8080/"
        },
        "id": "rKHhax-StyyB",
        "outputId": "60a998de-282c-4df7-8447-f4ecda01d91a"
      },
      "execution_count": null,
      "outputs": [
        {
          "output_type": "execute_result",
          "data": {
            "text/plain": [
              "['Đây là nội dung ví dụ.', 'Thêm dòng nữa.']"
            ]
          },
          "metadata": {},
          "execution_count": 15
        }
      ]
    },
    {
      "cell_type": "code",
      "source": [
        "f.close()"
      ],
      "metadata": {
        "id": "0luGGMjQt85X"
      },
      "execution_count": null,
      "outputs": []
    },
    {
      "cell_type": "code",
      "source": [
        "with open(path, encoding=\"utf-8\") as f:\n",
        "    lines = [x.rstrip() for x in f]"
      ],
      "metadata": {
        "id": "8xlRKHoNt_-h"
      },
      "execution_count": null,
      "outputs": []
    },
    {
      "cell_type": "code",
      "source": [
        "f1 = open(path)\n",
        "f1.read(10)"
      ],
      "metadata": {
        "colab": {
          "base_uri": "https://localhost:8080/",
          "height": 36
        },
        "id": "UmGuovhAuDIA",
        "outputId": "5bba5a4e-f29f-4946-8665-6f94cb3e6b1f"
      },
      "execution_count": null,
      "outputs": [
        {
          "output_type": "execute_result",
          "data": {
            "text/plain": [
              "'Đây là nội'"
            ],
            "application/vnd.google.colaboratory.intrinsic+json": {
              "type": "string"
            }
          },
          "metadata": {},
          "execution_count": 20
        }
      ]
    },
    {
      "cell_type": "code",
      "source": [
        "f2 = open(path, mode=\"rb\")  # Binary mode\n",
        "f2.read(10)"
      ],
      "metadata": {
        "colab": {
          "base_uri": "https://localhost:8080/"
        },
        "id": "N7C0lHIKuKgA",
        "outputId": "e7c453f9-546f-4307-a3cc-7e9bba49a6ac"
      },
      "execution_count": null,
      "outputs": [
        {
          "output_type": "execute_result",
          "data": {
            "text/plain": [
              "b'\\xc4\\x90\\xc3\\xa2y l\\xc3\\xa0 '"
            ]
          },
          "metadata": {},
          "execution_count": 21
        }
      ]
    },
    {
      "cell_type": "code",
      "source": [
        "f1.tell()"
      ],
      "metadata": {
        "colab": {
          "base_uri": "https://localhost:8080/"
        },
        "id": "pr3sxGA3uMEt",
        "outputId": "9b37b4b7-6734-47f0-f121-5493b06e5657"
      },
      "execution_count": null,
      "outputs": [
        {
          "output_type": "execute_result",
          "data": {
            "text/plain": [
              "15"
            ]
          },
          "metadata": {},
          "execution_count": 22
        }
      ]
    },
    {
      "cell_type": "code",
      "source": [
        "f2.tell()"
      ],
      "metadata": {
        "colab": {
          "base_uri": "https://localhost:8080/"
        },
        "id": "i5OdQV1auQQF",
        "outputId": "0b397c63-d49d-4d79-e026-88d26aeac40c"
      },
      "execution_count": null,
      "outputs": [
        {
          "output_type": "execute_result",
          "data": {
            "text/plain": [
              "10"
            ]
          },
          "metadata": {},
          "execution_count": 23
        }
      ]
    },
    {
      "cell_type": "markdown",
      "source": [
        "In 111 trang 96"
      ],
      "metadata": {
        "id": "Qo7A4w_yuV5z"
      }
    },
    {
      "cell_type": "markdown",
      "source": [
        "# Kết thúc"
      ],
      "metadata": {
        "id": "Ml1u44T5snRy"
      }
    }
  ]
}